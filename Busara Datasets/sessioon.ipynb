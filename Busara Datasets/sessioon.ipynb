var1 = "x"
var2 = "y"
temp = var1
var1 = var2
var2 = temp
print(var1, var2)
