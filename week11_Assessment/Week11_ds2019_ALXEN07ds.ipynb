{
 "cells": [
  {
   "cell_type": "markdown",
   "metadata": {},
   "source": [
    "# Name: ALXEN07ds\n",
    "\n",
    "Replace the above Name with your attendance code\n"
   ]
  },
  {
   "cell_type": "markdown",
   "metadata": {},
   "source": [
    "### Action_1:\n",
    "\n",
    "Rename this Azure Jupyper notebook to include your attendance code. Week11_ds2019_(YOUR_ATTENDANCE_CODE)\n",
    "\n",
    "* example : Week11_ds2019_--##ds"
   ]
  },
  {
   "cell_type": "markdown",
   "metadata": {},
   "source": [
    "# Machine Learning Algorithm"
   ]
  },
  {
   "cell_type": "markdown",
   "metadata": {},
   "source": [
    "\n",
    "\n",
    "### Instructions\n",
    "\n",
    "* For each of the following questions below, write corresponding Python code that answers each question.\n",
    "* Remember to set your Python Interpreter to Python 3.6 and above.\n",
    "* Discretionary points will be awarded for attempts made to answer each question.\n",
    "* Each student is encouraged to work independently in arriving at the solutions.\n"
   ]
  },
  {
   "cell_type": "markdown",
   "metadata": {},
   "source": [
    "#### 1. Importing packages \n",
    "\n",
    "You will need the following packages/libraries for this assignment:\n",
    "\n",
    "a) Data loading and manipulating: Pandas and Numpy\n",
    "\n",
    "b) Machine Learning models: sklearn\n",
    "\n",
    "Hint: import assessment as ds\n",
    "         from ds import assessment"
   ]
  },
  {
   "cell_type": "code",
   "execution_count": 22,
   "metadata": {},
   "outputs": [],
   "source": [
    "# import packages\n",
    "import pandas as pd\n",
    "import numpy as np\n",
    "import sklearn as skl\n",
    "import sklearn.metrics as sklm\n",
    "from sklearn.model_selection import train_test_split\n",
    "\n",
    "from sklearn import linear_model"
   ]
  },
  {
   "cell_type": "markdown",
   "metadata": {},
   "source": [
    "#### 2. Loading the data\n",
    "\n",
    "After downloading the data from http://tiny.cc/19hqfz, load the train and test data\n",
    "\n",
    "\n",
    "Hint: package.read_csv(train.csv)"
   ]
  },
  {
   "cell_type": "code",
   "execution_count": 23,
   "metadata": {},
   "outputs": [
    {
     "name": "stdout",
     "output_type": "stream",
     "text": [
      "     Gender Married Dependents Education Self_Employed  ApplicantIncome  \\\n",
      "76     Male      No          0  Graduate            No             3750   \n",
      "312  Female      No          0  Graduate            No             2507   \n",
      "502    Male     Yes          2  Graduate            No             4865   \n",
      "554    Male     Yes          0  Graduate            No             3593   \n",
      "306  Female      No          0  Graduate            No             3762   \n",
      "\n",
      "     CoapplicantIncome  LoanAmount  Loan_Amount_Term  Credit_History  \\\n",
      "76              4750.0       176.0             360.0             1.0   \n",
      "312                0.0        56.0             360.0             1.0   \n",
      "502             5624.0       208.0             360.0             1.0   \n",
      "554             4266.0       132.0             180.0             0.0   \n",
      "306             1666.0       135.0             360.0             1.0   \n",
      "\n",
      "    Property_Area  Loan_Status  \n",
      "76          Urban            0  \n",
      "312         Rural            1  \n",
      "502     Semiurban            1  \n",
      "554         Rural            0  \n",
      "306         Rural            1  \n",
      "     Gender Married Dependents Education Self_Employed  ApplicantIncome  \\\n",
      "195    Male      No          0  Graduate           Yes             5833   \n",
      "268    Male     Yes          2  Graduate            No             5833   \n",
      "156    Male     Yes          2  Graduate           Yes             4246   \n",
      "70   Female      No        NaN  Graduate            No             3250   \n",
      "187    Male     Yes          2  Graduate            No             9167   \n",
      "\n",
      "     CoapplicantIncome  LoanAmount  Loan_Amount_Term  Credit_History  \\\n",
      "195                  0       116.0             360.0             1.0   \n",
      "268                750        49.0             360.0             0.0   \n",
      "156               4246       214.0             360.0             1.0   \n",
      "70                   0        95.0             360.0             1.0   \n",
      "187                  0       235.0             360.0             1.0   \n",
      "\n",
      "    Property_Area  \n",
      "195         Urban  \n",
      "268         Rural  \n",
      "156         Urban  \n",
      "70      Semiurban  \n",
      "187     Semiurban  \n"
     ]
    }
   ],
   "source": [
    "# read data\n",
    "train_df = pd.read_csv(\"train_.csv\")\n",
    "test_df = pd.read_csv('test_.csv')\n",
    "\n",
    "#sample the dataframes\n",
    "print(train_df.sample(5))\n",
    "print(test_df.sample(5))"
   ]
  },
  {
   "cell_type": "markdown",
   "metadata": {},
   "source": [
    "#### 3. Data cleaning and exploration\n",
    "\n",
    "After loading the data, explore and clean the data in preparation for training. \n",
    "\n",
    "Hint: \n",
    "a) List of column\n",
    "\n",
    "b) View the data rows (can view the first few rows or columns)\n",
    "\n",
    "c) Types of data columns\n",
    "\n",
    "d) Summary statistics of the data\n",
    "\n",
    "\n",
    "Note: You can tackle each section in code block"
   ]
  },
  {
   "cell_type": "code",
   "execution_count": 24,
   "metadata": {},
   "outputs": [
    {
     "data": {
      "text/plain": [
       "Index(['Gender', 'Married', 'Dependents', 'Education', 'Self_Employed',\n",
       "       'ApplicantIncome', 'CoapplicantIncome', 'LoanAmount',\n",
       "       'Loan_Amount_Term', 'Credit_History', 'Property_Area', 'Loan_Status'],\n",
       "      dtype='object')"
      ]
     },
     "execution_count": 24,
     "metadata": {},
     "output_type": "execute_result"
    }
   ],
   "source": [
    "# list columns of the train dataframe\n",
    "train_df.columns\n"
   ]
  },
  {
   "cell_type": "code",
   "execution_count": 25,
   "metadata": {},
   "outputs": [
    {
     "data": {
      "text/html": [
       "<div>\n",
       "<style scoped>\n",
       "    .dataframe tbody tr th:only-of-type {\n",
       "        vertical-align: middle;\n",
       "    }\n",
       "\n",
       "    .dataframe tbody tr th {\n",
       "        vertical-align: top;\n",
       "    }\n",
       "\n",
       "    .dataframe thead th {\n",
       "        text-align: right;\n",
       "    }\n",
       "</style>\n",
       "<table border=\"1\" class=\"dataframe\">\n",
       "  <thead>\n",
       "    <tr style=\"text-align: right;\">\n",
       "      <th></th>\n",
       "      <th>Gender</th>\n",
       "      <th>Married</th>\n",
       "      <th>Dependents</th>\n",
       "      <th>Education</th>\n",
       "      <th>Self_Employed</th>\n",
       "      <th>ApplicantIncome</th>\n",
       "      <th>CoapplicantIncome</th>\n",
       "      <th>LoanAmount</th>\n",
       "      <th>Loan_Amount_Term</th>\n",
       "      <th>Credit_History</th>\n",
       "      <th>Property_Area</th>\n",
       "      <th>Loan_Status</th>\n",
       "    </tr>\n",
       "  </thead>\n",
       "  <tbody>\n",
       "    <tr>\n",
       "      <th>19</th>\n",
       "      <td>Male</td>\n",
       "      <td>Yes</td>\n",
       "      <td>0</td>\n",
       "      <td>Graduate</td>\n",
       "      <td>NaN</td>\n",
       "      <td>2600</td>\n",
       "      <td>3500.0</td>\n",
       "      <td>115.0</td>\n",
       "      <td>NaN</td>\n",
       "      <td>1.0</td>\n",
       "      <td>Urban</td>\n",
       "      <td>1</td>\n",
       "    </tr>\n",
       "    <tr>\n",
       "      <th>83</th>\n",
       "      <td>Male</td>\n",
       "      <td>Yes</td>\n",
       "      <td>0</td>\n",
       "      <td>Graduate</td>\n",
       "      <td>No</td>\n",
       "      <td>6000</td>\n",
       "      <td>2250.0</td>\n",
       "      <td>265.0</td>\n",
       "      <td>360.0</td>\n",
       "      <td>NaN</td>\n",
       "      <td>Semiurban</td>\n",
       "      <td>0</td>\n",
       "    </tr>\n",
       "    <tr>\n",
       "      <th>361</th>\n",
       "      <td>Male</td>\n",
       "      <td>Yes</td>\n",
       "      <td>2</td>\n",
       "      <td>Graduate</td>\n",
       "      <td>No</td>\n",
       "      <td>5000</td>\n",
       "      <td>3667.0</td>\n",
       "      <td>236.0</td>\n",
       "      <td>360.0</td>\n",
       "      <td>1.0</td>\n",
       "      <td>Semiurban</td>\n",
       "      <td>1</td>\n",
       "    </tr>\n",
       "    <tr>\n",
       "      <th>581</th>\n",
       "      <td>Male</td>\n",
       "      <td>No</td>\n",
       "      <td>0</td>\n",
       "      <td>Graduate</td>\n",
       "      <td>No</td>\n",
       "      <td>1836</td>\n",
       "      <td>33837.0</td>\n",
       "      <td>90.0</td>\n",
       "      <td>360.0</td>\n",
       "      <td>1.0</td>\n",
       "      <td>Urban</td>\n",
       "      <td>0</td>\n",
       "    </tr>\n",
       "    <tr>\n",
       "      <th>333</th>\n",
       "      <td>Male</td>\n",
       "      <td>Yes</td>\n",
       "      <td>0</td>\n",
       "      <td>Graduate</td>\n",
       "      <td>NaN</td>\n",
       "      <td>63337</td>\n",
       "      <td>0.0</td>\n",
       "      <td>490.0</td>\n",
       "      <td>180.0</td>\n",
       "      <td>1.0</td>\n",
       "      <td>Urban</td>\n",
       "      <td>1</td>\n",
       "    </tr>\n",
       "    <tr>\n",
       "      <th>159</th>\n",
       "      <td>Male</td>\n",
       "      <td>Yes</td>\n",
       "      <td>0</td>\n",
       "      <td>Graduate</td>\n",
       "      <td>No</td>\n",
       "      <td>4583</td>\n",
       "      <td>5625.0</td>\n",
       "      <td>255.0</td>\n",
       "      <td>360.0</td>\n",
       "      <td>1.0</td>\n",
       "      <td>Semiurban</td>\n",
       "      <td>1</td>\n",
       "    </tr>\n",
       "    <tr>\n",
       "      <th>564</th>\n",
       "      <td>Male</td>\n",
       "      <td>Yes</td>\n",
       "      <td>2</td>\n",
       "      <td>Graduate</td>\n",
       "      <td>No</td>\n",
       "      <td>8799</td>\n",
       "      <td>0.0</td>\n",
       "      <td>258.0</td>\n",
       "      <td>360.0</td>\n",
       "      <td>0.0</td>\n",
       "      <td>Urban</td>\n",
       "      <td>0</td>\n",
       "    </tr>\n",
       "    <tr>\n",
       "      <th>220</th>\n",
       "      <td>Male</td>\n",
       "      <td>Yes</td>\n",
       "      <td>0</td>\n",
       "      <td>Graduate</td>\n",
       "      <td>No</td>\n",
       "      <td>2221</td>\n",
       "      <td>0.0</td>\n",
       "      <td>60.0</td>\n",
       "      <td>360.0</td>\n",
       "      <td>0.0</td>\n",
       "      <td>Urban</td>\n",
       "      <td>0</td>\n",
       "    </tr>\n",
       "    <tr>\n",
       "      <th>346</th>\n",
       "      <td>Male</td>\n",
       "      <td>Yes</td>\n",
       "      <td>NaN</td>\n",
       "      <td>Not Graduate</td>\n",
       "      <td>No</td>\n",
       "      <td>3523</td>\n",
       "      <td>3230.0</td>\n",
       "      <td>152.0</td>\n",
       "      <td>360.0</td>\n",
       "      <td>0.0</td>\n",
       "      <td>Rural</td>\n",
       "      <td>0</td>\n",
       "    </tr>\n",
       "    <tr>\n",
       "      <th>233</th>\n",
       "      <td>Female</td>\n",
       "      <td>No</td>\n",
       "      <td>0</td>\n",
       "      <td>Graduate</td>\n",
       "      <td>No</td>\n",
       "      <td>8333</td>\n",
       "      <td>0.0</td>\n",
       "      <td>280.0</td>\n",
       "      <td>360.0</td>\n",
       "      <td>1.0</td>\n",
       "      <td>Semiurban</td>\n",
       "      <td>1</td>\n",
       "    </tr>\n",
       "  </tbody>\n",
       "</table>\n",
       "</div>"
      ],
      "text/plain": [
       "     Gender Married Dependents     Education Self_Employed  ApplicantIncome  \\\n",
       "19     Male     Yes          0      Graduate           NaN             2600   \n",
       "83     Male     Yes          0      Graduate            No             6000   \n",
       "361    Male     Yes          2      Graduate            No             5000   \n",
       "581    Male      No          0      Graduate            No             1836   \n",
       "333    Male     Yes          0      Graduate           NaN            63337   \n",
       "159    Male     Yes          0      Graduate            No             4583   \n",
       "564    Male     Yes          2      Graduate            No             8799   \n",
       "220    Male     Yes          0      Graduate            No             2221   \n",
       "346    Male     Yes        NaN  Not Graduate            No             3523   \n",
       "233  Female      No          0      Graduate            No             8333   \n",
       "\n",
       "     CoapplicantIncome  LoanAmount  Loan_Amount_Term  Credit_History  \\\n",
       "19              3500.0       115.0               NaN             1.0   \n",
       "83              2250.0       265.0             360.0             NaN   \n",
       "361             3667.0       236.0             360.0             1.0   \n",
       "581            33837.0        90.0             360.0             1.0   \n",
       "333                0.0       490.0             180.0             1.0   \n",
       "159             5625.0       255.0             360.0             1.0   \n",
       "564                0.0       258.0             360.0             0.0   \n",
       "220                0.0        60.0             360.0             0.0   \n",
       "346             3230.0       152.0             360.0             0.0   \n",
       "233                0.0       280.0             360.0             1.0   \n",
       "\n",
       "    Property_Area  Loan_Status  \n",
       "19          Urban            1  \n",
       "83      Semiurban            0  \n",
       "361     Semiurban            1  \n",
       "581         Urban            0  \n",
       "333         Urban            1  \n",
       "159     Semiurban            1  \n",
       "564         Urban            0  \n",
       "220         Urban            0  \n",
       "346         Rural            0  \n",
       "233     Semiurban            1  "
      ]
     },
     "execution_count": 25,
     "metadata": {},
     "output_type": "execute_result"
    }
   ],
   "source": [
    "# View row sample of train dataframe\n",
    "train_df.sample(10)"
   ]
  },
  {
   "cell_type": "code",
   "execution_count": 26,
   "metadata": {},
   "outputs": [
    {
     "data": {
      "text/plain": [
       "Gender                object\n",
       "Married               object\n",
       "Dependents            object\n",
       "Education             object\n",
       "Self_Employed         object\n",
       "ApplicantIncome        int64\n",
       "CoapplicantIncome    float64\n",
       "LoanAmount           float64\n",
       "Loan_Amount_Term     float64\n",
       "Credit_History       float64\n",
       "Property_Area         object\n",
       "Loan_Status            int64\n",
       "dtype: object"
      ]
     },
     "execution_count": 26,
     "metadata": {},
     "output_type": "execute_result"
    }
   ],
   "source": [
    "# Look at the column data type in the train dataframe\n",
    "train_df.dtypes"
   ]
  },
  {
   "cell_type": "code",
   "execution_count": 27,
   "metadata": {},
   "outputs": [
    {
     "data": {
      "text/html": [
       "<div>\n",
       "<style scoped>\n",
       "    .dataframe tbody tr th:only-of-type {\n",
       "        vertical-align: middle;\n",
       "    }\n",
       "\n",
       "    .dataframe tbody tr th {\n",
       "        vertical-align: top;\n",
       "    }\n",
       "\n",
       "    .dataframe thead th {\n",
       "        text-align: right;\n",
       "    }\n",
       "</style>\n",
       "<table border=\"1\" class=\"dataframe\">\n",
       "  <thead>\n",
       "    <tr style=\"text-align: right;\">\n",
       "      <th></th>\n",
       "      <th>ApplicantIncome</th>\n",
       "      <th>CoapplicantIncome</th>\n",
       "      <th>LoanAmount</th>\n",
       "      <th>Loan_Amount_Term</th>\n",
       "      <th>Credit_History</th>\n",
       "      <th>Loan_Status</th>\n",
       "    </tr>\n",
       "  </thead>\n",
       "  <tbody>\n",
       "    <tr>\n",
       "      <th>count</th>\n",
       "      <td>614.000000</td>\n",
       "      <td>614.000000</td>\n",
       "      <td>592.000000</td>\n",
       "      <td>600.00000</td>\n",
       "      <td>564.000000</td>\n",
       "      <td>614.000000</td>\n",
       "    </tr>\n",
       "    <tr>\n",
       "      <th>mean</th>\n",
       "      <td>5403.459283</td>\n",
       "      <td>1621.245798</td>\n",
       "      <td>146.412162</td>\n",
       "      <td>342.00000</td>\n",
       "      <td>0.842199</td>\n",
       "      <td>0.687296</td>\n",
       "    </tr>\n",
       "    <tr>\n",
       "      <th>std</th>\n",
       "      <td>6109.041673</td>\n",
       "      <td>2926.248369</td>\n",
       "      <td>85.587325</td>\n",
       "      <td>65.12041</td>\n",
       "      <td>0.364878</td>\n",
       "      <td>0.463973</td>\n",
       "    </tr>\n",
       "    <tr>\n",
       "      <th>min</th>\n",
       "      <td>150.000000</td>\n",
       "      <td>0.000000</td>\n",
       "      <td>9.000000</td>\n",
       "      <td>12.00000</td>\n",
       "      <td>0.000000</td>\n",
       "      <td>0.000000</td>\n",
       "    </tr>\n",
       "    <tr>\n",
       "      <th>25%</th>\n",
       "      <td>2877.500000</td>\n",
       "      <td>0.000000</td>\n",
       "      <td>100.000000</td>\n",
       "      <td>360.00000</td>\n",
       "      <td>1.000000</td>\n",
       "      <td>0.000000</td>\n",
       "    </tr>\n",
       "    <tr>\n",
       "      <th>50%</th>\n",
       "      <td>3812.500000</td>\n",
       "      <td>1188.500000</td>\n",
       "      <td>128.000000</td>\n",
       "      <td>360.00000</td>\n",
       "      <td>1.000000</td>\n",
       "      <td>1.000000</td>\n",
       "    </tr>\n",
       "    <tr>\n",
       "      <th>75%</th>\n",
       "      <td>5795.000000</td>\n",
       "      <td>2297.250000</td>\n",
       "      <td>168.000000</td>\n",
       "      <td>360.00000</td>\n",
       "      <td>1.000000</td>\n",
       "      <td>1.000000</td>\n",
       "    </tr>\n",
       "    <tr>\n",
       "      <th>max</th>\n",
       "      <td>81000.000000</td>\n",
       "      <td>41667.000000</td>\n",
       "      <td>700.000000</td>\n",
       "      <td>480.00000</td>\n",
       "      <td>1.000000</td>\n",
       "      <td>1.000000</td>\n",
       "    </tr>\n",
       "  </tbody>\n",
       "</table>\n",
       "</div>"
      ],
      "text/plain": [
       "       ApplicantIncome  CoapplicantIncome  LoanAmount  Loan_Amount_Term  \\\n",
       "count       614.000000         614.000000  592.000000         600.00000   \n",
       "mean       5403.459283        1621.245798  146.412162         342.00000   \n",
       "std        6109.041673        2926.248369   85.587325          65.12041   \n",
       "min         150.000000           0.000000    9.000000          12.00000   \n",
       "25%        2877.500000           0.000000  100.000000         360.00000   \n",
       "50%        3812.500000        1188.500000  128.000000         360.00000   \n",
       "75%        5795.000000        2297.250000  168.000000         360.00000   \n",
       "max       81000.000000       41667.000000  700.000000         480.00000   \n",
       "\n",
       "       Credit_History  Loan_Status  \n",
       "count      564.000000   614.000000  \n",
       "mean         0.842199     0.687296  \n",
       "std          0.364878     0.463973  \n",
       "min          0.000000     0.000000  \n",
       "25%          1.000000     0.000000  \n",
       "50%          1.000000     1.000000  \n",
       "75%          1.000000     1.000000  \n",
       "max          1.000000     1.000000  "
      ]
     },
     "execution_count": 27,
     "metadata": {},
     "output_type": "execute_result"
    }
   ],
   "source": [
    "# Statistical analysis of the train dataframe\n",
    "train_df.describe()"
   ]
  },
  {
   "cell_type": "markdown",
   "metadata": {},
   "source": [
    "#### 4. Find missing values\n",
    "\n",
    "Hint: \n",
    "Find the sum of the missing values"
   ]
  },
  {
   "cell_type": "code",
   "execution_count": 28,
   "metadata": {},
   "outputs": [
    {
     "data": {
      "text/plain": [
       "Gender               13\n",
       "Married               3\n",
       "Dependents           15\n",
       "Education             0\n",
       "Self_Employed        32\n",
       "ApplicantIncome       0\n",
       "CoapplicantIncome     0\n",
       "LoanAmount           22\n",
       "Loan_Amount_Term     14\n",
       "Credit_History       50\n",
       "Property_Area         0\n",
       "Loan_Status           0\n",
       "dtype: int64"
      ]
     },
     "execution_count": 28,
     "metadata": {},
     "output_type": "execute_result"
    }
   ],
   "source": [
    "# Find the missing values in the train dataframe\n",
    "train_df.isnull().sum()"
   ]
  },
  {
   "cell_type": "markdown",
   "metadata": {},
   "source": [
    "#### 5. Handle the missing values \n",
    "\n",
    "Hint: \n",
    "There are a number of techniques to do so, use any that works for you."
   ]
  },
  {
   "cell_type": "code",
   "execution_count": 29,
   "metadata": {},
   "outputs": [
    {
     "data": {
      "text/plain": [
       "1.0    475\n",
       "0.0     89\n",
       "Name: Credit_History, dtype: int64"
      ]
     },
     "execution_count": 29,
     "metadata": {},
     "output_type": "execute_result"
    }
   ],
   "source": [
    "# Count the unique values in the Credit_History column\n",
    "train_df.Credit_History.value_counts()"
   ]
  },
  {
   "cell_type": "code",
   "execution_count": 30,
   "metadata": {},
   "outputs": [
    {
     "data": {
      "text/plain": [
       "Gender               13\n",
       "Married               3\n",
       "Dependents            0\n",
       "Education             0\n",
       "Self_Employed        32\n",
       "ApplicantIncome       0\n",
       "CoapplicantIncome     0\n",
       "LoanAmount            0\n",
       "Loan_Amount_Term      0\n",
       "Credit_History        0\n",
       "Property_Area         0\n",
       "Loan_Status           0\n",
       "dtype: int64"
      ]
     },
     "execution_count": 30,
     "metadata": {},
     "output_type": "execute_result"
    }
   ],
   "source": [
    "#Replace all the missing by replacing with the min,mean or dropping the rows\n",
    "\n",
    "#Replace with min\n",
    "train_df.Credit_History.fillna(0.0, inplace = True)\n",
    "train_df.Dependents.fillna(0, inplace = True)\n",
    "#Replace with mean\n",
    "train_df.LoanAmount.fillna(train_df.LoanAmount.mean(),inplace = True)\n",
    "train_df.Loan_Amount_Term.fillna(train_df.Loan_Amount_Term.mean(),inplace= True)\n",
    "\n",
    "#Let's see what we have\n",
    "train_df.isnull().sum()"
   ]
  },
  {
   "cell_type": "code",
   "execution_count": 31,
   "metadata": {},
   "outputs": [
    {
     "data": {
      "text/plain": [
       "Gender               0\n",
       "Married              0\n",
       "Dependents           0\n",
       "Education            0\n",
       "Self_Employed        0\n",
       "ApplicantIncome      0\n",
       "CoapplicantIncome    0\n",
       "LoanAmount           0\n",
       "Loan_Amount_Term     0\n",
       "Credit_History       0\n",
       "Property_Area        0\n",
       "Loan_Status          0\n",
       "dtype: int64"
      ]
     },
     "execution_count": 31,
     "metadata": {},
     "output_type": "execute_result"
    }
   ],
   "source": [
    "#Drop empty rows\n",
    "train_df.dropna(axis=0, inplace=True)\n",
    "\n",
    "#Let's see what we have\n",
    "train_df.isnull().sum()"
   ]
  },
  {
   "cell_type": "code",
   "execution_count": 32,
   "metadata": {},
   "outputs": [
    {
     "name": "stdout",
     "output_type": "stream",
     "text": [
      "<class 'pandas.core.frame.DataFrame'>\n",
      "Int64Index: 566 entries, 0 to 613\n",
      "Data columns (total 12 columns):\n",
      "Gender               566 non-null object\n",
      "Married              566 non-null object\n",
      "Dependents           566 non-null object\n",
      "Education            566 non-null object\n",
      "Self_Employed        566 non-null object\n",
      "ApplicantIncome      566 non-null int64\n",
      "CoapplicantIncome    566 non-null float64\n",
      "LoanAmount           566 non-null float64\n",
      "Loan_Amount_Term     566 non-null float64\n",
      "Credit_History       566 non-null float64\n",
      "Property_Area        566 non-null object\n",
      "Loan_Status          566 non-null int64\n",
      "dtypes: float64(4), int64(2), object(6)\n",
      "memory usage: 57.5+ KB\n"
     ]
    }
   ],
   "source": [
    "train_df.info()"
   ]
  },
  {
   "cell_type": "code",
   "execution_count": 33,
   "metadata": {},
   "outputs": [
    {
     "data": {
      "text/plain": [
       "'Rural'"
      ]
     },
     "execution_count": 33,
     "metadata": {},
     "output_type": "execute_result"
    }
   ],
   "source": [
    "train_df.Property_Area.unique()\n",
    "train_df.Property_Area[151]"
   ]
  },
  {
   "cell_type": "markdown",
   "metadata": {},
   "source": [
    "#### 6. Other pre-processing techniques\n",
    "\n",
    "Hint: \n",
    "Feature selection"
   ]
  },
  {
   "cell_type": "code",
   "execution_count": 34,
   "metadata": {},
   "outputs": [
    {
     "data": {
      "text/html": [
       "<div>\n",
       "<style scoped>\n",
       "    .dataframe tbody tr th:only-of-type {\n",
       "        vertical-align: middle;\n",
       "    }\n",
       "\n",
       "    .dataframe tbody tr th {\n",
       "        vertical-align: top;\n",
       "    }\n",
       "\n",
       "    .dataframe thead th {\n",
       "        text-align: right;\n",
       "    }\n",
       "</style>\n",
       "<table border=\"1\" class=\"dataframe\">\n",
       "  <thead>\n",
       "    <tr style=\"text-align: right;\">\n",
       "      <th></th>\n",
       "      <th>ApplicantIncome</th>\n",
       "      <th>CoapplicantIncome</th>\n",
       "      <th>LoanAmount</th>\n",
       "      <th>Loan_Amount_Term</th>\n",
       "      <th>Credit_History</th>\n",
       "      <th>Loan_Status</th>\n",
       "      <th>Gender_Female</th>\n",
       "      <th>Gender_Male</th>\n",
       "      <th>Married_No</th>\n",
       "      <th>Married_Yes</th>\n",
       "      <th>...</th>\n",
       "      <th>Dependents_1</th>\n",
       "      <th>Dependents_2</th>\n",
       "      <th>Dependents_3+</th>\n",
       "      <th>Education_Graduate</th>\n",
       "      <th>Education_Not Graduate</th>\n",
       "      <th>Self_Employed_No</th>\n",
       "      <th>Self_Employed_Yes</th>\n",
       "      <th>Property_Area_Rural</th>\n",
       "      <th>Property_Area_Semiurban</th>\n",
       "      <th>Property_Area_Urban</th>\n",
       "    </tr>\n",
       "  </thead>\n",
       "  <tbody>\n",
       "    <tr>\n",
       "      <th>526</th>\n",
       "      <td>3775</td>\n",
       "      <td>0.0</td>\n",
       "      <td>110.0</td>\n",
       "      <td>360.0</td>\n",
       "      <td>1.0</td>\n",
       "      <td>1</td>\n",
       "      <td>0</td>\n",
       "      <td>1</td>\n",
       "      <td>0</td>\n",
       "      <td>1</td>\n",
       "      <td>...</td>\n",
       "      <td>0</td>\n",
       "      <td>0</td>\n",
       "      <td>0</td>\n",
       "      <td>1</td>\n",
       "      <td>0</td>\n",
       "      <td>1</td>\n",
       "      <td>0</td>\n",
       "      <td>0</td>\n",
       "      <td>1</td>\n",
       "      <td>0</td>\n",
       "    </tr>\n",
       "    <tr>\n",
       "      <th>135</th>\n",
       "      <td>4000</td>\n",
       "      <td>7750.0</td>\n",
       "      <td>290.0</td>\n",
       "      <td>360.0</td>\n",
       "      <td>1.0</td>\n",
       "      <td>0</td>\n",
       "      <td>0</td>\n",
       "      <td>1</td>\n",
       "      <td>0</td>\n",
       "      <td>1</td>\n",
       "      <td>...</td>\n",
       "      <td>0</td>\n",
       "      <td>0</td>\n",
       "      <td>1</td>\n",
       "      <td>1</td>\n",
       "      <td>0</td>\n",
       "      <td>1</td>\n",
       "      <td>0</td>\n",
       "      <td>0</td>\n",
       "      <td>1</td>\n",
       "      <td>0</td>\n",
       "    </tr>\n",
       "    <tr>\n",
       "      <th>125</th>\n",
       "      <td>3692</td>\n",
       "      <td>0.0</td>\n",
       "      <td>93.0</td>\n",
       "      <td>360.0</td>\n",
       "      <td>0.0</td>\n",
       "      <td>1</td>\n",
       "      <td>1</td>\n",
       "      <td>0</td>\n",
       "      <td>1</td>\n",
       "      <td>0</td>\n",
       "      <td>...</td>\n",
       "      <td>0</td>\n",
       "      <td>0</td>\n",
       "      <td>0</td>\n",
       "      <td>1</td>\n",
       "      <td>0</td>\n",
       "      <td>1</td>\n",
       "      <td>0</td>\n",
       "      <td>1</td>\n",
       "      <td>0</td>\n",
       "      <td>0</td>\n",
       "    </tr>\n",
       "  </tbody>\n",
       "</table>\n",
       "<p>3 rows × 22 columns</p>\n",
       "</div>"
      ],
      "text/plain": [
       "     ApplicantIncome  CoapplicantIncome  LoanAmount  Loan_Amount_Term  \\\n",
       "526             3775                0.0       110.0             360.0   \n",
       "135             4000             7750.0       290.0             360.0   \n",
       "125             3692                0.0        93.0             360.0   \n",
       "\n",
       "     Credit_History  Loan_Status  Gender_Female  Gender_Male  Married_No  \\\n",
       "526             1.0            1              0            1           0   \n",
       "135             1.0            0              0            1           0   \n",
       "125             0.0            1              1            0           1   \n",
       "\n",
       "     Married_Yes         ...           Dependents_1  Dependents_2  \\\n",
       "526            1         ...                      0             0   \n",
       "135            1         ...                      0             0   \n",
       "125            0         ...                      0             0   \n",
       "\n",
       "     Dependents_3+  Education_Graduate  Education_Not Graduate  \\\n",
       "526              0                   1                       0   \n",
       "135              1                   1                       0   \n",
       "125              0                   1                       0   \n",
       "\n",
       "     Self_Employed_No  Self_Employed_Yes  Property_Area_Rural  \\\n",
       "526                 1                  0                    0   \n",
       "135                 1                  0                    0   \n",
       "125                 1                  0                    1   \n",
       "\n",
       "     Property_Area_Semiurban  Property_Area_Urban  \n",
       "526                        1                    0  \n",
       "135                        1                    0  \n",
       "125                        0                    0  \n",
       "\n",
       "[3 rows x 22 columns]"
      ]
     },
     "execution_count": 34,
     "metadata": {},
     "output_type": "execute_result"
    }
   ],
   "source": [
    "# encode some columns with binary encoding\n",
    "train_df = pd.get_dummies(train_df, columns = ['Gender', 'Married', 'Dependents', 'Education', 'Self_Employed', 'Property_Area'])\n",
    "# cols = {'Gender':{'Male':0, 'Female':1}, \n",
    "#         'Married':{'No':0, 'Yes':1}, \n",
    "#         'Dependents':{'0':0, '1':1, '2':2, '3+':3}, \n",
    "#         'Education':{'Graduate':1, 'Not Graduate':0}, \n",
    "#         'Self_Employed':{'No':0, 'Yes':1},\n",
    "#         'Property_Area':{'Urban':0, 'Rural':1, 'Semiurban':2}\n",
    "#        }\n",
    "# for key in cols:\n",
    "#     for k in cols[key]:\n",
    "#         train_df = train_df.replace(to_replace=k, value=cols[key].get(k))\n",
    "train_df.sample(3)"
   ]
  },
  {
   "cell_type": "code",
   "execution_count": 35,
   "metadata": {},
   "outputs": [
    {
     "name": "stdout",
     "output_type": "stream",
     "text": [
      "<class 'pandas.core.frame.DataFrame'>\n",
      "Int64Index: 566 entries, 0 to 613\n",
      "Data columns (total 22 columns):\n",
      "ApplicantIncome            566 non-null int64\n",
      "CoapplicantIncome          566 non-null float64\n",
      "LoanAmount                 566 non-null float64\n",
      "Loan_Amount_Term           566 non-null float64\n",
      "Credit_History             566 non-null float64\n",
      "Loan_Status                566 non-null int64\n",
      "Gender_Female              566 non-null uint8\n",
      "Gender_Male                566 non-null uint8\n",
      "Married_No                 566 non-null uint8\n",
      "Married_Yes                566 non-null uint8\n",
      "Dependents_0               566 non-null uint8\n",
      "Dependents_0               566 non-null uint8\n",
      "Dependents_1               566 non-null uint8\n",
      "Dependents_2               566 non-null uint8\n",
      "Dependents_3+              566 non-null uint8\n",
      "Education_Graduate         566 non-null uint8\n",
      "Education_Not Graduate     566 non-null uint8\n",
      "Self_Employed_No           566 non-null uint8\n",
      "Self_Employed_Yes          566 non-null uint8\n",
      "Property_Area_Rural        566 non-null uint8\n",
      "Property_Area_Semiurban    566 non-null uint8\n",
      "Property_Area_Urban        566 non-null uint8\n",
      "dtypes: float64(4), int64(2), uint8(16)\n",
      "memory usage: 59.8 KB\n"
     ]
    }
   ],
   "source": [
    "train_df.info()"
   ]
  },
  {
   "cell_type": "markdown",
   "metadata": {},
   "source": [
    "#### 8. Implement a predictive model\n",
    "\n",
    "Hint: \n",
    "Logistic Regression"
   ]
  },
  {
   "cell_type": "code",
   "execution_count": 36,
   "metadata": {},
   "outputs": [
    {
     "name": "stdout",
     "output_type": "stream",
     "text": [
      "(452, 21) (114, 21) (452,) (114,)\n"
     ]
    }
   ],
   "source": [
    "# Split data  and make loan status column the y label\n",
    "y_label = train_df.Loan_Status\n",
    "x_train, x_test, y_train, y_test = train_test_split(train_df.drop(\"Loan_Status\", axis = 1), y_label, test_size=0.2, shuffle=True)\n",
    "print(x_train.shape, x_test.shape, y_train.shape, y_test.shape)"
   ]
  },
  {
   "cell_type": "code",
   "execution_count": 37,
   "metadata": {},
   "outputs": [
    {
     "name": "stderr",
     "output_type": "stream",
     "text": [
      "c:\\users\\user\\appdata\\local\\programs\\python\\python37\\lib\\site-packages\\sklearn\\linear_model\\logistic.py:432: FutureWarning: Default solver will be changed to 'lbfgs' in 0.22. Specify a solver to silence this warning.\n",
      "  FutureWarning)\n"
     ]
    },
    {
     "data": {
      "text/plain": [
       "LogisticRegression(C=1.0, class_weight=None, dual=False, fit_intercept=True,\n",
       "          intercept_scaling=1, max_iter=100, multi_class='warn',\n",
       "          n_jobs=None, penalty='l2', random_state=None, solver='warn',\n",
       "          tol=0.0001, verbose=0, warm_start=False)"
      ]
     },
     "execution_count": 37,
     "metadata": {},
     "output_type": "execute_result"
    }
   ],
   "source": [
    "# Train model\n",
    "log_mod = linear_model.LogisticRegression() \n",
    "log_mod.fit(x_train, y_train)"
   ]
  },
  {
   "cell_type": "code",
   "execution_count": 38,
   "metadata": {},
   "outputs": [
    {
     "data": {
      "text/plain": [
       "array([[0.11529259, 0.88470741],\n",
       "       [0.26717661, 0.73282339],\n",
       "       [0.08438786, 0.91561214],\n",
       "       [0.58367181, 0.41632819],\n",
       "       [0.27795026, 0.72204974]])"
      ]
     },
     "execution_count": 38,
     "metadata": {},
     "output_type": "execute_result"
    }
   ],
   "source": [
    "# Predict the test label\n",
    "prediction = log_mod.predict_proba(x_test)\n",
    "prediction[:5,:]"
   ]
  },
  {
   "cell_type": "markdown",
   "metadata": {},
   "source": [
    "#### 9. Evaluate your predictive model\n",
    "Hint: \n",
    "How do you evaluate a classifier model"
   ]
  },
  {
   "cell_type": "code",
   "execution_count": 39,
   "metadata": {},
   "outputs": [
    {
     "data": {
      "text/plain": [
       "array([1, 1, 1, 0, 1, 1, 0, 1, 1, 0, 1, 1, 1, 1, 1, 1, 1, 1, 1, 1, 1, 1,\n",
       "       1, 1, 1, 1, 1, 0, 1, 1, 1, 1, 1, 0, 1, 1, 1, 1, 1, 1, 1, 0, 1, 1,\n",
       "       1, 1, 1, 1, 1, 0, 1, 0, 0, 0, 1, 1, 1, 1, 1, 1, 1, 1, 1, 1, 0, 1,\n",
       "       1, 1, 1, 1, 1, 0, 1, 1, 1, 1, 0, 0, 1, 1, 1, 1, 1, 1, 1, 0, 1, 1,\n",
       "       0, 1, 0, 0, 0, 1, 1, 1, 0, 1, 0, 1, 1, 1, 1, 0, 1, 1, 1, 1, 1, 0,\n",
       "       1, 0, 0, 1])"
      ]
     },
     "execution_count": 39,
     "metadata": {},
     "output_type": "execute_result"
    }
   ],
   "source": [
    "# Encode the probability of the prdiction as binary\n",
    "results = np.array([1 if pred > 0.5 else 0 for pred in prediction[:,1]])\n",
    "results"
   ]
  },
  {
   "cell_type": "code",
   "execution_count": 40,
   "metadata": {},
   "outputs": [],
   "source": [
    "# Evaluate Model\n",
    "metrics = sklm.precision_recall_fscore_support(y_test, results)\n",
    "conf = sklm.confusion_matrix(y_test, results)\n",
    "accuracy=sklm.accuracy_score(y_test, results)"
   ]
  },
  {
   "cell_type": "code",
   "execution_count": 41,
   "metadata": {},
   "outputs": [
    {
     "data": {
      "text/plain": [
       "(array([0.8       , 0.80898876]),\n",
       " array([0.54054054, 0.93506494]),\n",
       " array([0.64516129, 0.86746988]),\n",
       " array([37, 77], dtype=int64))"
      ]
     },
     "execution_count": 41,
     "metadata": {},
     "output_type": "execute_result"
    }
   ],
   "source": [
    "metrics"
   ]
  },
  {
   "cell_type": "code",
   "execution_count": 42,
   "metadata": {},
   "outputs": [
    {
     "name": "stdout",
     "output_type": "stream",
     "text": [
      "                 Confusion matrix\n",
      "                     positive        negative\n",
      "Actual positive        20                17\n",
      "Actual negative         5                72\n",
      "\n",
      "Accuracy  0.81\n",
      " \n",
      "           Positive      Negative\n",
      "Num case       37            77\n",
      "Precision    0.80          0.81\n",
      "Recall       0.54          0.94\n",
      "F1           0.65          0.87\n"
     ]
    }
   ],
   "source": [
    "# Print out the metrics\n",
    "print('                 Confusion matrix')\n",
    "print('                     positive        negative')\n",
    "print('Actual positive    %6d' % conf[0,0] + '             %5d' % conf[0,1])\n",
    "print('Actual negative    %6d' % conf[1,0] + '             %5d' % conf[1,1])\n",
    "print('')\n",
    "print('Accuracy  %0.2f' % accuracy)\n",
    "print(' ')\n",
    "print('           Positive      Negative')\n",
    "print('Num case   %6d' % metrics[3][0] + '        %6d' % metrics[3][1])\n",
    "print('Precision  %6.2f' % metrics[0][0] + '        %6.2f' % metrics[0][1])\n",
    "print('Recall     %6.2f' % metrics[1][0] + '        %6.2f' % metrics[1][1])\n",
    "print('F1         %6.2f' % metrics[2][0] + '        %6.2f' % metrics[2][1])"
   ]
  },
  {
   "cell_type": "code",
   "execution_count": null,
   "metadata": {},
   "outputs": [],
   "source": []
  }
 ],
 "metadata": {
  "kernelspec": {
   "display_name": "Python 3",
   "language": "python",
   "name": "python3"
  },
  "language_info": {
   "codemirror_mode": {
    "name": "ipython",
    "version": 3
   },
   "file_extension": ".py",
   "mimetype": "text/x-python",
   "name": "python",
   "nbconvert_exporter": "python",
   "pygments_lexer": "ipython3",
   "version": "3.7.0"
  }
 },
 "nbformat": 4,
 "nbformat_minor": 2
}
