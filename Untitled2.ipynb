{
 "cells": [
  {
   "cell_type": "code",
   "execution_count": null,
   "metadata": {},
   "outputs": [],
   "source": [
    "M=3"
   ]
  },
  {
   "cell_type": "code",
   "execution_count": null,
   "metadata": {},
   "outputs": [],
   "source": [
    "count = [0] * (M + 1)"
   ]
  },
  {
   "cell_type": "code",
   "execution_count": null,
   "metadata": {},
   "outputs": [],
   "source": [
    "count"
   ]
  },
  {
   "cell_type": "code",
   "execution_count": null,
   "metadata": {},
   "outputs": [],
   "source": [
    "def solution(M, A):\n",
    "    N = len(A)\n",
    "    count = [0] * (M + 1)\n",
    "    print(count)\n",
    "    maxOccurence = 1\n",
    "    index = -1\n",
    "    for i in range(N):\n",
    "        print(\"i=\",i)\n",
    "        if count[A[i]] == 0:\n",
    "            print(\"count=\",count[A[i]])\n",
    "            tmp = count[A[i]]\n",
    "            print(tmp)\n",
    "            if tmp < maxOccurence:\n",
    "                maxOccurence = tmp\n",
    "                index = i\n",
    "                print(\"index=\",index)\n",
    "            count[A[i]] = tmp + 1\n",
    "            print(count)\n",
    "        else:\n",
    "            count[A[i]] = 1\n",
    "    return A[index],count"
   ]
  },
  {
   "cell_type": "code",
   "execution_count": null,
   "metadata": {},
   "outputs": [],
   "source": [
    "solution(3,[1,2,3,2])"
   ]
  },
  {
   "cell_type": "code",
   "execution_count": null,
   "metadata": {},
   "outputs": [],
   "source": [
    "lst=[2]"
   ]
  },
  {
   "cell_type": "code",
   "execution_count": null,
   "metadata": {},
   "outputs": [],
   "source": [
    "lst[1]=3"
   ]
  },
  {
   "cell_type": "code",
   "execution_count": null,
   "metadata": {},
   "outputs": [],
   "source": [
    "def solution(M, A):\n",
    "    N = len(A)\n",
    "    count = [0] * (M + 1)\n",
    "    maxOccurence = 1\n",
    "    index = -1\n",
    "    for i in range(N):\n",
    "        if count[A[i]] > 0:\n",
    "            tmp = count[A[i]]+1\n",
    "            if tmp > maxOccurence:\n",
    "                maxOccurence = tmp\n",
    "                index = i\n",
    "#             count[A[i]] = tmp\n",
    "        else:\n",
    "            count[A[i]] = 1\n",
    "    return A[index],tmp,count\n"
   ]
  },
  {
   "cell_type": "code",
   "execution_count": null,
   "metadata": {},
   "outputs": [],
   "source": [
    "type(solution(3,[1,2,3,3,1,3,1,2]))"
   ]
  },
  {
   "cell_type": "code",
   "execution_count": null,
   "metadata": {},
   "outputs": [],
   "source": [
    "import json\n",
    "\n",
    "\n",
    "class SearchByTag:\n",
    "\n",
    "    def __init__(self, data_file, query_tag):\n",
    "        with open(data_file) as data_file:\n",
    "            self._data = json.load(data_file)\n",
    "        self.query = query_tag\n",
    "\n",
    "    def search(self):\n",
    "        for x in self._data:\n",
    "            print(x)\n",
    "            break\n",
    "        pass\n",
    "\n",
    "    def first(self):\n",
    "        pass\n"
   ]
  },
  {
   "cell_type": "code",
   "execution_count": null,
   "metadata": {},
   "outputs": [],
   "source": [
    "x={\"movie\":\"test\", \"tags\":[\"not\", \"False\", 1,\"testr\"]}\n",
    "for value in x[\"tags\"]:\n",
    "    if value == \"not\":\n",
    "        print(\"works\")"
   ]
  },
  {
   "cell_type": "code",
   "execution_count": null,
   "metadata": {},
   "outputs": [],
   "source": [
    "dictd={}\n",
    "if dictd.keys()==[]:\n",
    "    t = \"test passed\"\n",
    "    print(t)"
   ]
  },
  {
   "cell_type": "code",
   "execution_count": null,
   "metadata": {},
   "outputs": [],
   "source": [
    "type(dictd.keys())"
   ]
  },
  {
   "cell_type": "code",
   "execution_count": 5,
   "metadata": {},
   "outputs": [],
   "source": [
    "# you can write to stdout for debugging purposes, e.g.\n",
    "# print(\"this is a debug message\")\n",
    "\n",
    "def solution(S):\n",
    "    # write your code in Python 3.6\n",
    "    start = 0\n",
    "    maxDistance = 0\n",
    "    \n",
    "    if S.islower()==True:\n",
    "        for i in S:\n",
    "            start = S.index(i)\n",
    "            stop = start + 1\n",
    "            if S.count(S[start:stop])>1:\n",
    "                indexstart=0\n",
    "                for x in range(S.count(S[start:stop])):\n",
    "                    indexstart = S.index(S[start:stop],indexstart)\n",
    "            maxDistance = indexstart-start\n",
    "        #         S.index(S[start:stop])\n",
    "        # if maxDistance > tmp:\n",
    "        # S.index(S[start:\n",
    "    else:\n",
    "        S = S.lower()\n",
    "        solution(S)\n"
   ]
  },
  {
   "cell_type": "code",
   "execution_count": 6,
   "metadata": {},
   "outputs": [],
   "source": [
    "solution(\"aaasdeaasdsdesa\")"
   ]
  },
  {
   "cell_type": "code",
   "execution_count": 20,
   "metadata": {},
   "outputs": [],
   "source": [
    "def show_stars(rows):\n",
    "    for i in range(1,rows+1):\n",
    "        print(\"rangeIs=\",i)\n",
    "        print(\"1\"*i)"
   ]
  },
  {
   "cell_type": "code",
   "execution_count": 21,
   "metadata": {},
   "outputs": [
    {
     "name": "stdout",
     "output_type": "stream",
     "text": [
      "rangeIs= 1\n",
      "1\n",
      "rangeIs= 2\n",
      "11\n",
      "rangeIs= 3\n",
      "111\n",
      "rangeIs= 4\n",
      "1111\n",
      "rangeIs= 5\n",
      "11111\n"
     ]
    }
   ],
   "source": [
    "show_stars(5)"
   ]
  },
  {
   "cell_type": "code",
   "execution_count": null,
   "metadata": {},
   "outputs": [],
   "source": []
  }
 ],
 "metadata": {
  "kernelspec": {
   "display_name": "Python 3",
   "language": "python",
   "name": "python3"
  },
  "language_info": {
   "codemirror_mode": {
    "name": "ipython",
    "version": 3
   },
   "file_extension": ".py",
   "mimetype": "text/x-python",
   "name": "python",
   "nbconvert_exporter": "python",
   "pygments_lexer": "ipython3",
   "version": "3.7.0"
  }
 },
 "nbformat": 4,
 "nbformat_minor": 2
}
