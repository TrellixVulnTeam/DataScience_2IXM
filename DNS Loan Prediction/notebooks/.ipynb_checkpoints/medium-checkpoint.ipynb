{
 "cells": [
  {
   "cell_type": "code",
   "execution_count": 1,
   "metadata": {
    "colab": {},
    "colab_type": "code",
    "id": "-SmcTPGg4sf-"
   },
   "outputs": [],
   "source": [
    "import pandas as pd"
   ]
  },
  {
   "cell_type": "code",
   "execution_count": 2,
   "metadata": {
    "colab": {},
    "colab_type": "code",
    "id": "AAScfF9y4sgJ"
   },
   "outputs": [],
   "source": [
    "Traindemographics=pd.read_csv('traindemographics.csv')\n",
    "Testdemographics=pd.read_csv('testdemographics.csv')"
   ]
  },
  {
   "cell_type": "code",
   "execution_count": 3,
   "metadata": {
    "colab": {},
    "colab_type": "code",
    "id": "4tbTJeCo4sgU"
   },
   "outputs": [],
   "source": [
    "Trainprevious=pd.read_csv('trainprevloans.csv')\n",
    "Testprevious=pd.read_csv('testprevloans.csv')"
   ]
  },
  {
   "cell_type": "code",
   "execution_count": 4,
   "metadata": {
    "colab": {},
    "colab_type": "code",
    "id": "NPiDsg-c4sgh"
   },
   "outputs": [],
   "source": [
    "Trainperfomance=pd.read_csv('trainperf.csv')\n",
    "Testperfomance=pd.read_csv('testperf.csv')"
   ]
  },
  {
   "cell_type": "code",
   "execution_count": 5,
   "metadata": {
    "colab": {},
    "colab_type": "code",
    "id": "H5S_zzhz4sgp"
   },
   "outputs": [
    {
     "name": "stderr",
     "output_type": "stream",
     "text": [
      "C:\\Users\\s.Ad\\AppData\\Local\\Continuum\\anaconda3\\lib\\site-packages\\ipykernel_launcher.py:2: FutureWarning: Sorting because non-concatenation axis is not aligned. A future version\n",
      "of pandas will change to not sort by default.\n",
      "\n",
      "To accept the future behavior, pass 'sort=True'.\n",
      "\n",
      "To retain the current behavior and silence the warning, pass sort=False\n",
      "\n",
      "  \n"
     ]
    }
   ],
   "source": [
    "Tdemographics=pd.concat([Traindemographics,Testdemographics])\n",
    "Tperfomance=pd.concat([Trainperfomance,Testperfomance])\n",
    "Tprevious=pd.concat([Trainprevious,Testprevious])"
   ]
  },
  {
   "cell_type": "code",
   "execution_count": 6,
   "metadata": {
    "colab": {
     "base_uri": "https://localhost:8080/",
     "height": 272
    },
    "colab_type": "code",
    "id": "K3QAWq2Q4sg9",
    "outputId": "517e6e34-1583-4e55-8ed6-3a5813dee84c"
   },
   "outputs": [
    {
     "name": "stdout",
     "output_type": "stream",
     "text": [
      "<class 'pandas.core.frame.DataFrame'>\n",
      "Int64Index: 5818 entries, 0 to 1449\n",
      "Data columns (total 10 columns):\n",
      "approveddate     5818 non-null object\n",
      "creationdate     5818 non-null object\n",
      "customerid       5818 non-null object\n",
      "good_bad_flag    4368 non-null object\n",
      "loanamount       5818 non-null float64\n",
      "loannumber       5818 non-null int64\n",
      "referredby       771 non-null object\n",
      "systemloanid     5818 non-null int64\n",
      "termdays         5818 non-null int64\n",
      "totaldue         5818 non-null float64\n",
      "dtypes: float64(2), int64(3), object(5)\n",
      "memory usage: 500.0+ KB\n"
     ]
    }
   ],
   "source": [
    "Tperfomance.info()"
   ]
  },
  {
   "cell_type": "code",
   "execution_count": 7,
   "metadata": {
    "colab": {
     "base_uri": "https://localhost:8080/",
     "height": 306
    },
    "colab_type": "code",
    "id": "CWjJHgzC4shE",
    "outputId": "eb1377f1-684b-482e-93ed-09e04b5c39a2"
   },
   "outputs": [
    {
     "name": "stdout",
     "output_type": "stream",
     "text": [
      "<class 'pandas.core.frame.DataFrame'>\n",
      "Int64Index: 24090 entries, 0 to 5906\n",
      "Data columns (total 12 columns):\n",
      "customerid         24090 non-null object\n",
      "systemloanid       24090 non-null int64\n",
      "loannumber         24090 non-null int64\n",
      "approveddate       24090 non-null object\n",
      "creationdate       24090 non-null object\n",
      "loanamount         24090 non-null float64\n",
      "totaldue           24090 non-null float64\n",
      "termdays           24090 non-null int64\n",
      "closeddate         24090 non-null object\n",
      "referredby         1351 non-null object\n",
      "firstduedate       24090 non-null object\n",
      "firstrepaiddate    24090 non-null object\n",
      "dtypes: float64(2), int64(3), object(7)\n",
      "memory usage: 2.4+ MB\n"
     ]
    }
   ],
   "source": [
    "Tprevious.info()"
   ]
  },
  {
   "cell_type": "code",
   "execution_count": 8,
   "metadata": {
    "colab": {
     "base_uri": "https://localhost:8080/",
     "height": 255
    },
    "colab_type": "code",
    "id": "qpn3ib7n4shP",
    "outputId": "fa049460-0529-4c45-f9bb-83590fce8276"
   },
   "outputs": [
    {
     "name": "stdout",
     "output_type": "stream",
     "text": [
      "<class 'pandas.core.frame.DataFrame'>\n",
      "Int64Index: 5833 entries, 0 to 1486\n",
      "Data columns (total 9 columns):\n",
      "customerid                    5833 non-null object\n",
      "birthdate                     5833 non-null object\n",
      "bank_account_type             5833 non-null object\n",
      "longitude_gps                 5833 non-null float64\n",
      "latitude_gps                  5833 non-null float64\n",
      "bank_name_clients             5833 non-null object\n",
      "bank_branch_clients           65 non-null object\n",
      "employment_status_clients     4968 non-null object\n",
      "level_of_education_clients    797 non-null object\n",
      "dtypes: float64(2), object(7)\n",
      "memory usage: 455.7+ KB\n"
     ]
    }
   ],
   "source": [
    "Tdemographics.info()"
   ]
  },
  {
   "cell_type": "code",
   "execution_count": 9,
   "metadata": {
    "colab": {
     "base_uri": "https://localhost:8080/",
     "height": 204
    },
    "colab_type": "code",
    "id": "Q_pVtMdR4shZ",
    "outputId": "89f87a31-a092-4df1-bc32-0ed1e29eb45a"
   },
   "outputs": [
    {
     "data": {
      "text/plain": [
       "approveddate     5541\n",
       "creationdate     5550\n",
       "customerid       5818\n",
       "good_bad_flag       2\n",
       "loanamount         10\n",
       "loannumber         24\n",
       "referredby        657\n",
       "systemloanid     5818\n",
       "termdays            4\n",
       "totaldue           48\n",
       "dtype: int64"
      ]
     },
     "execution_count": 9,
     "metadata": {},
     "output_type": "execute_result"
    }
   ],
   "source": [
    "Tperfomance.nunique()"
   ]
  },
  {
   "cell_type": "code",
   "execution_count": 10,
   "metadata": {
    "colab": {
     "base_uri": "https://localhost:8080/",
     "height": 238
    },
    "colab_type": "code",
    "id": "Ir8eeuT84shl",
    "outputId": "4b33296d-7043-43b2-bd59-63f38fc41d37"
   },
   "outputs": [
    {
     "data": {
      "text/plain": [
       "customerid          5801\n",
       "systemloanid       24090\n",
       "loannumber            33\n",
       "approveddate       24067\n",
       "creationdate       24071\n",
       "loanamount            18\n",
       "totaldue             106\n",
       "termdays               4\n",
       "closeddate         23725\n",
       "referredby           656\n",
       "firstduedate         369\n",
       "firstrepaiddate    23826\n",
       "dtype: int64"
      ]
     },
     "execution_count": 10,
     "metadata": {},
     "output_type": "execute_result"
    }
   ],
   "source": [
    "Tprevious.nunique()"
   ]
  },
  {
   "cell_type": "code",
   "execution_count": 11,
   "metadata": {
    "colab": {
     "base_uri": "https://localhost:8080/",
     "height": 187
    },
    "colab_type": "code",
    "id": "8WhDOlT-4shr",
    "outputId": "6bab15a7-b1b4-4d5a-c118-ca04d6392eb6"
   },
   "outputs": [
    {
     "data": {
      "text/plain": [
       "customerid                    5818\n",
       "birthdate                     4078\n",
       "bank_account_type                3\n",
       "longitude_gps                 5440\n",
       "latitude_gps                  5776\n",
       "bank_name_clients               18\n",
       "bank_branch_clients             55\n",
       "employment_status_clients        6\n",
       "level_of_education_clients       4\n",
       "dtype: int64"
      ]
     },
     "execution_count": 11,
     "metadata": {},
     "output_type": "execute_result"
    }
   ],
   "source": [
    "Tdemographics.nunique()"
   ]
  },
  {
   "cell_type": "code",
   "execution_count": 12,
   "metadata": {
    "colab": {
     "base_uri": "https://localhost:8080/",
     "height": 309
    },
    "colab_type": "code",
    "id": "DOov-XUr4shz",
    "outputId": "809cee29-2811-43f4-9e45-550ce630e05b"
   },
   "outputs": [
    {
     "data": {
      "text/html": [
       "<div>\n",
       "<style scoped>\n",
       "    .dataframe tbody tr th:only-of-type {\n",
       "        vertical-align: middle;\n",
       "    }\n",
       "\n",
       "    .dataframe tbody tr th {\n",
       "        vertical-align: top;\n",
       "    }\n",
       "\n",
       "    .dataframe thead th {\n",
       "        text-align: right;\n",
       "    }\n",
       "</style>\n",
       "<table border=\"1\" class=\"dataframe\">\n",
       "  <thead>\n",
       "    <tr style=\"text-align: right;\">\n",
       "      <th></th>\n",
       "      <th>customerid</th>\n",
       "      <th>birthdate</th>\n",
       "      <th>bank_account_type</th>\n",
       "      <th>longitude_gps</th>\n",
       "      <th>latitude_gps</th>\n",
       "      <th>bank_name_clients</th>\n",
       "      <th>bank_branch_clients</th>\n",
       "      <th>employment_status_clients</th>\n",
       "      <th>level_of_education_clients</th>\n",
       "    </tr>\n",
       "  </thead>\n",
       "  <tbody>\n",
       "    <tr>\n",
       "      <th>0</th>\n",
       "      <td>8a858e135cb22031015cbafc76964ebd</td>\n",
       "      <td>1973-10-10 00:00:00.000000</td>\n",
       "      <td>Savings</td>\n",
       "      <td>3.319219</td>\n",
       "      <td>6.528604</td>\n",
       "      <td>GT Bank</td>\n",
       "      <td>NaN</td>\n",
       "      <td>NaN</td>\n",
       "      <td>NaN</td>\n",
       "    </tr>\n",
       "    <tr>\n",
       "      <th>1</th>\n",
       "      <td>8a858e275c7ea5ec015c82482d7c3996</td>\n",
       "      <td>1986-01-21 00:00:00.000000</td>\n",
       "      <td>Savings</td>\n",
       "      <td>3.325598</td>\n",
       "      <td>7.119403</td>\n",
       "      <td>Sterling Bank</td>\n",
       "      <td>NaN</td>\n",
       "      <td>Permanent</td>\n",
       "      <td>NaN</td>\n",
       "    </tr>\n",
       "    <tr>\n",
       "      <th>2</th>\n",
       "      <td>8a858e5b5bd99460015bdc95cd485634</td>\n",
       "      <td>1987-04-01 00:00:00.000000</td>\n",
       "      <td>Savings</td>\n",
       "      <td>5.746100</td>\n",
       "      <td>5.563174</td>\n",
       "      <td>Fidelity Bank</td>\n",
       "      <td>NaN</td>\n",
       "      <td>NaN</td>\n",
       "      <td>NaN</td>\n",
       "    </tr>\n",
       "    <tr>\n",
       "      <th>3</th>\n",
       "      <td>8a858efd5ca70688015cabd1f1e94b55</td>\n",
       "      <td>1991-07-19 00:00:00.000000</td>\n",
       "      <td>Savings</td>\n",
       "      <td>3.362850</td>\n",
       "      <td>6.642485</td>\n",
       "      <td>GT Bank</td>\n",
       "      <td>NaN</td>\n",
       "      <td>Permanent</td>\n",
       "      <td>NaN</td>\n",
       "    </tr>\n",
       "    <tr>\n",
       "      <th>4</th>\n",
       "      <td>8a858e785acd3412015acd48f4920d04</td>\n",
       "      <td>1982-11-22 00:00:00.000000</td>\n",
       "      <td>Savings</td>\n",
       "      <td>8.455332</td>\n",
       "      <td>11.971410</td>\n",
       "      <td>GT Bank</td>\n",
       "      <td>NaN</td>\n",
       "      <td>Permanent</td>\n",
       "      <td>NaN</td>\n",
       "    </tr>\n",
       "  </tbody>\n",
       "</table>\n",
       "</div>"
      ],
      "text/plain": [
       "                         customerid                   birthdate  \\\n",
       "0  8a858e135cb22031015cbafc76964ebd  1973-10-10 00:00:00.000000   \n",
       "1  8a858e275c7ea5ec015c82482d7c3996  1986-01-21 00:00:00.000000   \n",
       "2  8a858e5b5bd99460015bdc95cd485634  1987-04-01 00:00:00.000000   \n",
       "3  8a858efd5ca70688015cabd1f1e94b55  1991-07-19 00:00:00.000000   \n",
       "4  8a858e785acd3412015acd48f4920d04  1982-11-22 00:00:00.000000   \n",
       "\n",
       "  bank_account_type  longitude_gps  latitude_gps bank_name_clients  \\\n",
       "0           Savings       3.319219      6.528604           GT Bank   \n",
       "1           Savings       3.325598      7.119403     Sterling Bank   \n",
       "2           Savings       5.746100      5.563174     Fidelity Bank   \n",
       "3           Savings       3.362850      6.642485           GT Bank   \n",
       "4           Savings       8.455332     11.971410           GT Bank   \n",
       "\n",
       "  bank_branch_clients employment_status_clients level_of_education_clients  \n",
       "0                 NaN                       NaN                        NaN  \n",
       "1                 NaN                 Permanent                        NaN  \n",
       "2                 NaN                       NaN                        NaN  \n",
       "3                 NaN                 Permanent                        NaN  \n",
       "4                 NaN                 Permanent                        NaN  "
      ]
     },
     "execution_count": 12,
     "metadata": {},
     "output_type": "execute_result"
    }
   ],
   "source": [
    "Tdemographics.head()"
   ]
  },
  {
   "cell_type": "code",
   "execution_count": 13,
   "metadata": {
    "colab": {},
    "colab_type": "code",
    "id": "gnUFT9mb4sh3"
   },
   "outputs": [],
   "source": [
    "Tdemographics.drop_duplicates(subset=Tdemographics.columns,keep='last', inplace=True)"
   ]
  },
  {
   "cell_type": "code",
   "execution_count": 14,
   "metadata": {
    "colab": {
     "base_uri": "https://localhost:8080/",
     "height": 255
    },
    "colab_type": "code",
    "id": "iL6NeiKf4sh8",
    "outputId": "b7439a62-3802-4043-a098-11157a72bdfe"
   },
   "outputs": [
    {
     "name": "stdout",
     "output_type": "stream",
     "text": [
      "<class 'pandas.core.frame.DataFrame'>\n",
      "Int64Index: 5818 entries, 0 to 1486\n",
      "Data columns (total 9 columns):\n",
      "customerid                    5818 non-null object\n",
      "birthdate                     5818 non-null object\n",
      "bank_account_type             5818 non-null object\n",
      "longitude_gps                 5818 non-null float64\n",
      "latitude_gps                  5818 non-null float64\n",
      "bank_name_clients             5818 non-null object\n",
      "bank_branch_clients           65 non-null object\n",
      "employment_status_clients     4953 non-null object\n",
      "level_of_education_clients    795 non-null object\n",
      "dtypes: float64(2), object(7)\n",
      "memory usage: 454.5+ KB\n"
     ]
    }
   ],
   "source": [
    "Tdemographics.info()"
   ]
  },
  {
   "cell_type": "code",
   "execution_count": 15,
   "metadata": {
    "colab": {
     "base_uri": "https://localhost:8080/",
     "height": 71
    },
    "colab_type": "code",
    "id": "aQ7ALyJy4siI",
    "outputId": "a4ce58bc-2e05-4b6a-f736-70ab25e41767"
   },
   "outputs": [],
   "source": [
    "Tdemographics.birthdate=Tdemographics.birthdate.astype('datetime64')"
   ]
  },
  {
   "cell_type": "code",
   "execution_count": 16,
   "metadata": {
    "colab": {},
    "colab_type": "code",
    "id": "RtVkUfcy4siT"
   },
   "outputs": [],
   "source": [
    "Tdemographics['Age']=2018-Tdemographics.birthdate.dt.year"
   ]
  },
  {
   "cell_type": "code",
   "execution_count": 17,
   "metadata": {
    "colab": {},
    "colab_type": "code",
    "id": "oLnlXi_o4siX"
   },
   "outputs": [],
   "source": [
    "Tdemographics.Age=pd.cut(Tdemographics.Age,[0,13,31,51,100],labels=['ChildAge','YoungAge','MiddleAge','SeniorAge'])"
   ]
  },
  {
   "cell_type": "markdown",
   "metadata": {
    "colab_type": "text",
    "id": "GY5sr25S4sig"
   },
   "source": [
    "def location(data):\n",
    "    latlng=str(data.latitude_gps,data.longitude_gps)\n",
    "    from geopy.geocoders import Nominatim\n",
    "    geocode=Nominatim(user_agent='my-application')\n",
    "    location=geocode.reverse('['+latlng+']')\n",
    "    location=location.raw()\n",
    "    return(location['address'])\n",
    "Tdemographics['Address']=Tdemographics.apply(location,axis=1)"
   ]
  },
  {
   "cell_type": "code",
   "execution_count": 18,
   "metadata": {
    "colab": {
     "base_uri": "https://localhost:8080/",
     "height": 204
    },
    "colab_type": "code",
    "id": "hPBY-o3p4sij",
    "outputId": "a44e3445-610e-4374-8520-3fbe79f6c57d"
   },
   "outputs": [
    {
     "data": {
      "text/plain": [
       "customerid                       0\n",
       "birthdate                        0\n",
       "bank_account_type                0\n",
       "longitude_gps                    0\n",
       "latitude_gps                     0\n",
       "bank_name_clients                0\n",
       "bank_branch_clients           5753\n",
       "employment_status_clients      865\n",
       "level_of_education_clients    5023\n",
       "Age                              0\n",
       "dtype: int64"
      ]
     },
     "execution_count": 18,
     "metadata": {},
     "output_type": "execute_result"
    }
   ],
   "source": [
    "Tdemographics.isnull().sum()"
   ]
  },
  {
   "cell_type": "code",
   "execution_count": 19,
   "metadata": {
    "colab": {},
    "colab_type": "code",
    "id": "eJV_8iIv4sip"
   },
   "outputs": [],
   "source": [
    "Tdemographics.drop(columns=['level_of_education_clients','bank_branch_clients','birthdate'],axis=1,inplace=True)"
   ]
  },
  {
   "cell_type": "code",
   "execution_count": 20,
   "metadata": {
    "colab": {
     "base_uri": "https://localhost:8080/",
     "height": 153
    },
    "colab_type": "code",
    "id": "nLTTlgVy4six",
    "outputId": "033afe01-d931-4aaa-ffbe-d51c45c72ce9"
   },
   "outputs": [
    {
     "data": {
      "text/plain": [
       "customerid                     0\n",
       "bank_account_type              0\n",
       "longitude_gps                  0\n",
       "latitude_gps                   0\n",
       "bank_name_clients              0\n",
       "employment_status_clients    865\n",
       "Age                            0\n",
       "dtype: int64"
      ]
     },
     "execution_count": 20,
     "metadata": {},
     "output_type": "execute_result"
    }
   ],
   "source": [
    "Tdemographics.isnull().sum()"
   ]
  },
  {
   "cell_type": "code",
   "execution_count": 21,
   "metadata": {
    "colab": {
     "base_uri": "https://localhost:8080/",
     "height": 309
    },
    "colab_type": "code",
    "id": "olvSzwjs4si5",
    "outputId": "19898fcd-3379-4225-eb42-59baead19667"
   },
   "outputs": [
    {
     "data": {
      "text/html": [
       "<div>\n",
       "<style scoped>\n",
       "    .dataframe tbody tr th:only-of-type {\n",
       "        vertical-align: middle;\n",
       "    }\n",
       "\n",
       "    .dataframe tbody tr th {\n",
       "        vertical-align: top;\n",
       "    }\n",
       "\n",
       "    .dataframe thead th {\n",
       "        text-align: right;\n",
       "    }\n",
       "</style>\n",
       "<table border=\"1\" class=\"dataframe\">\n",
       "  <thead>\n",
       "    <tr style=\"text-align: right;\">\n",
       "      <th></th>\n",
       "      <th>customerid</th>\n",
       "      <th>systemloanid</th>\n",
       "      <th>loannumber</th>\n",
       "      <th>approveddate</th>\n",
       "      <th>creationdate</th>\n",
       "      <th>loanamount</th>\n",
       "      <th>totaldue</th>\n",
       "      <th>termdays</th>\n",
       "      <th>closeddate</th>\n",
       "      <th>referredby</th>\n",
       "      <th>firstduedate</th>\n",
       "      <th>firstrepaiddate</th>\n",
       "    </tr>\n",
       "  </thead>\n",
       "  <tbody>\n",
       "    <tr>\n",
       "      <th>0</th>\n",
       "      <td>8a2a81a74ce8c05d014cfb32a0da1049</td>\n",
       "      <td>301682320</td>\n",
       "      <td>2</td>\n",
       "      <td>2016-08-15 18:22:40.000000</td>\n",
       "      <td>2016-08-15 17:22:32.000000</td>\n",
       "      <td>10000.0</td>\n",
       "      <td>13000.0</td>\n",
       "      <td>30</td>\n",
       "      <td>2016-09-01 16:06:48.000000</td>\n",
       "      <td>NaN</td>\n",
       "      <td>2016-09-14 00:00:00.000000</td>\n",
       "      <td>2016-09-01 15:51:43.000000</td>\n",
       "    </tr>\n",
       "    <tr>\n",
       "      <th>1</th>\n",
       "      <td>8a2a81a74ce8c05d014cfb32a0da1049</td>\n",
       "      <td>301883808</td>\n",
       "      <td>9</td>\n",
       "      <td>2017-04-28 18:39:07.000000</td>\n",
       "      <td>2017-04-28 17:38:53.000000</td>\n",
       "      <td>10000.0</td>\n",
       "      <td>13000.0</td>\n",
       "      <td>30</td>\n",
       "      <td>2017-05-28 14:44:49.000000</td>\n",
       "      <td>NaN</td>\n",
       "      <td>2017-05-30 00:00:00.000000</td>\n",
       "      <td>2017-05-26 00:00:00.000000</td>\n",
       "    </tr>\n",
       "    <tr>\n",
       "      <th>2</th>\n",
       "      <td>8a2a81a74ce8c05d014cfb32a0da1049</td>\n",
       "      <td>301831714</td>\n",
       "      <td>8</td>\n",
       "      <td>2017-03-05 10:56:25.000000</td>\n",
       "      <td>2017-03-05 09:56:19.000000</td>\n",
       "      <td>20000.0</td>\n",
       "      <td>23800.0</td>\n",
       "      <td>30</td>\n",
       "      <td>2017-04-26 22:18:56.000000</td>\n",
       "      <td>NaN</td>\n",
       "      <td>2017-04-04 00:00:00.000000</td>\n",
       "      <td>2017-04-26 22:03:47.000000</td>\n",
       "    </tr>\n",
       "    <tr>\n",
       "      <th>3</th>\n",
       "      <td>8a8588f35438fe12015444567666018e</td>\n",
       "      <td>301861541</td>\n",
       "      <td>5</td>\n",
       "      <td>2017-04-09 18:25:55.000000</td>\n",
       "      <td>2017-04-09 17:25:42.000000</td>\n",
       "      <td>10000.0</td>\n",
       "      <td>11500.0</td>\n",
       "      <td>15</td>\n",
       "      <td>2017-04-24 01:35:52.000000</td>\n",
       "      <td>NaN</td>\n",
       "      <td>2017-04-24 00:00:00.000000</td>\n",
       "      <td>2017-04-24 00:48:43.000000</td>\n",
       "    </tr>\n",
       "    <tr>\n",
       "      <th>4</th>\n",
       "      <td>8a85890754145ace015429211b513e16</td>\n",
       "      <td>301941754</td>\n",
       "      <td>2</td>\n",
       "      <td>2017-06-17 09:29:57.000000</td>\n",
       "      <td>2017-06-17 08:29:50.000000</td>\n",
       "      <td>10000.0</td>\n",
       "      <td>11500.0</td>\n",
       "      <td>15</td>\n",
       "      <td>2017-07-14 21:18:43.000000</td>\n",
       "      <td>NaN</td>\n",
       "      <td>2017-07-03 00:00:00.000000</td>\n",
       "      <td>2017-07-14 21:08:35.000000</td>\n",
       "    </tr>\n",
       "  </tbody>\n",
       "</table>\n",
       "</div>"
      ],
      "text/plain": [
       "                         customerid  systemloanid  loannumber  \\\n",
       "0  8a2a81a74ce8c05d014cfb32a0da1049     301682320           2   \n",
       "1  8a2a81a74ce8c05d014cfb32a0da1049     301883808           9   \n",
       "2  8a2a81a74ce8c05d014cfb32a0da1049     301831714           8   \n",
       "3  8a8588f35438fe12015444567666018e     301861541           5   \n",
       "4  8a85890754145ace015429211b513e16     301941754           2   \n",
       "\n",
       "                 approveddate                creationdate  loanamount  \\\n",
       "0  2016-08-15 18:22:40.000000  2016-08-15 17:22:32.000000     10000.0   \n",
       "1  2017-04-28 18:39:07.000000  2017-04-28 17:38:53.000000     10000.0   \n",
       "2  2017-03-05 10:56:25.000000  2017-03-05 09:56:19.000000     20000.0   \n",
       "3  2017-04-09 18:25:55.000000  2017-04-09 17:25:42.000000     10000.0   \n",
       "4  2017-06-17 09:29:57.000000  2017-06-17 08:29:50.000000     10000.0   \n",
       "\n",
       "   totaldue  termdays                  closeddate referredby  \\\n",
       "0   13000.0        30  2016-09-01 16:06:48.000000        NaN   \n",
       "1   13000.0        30  2017-05-28 14:44:49.000000        NaN   \n",
       "2   23800.0        30  2017-04-26 22:18:56.000000        NaN   \n",
       "3   11500.0        15  2017-04-24 01:35:52.000000        NaN   \n",
       "4   11500.0        15  2017-07-14 21:18:43.000000        NaN   \n",
       "\n",
       "                 firstduedate             firstrepaiddate  \n",
       "0  2016-09-14 00:00:00.000000  2016-09-01 15:51:43.000000  \n",
       "1  2017-05-30 00:00:00.000000  2017-05-26 00:00:00.000000  \n",
       "2  2017-04-04 00:00:00.000000  2017-04-26 22:03:47.000000  \n",
       "3  2017-04-24 00:00:00.000000  2017-04-24 00:48:43.000000  \n",
       "4  2017-07-03 00:00:00.000000  2017-07-14 21:08:35.000000  "
      ]
     },
     "execution_count": 21,
     "metadata": {},
     "output_type": "execute_result"
    }
   ],
   "source": [
    "Tprevious.head()"
   ]
  },
  {
   "cell_type": "code",
   "execution_count": 22,
   "metadata": {
    "colab": {},
    "colab_type": "code",
    "id": "QQ831tVe4sjH"
   },
   "outputs": [],
   "source": [
    "Tprevious['profit']=Tprevious['totaldue']-Tprevious['loanamount']"
   ]
  },
  {
   "cell_type": "code",
   "execution_count": 23,
   "metadata": {
    "colab": {},
    "colab_type": "code",
    "id": "kIyoAA4F4sjN"
   },
   "outputs": [],
   "source": [
    "date_col=['approveddate','closeddate']\n",
    "for i in date_col:\n",
    "    Tprevious[i]=Tprevious[i].astype('datetime64[ns]')"
   ]
  },
  {
   "cell_type": "code",
   "execution_count": 24,
   "metadata": {
    "colab": {},
    "colab_type": "code",
    "id": "dasftc8x4sjY"
   },
   "outputs": [],
   "source": [
    "Tprevious['return_days']=Tprevious.closeddate-Tprevious.approveddate\n",
    "Tprevious['return_days']=Tprevious['return_days'].apply(lambda x:int(str(x)[:2]))\n",
    "Tprevious['days_left']=Tprevious.termdays-Tprevious.return_days"
   ]
  },
  {
   "cell_type": "code",
   "execution_count": 25,
   "metadata": {
    "colab": {
     "base_uri": "https://localhost:8080/",
     "height": 309
    },
    "colab_type": "code",
    "id": "88ZjjV_V4sje",
    "outputId": "96e9c48c-ffc9-4bf4-c1b5-23d2cb6ad7c7"
   },
   "outputs": [
    {
     "data": {
      "text/html": [
       "<div>\n",
       "<style scoped>\n",
       "    .dataframe tbody tr th:only-of-type {\n",
       "        vertical-align: middle;\n",
       "    }\n",
       "\n",
       "    .dataframe tbody tr th {\n",
       "        vertical-align: top;\n",
       "    }\n",
       "\n",
       "    .dataframe thead th {\n",
       "        text-align: right;\n",
       "    }\n",
       "</style>\n",
       "<table border=\"1\" class=\"dataframe\">\n",
       "  <thead>\n",
       "    <tr style=\"text-align: right;\">\n",
       "      <th></th>\n",
       "      <th>customerid</th>\n",
       "      <th>systemloanid</th>\n",
       "      <th>loannumber</th>\n",
       "      <th>approveddate</th>\n",
       "      <th>creationdate</th>\n",
       "      <th>loanamount</th>\n",
       "      <th>totaldue</th>\n",
       "      <th>termdays</th>\n",
       "      <th>closeddate</th>\n",
       "      <th>referredby</th>\n",
       "      <th>firstduedate</th>\n",
       "      <th>firstrepaiddate</th>\n",
       "      <th>profit</th>\n",
       "      <th>return_days</th>\n",
       "      <th>days_left</th>\n",
       "    </tr>\n",
       "  </thead>\n",
       "  <tbody>\n",
       "    <tr>\n",
       "      <th>0</th>\n",
       "      <td>8a2a81a74ce8c05d014cfb32a0da1049</td>\n",
       "      <td>301682320</td>\n",
       "      <td>2</td>\n",
       "      <td>2016-08-15 18:22:40</td>\n",
       "      <td>2016-08-15 17:22:32.000000</td>\n",
       "      <td>10000.0</td>\n",
       "      <td>13000.0</td>\n",
       "      <td>30</td>\n",
       "      <td>2016-09-01 16:06:48</td>\n",
       "      <td>NaN</td>\n",
       "      <td>2016-09-14 00:00:00.000000</td>\n",
       "      <td>2016-09-01 15:51:43.000000</td>\n",
       "      <td>3000.0</td>\n",
       "      <td>16</td>\n",
       "      <td>14</td>\n",
       "    </tr>\n",
       "    <tr>\n",
       "      <th>1</th>\n",
       "      <td>8a2a81a74ce8c05d014cfb32a0da1049</td>\n",
       "      <td>301883808</td>\n",
       "      <td>9</td>\n",
       "      <td>2017-04-28 18:39:07</td>\n",
       "      <td>2017-04-28 17:38:53.000000</td>\n",
       "      <td>10000.0</td>\n",
       "      <td>13000.0</td>\n",
       "      <td>30</td>\n",
       "      <td>2017-05-28 14:44:49</td>\n",
       "      <td>NaN</td>\n",
       "      <td>2017-05-30 00:00:00.000000</td>\n",
       "      <td>2017-05-26 00:00:00.000000</td>\n",
       "      <td>3000.0</td>\n",
       "      <td>29</td>\n",
       "      <td>1</td>\n",
       "    </tr>\n",
       "    <tr>\n",
       "      <th>2</th>\n",
       "      <td>8a2a81a74ce8c05d014cfb32a0da1049</td>\n",
       "      <td>301831714</td>\n",
       "      <td>8</td>\n",
       "      <td>2017-03-05 10:56:25</td>\n",
       "      <td>2017-03-05 09:56:19.000000</td>\n",
       "      <td>20000.0</td>\n",
       "      <td>23800.0</td>\n",
       "      <td>30</td>\n",
       "      <td>2017-04-26 22:18:56</td>\n",
       "      <td>NaN</td>\n",
       "      <td>2017-04-04 00:00:00.000000</td>\n",
       "      <td>2017-04-26 22:03:47.000000</td>\n",
       "      <td>3800.0</td>\n",
       "      <td>52</td>\n",
       "      <td>-22</td>\n",
       "    </tr>\n",
       "    <tr>\n",
       "      <th>3</th>\n",
       "      <td>8a8588f35438fe12015444567666018e</td>\n",
       "      <td>301861541</td>\n",
       "      <td>5</td>\n",
       "      <td>2017-04-09 18:25:55</td>\n",
       "      <td>2017-04-09 17:25:42.000000</td>\n",
       "      <td>10000.0</td>\n",
       "      <td>11500.0</td>\n",
       "      <td>15</td>\n",
       "      <td>2017-04-24 01:35:52</td>\n",
       "      <td>NaN</td>\n",
       "      <td>2017-04-24 00:00:00.000000</td>\n",
       "      <td>2017-04-24 00:48:43.000000</td>\n",
       "      <td>1500.0</td>\n",
       "      <td>14</td>\n",
       "      <td>1</td>\n",
       "    </tr>\n",
       "    <tr>\n",
       "      <th>4</th>\n",
       "      <td>8a85890754145ace015429211b513e16</td>\n",
       "      <td>301941754</td>\n",
       "      <td>2</td>\n",
       "      <td>2017-06-17 09:29:57</td>\n",
       "      <td>2017-06-17 08:29:50.000000</td>\n",
       "      <td>10000.0</td>\n",
       "      <td>11500.0</td>\n",
       "      <td>15</td>\n",
       "      <td>2017-07-14 21:18:43</td>\n",
       "      <td>NaN</td>\n",
       "      <td>2017-07-03 00:00:00.000000</td>\n",
       "      <td>2017-07-14 21:08:35.000000</td>\n",
       "      <td>1500.0</td>\n",
       "      <td>27</td>\n",
       "      <td>-12</td>\n",
       "    </tr>\n",
       "  </tbody>\n",
       "</table>\n",
       "</div>"
      ],
      "text/plain": [
       "                         customerid  systemloanid  loannumber  \\\n",
       "0  8a2a81a74ce8c05d014cfb32a0da1049     301682320           2   \n",
       "1  8a2a81a74ce8c05d014cfb32a0da1049     301883808           9   \n",
       "2  8a2a81a74ce8c05d014cfb32a0da1049     301831714           8   \n",
       "3  8a8588f35438fe12015444567666018e     301861541           5   \n",
       "4  8a85890754145ace015429211b513e16     301941754           2   \n",
       "\n",
       "         approveddate                creationdate  loanamount  totaldue  \\\n",
       "0 2016-08-15 18:22:40  2016-08-15 17:22:32.000000     10000.0   13000.0   \n",
       "1 2017-04-28 18:39:07  2017-04-28 17:38:53.000000     10000.0   13000.0   \n",
       "2 2017-03-05 10:56:25  2017-03-05 09:56:19.000000     20000.0   23800.0   \n",
       "3 2017-04-09 18:25:55  2017-04-09 17:25:42.000000     10000.0   11500.0   \n",
       "4 2017-06-17 09:29:57  2017-06-17 08:29:50.000000     10000.0   11500.0   \n",
       "\n",
       "   termdays          closeddate referredby                firstduedate  \\\n",
       "0        30 2016-09-01 16:06:48        NaN  2016-09-14 00:00:00.000000   \n",
       "1        30 2017-05-28 14:44:49        NaN  2017-05-30 00:00:00.000000   \n",
       "2        30 2017-04-26 22:18:56        NaN  2017-04-04 00:00:00.000000   \n",
       "3        15 2017-04-24 01:35:52        NaN  2017-04-24 00:00:00.000000   \n",
       "4        15 2017-07-14 21:18:43        NaN  2017-07-03 00:00:00.000000   \n",
       "\n",
       "              firstrepaiddate  profit  return_days  days_left  \n",
       "0  2016-09-01 15:51:43.000000  3000.0           16         14  \n",
       "1  2017-05-26 00:00:00.000000  3000.0           29          1  \n",
       "2  2017-04-26 22:03:47.000000  3800.0           52        -22  \n",
       "3  2017-04-24 00:48:43.000000  1500.0           14          1  \n",
       "4  2017-07-14 21:08:35.000000  1500.0           27        -12  "
      ]
     },
     "execution_count": 25,
     "metadata": {},
     "output_type": "execute_result"
    }
   ],
   "source": [
    "Tprevious.head()"
   ]
  },
  {
   "cell_type": "markdown",
   "metadata": {
    "colab_type": "text",
    "id": "DDFqCwSY4sjn"
   },
   "source": [
    "import numpy as np\n",
    "Features=Tprevious.pivot_table(values=['loanamount','profit','days_left','termdays'],index='customerid',aggfunc={'loanamount':np.mean,'profit':[sum,np.mean],'days_left':[np.mean,lambda x:(x>=0).sum()],'termdays':np.mean})"
   ]
  },
  {
   "cell_type": "markdown",
   "metadata": {
    "colab_type": "text",
    "id": "gzjGilfX4sjq"
   },
   "source": [
    "Features.head(5)"
   ]
  },
  {
   "cell_type": "code",
   "execution_count": 26,
   "metadata": {
    "colab": {},
    "colab_type": "code",
    "id": "MdnGD1hq4sjq"
   },
   "outputs": [],
   "source": [
    "import numpy as np\n",
    "Totalprofit=Tprevious.pivot_table(values='profit',index='customerid',aggfunc=sum)\n",
    "Totalprofit.rename(columns={'profit':'Totalprofit'},inplace=True)\n",
    "Avgprofit=Tprevious.pivot_table(values='profit',index='customerid',aggfunc=np.mean)\n",
    "Avgprofit.rename(columns={'profit':'Avgprofit'},inplace=True)\n",
    "Avgloanamount=Tprevious.pivot_table(values='loanamount',index='customerid',aggfunc=np.mean)\n",
    "Avgloanamount.rename(columns={'loanamount':'Avgloanamount'},inplace=True)\n",
    "Avgtermdays=Tprevious.pivot_table(values='termdays',index='customerid',aggfunc=np.mean)\n",
    "Avgtermdays.rename(columns={'termdays':'Avgtermdays'},inplace=True)\n",
    "earlypayment=Tprevious.pivot_table(values='days_left',index='customerid',aggfunc=lambda x:(x>=0).sum())\n",
    "earlypayment.rename(columns={'days_left':'earlypayment'},inplace=True)\n",
    "Avgdaysleft=Tprevious.pivot_table(values='days_left',index='customerid',aggfunc=np.mean)\n",
    "Avgdaysleft.rename(columns={'days_left':'Avgdaysleft'},inplace=True)"
   ]
  },
  {
   "cell_type": "code",
   "execution_count": 27,
   "metadata": {
    "colab": {},
    "colab_type": "code",
    "id": "VdajrPMY4sju"
   },
   "outputs": [],
   "source": [
    "data=[Totalprofit,Avgprofit,Avgloanamount,Avgtermdays,Avgdaysleft,earlypayment]\n",
    "#data=[d.set_index('customerid') for d in data]\n",
    "data=data[0].join(data[1:])"
   ]
  },
  {
   "cell_type": "code",
   "execution_count": 28,
   "metadata": {
    "colab": {
     "base_uri": "https://localhost:8080/",
     "height": 235
    },
    "colab_type": "code",
    "id": "dxKjwi0g4sjz",
    "outputId": "424e38df-8a78-47eb-f76e-c40e09840dcd"
   },
   "outputs": [
    {
     "data": {
      "text/html": [
       "<div>\n",
       "<style scoped>\n",
       "    .dataframe tbody tr th:only-of-type {\n",
       "        vertical-align: middle;\n",
       "    }\n",
       "\n",
       "    .dataframe tbody tr th {\n",
       "        vertical-align: top;\n",
       "    }\n",
       "\n",
       "    .dataframe thead th {\n",
       "        text-align: right;\n",
       "    }\n",
       "</style>\n",
       "<table border=\"1\" class=\"dataframe\">\n",
       "  <thead>\n",
       "    <tr style=\"text-align: right;\">\n",
       "      <th></th>\n",
       "      <th>Totalprofit</th>\n",
       "      <th>Avgprofit</th>\n",
       "      <th>Avgloanamount</th>\n",
       "      <th>Avgtermdays</th>\n",
       "      <th>Avgdaysleft</th>\n",
       "      <th>earlypayment</th>\n",
       "    </tr>\n",
       "    <tr>\n",
       "      <th>customerid</th>\n",
       "      <th></th>\n",
       "      <th></th>\n",
       "      <th></th>\n",
       "      <th></th>\n",
       "      <th></th>\n",
       "      <th></th>\n",
       "    </tr>\n",
       "  </thead>\n",
       "  <tbody>\n",
       "    <tr>\n",
       "      <th>8a1088a0484472eb01484669e3ce4e0b</th>\n",
       "      <td>1500.0</td>\n",
       "      <td>1500.000000</td>\n",
       "      <td>10000.000000</td>\n",
       "      <td>15.000000</td>\n",
       "      <td>-7.00</td>\n",
       "      <td>0</td>\n",
       "    </tr>\n",
       "    <tr>\n",
       "      <th>8a1a1e7e4f707f8b014f797718316cad</th>\n",
       "      <td>19500.0</td>\n",
       "      <td>4875.000000</td>\n",
       "      <td>17500.000000</td>\n",
       "      <td>37.500000</td>\n",
       "      <td>6.25</td>\n",
       "      <td>3</td>\n",
       "    </tr>\n",
       "    <tr>\n",
       "      <th>8a1a32fc49b632520149c3b8fdf85139</th>\n",
       "      <td>16500.0</td>\n",
       "      <td>2357.142857</td>\n",
       "      <td>12857.142857</td>\n",
       "      <td>19.285714</td>\n",
       "      <td>1.00</td>\n",
       "      <td>6</td>\n",
       "    </tr>\n",
       "    <tr>\n",
       "      <th>8a1eb5ba49a682300149c3c068b806c7</th>\n",
       "      <td>32400.0</td>\n",
       "      <td>4050.000000</td>\n",
       "      <td>16250.000000</td>\n",
       "      <td>33.750000</td>\n",
       "      <td>5.25</td>\n",
       "      <td>8</td>\n",
       "    </tr>\n",
       "    <tr>\n",
       "      <th>8a1edbf14734127f0147356fdb1b1eb2</th>\n",
       "      <td>4500.0</td>\n",
       "      <td>2250.000000</td>\n",
       "      <td>10000.000000</td>\n",
       "      <td>22.500000</td>\n",
       "      <td>4.50</td>\n",
       "      <td>2</td>\n",
       "    </tr>\n",
       "  </tbody>\n",
       "</table>\n",
       "</div>"
      ],
      "text/plain": [
       "                                  Totalprofit    Avgprofit  Avgloanamount  \\\n",
       "customerid                                                                  \n",
       "8a1088a0484472eb01484669e3ce4e0b       1500.0  1500.000000   10000.000000   \n",
       "8a1a1e7e4f707f8b014f797718316cad      19500.0  4875.000000   17500.000000   \n",
       "8a1a32fc49b632520149c3b8fdf85139      16500.0  2357.142857   12857.142857   \n",
       "8a1eb5ba49a682300149c3c068b806c7      32400.0  4050.000000   16250.000000   \n",
       "8a1edbf14734127f0147356fdb1b1eb2       4500.0  2250.000000   10000.000000   \n",
       "\n",
       "                                  Avgtermdays  Avgdaysleft  earlypayment  \n",
       "customerid                                                                \n",
       "8a1088a0484472eb01484669e3ce4e0b    15.000000        -7.00             0  \n",
       "8a1a1e7e4f707f8b014f797718316cad    37.500000         6.25             3  \n",
       "8a1a32fc49b632520149c3b8fdf85139    19.285714         1.00             6  \n",
       "8a1eb5ba49a682300149c3c068b806c7    33.750000         5.25             8  \n",
       "8a1edbf14734127f0147356fdb1b1eb2    22.500000         4.50             2  "
      ]
     },
     "execution_count": 28,
     "metadata": {},
     "output_type": "execute_result"
    }
   ],
   "source": [
    "data.head()"
   ]
  },
  {
   "cell_type": "code",
   "execution_count": 29,
   "metadata": {
    "colab": {
     "base_uri": "https://localhost:8080/",
     "height": 309
    },
    "colab_type": "code",
    "id": "ExfTBZGU4sj7",
    "outputId": "e38e8bde-0859-46cf-addc-007a88c93f45",
    "scrolled": true
   },
   "outputs": [
    {
     "data": {
      "text/html": [
       "<div>\n",
       "<style scoped>\n",
       "    .dataframe tbody tr th:only-of-type {\n",
       "        vertical-align: middle;\n",
       "    }\n",
       "\n",
       "    .dataframe tbody tr th {\n",
       "        vertical-align: top;\n",
       "    }\n",
       "\n",
       "    .dataframe thead th {\n",
       "        text-align: right;\n",
       "    }\n",
       "</style>\n",
       "<table border=\"1\" class=\"dataframe\">\n",
       "  <thead>\n",
       "    <tr style=\"text-align: right;\">\n",
       "      <th></th>\n",
       "      <th>approveddate</th>\n",
       "      <th>creationdate</th>\n",
       "      <th>customerid</th>\n",
       "      <th>good_bad_flag</th>\n",
       "      <th>loanamount</th>\n",
       "      <th>loannumber</th>\n",
       "      <th>referredby</th>\n",
       "      <th>systemloanid</th>\n",
       "      <th>termdays</th>\n",
       "      <th>totaldue</th>\n",
       "    </tr>\n",
       "  </thead>\n",
       "  <tbody>\n",
       "    <tr>\n",
       "      <th>0</th>\n",
       "      <td>2017-07-25 08:22:56.000000</td>\n",
       "      <td>2017-07-25 07:22:47.000000</td>\n",
       "      <td>8a2a81a74ce8c05d014cfb32a0da1049</td>\n",
       "      <td>Good</td>\n",
       "      <td>30000.0</td>\n",
       "      <td>12</td>\n",
       "      <td>NaN</td>\n",
       "      <td>301994762</td>\n",
       "      <td>30</td>\n",
       "      <td>34500.0</td>\n",
       "    </tr>\n",
       "    <tr>\n",
       "      <th>1</th>\n",
       "      <td>2017-07-05 17:04:41.000000</td>\n",
       "      <td>2017-07-05 16:04:18.000000</td>\n",
       "      <td>8a85886e54beabf90154c0a29ae757c0</td>\n",
       "      <td>Good</td>\n",
       "      <td>15000.0</td>\n",
       "      <td>2</td>\n",
       "      <td>NaN</td>\n",
       "      <td>301965204</td>\n",
       "      <td>30</td>\n",
       "      <td>17250.0</td>\n",
       "    </tr>\n",
       "    <tr>\n",
       "      <th>2</th>\n",
       "      <td>2017-07-06 14:52:57.000000</td>\n",
       "      <td>2017-07-06 13:52:51.000000</td>\n",
       "      <td>8a8588f35438fe12015444567666018e</td>\n",
       "      <td>Good</td>\n",
       "      <td>20000.0</td>\n",
       "      <td>7</td>\n",
       "      <td>NaN</td>\n",
       "      <td>301966580</td>\n",
       "      <td>15</td>\n",
       "      <td>22250.0</td>\n",
       "    </tr>\n",
       "    <tr>\n",
       "      <th>3</th>\n",
       "      <td>2017-07-27 19:00:41.000000</td>\n",
       "      <td>2017-07-27 18:00:35.000000</td>\n",
       "      <td>8a85890754145ace015429211b513e16</td>\n",
       "      <td>Good</td>\n",
       "      <td>10000.0</td>\n",
       "      <td>3</td>\n",
       "      <td>NaN</td>\n",
       "      <td>301999343</td>\n",
       "      <td>15</td>\n",
       "      <td>11500.0</td>\n",
       "    </tr>\n",
       "    <tr>\n",
       "      <th>4</th>\n",
       "      <td>2017-07-03 23:42:45.000000</td>\n",
       "      <td>2017-07-03 22:42:39.000000</td>\n",
       "      <td>8a858970548359cc0154883481981866</td>\n",
       "      <td>Good</td>\n",
       "      <td>40000.0</td>\n",
       "      <td>9</td>\n",
       "      <td>NaN</td>\n",
       "      <td>301962360</td>\n",
       "      <td>30</td>\n",
       "      <td>44000.0</td>\n",
       "    </tr>\n",
       "  </tbody>\n",
       "</table>\n",
       "</div>"
      ],
      "text/plain": [
       "                 approveddate                creationdate  \\\n",
       "0  2017-07-25 08:22:56.000000  2017-07-25 07:22:47.000000   \n",
       "1  2017-07-05 17:04:41.000000  2017-07-05 16:04:18.000000   \n",
       "2  2017-07-06 14:52:57.000000  2017-07-06 13:52:51.000000   \n",
       "3  2017-07-27 19:00:41.000000  2017-07-27 18:00:35.000000   \n",
       "4  2017-07-03 23:42:45.000000  2017-07-03 22:42:39.000000   \n",
       "\n",
       "                         customerid good_bad_flag  loanamount  loannumber  \\\n",
       "0  8a2a81a74ce8c05d014cfb32a0da1049          Good     30000.0          12   \n",
       "1  8a85886e54beabf90154c0a29ae757c0          Good     15000.0           2   \n",
       "2  8a8588f35438fe12015444567666018e          Good     20000.0           7   \n",
       "3  8a85890754145ace015429211b513e16          Good     10000.0           3   \n",
       "4  8a858970548359cc0154883481981866          Good     40000.0           9   \n",
       "\n",
       "  referredby  systemloanid  termdays  totaldue  \n",
       "0        NaN     301994762        30   34500.0  \n",
       "1        NaN     301965204        30   17250.0  \n",
       "2        NaN     301966580        15   22250.0  \n",
       "3        NaN     301999343        15   11500.0  \n",
       "4        NaN     301962360        30   44000.0  "
      ]
     },
     "execution_count": 29,
     "metadata": {},
     "output_type": "execute_result"
    }
   ],
   "source": [
    "Tperfomance.head()"
   ]
  },
  {
   "cell_type": "code",
   "execution_count": 30,
   "metadata": {
    "colab": {},
    "colab_type": "code",
    "id": "ICH-_noX4skA"
   },
   "outputs": [],
   "source": [
    "Tperfomance['new_profit']=Tperfomance['totaldue']-Tperfomance['loanamount']"
   ]
  },
  {
   "cell_type": "code",
   "execution_count": 31,
   "metadata": {
    "colab": {},
    "colab_type": "code",
    "id": "1w0HsRqd4skJ"
   },
   "outputs": [],
   "source": [
    "Tperfomance.drop(columns=['systemloanid','referredby','creationdate','approveddate','totaldue'],inplace=True)"
   ]
  },
  {
   "cell_type": "code",
   "execution_count": 32,
   "metadata": {
    "colab": {},
    "colab_type": "code",
    "id": "dda7fwRC4skM"
   },
   "outputs": [],
   "source": [
    "data=pd.merge(data.reset_index(),Tperfomance,how='outer',on='customerid')"
   ]
  },
  {
   "cell_type": "code",
   "execution_count": 33,
   "metadata": {
    "colab": {
     "base_uri": "https://localhost:8080/",
     "height": 224
    },
    "colab_type": "code",
    "id": "3LG2zDiv4skR",
    "outputId": "487af912-95ff-49f9-ca36-7c33ae2e9432"
   },
   "outputs": [
    {
     "data": {
      "text/html": [
       "<div>\n",
       "<style scoped>\n",
       "    .dataframe tbody tr th:only-of-type {\n",
       "        vertical-align: middle;\n",
       "    }\n",
       "\n",
       "    .dataframe tbody tr th {\n",
       "        vertical-align: top;\n",
       "    }\n",
       "\n",
       "    .dataframe thead th {\n",
       "        text-align: right;\n",
       "    }\n",
       "</style>\n",
       "<table border=\"1\" class=\"dataframe\">\n",
       "  <thead>\n",
       "    <tr style=\"text-align: right;\">\n",
       "      <th></th>\n",
       "      <th>customerid</th>\n",
       "      <th>Totalprofit</th>\n",
       "      <th>Avgprofit</th>\n",
       "      <th>Avgloanamount</th>\n",
       "      <th>Avgtermdays</th>\n",
       "      <th>Avgdaysleft</th>\n",
       "      <th>earlypayment</th>\n",
       "      <th>good_bad_flag</th>\n",
       "      <th>loanamount</th>\n",
       "      <th>loannumber</th>\n",
       "      <th>termdays</th>\n",
       "      <th>new_profit</th>\n",
       "    </tr>\n",
       "  </thead>\n",
       "  <tbody>\n",
       "    <tr>\n",
       "      <th>0</th>\n",
       "      <td>8a1088a0484472eb01484669e3ce4e0b</td>\n",
       "      <td>1500.0</td>\n",
       "      <td>1500.000000</td>\n",
       "      <td>10000.000000</td>\n",
       "      <td>15.000000</td>\n",
       "      <td>-7.00</td>\n",
       "      <td>0.0</td>\n",
       "      <td>Bad</td>\n",
       "      <td>10000.0</td>\n",
       "      <td>2</td>\n",
       "      <td>15</td>\n",
       "      <td>1500.0</td>\n",
       "    </tr>\n",
       "    <tr>\n",
       "      <th>1</th>\n",
       "      <td>8a1a1e7e4f707f8b014f797718316cad</td>\n",
       "      <td>19500.0</td>\n",
       "      <td>4875.000000</td>\n",
       "      <td>17500.000000</td>\n",
       "      <td>37.500000</td>\n",
       "      <td>6.25</td>\n",
       "      <td>3.0</td>\n",
       "      <td>Good</td>\n",
       "      <td>30000.0</td>\n",
       "      <td>5</td>\n",
       "      <td>60</td>\n",
       "      <td>9000.0</td>\n",
       "    </tr>\n",
       "    <tr>\n",
       "      <th>2</th>\n",
       "      <td>8a1a32fc49b632520149c3b8fdf85139</td>\n",
       "      <td>16500.0</td>\n",
       "      <td>2357.142857</td>\n",
       "      <td>12857.142857</td>\n",
       "      <td>19.285714</td>\n",
       "      <td>1.00</td>\n",
       "      <td>6.0</td>\n",
       "      <td>Good</td>\n",
       "      <td>20000.0</td>\n",
       "      <td>8</td>\n",
       "      <td>30</td>\n",
       "      <td>4500.0</td>\n",
       "    </tr>\n",
       "    <tr>\n",
       "      <th>3</th>\n",
       "      <td>8a1eb5ba49a682300149c3c068b806c7</td>\n",
       "      <td>32400.0</td>\n",
       "      <td>4050.000000</td>\n",
       "      <td>16250.000000</td>\n",
       "      <td>33.750000</td>\n",
       "      <td>5.25</td>\n",
       "      <td>8.0</td>\n",
       "      <td>Good</td>\n",
       "      <td>30000.0</td>\n",
       "      <td>9</td>\n",
       "      <td>60</td>\n",
       "      <td>9000.0</td>\n",
       "    </tr>\n",
       "    <tr>\n",
       "      <th>4</th>\n",
       "      <td>8a1edbf14734127f0147356fdb1b1eb2</td>\n",
       "      <td>4500.0</td>\n",
       "      <td>2250.000000</td>\n",
       "      <td>10000.000000</td>\n",
       "      <td>22.500000</td>\n",
       "      <td>4.50</td>\n",
       "      <td>2.0</td>\n",
       "      <td>Good</td>\n",
       "      <td>10000.0</td>\n",
       "      <td>3</td>\n",
       "      <td>15</td>\n",
       "      <td>1500.0</td>\n",
       "    </tr>\n",
       "  </tbody>\n",
       "</table>\n",
       "</div>"
      ],
      "text/plain": [
       "                         customerid  Totalprofit    Avgprofit  Avgloanamount  \\\n",
       "0  8a1088a0484472eb01484669e3ce4e0b       1500.0  1500.000000   10000.000000   \n",
       "1  8a1a1e7e4f707f8b014f797718316cad      19500.0  4875.000000   17500.000000   \n",
       "2  8a1a32fc49b632520149c3b8fdf85139      16500.0  2357.142857   12857.142857   \n",
       "3  8a1eb5ba49a682300149c3c068b806c7      32400.0  4050.000000   16250.000000   \n",
       "4  8a1edbf14734127f0147356fdb1b1eb2       4500.0  2250.000000   10000.000000   \n",
       "\n",
       "   Avgtermdays  Avgdaysleft  earlypayment good_bad_flag  loanamount  \\\n",
       "0    15.000000        -7.00           0.0           Bad     10000.0   \n",
       "1    37.500000         6.25           3.0          Good     30000.0   \n",
       "2    19.285714         1.00           6.0          Good     20000.0   \n",
       "3    33.750000         5.25           8.0          Good     30000.0   \n",
       "4    22.500000         4.50           2.0          Good     10000.0   \n",
       "\n",
       "   loannumber  termdays  new_profit  \n",
       "0           2        15      1500.0  \n",
       "1           5        60      9000.0  \n",
       "2           8        30      4500.0  \n",
       "3           9        60      9000.0  \n",
       "4           3        15      1500.0  "
      ]
     },
     "execution_count": 33,
     "metadata": {},
     "output_type": "execute_result"
    }
   ],
   "source": [
    "data.head()"
   ]
  },
  {
   "cell_type": "code",
   "execution_count": 34,
   "metadata": {
    "colab": {
     "base_uri": "https://localhost:8080/",
     "height": 238
    },
    "colab_type": "code",
    "id": "vl5NNB-X4skb",
    "outputId": "88f52cb4-a895-4268-828c-3449c753ed18",
    "scrolled": true
   },
   "outputs": [
    {
     "data": {
      "text/plain": [
       "customerid          0\n",
       "Totalprofit        17\n",
       "Avgprofit          17\n",
       "Avgloanamount      17\n",
       "Avgtermdays        17\n",
       "Avgdaysleft        17\n",
       "earlypayment       17\n",
       "good_bad_flag    1450\n",
       "loanamount          0\n",
       "loannumber          0\n",
       "termdays            0\n",
       "new_profit          0\n",
       "dtype: int64"
      ]
     },
     "execution_count": 34,
     "metadata": {},
     "output_type": "execute_result"
    }
   ],
   "source": [
    "data.isnull().sum()"
   ]
  },
  {
   "cell_type": "code",
   "execution_count": 35,
   "metadata": {
    "colab": {},
    "colab_type": "code",
    "id": "wi8T20qB4skn"
   },
   "outputs": [],
   "source": [
    "data.fillna(0,inplace=True)"
   ]
  },
  {
   "cell_type": "code",
   "execution_count": 36,
   "metadata": {
    "colab": {},
    "colab_type": "code",
    "id": "t91RNpwt4sku"
   },
   "outputs": [],
   "source": [
    "goodbad={'Good':1,'Bad':0}\n",
    "data.good_bad_flag=data.good_bad_flag.map(goodbad)"
   ]
  },
  {
   "cell_type": "code",
   "execution_count": 37,
   "metadata": {
    "colab": {},
    "colab_type": "code",
    "id": "bleBAOUI4skx"
   },
   "outputs": [],
   "source": [
    "data['loanamountdeviation']=data.Avgloanamount-data.loanamount\n",
    "data['profitdeviation']=data.Avgprofit-data.new_profit\n",
    "data['termdaysdeviation']=data.Avgtermdays-data.termdays"
   ]
  },
  {
   "cell_type": "code",
   "execution_count": 38,
   "metadata": {
    "colab": {},
    "colab_type": "code",
    "id": "rDgD-dpP4slR"
   },
   "outputs": [],
   "source": [
    "data=data[['customerid','loanamountdeviation','profitdeviation','termdaysdeviation','Avgdaysleft','loannumber','Totalprofit','good_bad_flag']]"
   ]
  },
  {
   "cell_type": "code",
   "execution_count": 39,
   "metadata": {
    "colab": {},
    "colab_type": "code",
    "id": "D0demP904sla"
   },
   "outputs": [],
   "source": [
    "data=pd.merge(data,Tdemographics,on='customerid',how='inner')"
   ]
  },
  {
   "cell_type": "code",
   "execution_count": 40,
   "metadata": {
    "colab": {
     "base_uri": "https://localhost:8080/",
     "height": 224
    },
    "colab_type": "code",
    "id": "pNwQ_EJ24slm",
    "outputId": "3b5dfeda-0064-4ad1-cc11-738458a9fff8"
   },
   "outputs": [
    {
     "data": {
      "text/html": [
       "<div>\n",
       "<style scoped>\n",
       "    .dataframe tbody tr th:only-of-type {\n",
       "        vertical-align: middle;\n",
       "    }\n",
       "\n",
       "    .dataframe tbody tr th {\n",
       "        vertical-align: top;\n",
       "    }\n",
       "\n",
       "    .dataframe thead th {\n",
       "        text-align: right;\n",
       "    }\n",
       "</style>\n",
       "<table border=\"1\" class=\"dataframe\">\n",
       "  <thead>\n",
       "    <tr style=\"text-align: right;\">\n",
       "      <th></th>\n",
       "      <th>customerid</th>\n",
       "      <th>loanamountdeviation</th>\n",
       "      <th>profitdeviation</th>\n",
       "      <th>termdaysdeviation</th>\n",
       "      <th>Avgdaysleft</th>\n",
       "      <th>loannumber</th>\n",
       "      <th>Totalprofit</th>\n",
       "      <th>good_bad_flag</th>\n",
       "      <th>bank_account_type</th>\n",
       "      <th>longitude_gps</th>\n",
       "      <th>latitude_gps</th>\n",
       "      <th>bank_name_clients</th>\n",
       "      <th>employment_status_clients</th>\n",
       "      <th>Age</th>\n",
       "    </tr>\n",
       "  </thead>\n",
       "  <tbody>\n",
       "    <tr>\n",
       "      <th>0</th>\n",
       "      <td>8a1088a0484472eb01484669e3ce4e0b</td>\n",
       "      <td>0.000000</td>\n",
       "      <td>0.000000</td>\n",
       "      <td>0.000000</td>\n",
       "      <td>-7.00</td>\n",
       "      <td>2</td>\n",
       "      <td>1500.0</td>\n",
       "      <td>0.0</td>\n",
       "      <td>Savings</td>\n",
       "      <td>3.351667</td>\n",
       "      <td>6.657019</td>\n",
       "      <td>GT Bank</td>\n",
       "      <td>Permanent</td>\n",
       "      <td>YoungAge</td>\n",
       "    </tr>\n",
       "    <tr>\n",
       "      <th>1</th>\n",
       "      <td>8a1a1e7e4f707f8b014f797718316cad</td>\n",
       "      <td>-12500.000000</td>\n",
       "      <td>-4125.000000</td>\n",
       "      <td>-22.500000</td>\n",
       "      <td>6.25</td>\n",
       "      <td>5</td>\n",
       "      <td>19500.0</td>\n",
       "      <td>1.0</td>\n",
       "      <td>Other</td>\n",
       "      <td>3.395230</td>\n",
       "      <td>6.592191</td>\n",
       "      <td>Standard Chartered</td>\n",
       "      <td>Permanent</td>\n",
       "      <td>MiddleAge</td>\n",
       "    </tr>\n",
       "    <tr>\n",
       "      <th>2</th>\n",
       "      <td>8a1a32fc49b632520149c3b8fdf85139</td>\n",
       "      <td>-7142.857143</td>\n",
       "      <td>-2142.857143</td>\n",
       "      <td>-10.714286</td>\n",
       "      <td>1.00</td>\n",
       "      <td>8</td>\n",
       "      <td>16500.0</td>\n",
       "      <td>1.0</td>\n",
       "      <td>Savings</td>\n",
       "      <td>3.306388</td>\n",
       "      <td>6.651843</td>\n",
       "      <td>GT Bank</td>\n",
       "      <td>Permanent</td>\n",
       "      <td>MiddleAge</td>\n",
       "    </tr>\n",
       "    <tr>\n",
       "      <th>3</th>\n",
       "      <td>8a1eb5ba49a682300149c3c068b806c7</td>\n",
       "      <td>-13750.000000</td>\n",
       "      <td>-4950.000000</td>\n",
       "      <td>-26.250000</td>\n",
       "      <td>5.25</td>\n",
       "      <td>9</td>\n",
       "      <td>32400.0</td>\n",
       "      <td>1.0</td>\n",
       "      <td>Savings</td>\n",
       "      <td>3.426698</td>\n",
       "      <td>6.423048</td>\n",
       "      <td>First Bank</td>\n",
       "      <td>Permanent</td>\n",
       "      <td>MiddleAge</td>\n",
       "    </tr>\n",
       "    <tr>\n",
       "      <th>4</th>\n",
       "      <td>8a1edbf14734127f0147356fdb1b1eb2</td>\n",
       "      <td>0.000000</td>\n",
       "      <td>750.000000</td>\n",
       "      <td>7.500000</td>\n",
       "      <td>4.50</td>\n",
       "      <td>3</td>\n",
       "      <td>4500.0</td>\n",
       "      <td>1.0</td>\n",
       "      <td>Savings</td>\n",
       "      <td>6.976132</td>\n",
       "      <td>4.801001</td>\n",
       "      <td>GT Bank</td>\n",
       "      <td>Permanent</td>\n",
       "      <td>MiddleAge</td>\n",
       "    </tr>\n",
       "  </tbody>\n",
       "</table>\n",
       "</div>"
      ],
      "text/plain": [
       "                         customerid  loanamountdeviation  profitdeviation  \\\n",
       "0  8a1088a0484472eb01484669e3ce4e0b             0.000000         0.000000   \n",
       "1  8a1a1e7e4f707f8b014f797718316cad        -12500.000000     -4125.000000   \n",
       "2  8a1a32fc49b632520149c3b8fdf85139         -7142.857143     -2142.857143   \n",
       "3  8a1eb5ba49a682300149c3c068b806c7        -13750.000000     -4950.000000   \n",
       "4  8a1edbf14734127f0147356fdb1b1eb2             0.000000       750.000000   \n",
       "\n",
       "   termdaysdeviation  Avgdaysleft  loannumber  Totalprofit  good_bad_flag  \\\n",
       "0           0.000000        -7.00           2       1500.0            0.0   \n",
       "1         -22.500000         6.25           5      19500.0            1.0   \n",
       "2         -10.714286         1.00           8      16500.0            1.0   \n",
       "3         -26.250000         5.25           9      32400.0            1.0   \n",
       "4           7.500000         4.50           3       4500.0            1.0   \n",
       "\n",
       "  bank_account_type  longitude_gps  latitude_gps   bank_name_clients  \\\n",
       "0           Savings       3.351667      6.657019             GT Bank   \n",
       "1             Other       3.395230      6.592191  Standard Chartered   \n",
       "2           Savings       3.306388      6.651843             GT Bank   \n",
       "3           Savings       3.426698      6.423048          First Bank   \n",
       "4           Savings       6.976132      4.801001             GT Bank   \n",
       "\n",
       "  employment_status_clients        Age  \n",
       "0                 Permanent   YoungAge  \n",
       "1                 Permanent  MiddleAge  \n",
       "2                 Permanent  MiddleAge  \n",
       "3                 Permanent  MiddleAge  \n",
       "4                 Permanent  MiddleAge  "
      ]
     },
     "execution_count": 40,
     "metadata": {},
     "output_type": "execute_result"
    }
   ],
   "source": [
    "data.head()"
   ]
  },
  {
   "cell_type": "code",
   "execution_count": 41,
   "metadata": {
    "colab": {
     "base_uri": "https://localhost:8080/",
     "height": 272
    },
    "colab_type": "code",
    "id": "eDBBa6Jc4sl8",
    "outputId": "ae37b22d-5de7-4aef-b6ae-ae7a653291b3"
   },
   "outputs": [
    {
     "data": {
      "text/plain": [
       "customerid                      0\n",
       "loanamountdeviation             0\n",
       "profitdeviation                 0\n",
       "termdaysdeviation               0\n",
       "Avgdaysleft                     0\n",
       "loannumber                      0\n",
       "Totalprofit                     0\n",
       "good_bad_flag                1450\n",
       "bank_account_type               0\n",
       "longitude_gps                   0\n",
       "latitude_gps                    0\n",
       "bank_name_clients               0\n",
       "employment_status_clients     865\n",
       "Age                             0\n",
       "dtype: int64"
      ]
     },
     "execution_count": 41,
     "metadata": {},
     "output_type": "execute_result"
    }
   ],
   "source": [
    "data.isnull().sum()"
   ]
  },
  {
   "cell_type": "code",
   "execution_count": 42,
   "metadata": {
    "colab": {},
    "colab_type": "code",
    "id": "sfDlTW-J4smB"
   },
   "outputs": [],
   "source": [
    "data.employment_status_clients.fillna('Unknown',inplace=True)"
   ]
  },
  {
   "cell_type": "code",
   "execution_count": 43,
   "metadata": {
    "colab": {
     "base_uri": "https://localhost:8080/",
     "height": 340
    },
    "colab_type": "code",
    "id": "gqa-VwkA4smH",
    "outputId": "99b64f1a-43d6-44fe-efcf-5471cd452ad0"
   },
   "outputs": [
    {
     "name": "stdout",
     "output_type": "stream",
     "text": [
      "<class 'pandas.core.frame.DataFrame'>\n",
      "Int64Index: 5818 entries, 0 to 5817\n",
      "Data columns (total 14 columns):\n",
      "customerid                   5818 non-null object\n",
      "loanamountdeviation          5818 non-null float64\n",
      "profitdeviation              5818 non-null float64\n",
      "termdaysdeviation            5818 non-null float64\n",
      "Avgdaysleft                  5818 non-null float64\n",
      "loannumber                   5818 non-null int64\n",
      "Totalprofit                  5818 non-null float64\n",
      "good_bad_flag                4368 non-null float64\n",
      "bank_account_type            5818 non-null object\n",
      "longitude_gps                5818 non-null float64\n",
      "latitude_gps                 5818 non-null float64\n",
      "bank_name_clients            5818 non-null object\n",
      "employment_status_clients    5818 non-null object\n",
      "Age                          5818 non-null category\n",
      "dtypes: category(1), float64(8), int64(1), object(4)\n",
      "memory usage: 642.2+ KB\n"
     ]
    }
   ],
   "source": [
    "data.info()"
   ]
  },
  {
   "cell_type": "code",
   "execution_count": 44,
   "metadata": {
    "colab": {},
    "colab_type": "code",
    "id": "JJ0sY61_4smQ"
   },
   "outputs": [],
   "source": [
    "from sklearn.preprocessing import LabelEncoder\n",
    "le=LabelEncoder()\n",
    "for i in data.select_dtypes(include=['object','category']).columns:\n",
    "    data[i]=le.fit_transform(data[i])"
   ]
  },
  {
   "cell_type": "code",
   "execution_count": 45,
   "metadata": {
    "colab": {
     "base_uri": "https://localhost:8080/",
     "height": 306
    },
    "colab_type": "code",
    "id": "1iG0KuUf4sma",
    "outputId": "9214cfd8-371c-4e67-92e1-7ae998f9b06b"
   },
   "outputs": [
    {
     "name": "stdout",
     "output_type": "stream",
     "text": [
      "<class 'pandas.core.frame.DataFrame'>\n",
      "Int64Index: 5818 entries, 0 to 5817\n",
      "Data columns (total 14 columns):\n",
      "customerid                   5818 non-null int64\n",
      "loanamountdeviation          5818 non-null float64\n",
      "profitdeviation              5818 non-null float64\n",
      "termdaysdeviation            5818 non-null float64\n",
      "Avgdaysleft                  5818 non-null float64\n",
      "loannumber                   5818 non-null int64\n",
      "Totalprofit                  5818 non-null float64\n",
      "good_bad_flag                4368 non-null float64\n",
      "bank_account_type            5818 non-null int64\n",
      "longitude_gps                5818 non-null float64\n",
      "latitude_gps                 5818 non-null float64\n",
      "bank_name_clients            5818 non-null int64\n",
      "employment_status_clients    5818 non-null int64\n",
      "Age                          5818 non-null int64\n",
      "dtypes: float64(8), int64(6)\n",
      "memory usage: 681.8 KB\n"
     ]
    }
   ],
   "source": [
    "data.info()"
   ]
  },
  {
   "cell_type": "code",
   "execution_count": 46,
   "metadata": {
    "colab": {},
    "colab_type": "code",
    "id": "WxDkBU5_53Zv"
   },
   "outputs": [],
   "source": [
    "cols=[x for x in data.columns if x not in ['longitude_gps','latitude_gps']]\n",
    "data=data[cols]"
   ]
  },
  {
   "cell_type": "code",
   "execution_count": 47,
   "metadata": {
    "colab": {},
    "colab_type": "code",
    "id": "EWvd1Xfk7J4H"
   },
   "outputs": [],
   "source": [
    "Train=data[data.good_bad_flag.notnull()]\n",
    "Test=data[data.good_bad_flag.isnull()]"
   ]
  },
  {
   "cell_type": "code",
   "execution_count": null,
   "metadata": {
    "colab": {},
    "colab_type": "code",
    "id": "nM5gX9dj7WHA"
   },
   "outputs": [],
   "source": []
  }
 ],
 "metadata": {
  "colab": {
   "name": "medium.ipynb",
   "provenance": [],
   "version": "0.3.2"
  },
  "kernelspec": {
   "display_name": "Python 3",
   "language": "python",
   "name": "python3"
  },
  "language_info": {
   "codemirror_mode": {
    "name": "ipython",
    "version": 3
   },
   "file_extension": ".py",
   "mimetype": "text/x-python",
   "name": "python",
   "nbconvert_exporter": "python",
   "pygments_lexer": "ipython3",
   "version": "3.6.1"
  }
 },
 "nbformat": 4,
 "nbformat_minor": 1
}
