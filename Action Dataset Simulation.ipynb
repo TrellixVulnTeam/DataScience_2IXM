{
 "cells": [
  {
   "cell_type": "markdown",
   "metadata": {},
   "source": [
    "### Action Even Dataset Simulation\n",
    "Assumption:\n",
    "- 1,000 Room members, generating 30,000 action events over 2 month window (**Feb 1, 2020 to March 31, 2020**)\n",
    "- Number of actions a given user performs follows a *Power Law distribution*\n",
    "- Classes of the actions: message, post, interact, consume, search. (applying a normal distribution in a random sampler)\n",
    "- Random placement of actions from a normal distribution\n",
    "- Each action is associated with one interest and one domain\n",
    "- Every action event is associated with a language, interest and domain:\n",
    "  1. Each user is only associated with 1-3 languages (One language has to be an international language\n",
    "  2. 3-7 interests\n",
    "  3. Associated between 1-3 domains"
   ]
  },
  {
   "cell_type": "markdown",
   "metadata": {},
   "source": [
    "### Steps\n",
    "1. Load the csv files of languages, domain and interests\n",
    "2. Generate unique ids and concatenate the datasets\n",
    "3. Use pandas and numpy to generate a synthetic dataset with these columns:\n",
    "    `user_ids`,`timestamp`,`actions`,`languages(1-3)`,`interests(3-  7)`,`domains(1-3)`\n",
    "4. Create a csv file"
   ]
  },
  {
   "cell_type": "code",
   "execution_count": 1,
   "metadata": {},
   "outputs": [],
   "source": [
    "# Importing relevant datasets\n",
    "import pandas as pd\n",
    "import numpy as np\n",
    "import random\n",
    "import time\n",
    "from dateutil.parser import parse\n",
    "import matplotlib.pyplot as plt\n",
    "import seaborn as sns\n",
    "import csv\n",
    "\n",
    "%matplotlib inline"
   ]
  },
  {
   "cell_type": "code",
   "execution_count": 3,
   "metadata": {},
   "outputs": [],
   "source": [
    "# Loading the datasets\n",
    "lan = pd.read_csv(\"List-of-languages-csv.csv\", header = None)\n",
    "# domains = pd.read_csv(\"Domains.csv\",header = None)\n",
    "# interests = pd.read_csv(\"Interests.csv\", header = None)\n",
    "domains = [\"Business services\",\"Information technology\",\"Manufacturing\",\"Health care\",\"Finance\",\"Retail\",\"Accounting and legal\",\"Construction, repair and maintenance\",\"Media\",\"Restaurants, bars and food services\"]\n",
    "interests = [\"studying nature\",\"being outdoors\",\"rearranging furniture\",\"decorating things\",\"collecting things\",\"listening to music\",\"traveling\",\"playing with children\",\"solving problems\",\"working with numbers\",\"charity work\",\"auto work/repair\",\"gardening\",\"meeting people\",\"conserving natural resources\",\"drawing, painting, sketching\",\"studying art\",\"organizing information/records\",\"working with animals\",\"being around animals\",\"scientific research\",\"studying the media\",\"reading\",\"analyzing movies\",\"designing things\",\"budgeting\",\"joining public causes\",\"talking about politics\",\"hands-on activities\",\"creating new things\",\"learning how things work\",\"philosophy\",\"dissecting  an organism\",\"dancing\",\"ballet\",\"bird watching\",\"anticipating others’ needs\",\"visiting the elderly\",\"socializing\",\"caring for the sick\",\"giving advice\",\"planning events\",\"reading spiritual guides\",\"building things\",\"analyzing systems\",\"studying languages\",\"engaging in business\",\"teaching others\",\"exploring new places\",\"supervising people\",\"public speaking\",\"using social media tools\", \"doing electrical work\",\"studying stocks/investments\",\"data processing\",\"science fiction\",\"photography\",\"writing poetry and stories\",\"programming computers\",\"observing human behavior\",\"church activities\",\"solving crossword puzzles\",\"studying artifacts\",\"singing\",\"playing team sports\",\"playing individual sport\",\"studying maps\",\"selling things\",\"analytical writing\"]\n",
    "\n",
    "\n",
    "#Renaming the columns\n",
    "# dom_name = ['domains']\n",
    "# domains.columns = dom_name\n",
    "lan_name = ['languages']\n",
    "lan.columns = lan_name\n",
    "# in_name = ['interests']\n",
    "# interests.columns = in_name\n",
    "\n",
    "# Transforming the dataframes to list\n",
    "Int = interests#interests['interests'].values.tolist()\n",
    "Loc = lan['languages'].values.tolist()\n",
    "dom = domains#domains['domains'].values.tolist()\n",
    "\n",
    "# Action and intternational languages list\n",
    "action = ['search','post','message','consume','interact']\n",
    "int_lan = ['French', 'English', 'Spanish','Chinese', 'Arabic','Russian']"
   ]
  },
  {
   "cell_type": "markdown",
   "metadata": {},
   "source": [
    "#### Generating unique user_ids"
   ]
  },
  {
   "cell_type": "code",
   "execution_count": 4,
   "metadata": {},
   "outputs": [],
   "source": [
    "# Generating 1000 user_ids\n",
    "user_ids = list(range(1,1001))\n",
    "us_ids = ['AL_TR_' + str(x) for x in user_ids]\n",
    "#Replicating rows\n",
    "users = np.random.choice(us_ids, size = 30000)\n",
    "df = pd.DataFrame(users)\n",
    "u_col = ['user_ids']\n",
    "df.columns = u_col"
   ]
  },
  {
   "cell_type": "code",
   "execution_count": 12,
   "metadata": {},
   "outputs": [
    {
     "name": "stdout",
     "output_type": "stream",
     "text": [
      "1580540400.0 1585666740.0 0.4945109335318837 %Y-%m-%d  %H:%M:%S\n",
      "1583075431.1790018 time.struct_time(tm_year=2020, tm_mon=3, tm_mday=1, tm_hour=18, tm_min=10, tm_sec=31, tm_wday=6, tm_yday=61, tm_isdst=0)\n",
      "start_date 2020-03-01  18:10:31\n",
      "rand_date 2020-03-01  18:10:31\n",
      "1580540400.0 1585666740.0 0.4945109335318837 %Y-%m-%d  %H:%M:%S\n",
      "1583075431.1790018 time.struct_time(tm_year=2020, tm_mon=3, tm_mday=1, tm_hour=18, tm_min=10, tm_sec=31, tm_wday=6, tm_yday=61, tm_isdst=0)\n",
      "start_date 2020-03-01  18:10:31\n"
     ]
    },
    {
     "data": {
      "text/plain": [
       "'2020-03-01  18:10:31'"
      ]
     },
     "execution_count": 12,
     "metadata": {},
     "output_type": "execute_result"
    }
   ],
   "source": [
    "# Generating random timestamp\n",
    "# Forming a timestamp for the DataFrame\n",
    "selected_format = '%Y-%m-%d  %H:%M:%S'\n",
    "def start_date(start,end,format,prop):\n",
    "#     print(\"end\",time.strptime(end,format),\"start\",time.strptime(start,format))\n",
    "    stime, etime = time.mktime(time.strptime(start,format)), time.mktime(time.strptime(end,format))\n",
    "    print(stime,etime,prop,format)\n",
    "    ptime = stime + prop *(etime - stime)\n",
    "    print(ptime,time.localtime(ptime))\n",
    "    print(\"start_date\",time.strftime(format, time.localtime(ptime)))\n",
    "    return time.strftime(format, time.localtime(ptime))\n",
    "\n",
    "# Estalishing a random date\n",
    "def rand_date (start, end, prop):\n",
    "    print(\"rand_date\",parse(start_date(start, end, selected_format, prop)).strftime(selected_format))\n",
    "    return parse(start_date(start, end, selected_format, prop)).strftime(selected_format)\n",
    "\n",
    "# Function for calling the random dates\n",
    "def dates(x):\n",
    "    return rand_date(\"2020-02-01 10:00:00\",\"2020-03-31 17:59:00\",random.random())\n",
    "\n",
    "# Adding the timestamp to the dataframe\n",
    "# time_stamp = [dates(x) for x in range(1,30001)]\n",
    "# df['timestamp'] = time_stamp\n",
    "# df.head()\n",
    "dates(1)"
   ]
  },
  {
   "cell_type": "code",
   "execution_count": 6,
   "metadata": {},
   "outputs": [],
   "source": [
    "# Action points, random selection\n",
    "df['actions'] =np.random.choice(action,size = 30000) \n",
    "#haven't figured out the normal distribution, just uniform"
   ]
  },
  {
   "cell_type": "code",
   "execution_count": 22,
   "metadata": {},
   "outputs": [
    {
     "data": {
      "text/plain": [
       "0.46172294264764757"
      ]
     },
     "execution_count": 22,
     "metadata": {},
     "output_type": "execute_result"
    }
   ],
   "source": [
    "random.random()"
   ]
  },
  {
   "cell_type": "code",
   "execution_count": 19,
   "metadata": {},
   "outputs": [
    {
     "data": {
      "text/plain": [
       "str"
      ]
     },
     "execution_count": 19,
     "metadata": {},
     "output_type": "execute_result"
    }
   ],
   "source": [
    "def timeGen(startDate,endDate):\n",
    "    timeFormat = '%Y-%m-%d  %H:%M:%S'\n",
    "    prob = random.random()\n",
    "    startTime, endTime = time.mktime(time.strptime(startDate,timeFormat)), time.mktime(time.strptime(endDate,timeFormat))\n",
    "    selectedTime = startTime + prob*(endTime-startTime)\n",
    "    rand_time = time.strftime(timeFormat, time.localtime(selectedTime))\n",
    "    return rand_time\n",
    "newTime = timeGen(\"2020-02-01 00:00:00\",\"2020-03-31 23:59:59\")\n",
    "type(newTime)"
   ]
  },
  {
   "cell_type": "code",
   "execution_count": 33,
   "metadata": {},
   "outputs": [
    {
     "data": {
      "text/plain": [
       "{}"
      ]
     },
     "execution_count": 33,
     "metadata": {},
     "output_type": "execute_result"
    }
   ],
   "source": [
    "tr = np.random.choice(int_lan,size=0, replace=False)\n",
    "x= 0\n",
    "dic={}\n",
    "while x< len(tr):\n",
    "    dic[\"try\"+str(x)] = tr[x]\n",
    "    x+=1\n",
    "dic"
   ]
  },
  {
   "cell_type": "code",
   "execution_count": 26,
   "metadata": {},
   "outputs": [
    {
     "data": {
      "text/plain": [
       "['Spanish']"
      ]
     },
     "execution_count": 26,
     "metadata": {},
     "output_type": "execute_result"
    }
   ],
   "source": [
    "random.choices(int_lan)"
   ]
  },
  {
   "cell_type": "code",
   "execution_count": null,
   "metadata": {},
   "outputs": [],
   "source": []
  }
 ],
 "metadata": {
  "kernelspec": {
   "display_name": "Python 3",
   "language": "python",
   "name": "python3"
  },
  "language_info": {
   "codemirror_mode": {
    "name": "ipython",
    "version": 3
   },
   "file_extension": ".py",
   "mimetype": "text/x-python",
   "name": "python",
   "nbconvert_exporter": "python",
   "pygments_lexer": "ipython3",
   "version": "3.7.0"
  }
 },
 "nbformat": 4,
 "nbformat_minor": 4
}
