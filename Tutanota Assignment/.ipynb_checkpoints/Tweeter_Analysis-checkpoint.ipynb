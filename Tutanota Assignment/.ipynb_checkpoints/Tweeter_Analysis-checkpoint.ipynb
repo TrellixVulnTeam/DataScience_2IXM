{
 "cells": [
  {
   "cell_type": "code",
   "execution_count": 1,
   "metadata": {},
   "outputs": [],
   "source": [
    "import tweepy as tp\n",
    "import GetOldTweets3 as got\n",
    "\n",
    "from textblob import TextBlob as tb\n",
    "\n",
    "import datetime as dt\n",
    "\n",
    "import pandas as pd\n",
    "import numpy as np\n",
    "\n",
    "import threading\n",
    "\n",
    "import seaborn as sns\n",
    "import matplotlib.pyplot as plt\n",
    "\n",
    "from scipy import stats\n",
    "\n",
    "import pandas_profiling as pp\n",
    "\n",
    "%matplotlib inline\n",
    "sns.set(color_codes=True)"
   ]
  },
  {
   "cell_type": "code",
   "execution_count": 2,
   "metadata": {},
   "outputs": [],
   "source": [
    "consumer_key = \"lp7R64pjGZ1nvO3HCPktir1RX\"\n",
    "consumer_secret = \"TyhGYXHVzeu0PPZOAM5TVmEn69VOTLVqFirMW8vgXGHLyBj5mQ\"\n",
    "access_token = \"609115528-ZlxULQ6v1bJOSoh44J99vZMob0mtXDiCNWZQ28cC\"\n",
    "access_secret = \"P2X1lnsWTsim0VJOwWeXOmZbkmfMzqsHoLnXmdapjQJzg\"\n",
    "\n",
    "auth = tp.OAuthHandler(consumer_key, consumer_secret)\n",
    "auth.set_access_token(access_token, access_secret)\n",
    "api = tp.API(auth,wait_on_rate_limit=True)"
   ]
  },
  {
   "cell_type": "code",
   "execution_count": 3,
   "metadata": {},
   "outputs": [],
   "source": [
    "tweet_query = '#bbi'\n",
    "count = 20000"
   ]
  },
  {
   "cell_type": "code",
   "execution_count": 4,
   "metadata": {},
   "outputs": [],
   "source": [
    "tweetCriteria = got.manager.TweetCriteria().setQuerySearch(tweet_query)\\\n",
    "                                            .setMaxTweets(count)\n",
    "tweets = got.manager.TweetManager.getTweets(tweetCriteria)\n"
   ]
  },
  {
   "cell_type": "code",
   "execution_count": 5,
   "metadata": {},
   "outputs": [],
   "source": [
    "tweets_lst = [[tw.date, tw.text, tw.username, tw.retweets, tw.favorites, tw.geo] for tw in tweets]"
   ]
  },
  {
   "cell_type": "code",
   "execution_count": 6,
   "metadata": {},
   "outputs": [
    {
     "data": {
      "text/plain": [
       "20000"
      ]
     },
     "execution_count": 6,
     "metadata": {},
     "output_type": "execute_result"
    }
   ],
   "source": [
    "len(tweets_lst)"
   ]
  },
  {
   "cell_type": "code",
   "execution_count": 7,
   "metadata": {},
   "outputs": [],
   "source": [
    "# pd.DataFrame(tweets_lst)"
   ]
  },
  {
   "cell_type": "code",
   "execution_count": null,
   "metadata": {
    "scrolled": false
   },
   "outputs": [],
   "source": [
    "def follower_friend_miner(tweets_lst):\n",
    "#     print(len(tweets_lst))\n",
    "    for post in tweets_lst:\n",
    "        try:\n",
    "            user=api.get_user(post[2])\n",
    "        except:\n",
    "            post.append(0)\n",
    "            post.append(0)\n",
    "        else:\n",
    "            post.append(user.followers_count)\n",
    "            post.append(user.friends_count)\n",
    "        \n",
    "    return tweets_lst"
   ]
  },
  {
   "cell_type": "code",
   "execution_count": null,
   "metadata": {},
   "outputs": [],
   "source": [
    "tm  = 100\n",
    "upper_lmt = 0\n",
    "lower_lmt = 0\n",
    "new_tweets_lst = []"
   ]
  },
  {
   "cell_type": "code",
   "execution_count": null,
   "metadata": {},
   "outputs": [],
   "source": [
    "if len(tweets_lst)> 100:\n",
    "    for x in range(100,len(tweets_lst)+100,100):\n",
    "#             print(x)\n",
    "        upper_lmt = x\n",
    "        timer = threading.Timer(tm, new_tweets_lst.append(follower_friend_miner(tweets_lst[lower_lmt:upper_lmt])))\n",
    "#             print(tm, upper_lmt, lower_lmt)\n",
    "        timer.start() \n",
    "        lower_lmt += 100\n",
    "#             print(len(new_tweets_lst))\n",
    "#           tm += 100\n",
    "else:\n",
    "    new_tweets_lst.append(follower_friend_miner(tweets_lst))\n",
    "\n",
    "    "
   ]
  },
  {
   "cell_type": "code",
   "execution_count": null,
   "metadata": {},
   "outputs": [],
   "source": [
    "len(new_tweets_lst)"
   ]
  },
  {
   "cell_type": "code",
   "execution_count": null,
   "metadata": {},
   "outputs": [],
   "source": [
    "tweets_lst1 = []\n",
    "for x in range(0,len(new_tweets_lst)):\n",
    "    print(x, len(new_tweets_lst[x]))\n",
    "    tweets_lst1 += new_tweets_lst[x]\n",
    "    \n",
    "len(tweets_lst1)"
   ]
  },
  {
   "cell_type": "code",
   "execution_count": null,
   "metadata": {},
   "outputs": [],
   "source": [
    "tweets_lst1"
   ]
  },
  {
   "cell_type": "code",
   "execution_count": null,
   "metadata": {},
   "outputs": [],
   "source": [
    "for tweet in tweets_lst:\n",
    "    text_sentiment =tb(tweet[1]).sentiment\n",
    "    tweet.append(text_sentiment.polarity)\n",
    "    tweet.append(text_sentiment.subjectivity)"
   ]
  },
  {
   "cell_type": "code",
   "execution_count": null,
   "metadata": {},
   "outputs": [],
   "source": [
    "tweets_lst[:6]"
   ]
  },
  {
   "cell_type": "code",
   "execution_count": null,
   "metadata": {},
   "outputs": [],
   "source": [
    "tweets_df = pd.DataFrame(tweets_lst, columns=[\"Date\", \"Post\", \"Username\",\"Retweets\", \"Favorites\", \"Geo\", \"Followers\", \"Friends\", \"Polarity\", \"Subjectivity\"])"
   ]
  },
  {
   "cell_type": "code",
   "execution_count": null,
   "metadata": {},
   "outputs": [],
   "source": [
    "tweets_df.Date = pd.to_datetime(tweets_df.Date)"
   ]
  },
  {
   "cell_type": "code",
   "execution_count": null,
   "metadata": {},
   "outputs": [],
   "source": [
    "tweets_df.sample(10)"
   ]
  },
  {
   "cell_type": "code",
   "execution_count": null,
   "metadata": {},
   "outputs": [],
   "source": [
    "tweets_df.info()"
   ]
  },
  {
   "cell_type": "code",
   "execution_count": null,
   "metadata": {},
   "outputs": [],
   "source": [
    "tweets_df.Date = tweets_df.Date.dt.tz_localize(None)"
   ]
  },
  {
   "cell_type": "code",
   "execution_count": null,
   "metadata": {},
   "outputs": [],
   "source": [
    "tweets_df[\"Date_diff\"] = pd.Timestamp.now()- tweets_df.Date\n",
    "tweets_df[\"Total_sec\"] = [round(x.total_seconds(),2) for x in tweets_df[\"Date_diff\"]]"
   ]
  },
  {
   "cell_type": "code",
   "execution_count": null,
   "metadata": {},
   "outputs": [],
   "source": [
    "tweets_df.sample(10)"
   ]
  },
  {
   "cell_type": "code",
   "execution_count": null,
   "metadata": {},
   "outputs": [],
   "source": [
    "tweets_df.info()"
   ]
  },
  {
   "cell_type": "code",
   "execution_count": null,
   "metadata": {},
   "outputs": [],
   "source": [
    "tweets_df.drop(columns=[\"Date\", \"Post\", \"Username\", \"Date_diff\", \"Geo\"], inplace=True)"
   ]
  },
  {
   "cell_type": "code",
   "execution_count": null,
   "metadata": {},
   "outputs": [],
   "source": [
    "tweets_df.to_csv(path_or_buf=\"BBI_Tweets.csv\")"
   ]
  },
  {
   "cell_type": "code",
   "execution_count": null,
   "metadata": {},
   "outputs": [],
   "source": [
    "tweets_df.sample(10)"
   ]
  },
  {
   "cell_type": "code",
   "execution_count": null,
   "metadata": {},
   "outputs": [
    {
     "name": "stderr",
     "output_type": "stream",
     "text": [
      "Exception in thread Thread-40:\n",
      "Traceback (most recent call last):\n",
      "  File \"c:\\users\\user\\appdata\\local\\programs\\python\\python37\\lib\\threading.py\", line 917, in _bootstrap_inner\n",
      "    self.run()\n",
      "  File \"c:\\users\\user\\appdata\\local\\programs\\python\\python37\\lib\\threading.py\", line 1158, in run\n",
      "    self.function(*self.args, **self.kwargs)\n",
      "TypeError: 'NoneType' object is not callable\n",
      "\n"
     ]
    }
   ],
   "source": [
    "pp.ProfileReport(tweets_df)"
   ]
  },
  {
   "cell_type": "code",
   "execution_count": null,
   "metadata": {},
   "outputs": [],
   "source": []
  }
 ],
 "metadata": {
  "kernelspec": {
   "display_name": "Python 3",
   "language": "python",
   "name": "python3"
  },
  "language_info": {
   "codemirror_mode": {
    "name": "ipython",
    "version": 3
   },
   "file_extension": ".py",
   "mimetype": "text/x-python",
   "name": "python",
   "nbconvert_exporter": "python",
   "pygments_lexer": "ipython3",
   "version": "3.7.0"
  }
 },
 "nbformat": 4,
 "nbformat_minor": 2
}
