{
 "cells": [
  {
   "cell_type": "code",
   "execution_count": 6,
   "metadata": {
    "scrolled": true
   },
   "outputs": [],
   "source": [
    "import nbimporter\n",
    "\n",
    "import os\n",
    "from speed import *"
   ]
  },
  {
   "cell_type": "code",
   "execution_count": 7,
   "metadata": {},
   "outputs": [
    {
     "data": {
      "text/plain": [
       "12"
      ]
     },
     "execution_count": 7,
     "metadata": {},
     "output_type": "execute_result"
    }
   ],
   "source": [
    "speedchecker(5)"
   ]
  },
  {
   "cell_type": "code",
   "execution_count": 8,
   "metadata": {},
   "outputs": [
    {
     "data": {
      "text/plain": [
       "45"
      ]
     },
     "execution_count": 8,
     "metadata": {},
     "output_type": "execute_result"
    }
   ],
   "source": [
    "currency_converter(45)"
   ]
  },
  {
   "cell_type": "code",
   "execution_count": 10,
   "metadata": {},
   "outputs": [
    {
     "name": "stdout",
     "output_type": "stream",
     "text": [
      "<function harvester.<locals>.applebucking at 0x0000015E27898D08>\n",
      "Apple Jack harvested from 80 trees so far.\n",
      "Big Macintosh harvested from 135 trees so far.\n",
      "Apple Bloom harvested from 20 trees so far.\n",
      "Big Macintosh harvested from 255 trees so far.\n",
      "Apple Jack harvested from 175 trees so far.\n"
     ]
    }
   ],
   "source": [
    "\n",
    "#calling a closure(that is called and creates its own function)\n",
    "\n",
    "apple_jack = harvester(\"Apple Jack\")\n",
    "big_mac = harvester(\"Big Macintosh\")\n",
    "apple_bloom = harvester(\"Apple Bloom\")\n",
    "print(apple_jack)\n",
    "north_orchard = 120\n",
    "west_orchard = 80  # watch out for fruit bats\n",
    "east_orchard = 135\n",
    "south_orchard = 95\n",
    "near_house = 20\n",
    "\n",
    "apple_jack(west_orchard)\n",
    "big_mac(east_orchard)\n",
    "apple_bloom(near_house)\n",
    "big_mac(north_orchard)\n",
    "apple_jack(south_orchard)\n"
   ]
  },
  {
   "cell_type": "code",
   "execution_count": null,
   "metadata": {},
   "outputs": [],
   "source": []
  }
 ],
 "metadata": {
  "kernelspec": {
   "display_name": "Python 3",
   "language": "python",
   "name": "python3"
  },
  "language_info": {
   "codemirror_mode": {
    "name": "ipython",
    "version": 3
   },
   "file_extension": ".py",
   "mimetype": "text/x-python",
   "name": "python",
   "nbconvert_exporter": "python",
   "pygments_lexer": "ipython3",
   "version": "3.7.0"
  }
 },
 "nbformat": 4,
 "nbformat_minor": 2
}
