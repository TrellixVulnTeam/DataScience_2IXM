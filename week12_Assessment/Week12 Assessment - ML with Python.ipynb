{
 "cells": [
  {
   "cell_type": "markdown",
   "metadata": {},
   "source": [
    "**Title**: Classification on a Real Life Dataset\n",
    "\n",
    "**Data Set**: BreastTissue.csv\n",
    "\n",
    "**Data Source**: https://archive.ics.uci.edu/ml/datasets/Breast+Tissue#\n",
    "\n",
    "In this notebook, we're going to do another classification exercise.\n",
    "\n",
    "This time, I have a notebook whose code and analyses are incomplete(by design), and I would like to recruit your help to complete it. \n",
    "\n",
    "Thankfully, I have some helpful comments to guide you along the line. This assessment will call on all the skills you have learnt in both Python and ML so far, in addition to your attention to detail.\n",
    "\n",
    "In this classification exercise the target variable is called \"class\". This is the variable we're trying to predict based on the values of the other columns.\n",
    "\n",
    "The dataset is contained in a csv filed called \"BreastTissue.csv\".\n",
    "\n",
    "At the end of this exercise, write a short reflection to discuss the relative performance of both models. You can use the confusion matrix as reference to discuss how well the algorithms do at predicting various classes. You may write the reflection in markdown at the end of the notebook. You have the liberty to make informed decisions at all points in this notebook, provided you provide comments to justify them.\n",
    "\n",
    "Enjoy!"
   ]
  },
  {
   "cell_type": "code",
   "execution_count": 2,
   "metadata": {},
   "outputs": [],
   "source": [
    "import numpy as np\n",
    "import matplotlib.pyplot as plt\n",
    "import pandas as pd\n",
    "from sklearn.linear_model import LogisticRegression\n",
    "from sklearn.tree import DecisionTreeClassifier\n",
    "from sklearn.metrics import confusion_matrix\n",
    "from sklearn.metrics import accuracy_score\n",
    "from sklearn.preprocessing import LabelEncoder,  OneHotEncoder\n",
    "from sklearn.model_selection import train_test_split\n",
    "from sklearn.ensemble import RandomForestClassifier\n",
    "from sklearn.metrics import roc_curve\n",
    "import seaborn as sns\n",
    "from sklearn.metrics import confusion_matrix\n",
    "%matplotlib inline"
   ]
  },
  {
   "cell_type": "markdown",
   "metadata": {},
   "source": [
    "Load the dataset into a dataframe"
   ]
  },
  {
   "cell_type": "code",
   "execution_count": 6,
   "metadata": {},
   "outputs": [],
   "source": [
    "df = pd.read_csv(\"BreastTissue.csv\")"
   ]
  },
  {
   "cell_type": "code",
   "execution_count": 8,
   "metadata": {},
   "outputs": [
    {
     "data": {
      "text/plain": [
       "Index(['Case #', 'Class', 'I0', 'PA500', 'HFS', 'DA', 'Area', 'A/DA', 'Max IP',\n",
       "       'DR', 'P'],\n",
       "      dtype='object')"
      ]
     },
     "execution_count": 8,
     "metadata": {},
     "output_type": "execute_result"
    }
   ],
   "source": [
    "df.columns"
   ]
  },
  {
   "cell_type": "markdown",
   "metadata": {},
   "source": [
    "Renaming the columns"
   ]
  },
  {
   "cell_type": "code",
   "execution_count": 10,
   "metadata": {},
   "outputs": [],
   "source": [
    "new_cols = ['case_number', 'class', 'i0', 'pa500', 'hfs', 'da', 'area', 'a_da', 'max_ip',\n",
    "       'dr','p']\n",
    "df.columns = new_cols"
   ]
  },
  {
   "cell_type": "code",
   "execution_count": 11,
   "metadata": {},
   "outputs": [
    {
     "data": {
      "text/plain": [
       "Index(['case_number', 'class', 'i0', 'pa500', 'hfs', 'da', 'area', 'a_da',\n",
       "       'max_ip', 'dr', 'p'],\n",
       "      dtype='object')"
      ]
     },
     "execution_count": 11,
     "metadata": {},
     "output_type": "execute_result"
    }
   ],
   "source": [
    "df.columns"
   ]
  },
  {
   "cell_type": "markdown",
   "metadata": {},
   "source": [
    "## Classes \n",
    "\n",
    "1. car (carcinoma)\n",
    "2. fad (fibro-adenoma)\n",
    "3. mas (mastopathy)\n",
    "4. gla (glandular)\n",
    "5. con (connective) \n",
    "6. adi (adipose)"
   ]
  },
  {
   "cell_type": "code",
   "execution_count": 14,
   "metadata": {},
   "outputs": [],
   "source": [
    "##drop the case_number column\n",
    "##omit the axis keyword\n",
    "df.drop(columns=\"case_number\", inplace=True)"
   ]
  },
  {
   "cell_type": "code",
   "execution_count": 15,
   "metadata": {},
   "outputs": [
    {
     "data": {
      "text/plain": [
       "Index(['class', 'i0', 'pa500', 'hfs', 'da', 'area', 'a_da', 'max_ip', 'dr',\n",
       "       'p'],\n",
       "      dtype='object')"
      ]
     },
     "execution_count": 15,
     "metadata": {},
     "output_type": "execute_result"
    }
   ],
   "source": [
    "df.columns"
   ]
  },
  {
   "cell_type": "code",
   "execution_count": 16,
   "metadata": {},
   "outputs": [
    {
     "data": {
      "text/html": [
       "<div>\n",
       "<style scoped>\n",
       "    .dataframe tbody tr th:only-of-type {\n",
       "        vertical-align: middle;\n",
       "    }\n",
       "\n",
       "    .dataframe tbody tr th {\n",
       "        vertical-align: top;\n",
       "    }\n",
       "\n",
       "    .dataframe thead th {\n",
       "        text-align: right;\n",
       "    }\n",
       "</style>\n",
       "<table border=\"1\" class=\"dataframe\">\n",
       "  <thead>\n",
       "    <tr style=\"text-align: right;\">\n",
       "      <th></th>\n",
       "      <th>class</th>\n",
       "      <th>i0</th>\n",
       "      <th>pa500</th>\n",
       "      <th>hfs</th>\n",
       "      <th>da</th>\n",
       "      <th>area</th>\n",
       "      <th>a_da</th>\n",
       "      <th>max_ip</th>\n",
       "      <th>dr</th>\n",
       "      <th>p</th>\n",
       "    </tr>\n",
       "  </thead>\n",
       "  <tbody>\n",
       "    <tr>\n",
       "      <th>3</th>\n",
       "      <td>car</td>\n",
       "      <td>380.000000</td>\n",
       "      <td>0.240855</td>\n",
       "      <td>0.286234</td>\n",
       "      <td>137.640111</td>\n",
       "      <td>5402.171180</td>\n",
       "      <td>39.248524</td>\n",
       "      <td>88.758446</td>\n",
       "      <td>105.198568</td>\n",
       "      <td>493.701814</td>\n",
       "    </tr>\n",
       "    <tr>\n",
       "      <th>2</th>\n",
       "      <td>car</td>\n",
       "      <td>551.879287</td>\n",
       "      <td>0.232478</td>\n",
       "      <td>0.063530</td>\n",
       "      <td>264.804935</td>\n",
       "      <td>11888.391827</td>\n",
       "      <td>44.894903</td>\n",
       "      <td>77.793297</td>\n",
       "      <td>253.785300</td>\n",
       "      <td>656.769449</td>\n",
       "    </tr>\n",
       "    <tr>\n",
       "      <th>5</th>\n",
       "      <td>car</td>\n",
       "      <td>389.872978</td>\n",
       "      <td>0.150098</td>\n",
       "      <td>0.097738</td>\n",
       "      <td>118.625814</td>\n",
       "      <td>2475.557078</td>\n",
       "      <td>20.868620</td>\n",
       "      <td>49.757149</td>\n",
       "      <td>107.686164</td>\n",
       "      <td>429.385788</td>\n",
       "    </tr>\n",
       "    <tr>\n",
       "      <th>14</th>\n",
       "      <td>car</td>\n",
       "      <td>485.668805</td>\n",
       "      <td>0.230209</td>\n",
       "      <td>0.134041</td>\n",
       "      <td>253.893699</td>\n",
       "      <td>8135.968359</td>\n",
       "      <td>32.044783</td>\n",
       "      <td>64.855446</td>\n",
       "      <td>245.470531</td>\n",
       "      <td>541.363975</td>\n",
       "    </tr>\n",
       "    <tr>\n",
       "      <th>61</th>\n",
       "      <td>gla</td>\n",
       "      <td>216.413257</td>\n",
       "      <td>0.117810</td>\n",
       "      <td>0.068417</td>\n",
       "      <td>53.599600</td>\n",
       "      <td>280.445486</td>\n",
       "      <td>5.232231</td>\n",
       "      <td>22.790535</td>\n",
       "      <td>48.512974</td>\n",
       "      <td>215.372920</td>\n",
       "    </tr>\n",
       "  </tbody>\n",
       "</table>\n",
       "</div>"
      ],
      "text/plain": [
       "   class          i0     pa500       hfs          da          area       a_da  \\\n",
       "3    car  380.000000  0.240855  0.286234  137.640111   5402.171180  39.248524   \n",
       "2    car  551.879287  0.232478  0.063530  264.804935  11888.391827  44.894903   \n",
       "5    car  389.872978  0.150098  0.097738  118.625814   2475.557078  20.868620   \n",
       "14   car  485.668805  0.230209  0.134041  253.893699   8135.968359  32.044783   \n",
       "61   gla  216.413257  0.117810  0.068417   53.599600    280.445486   5.232231   \n",
       "\n",
       "       max_ip          dr           p  \n",
       "3   88.758446  105.198568  493.701814  \n",
       "2   77.793297  253.785300  656.769449  \n",
       "5   49.757149  107.686164  429.385788  \n",
       "14  64.855446  245.470531  541.363975  \n",
       "61  22.790535   48.512974  215.372920  "
      ]
     },
     "execution_count": 16,
     "metadata": {},
     "output_type": "execute_result"
    }
   ],
   "source": [
    "df.sample(5)"
   ]
  },
  {
   "cell_type": "code",
   "execution_count": 27,
   "metadata": {},
   "outputs": [],
   "source": [
    "## In the columnn \"class\", there are 6 variables\n",
    "## In this function, we are merging (fad)fibro-adenoma,(mas) mastopathy and (gla)glandular\n",
    "## into a new class called \"fmg\" and maintaining all the rest as is\n",
    "## Correct the code below that aims to do that\n",
    "def create_new_class_fmg(col):\n",
    "    variablesToMerge = [\"fad\", \"mas\", \"gla\"]\n",
    "    \n",
    "    if (col in variablesToMerge):\n",
    "        return \"fmg\"\n",
    "    else:\n",
    "        return col"
   ]
  },
  {
   "cell_type": "code",
   "execution_count": 28,
   "metadata": {},
   "outputs": [
    {
     "name": "stdout",
     "output_type": "stream",
     "text": [
      "fmg\n",
      "fmg\n",
      "fmg\n",
      "car\n"
     ]
    }
   ],
   "source": [
    "for col in [\"fad\", \"mas\", \"gla\",\"car\"]:\n",
    "    print(create_new_class_fmg(col))"
   ]
  },
  {
   "cell_type": "code",
   "execution_count": 30,
   "metadata": {},
   "outputs": [],
   "source": [
    "df[\"new_class\"] = df[\"class\"].apply(create_new_class_fmg)"
   ]
  },
  {
   "cell_type": "code",
   "execution_count": 31,
   "metadata": {},
   "outputs": [
    {
     "data": {
      "text/html": [
       "<div>\n",
       "<style scoped>\n",
       "    .dataframe tbody tr th:only-of-type {\n",
       "        vertical-align: middle;\n",
       "    }\n",
       "\n",
       "    .dataframe tbody tr th {\n",
       "        vertical-align: top;\n",
       "    }\n",
       "\n",
       "    .dataframe thead th {\n",
       "        text-align: right;\n",
       "    }\n",
       "</style>\n",
       "<table border=\"1\" class=\"dataframe\">\n",
       "  <thead>\n",
       "    <tr style=\"text-align: right;\">\n",
       "      <th></th>\n",
       "      <th>class</th>\n",
       "      <th>i0</th>\n",
       "      <th>pa500</th>\n",
       "      <th>hfs</th>\n",
       "      <th>da</th>\n",
       "      <th>area</th>\n",
       "      <th>a_da</th>\n",
       "      <th>max_ip</th>\n",
       "      <th>dr</th>\n",
       "      <th>p</th>\n",
       "      <th>new_class</th>\n",
       "    </tr>\n",
       "  </thead>\n",
       "  <tbody>\n",
       "    <tr>\n",
       "      <th>81</th>\n",
       "      <td>con</td>\n",
       "      <td>1270.666717</td>\n",
       "      <td>0.078889</td>\n",
       "      <td>0.065624</td>\n",
       "      <td>555.352318</td>\n",
       "      <td>3612.968333</td>\n",
       "      <td>6.505723</td>\n",
       "      <td>68.781670</td>\n",
       "      <td>551.076473</td>\n",
       "      <td>895.187441</td>\n",
       "      <td>con</td>\n",
       "    </tr>\n",
       "    <tr>\n",
       "      <th>4</th>\n",
       "      <td>car</td>\n",
       "      <td>362.831266</td>\n",
       "      <td>0.200713</td>\n",
       "      <td>0.244346</td>\n",
       "      <td>124.912559</td>\n",
       "      <td>3290.462446</td>\n",
       "      <td>26.342127</td>\n",
       "      <td>69.389389</td>\n",
       "      <td>103.866552</td>\n",
       "      <td>424.796503</td>\n",
       "      <td>car</td>\n",
       "    </tr>\n",
       "    <tr>\n",
       "      <th>86</th>\n",
       "      <td>adi</td>\n",
       "      <td>2100.000000</td>\n",
       "      <td>0.121649</td>\n",
       "      <td>0.377689</td>\n",
       "      <td>450.551667</td>\n",
       "      <td>35671.606287</td>\n",
       "      <td>79.173176</td>\n",
       "      <td>436.099640</td>\n",
       "      <td>113.198570</td>\n",
       "      <td>2461.450497</td>\n",
       "      <td>adi</td>\n",
       "    </tr>\n",
       "    <tr>\n",
       "      <th>87</th>\n",
       "      <td>adi</td>\n",
       "      <td>1666.148786</td>\n",
       "      <td>0.012392</td>\n",
       "      <td>0.058451</td>\n",
       "      <td>72.931050</td>\n",
       "      <td>1402.231665</td>\n",
       "      <td>19.226813</td>\n",
       "      <td>51.854767</td>\n",
       "      <td>58.595763</td>\n",
       "      <td>1746.577504</td>\n",
       "      <td>adi</td>\n",
       "    </tr>\n",
       "    <tr>\n",
       "      <th>0</th>\n",
       "      <td>car</td>\n",
       "      <td>524.794072</td>\n",
       "      <td>0.187448</td>\n",
       "      <td>0.032114</td>\n",
       "      <td>228.800228</td>\n",
       "      <td>6843.598481</td>\n",
       "      <td>29.910803</td>\n",
       "      <td>60.204880</td>\n",
       "      <td>220.737212</td>\n",
       "      <td>556.828334</td>\n",
       "      <td>car</td>\n",
       "    </tr>\n",
       "    <tr>\n",
       "      <th>20</th>\n",
       "      <td>car</td>\n",
       "      <td>500.000000</td>\n",
       "      <td>0.192684</td>\n",
       "      <td>0.194779</td>\n",
       "      <td>144.688578</td>\n",
       "      <td>3055.012963</td>\n",
       "      <td>21.114403</td>\n",
       "      <td>96.563370</td>\n",
       "      <td>107.751103</td>\n",
       "      <td>542.897089</td>\n",
       "      <td>car</td>\n",
       "    </tr>\n",
       "    <tr>\n",
       "      <th>101</th>\n",
       "      <td>adi</td>\n",
       "      <td>2000.000000</td>\n",
       "      <td>0.106989</td>\n",
       "      <td>0.105418</td>\n",
       "      <td>520.222649</td>\n",
       "      <td>40087.920984</td>\n",
       "      <td>77.059161</td>\n",
       "      <td>204.090347</td>\n",
       "      <td>478.517223</td>\n",
       "      <td>2088.648870</td>\n",
       "      <td>adi</td>\n",
       "    </tr>\n",
       "    <tr>\n",
       "      <th>71</th>\n",
       "      <td>con</td>\n",
       "      <td>1385.664721</td>\n",
       "      <td>0.092328</td>\n",
       "      <td>0.089361</td>\n",
       "      <td>202.480044</td>\n",
       "      <td>8785.028733</td>\n",
       "      <td>43.387134</td>\n",
       "      <td>143.092194</td>\n",
       "      <td>143.257780</td>\n",
       "      <td>1524.609204</td>\n",
       "      <td>con</td>\n",
       "    </tr>\n",
       "    <tr>\n",
       "      <th>26</th>\n",
       "      <td>fad</td>\n",
       "      <td>259.885145</td>\n",
       "      <td>0.070686</td>\n",
       "      <td>0.006981</td>\n",
       "      <td>58.243807</td>\n",
       "      <td>465.087265</td>\n",
       "      <td>7.985180</td>\n",
       "      <td>17.506838</td>\n",
       "      <td>56.340241</td>\n",
       "      <td>267.517446</td>\n",
       "      <td>fmg</td>\n",
       "    </tr>\n",
       "    <tr>\n",
       "      <th>92</th>\n",
       "      <td>adi</td>\n",
       "      <td>1800.000000</td>\n",
       "      <td>0.091979</td>\n",
       "      <td>0.205251</td>\n",
       "      <td>362.863321</td>\n",
       "      <td>15021.553888</td>\n",
       "      <td>41.397278</td>\n",
       "      <td>217.833969</td>\n",
       "      <td>290.203640</td>\n",
       "      <td>1893.663712</td>\n",
       "      <td>adi</td>\n",
       "    </tr>\n",
       "  </tbody>\n",
       "</table>\n",
       "</div>"
      ],
      "text/plain": [
       "    class           i0     pa500       hfs          da          area  \\\n",
       "81    con  1270.666717  0.078889  0.065624  555.352318   3612.968333   \n",
       "4     car   362.831266  0.200713  0.244346  124.912559   3290.462446   \n",
       "86    adi  2100.000000  0.121649  0.377689  450.551667  35671.606287   \n",
       "87    adi  1666.148786  0.012392  0.058451   72.931050   1402.231665   \n",
       "0     car   524.794072  0.187448  0.032114  228.800228   6843.598481   \n",
       "20    car   500.000000  0.192684  0.194779  144.688578   3055.012963   \n",
       "101   adi  2000.000000  0.106989  0.105418  520.222649  40087.920984   \n",
       "71    con  1385.664721  0.092328  0.089361  202.480044   8785.028733   \n",
       "26    fad   259.885145  0.070686  0.006981   58.243807    465.087265   \n",
       "92    adi  1800.000000  0.091979  0.205251  362.863321  15021.553888   \n",
       "\n",
       "          a_da      max_ip          dr            p new_class  \n",
       "81    6.505723   68.781670  551.076473   895.187441       con  \n",
       "4    26.342127   69.389389  103.866552   424.796503       car  \n",
       "86   79.173176  436.099640  113.198570  2461.450497       adi  \n",
       "87   19.226813   51.854767   58.595763  1746.577504       adi  \n",
       "0    29.910803   60.204880  220.737212   556.828334       car  \n",
       "20   21.114403   96.563370  107.751103   542.897089       car  \n",
       "101  77.059161  204.090347  478.517223  2088.648870       adi  \n",
       "71   43.387134  143.092194  143.257780  1524.609204       con  \n",
       "26    7.985180   17.506838   56.340241   267.517446       fmg  \n",
       "92   41.397278  217.833969  290.203640  1893.663712       adi  "
      ]
     },
     "execution_count": 31,
     "metadata": {},
     "output_type": "execute_result"
    }
   ],
   "source": [
    "df.sample(10)"
   ]
  },
  {
   "cell_type": "code",
   "execution_count": 33,
   "metadata": {},
   "outputs": [],
   "source": [
    "##dropping the original \"class\" column\n",
    "df.drop(columns=\"class\", inplace=True)"
   ]
  },
  {
   "cell_type": "code",
   "execution_count": 34,
   "metadata": {},
   "outputs": [
    {
     "data": {
      "text/html": [
       "<div>\n",
       "<style scoped>\n",
       "    .dataframe tbody tr th:only-of-type {\n",
       "        vertical-align: middle;\n",
       "    }\n",
       "\n",
       "    .dataframe tbody tr th {\n",
       "        vertical-align: top;\n",
       "    }\n",
       "\n",
       "    .dataframe thead th {\n",
       "        text-align: right;\n",
       "    }\n",
       "</style>\n",
       "<table border=\"1\" class=\"dataframe\">\n",
       "  <thead>\n",
       "    <tr style=\"text-align: right;\">\n",
       "      <th></th>\n",
       "      <th>i0</th>\n",
       "      <th>pa500</th>\n",
       "      <th>hfs</th>\n",
       "      <th>da</th>\n",
       "      <th>area</th>\n",
       "      <th>a_da</th>\n",
       "      <th>max_ip</th>\n",
       "      <th>dr</th>\n",
       "      <th>p</th>\n",
       "      <th>new_class</th>\n",
       "    </tr>\n",
       "  </thead>\n",
       "  <tbody>\n",
       "    <tr>\n",
       "      <th>44</th>\n",
       "      <td>172.515797</td>\n",
       "      <td>0.127235</td>\n",
       "      <td>0.038397</td>\n",
       "      <td>37.543673</td>\n",
       "      <td>192.218148</td>\n",
       "      <td>5.119855</td>\n",
       "      <td>19.322081</td>\n",
       "      <td>32.189821</td>\n",
       "      <td>174.933770</td>\n",
       "      <td>fmg</td>\n",
       "    </tr>\n",
       "    <tr>\n",
       "      <th>11</th>\n",
       "      <td>500.000000</td>\n",
       "      <td>0.227242</td>\n",
       "      <td>0.050964</td>\n",
       "      <td>219.295502</td>\n",
       "      <td>9819.449614</td>\n",
       "      <td>44.777250</td>\n",
       "      <td>76.868500</td>\n",
       "      <td>207.266640</td>\n",
       "      <td>602.527841</td>\n",
       "      <td>car</td>\n",
       "    </tr>\n",
       "    <tr>\n",
       "      <th>24</th>\n",
       "      <td>352.656447</td>\n",
       "      <td>0.121999</td>\n",
       "      <td>0.090757</td>\n",
       "      <td>68.527846</td>\n",
       "      <td>1066.157846</td>\n",
       "      <td>15.558024</td>\n",
       "      <td>43.691925</td>\n",
       "      <td>52.792817</td>\n",
       "      <td>382.733187</td>\n",
       "      <td>fmg</td>\n",
       "    </tr>\n",
       "    <tr>\n",
       "      <th>1</th>\n",
       "      <td>330.000000</td>\n",
       "      <td>0.226893</td>\n",
       "      <td>0.265290</td>\n",
       "      <td>121.154201</td>\n",
       "      <td>3163.239472</td>\n",
       "      <td>26.109202</td>\n",
       "      <td>69.717361</td>\n",
       "      <td>99.084964</td>\n",
       "      <td>400.225776</td>\n",
       "      <td>car</td>\n",
       "    </tr>\n",
       "    <tr>\n",
       "      <th>89</th>\n",
       "      <td>1949.118155</td>\n",
       "      <td>0.051798</td>\n",
       "      <td>0.016501</td>\n",
       "      <td>170.331495</td>\n",
       "      <td>3212.077055</td>\n",
       "      <td>18.857799</td>\n",
       "      <td>101.455849</td>\n",
       "      <td>136.819329</td>\n",
       "      <td>1941.367383</td>\n",
       "      <td>adi</td>\n",
       "    </tr>\n",
       "  </tbody>\n",
       "</table>\n",
       "</div>"
      ],
      "text/plain": [
       "             i0     pa500       hfs          da         area       a_da  \\\n",
       "44   172.515797  0.127235  0.038397   37.543673   192.218148   5.119855   \n",
       "11   500.000000  0.227242  0.050964  219.295502  9819.449614  44.777250   \n",
       "24   352.656447  0.121999  0.090757   68.527846  1066.157846  15.558024   \n",
       "1    330.000000  0.226893  0.265290  121.154201  3163.239472  26.109202   \n",
       "89  1949.118155  0.051798  0.016501  170.331495  3212.077055  18.857799   \n",
       "\n",
       "        max_ip          dr            p new_class  \n",
       "44   19.322081   32.189821   174.933770       fmg  \n",
       "11   76.868500  207.266640   602.527841       car  \n",
       "24   43.691925   52.792817   382.733187       fmg  \n",
       "1    69.717361   99.084964   400.225776       car  \n",
       "89  101.455849  136.819329  1941.367383       adi  "
      ]
     },
     "execution_count": 34,
     "metadata": {},
     "output_type": "execute_result"
    }
   ],
   "source": [
    "df.sample(5)"
   ]
  },
  {
   "cell_type": "markdown",
   "metadata": {},
   "source": [
    "Check for and replace missing values"
   ]
  },
  {
   "cell_type": "code",
   "execution_count": 36,
   "metadata": {},
   "outputs": [
    {
     "data": {
      "text/plain": [
       "i0           0\n",
       "pa500        0\n",
       "hfs          0\n",
       "da           0\n",
       "area         0\n",
       "a_da         0\n",
       "max_ip       0\n",
       "dr           0\n",
       "p            0\n",
       "new_class    0\n",
       "dtype: int64"
      ]
     },
     "execution_count": 36,
     "metadata": {},
     "output_type": "execute_result"
    }
   ],
   "source": [
    "df.isnull().sum()"
   ]
  },
  {
   "cell_type": "markdown",
   "metadata": {},
   "source": [
    "## Checkpoint: Before you pass this point, make sure you have 0 missing values in all columns"
   ]
  },
  {
   "cell_type": "markdown",
   "metadata": {},
   "source": [
    "Check the correlations of the fields data using a pair plot"
   ]
  },
  {
   "cell_type": "code",
   "execution_count": 42,
   "metadata": {},
   "outputs": [
    {
     "data": {
      "text/plain": [
       "<seaborn.axisgrid.PairGrid at 0x2380f4cfc88>"
      ]
     },
     "execution_count": 42,
     "metadata": {},
     "output_type": "execute_result"
    },
    {
     "data": {
      "image/png": "[encoded data removed]",
      "text/plain": [
       "<Figure size 1260x1260 with 56 Axes>"
      ]
     },
     "metadata": {
      "needs_background": "light"
     },
     "output_type": "display_data"
    }
   ],
   "source": [
    "df_plot = df[['new_class', 'i0', 'pa500', 'hfs', 'da', 'area', 'a_da', 'max_ip']]\n",
    "sns.pairplot(df_plot)"
   ]
  },
  {
   "cell_type": "code",
   "execution_count": 47,
   "metadata": {},
   "outputs": [],
   "source": [
    "# colors = (\"red\", \"green\", \"blue\")\n",
    "# for x in df_plot:\n",
    "#     for y in df_plot:\n",
    "#         plt.scatter(x,y,c=colors,label=df.new_class)"
   ]
  },
  {
   "cell_type": "markdown",
   "metadata": {},
   "source": [
    "Conduct further exploratory data analysis of your own choosing"
   ]
  },
  {
   "cell_type": "markdown",
   "metadata": {},
   "source": [
    "For example..."
   ]
  },
  {
   "cell_type": "code",
   "execution_count": 56,
   "metadata": {},
   "outputs": [
    {
     "data": {
      "text/plain": [
       "<matplotlib.axes._subplots.AxesSubplot at 0x238134fc828>"
      ]
     },
     "execution_count": 56,
     "metadata": {},
     "output_type": "execute_result"
    },
    {
     "data": {
      "image/png": "[encoded data removed]",
      "text/plain": [
       "<Figure size 432x288 with 1 Axes>"
      ]
     },
     "metadata": {
      "needs_background": "light"
     },
     "output_type": "display_data"
    }
   ],
   "source": [
    "sns.countplot(x='new_class',data=df_plot)"
   ]
  },
  {
   "cell_type": "code",
   "execution_count": 61,
   "metadata": {},
   "outputs": [],
   "source": [
    "# sns.scatterplot(x='new_class',y=df.count(),data=df_plot)"
   ]
  },
  {
   "cell_type": "code",
   "execution_count": 62,
   "metadata": {},
   "outputs": [
    {
     "data": {
      "text/html": [
       "<div>\n",
       "<style scoped>\n",
       "    .dataframe tbody tr th:only-of-type {\n",
       "        vertical-align: middle;\n",
       "    }\n",
       "\n",
       "    .dataframe tbody tr th {\n",
       "        vertical-align: top;\n",
       "    }\n",
       "\n",
       "    .dataframe thead th {\n",
       "        text-align: right;\n",
       "    }\n",
       "</style>\n",
       "<table border=\"1\" class=\"dataframe\">\n",
       "  <thead>\n",
       "    <tr style=\"text-align: right;\">\n",
       "      <th></th>\n",
       "      <th>i0</th>\n",
       "      <th>pa500</th>\n",
       "      <th>hfs</th>\n",
       "      <th>da</th>\n",
       "      <th>area</th>\n",
       "      <th>a_da</th>\n",
       "      <th>max_ip</th>\n",
       "      <th>dr</th>\n",
       "      <th>p</th>\n",
       "    </tr>\n",
       "  </thead>\n",
       "  <tbody>\n",
       "    <tr>\n",
       "      <th>count</th>\n",
       "      <td>106.000000</td>\n",
       "      <td>106.000000</td>\n",
       "      <td>106.000000</td>\n",
       "      <td>106.000000</td>\n",
       "      <td>106.000000</td>\n",
       "      <td>106.000000</td>\n",
       "      <td>106.000000</td>\n",
       "      <td>106.000000</td>\n",
       "      <td>106.000000</td>\n",
       "    </tr>\n",
       "    <tr>\n",
       "      <th>mean</th>\n",
       "      <td>784.251618</td>\n",
       "      <td>0.120133</td>\n",
       "      <td>0.114691</td>\n",
       "      <td>190.568642</td>\n",
       "      <td>7335.155162</td>\n",
       "      <td>23.473784</td>\n",
       "      <td>75.381258</td>\n",
       "      <td>166.710575</td>\n",
       "      <td>810.638127</td>\n",
       "    </tr>\n",
       "    <tr>\n",
       "      <th>std</th>\n",
       "      <td>753.950075</td>\n",
       "      <td>0.068596</td>\n",
       "      <td>0.101347</td>\n",
       "      <td>190.801448</td>\n",
       "      <td>18580.314213</td>\n",
       "      <td>23.354672</td>\n",
       "      <td>81.345838</td>\n",
       "      <td>181.309580</td>\n",
       "      <td>763.019135</td>\n",
       "    </tr>\n",
       "    <tr>\n",
       "      <th>min</th>\n",
       "      <td>103.000000</td>\n",
       "      <td>0.012392</td>\n",
       "      <td>-0.066323</td>\n",
       "      <td>19.647670</td>\n",
       "      <td>70.426239</td>\n",
       "      <td>1.595742</td>\n",
       "      <td>7.968783</td>\n",
       "      <td>-9.257696</td>\n",
       "      <td>124.978561</td>\n",
       "    </tr>\n",
       "    <tr>\n",
       "      <th>25%</th>\n",
       "      <td>250.000000</td>\n",
       "      <td>0.067413</td>\n",
       "      <td>0.043982</td>\n",
       "      <td>53.845470</td>\n",
       "      <td>409.647141</td>\n",
       "      <td>8.180321</td>\n",
       "      <td>26.893773</td>\n",
       "      <td>41.781258</td>\n",
       "      <td>270.215238</td>\n",
       "    </tr>\n",
       "    <tr>\n",
       "      <th>50%</th>\n",
       "      <td>384.936489</td>\n",
       "      <td>0.105418</td>\n",
       "      <td>0.086568</td>\n",
       "      <td>120.777303</td>\n",
       "      <td>2219.581163</td>\n",
       "      <td>16.133657</td>\n",
       "      <td>44.216040</td>\n",
       "      <td>97.832557</td>\n",
       "      <td>454.108153</td>\n",
       "    </tr>\n",
       "    <tr>\n",
       "      <th>75%</th>\n",
       "      <td>1487.989626</td>\n",
       "      <td>0.169602</td>\n",
       "      <td>0.166504</td>\n",
       "      <td>255.334809</td>\n",
       "      <td>7615.204968</td>\n",
       "      <td>30.953294</td>\n",
       "      <td>83.671755</td>\n",
       "      <td>232.990070</td>\n",
       "      <td>1301.559438</td>\n",
       "    </tr>\n",
       "    <tr>\n",
       "      <th>max</th>\n",
       "      <td>2800.000000</td>\n",
       "      <td>0.358316</td>\n",
       "      <td>0.467748</td>\n",
       "      <td>1063.441427</td>\n",
       "      <td>174480.476218</td>\n",
       "      <td>164.071543</td>\n",
       "      <td>436.099640</td>\n",
       "      <td>977.552367</td>\n",
       "      <td>2896.582483</td>\n",
       "    </tr>\n",
       "  </tbody>\n",
       "</table>\n",
       "</div>"
      ],
      "text/plain": [
       "                i0       pa500         hfs           da           area  \\\n",
       "count   106.000000  106.000000  106.000000   106.000000     106.000000   \n",
       "mean    784.251618    0.120133    0.114691   190.568642    7335.155162   \n",
       "std     753.950075    0.068596    0.101347   190.801448   18580.314213   \n",
       "min     103.000000    0.012392   -0.066323    19.647670      70.426239   \n",
       "25%     250.000000    0.067413    0.043982    53.845470     409.647141   \n",
       "50%     384.936489    0.105418    0.086568   120.777303    2219.581163   \n",
       "75%    1487.989626    0.169602    0.166504   255.334809    7615.204968   \n",
       "max    2800.000000    0.358316    0.467748  1063.441427  174480.476218   \n",
       "\n",
       "             a_da      max_ip          dr            p  \n",
       "count  106.000000  106.000000  106.000000   106.000000  \n",
       "mean    23.473784   75.381258  166.710575   810.638127  \n",
       "std     23.354672   81.345838  181.309580   763.019135  \n",
       "min      1.595742    7.968783   -9.257696   124.978561  \n",
       "25%      8.180321   26.893773   41.781258   270.215238  \n",
       "50%     16.133657   44.216040   97.832557   454.108153  \n",
       "75%     30.953294   83.671755  232.990070  1301.559438  \n",
       "max    164.071543  436.099640  977.552367  2896.582483  "
      ]
     },
     "execution_count": 62,
     "metadata": {},
     "output_type": "execute_result"
    }
   ],
   "source": [
    "df.describe()"
   ]
  },
  {
   "cell_type": "markdown",
   "metadata": {},
   "source": [
    "Data Transformation: Convert the values of \"new_class\" to numerical values using the LabelEncoder"
   ]
  },
  {
   "cell_type": "code",
   "execution_count": 64,
   "metadata": {},
   "outputs": [
    {
     "data": {
      "text/html": [
       "<div>\n",
       "<style scoped>\n",
       "    .dataframe tbody tr th:only-of-type {\n",
       "        vertical-align: middle;\n",
       "    }\n",
       "\n",
       "    .dataframe tbody tr th {\n",
       "        vertical-align: top;\n",
       "    }\n",
       "\n",
       "    .dataframe thead th {\n",
       "        text-align: right;\n",
       "    }\n",
       "</style>\n",
       "<table border=\"1\" class=\"dataframe\">\n",
       "  <thead>\n",
       "    <tr style=\"text-align: right;\">\n",
       "      <th></th>\n",
       "      <th>i0</th>\n",
       "      <th>pa500</th>\n",
       "      <th>hfs</th>\n",
       "      <th>da</th>\n",
       "      <th>area</th>\n",
       "      <th>a_da</th>\n",
       "      <th>max_ip</th>\n",
       "      <th>dr</th>\n",
       "      <th>p</th>\n",
       "      <th>new_class</th>\n",
       "      <th>new_class_labels</th>\n",
       "    </tr>\n",
       "  </thead>\n",
       "  <tbody>\n",
       "    <tr>\n",
       "      <th>67</th>\n",
       "      <td>145.000000</td>\n",
       "      <td>0.117635</td>\n",
       "      <td>0.110305</td>\n",
       "      <td>21.218942</td>\n",
       "      <td>82.455562</td>\n",
       "      <td>3.885941</td>\n",
       "      <td>20.303082</td>\n",
       "      <td>6.166715</td>\n",
       "      <td>162.510927</td>\n",
       "      <td>fmg</td>\n",
       "      <td>3</td>\n",
       "    </tr>\n",
       "    <tr>\n",
       "      <th>98</th>\n",
       "      <td>2329.840138</td>\n",
       "      <td>0.066148</td>\n",
       "      <td>0.353255</td>\n",
       "      <td>377.253368</td>\n",
       "      <td>25369.039925</td>\n",
       "      <td>67.246689</td>\n",
       "      <td>336.075165</td>\n",
       "      <td>171.387227</td>\n",
       "      <td>2686.435346</td>\n",
       "      <td>adi</td>\n",
       "      <td>0</td>\n",
       "    </tr>\n",
       "    <tr>\n",
       "      <th>80</th>\n",
       "      <td>1111.814068</td>\n",
       "      <td>0.098786</td>\n",
       "      <td>0.071209</td>\n",
       "      <td>386.987094</td>\n",
       "      <td>7659.742134</td>\n",
       "      <td>19.793275</td>\n",
       "      <td>86.025124</td>\n",
       "      <td>377.304504</td>\n",
       "      <td>990.978913</td>\n",
       "      <td>con</td>\n",
       "      <td>2</td>\n",
       "    </tr>\n",
       "    <tr>\n",
       "      <th>4</th>\n",
       "      <td>362.831266</td>\n",
       "      <td>0.200713</td>\n",
       "      <td>0.244346</td>\n",
       "      <td>124.912559</td>\n",
       "      <td>3290.462446</td>\n",
       "      <td>26.342127</td>\n",
       "      <td>69.389389</td>\n",
       "      <td>103.866552</td>\n",
       "      <td>424.796503</td>\n",
       "      <td>car</td>\n",
       "      <td>1</td>\n",
       "    </tr>\n",
       "    <tr>\n",
       "      <th>28</th>\n",
       "      <td>200.000000</td>\n",
       "      <td>0.037699</td>\n",
       "      <td>0.117286</td>\n",
       "      <td>42.316675</td>\n",
       "      <td>220.810907</td>\n",
       "      <td>5.218059</td>\n",
       "      <td>10.675764</td>\n",
       "      <td>40.947882</td>\n",
       "      <td>218.034313</td>\n",
       "      <td>fmg</td>\n",
       "      <td>3</td>\n",
       "    </tr>\n",
       "    <tr>\n",
       "      <th>96</th>\n",
       "      <td>1650.000000</td>\n",
       "      <td>0.047647</td>\n",
       "      <td>0.043284</td>\n",
       "      <td>274.426177</td>\n",
       "      <td>5824.895192</td>\n",
       "      <td>21.225727</td>\n",
       "      <td>81.239571</td>\n",
       "      <td>262.125656</td>\n",
       "      <td>1603.070348</td>\n",
       "      <td>adi</td>\n",
       "      <td>0</td>\n",
       "    </tr>\n",
       "    <tr>\n",
       "      <th>79</th>\n",
       "      <td>1496.736054</td>\n",
       "      <td>0.103847</td>\n",
       "      <td>0.082380</td>\n",
       "      <td>640.275950</td>\n",
       "      <td>11071.997798</td>\n",
       "      <td>17.292540</td>\n",
       "      <td>108.286919</td>\n",
       "      <td>631.052482</td>\n",
       "      <td>1178.274278</td>\n",
       "      <td>con</td>\n",
       "      <td>2</td>\n",
       "    </tr>\n",
       "    <tr>\n",
       "      <th>91</th>\n",
       "      <td>2350.000000</td>\n",
       "      <td>0.081507</td>\n",
       "      <td>0.271573</td>\n",
       "      <td>515.289477</td>\n",
       "      <td>27758.640261</td>\n",
       "      <td>53.869992</td>\n",
       "      <td>289.569061</td>\n",
       "      <td>426.231160</td>\n",
       "      <td>2457.676736</td>\n",
       "      <td>adi</td>\n",
       "      <td>0</td>\n",
       "    </tr>\n",
       "    <tr>\n",
       "      <th>25</th>\n",
       "      <td>243.293976</td>\n",
       "      <td>0.039968</td>\n",
       "      <td>0.067021</td>\n",
       "      <td>68.544778</td>\n",
       "      <td>383.928453</td>\n",
       "      <td>5.601134</td>\n",
       "      <td>9.991348</td>\n",
       "      <td>67.816656</td>\n",
       "      <td>263.640761</td>\n",
       "      <td>fmg</td>\n",
       "      <td>3</td>\n",
       "    </tr>\n",
       "    <tr>\n",
       "      <th>35</th>\n",
       "      <td>144.000000</td>\n",
       "      <td>0.120602</td>\n",
       "      <td>0.046077</td>\n",
       "      <td>19.647670</td>\n",
       "      <td>70.426239</td>\n",
       "      <td>3.584458</td>\n",
       "      <td>18.131014</td>\n",
       "      <td>7.569493</td>\n",
       "      <td>160.373770</td>\n",
       "      <td>fmg</td>\n",
       "      <td>3</td>\n",
       "    </tr>\n",
       "  </tbody>\n",
       "</table>\n",
       "</div>"
      ],
      "text/plain": [
       "             i0     pa500       hfs          da          area       a_da  \\\n",
       "67   145.000000  0.117635  0.110305   21.218942     82.455562   3.885941   \n",
       "98  2329.840138  0.066148  0.353255  377.253368  25369.039925  67.246689   \n",
       "80  1111.814068  0.098786  0.071209  386.987094   7659.742134  19.793275   \n",
       "4    362.831266  0.200713  0.244346  124.912559   3290.462446  26.342127   \n",
       "28   200.000000  0.037699  0.117286   42.316675    220.810907   5.218059   \n",
       "96  1650.000000  0.047647  0.043284  274.426177   5824.895192  21.225727   \n",
       "79  1496.736054  0.103847  0.082380  640.275950  11071.997798  17.292540   \n",
       "91  2350.000000  0.081507  0.271573  515.289477  27758.640261  53.869992   \n",
       "25   243.293976  0.039968  0.067021   68.544778    383.928453   5.601134   \n",
       "35   144.000000  0.120602  0.046077   19.647670     70.426239   3.584458   \n",
       "\n",
       "        max_ip          dr            p new_class  new_class_labels  \n",
       "67   20.303082    6.166715   162.510927       fmg                 3  \n",
       "98  336.075165  171.387227  2686.435346       adi                 0  \n",
       "80   86.025124  377.304504   990.978913       con                 2  \n",
       "4    69.389389  103.866552   424.796503       car                 1  \n",
       "28   10.675764   40.947882   218.034313       fmg                 3  \n",
       "96   81.239571  262.125656  1603.070348       adi                 0  \n",
       "79  108.286919  631.052482  1178.274278       con                 2  \n",
       "91  289.569061  426.231160  2457.676736       adi                 0  \n",
       "25    9.991348   67.816656   263.640761       fmg                 3  \n",
       "35   18.131014    7.569493   160.373770       fmg                 3  "
      ]
     },
     "execution_count": 64,
     "metadata": {},
     "output_type": "execute_result"
    }
   ],
   "source": [
    "##Using the label encode to create a new column called \"new_class_labels\" from \"new_class\"\n",
    "new_class = LabelEncoder()\n",
    "df[\"new_class_labels\"] = new_class.fit_transform(df['new_class'])\n",
    "df.sample(10)"
   ]
  },
  {
   "cell_type": "code",
   "execution_count": 69,
   "metadata": {},
   "outputs": [
    {
     "name": "stderr",
     "output_type": "stream",
     "text": [
      "c:\\users\\user\\appdata\\local\\programs\\python\\python37\\lib\\site-packages\\sklearn\\preprocessing\\_encoders.py:363: FutureWarning: The handling of integer data will change in version 0.22. Currently, the categories are determined based on the range [0, max(values)], while in the future they will be determined based on the unique values.\n",
      "If you want the future behaviour and silence this warning, you can specify \"categories='auto'\".\n",
      "In case you used a LabelEncoder before this OneHotEncoder to convert the categories to integers, then you can now use the OneHotEncoder directly.\n",
      "  warnings.warn(msg, FutureWarning)\n"
     ]
    },
    {
     "data": {
      "text/html": [
       "<div>\n",
       "<style scoped>\n",
       "    .dataframe tbody tr th:only-of-type {\n",
       "        vertical-align: middle;\n",
       "    }\n",
       "\n",
       "    .dataframe tbody tr th {\n",
       "        vertical-align: top;\n",
       "    }\n",
       "\n",
       "    .dataframe thead th {\n",
       "        text-align: right;\n",
       "    }\n",
       "</style>\n",
       "<table border=\"1\" class=\"dataframe\">\n",
       "  <thead>\n",
       "    <tr style=\"text-align: right;\">\n",
       "      <th></th>\n",
       "      <th>i0</th>\n",
       "      <th>pa500</th>\n",
       "      <th>hfs</th>\n",
       "      <th>da</th>\n",
       "      <th>area</th>\n",
       "      <th>a_da</th>\n",
       "      <th>max_ip</th>\n",
       "      <th>dr</th>\n",
       "      <th>p</th>\n",
       "      <th>new_class</th>\n",
       "      <th>new_class_labels</th>\n",
       "    </tr>\n",
       "  </thead>\n",
       "  <tbody>\n",
       "    <tr>\n",
       "      <th>3</th>\n",
       "      <td>380.000000</td>\n",
       "      <td>0.240855</td>\n",
       "      <td>0.286234</td>\n",
       "      <td>137.640111</td>\n",
       "      <td>5402.171180</td>\n",
       "      <td>39.248524</td>\n",
       "      <td>88.758446</td>\n",
       "      <td>105.198568</td>\n",
       "      <td>493.701814</td>\n",
       "      <td>car</td>\n",
       "      <td>1</td>\n",
       "    </tr>\n",
       "    <tr>\n",
       "      <th>33</th>\n",
       "      <td>301.304399</td>\n",
       "      <td>0.109781</td>\n",
       "      <td>0.035605</td>\n",
       "      <td>64.616200</td>\n",
       "      <td>942.773191</td>\n",
       "      <td>14.590353</td>\n",
       "      <td>29.045677</td>\n",
       "      <td>57.720030</td>\n",
       "      <td>335.768459</td>\n",
       "      <td>fmg</td>\n",
       "      <td>3</td>\n",
       "    </tr>\n",
       "    <tr>\n",
       "      <th>62</th>\n",
       "      <td>178.000000</td>\n",
       "      <td>0.149575</td>\n",
       "      <td>0.099135</td>\n",
       "      <td>40.290621</td>\n",
       "      <td>474.404699</td>\n",
       "      <td>11.774569</td>\n",
       "      <td>25.920828</td>\n",
       "      <td>30.845499</td>\n",
       "      <td>209.180738</td>\n",
       "      <td>fmg</td>\n",
       "      <td>3</td>\n",
       "    </tr>\n",
       "    <tr>\n",
       "      <th>45</th>\n",
       "      <td>121.000000</td>\n",
       "      <td>0.174184</td>\n",
       "      <td>0.090757</td>\n",
       "      <td>24.437180</td>\n",
       "      <td>144.466513</td>\n",
       "      <td>5.911750</td>\n",
       "      <td>22.021080</td>\n",
       "      <td>10.594708</td>\n",
       "      <td>141.766185</td>\n",
       "      <td>fmg</td>\n",
       "      <td>3</td>\n",
       "    </tr>\n",
       "    <tr>\n",
       "      <th>27</th>\n",
       "      <td>250.000000</td>\n",
       "      <td>0.068068</td>\n",
       "      <td>-0.015359</td>\n",
       "      <td>57.172431</td>\n",
       "      <td>652.901349</td>\n",
       "      <td>11.419863</td>\n",
       "      <td>17.776981</td>\n",
       "      <td>55.791270</td>\n",
       "      <td>278.308615</td>\n",
       "      <td>fmg</td>\n",
       "      <td>3</td>\n",
       "    </tr>\n",
       "  </tbody>\n",
       "</table>\n",
       "</div>"
      ],
      "text/plain": [
       "            i0     pa500       hfs          da         area       a_da  \\\n",
       "3   380.000000  0.240855  0.286234  137.640111  5402.171180  39.248524   \n",
       "33  301.304399  0.109781  0.035605   64.616200   942.773191  14.590353   \n",
       "62  178.000000  0.149575  0.099135   40.290621   474.404699  11.774569   \n",
       "45  121.000000  0.174184  0.090757   24.437180   144.466513   5.911750   \n",
       "27  250.000000  0.068068 -0.015359   57.172431   652.901349  11.419863   \n",
       "\n",
       "       max_ip          dr           p new_class  new_class_labels  \n",
       "3   88.758446  105.198568  493.701814       car                 1  \n",
       "33  29.045677   57.720030  335.768459       fmg                 3  \n",
       "62  25.920828   30.845499  209.180738       fmg                 3  \n",
       "45  22.021080   10.594708  141.766185       fmg                 3  \n",
       "27  17.776981   55.791270  278.308615       fmg                 3  "
      ]
     },
     "execution_count": 69,
     "metadata": {},
     "output_type": "execute_result"
    }
   ],
   "source": [
    "#Before you execute this cell, assess if it's important in this case to\n",
    "## convert the target variable to one-hot encoding\n",
    "new_class = OneHotEncoder()\n",
    "arr = new_class.fit_transform([df[\"new_class_labels\"]])\n",
    "df.sample(5)\n",
    "# arr.data"
   ]
  },
  {
   "cell_type": "code",
   "execution_count": 78,
   "metadata": {},
   "outputs": [
    {
     "name": "stderr",
     "output_type": "stream",
     "text": [
      "c:\\users\\user\\appdata\\local\\programs\\python\\python37\\lib\\site-packages\\sklearn\\preprocessing\\data.py:617: DataConversionWarning: Data with input dtype int32, float64 were all converted to float64 by StandardScaler.\n",
      "  return self.partial_fit(X, y)\n",
      "c:\\users\\user\\appdata\\local\\programs\\python\\python37\\lib\\site-packages\\sklearn\\base.py:462: DataConversionWarning: Data with input dtype int32, float64 were all converted to float64 by StandardScaler.\n",
      "  return self.fit(X, **fit_params).transform(X)\n"
     ]
    },
    {
     "data": {
      "text/html": [
       "<div>\n",
       "<style scoped>\n",
       "    .dataframe tbody tr th:only-of-type {\n",
       "        vertical-align: middle;\n",
       "    }\n",
       "\n",
       "    .dataframe tbody tr th {\n",
       "        vertical-align: top;\n",
       "    }\n",
       "\n",
       "    .dataframe thead th {\n",
       "        text-align: right;\n",
       "    }\n",
       "</style>\n",
       "<table border=\"1\" class=\"dataframe\">\n",
       "  <thead>\n",
       "    <tr style=\"text-align: right;\">\n",
       "      <th></th>\n",
       "      <th>i0</th>\n",
       "      <th>pa500</th>\n",
       "      <th>hfs</th>\n",
       "      <th>da</th>\n",
       "      <th>area</th>\n",
       "      <th>a_da</th>\n",
       "      <th>max_ip</th>\n",
       "      <th>dr</th>\n",
       "      <th>p</th>\n",
       "      <th>new_class</th>\n",
       "      <th>new_class_labels</th>\n",
       "    </tr>\n",
       "  </thead>\n",
       "  <tbody>\n",
       "    <tr>\n",
       "      <th>96</th>\n",
       "      <td>1.153738</td>\n",
       "      <td>-1.061714</td>\n",
       "      <td>-0.707924</td>\n",
       "      <td>0.441589</td>\n",
       "      <td>-0.081669</td>\n",
       "      <td>-0.096715</td>\n",
       "      <td>0.072359</td>\n",
       "      <td>0.528755</td>\n",
       "      <td>1.043482</td>\n",
       "      <td>adi</td>\n",
       "      <td>-1.526228</td>\n",
       "    </tr>\n",
       "  </tbody>\n",
       "</table>\n",
       "</div>"
      ],
      "text/plain": [
       "          i0     pa500       hfs        da      area      a_da    max_ip  \\\n",
       "96  1.153738 -1.061714 -0.707924  0.441589 -0.081669 -0.096715  0.072359   \n",
       "\n",
       "          dr         p new_class  new_class_labels  \n",
       "96  0.528755  1.043482       adi         -1.526228  "
      ]
     },
     "execution_count": 78,
     "metadata": {},
     "output_type": "execute_result"
    }
   ],
   "source": [
    "## Import standard scaler and standardize all numeric variables(which are not target variables)\n",
    "\n",
    "from sklearn.preprocessing import StandardScaler\n",
    "\n",
    "scaler=StandardScaler()\n",
    "df.loc[:,[\"i0\" ,\"pa500\" ,\"hfs\" ,\"da\",\"area\" ,\"a_da\" ,\"max_ip\" ,\"dr\",\"p\" ,\"new_class_labels\"]] = scaler.fit_transform(df.drop(columns='new_class'))\n",
    "df.sample()"
   ]
  },
  {
   "cell_type": "markdown",
   "metadata": {},
   "source": [
    "## Checkpoint: Before you move past this point, assess if there are any more data pre-processing activities you can do before you start modelling"
   ]
  },
  {
   "cell_type": "markdown",
   "metadata": {},
   "source": [
    "### Modelling the data"
   ]
  },
  {
   "cell_type": "markdown",
   "metadata": {},
   "source": [
    "Splitting the df dataframe into train and test"
   ]
  },
  {
   "cell_type": "code",
   "execution_count": 88,
   "metadata": {},
   "outputs": [],
   "source": [
    "x_train, x_test, y_train, y_test  = train_test_split(df.drop(columns=['new_class','new_class_labels']),df.new_class_labels,test_size=.20,random_state=5)"
   ]
  },
  {
   "cell_type": "code",
   "execution_count": 92,
   "metadata": {},
   "outputs": [
    {
     "name": "stdout",
     "output_type": "stream",
     "text": [
      "(84, 9) (22, 9)\n",
      "(84,) (22,)\n"
     ]
    },
    {
     "data": {
      "text/plain": [
       "(106, 11)"
      ]
     },
     "execution_count": 92,
     "metadata": {},
     "output_type": "execute_result"
    }
   ],
   "source": [
    "print(x_train.shape,x_test.shape)\n",
    "print(y_train.shape,y_test.shape)\n",
    "df.shape"
   ]
  },
  {
   "cell_type": "code",
   "execution_count": 95,
   "metadata": {},
   "outputs": [
    {
     "name": "stderr",
     "output_type": "stream",
     "text": [
      "c:\\users\\user\\appdata\\local\\programs\\python\\python37\\lib\\site-packages\\sklearn\\ensemble\\forest.py:248: FutureWarning: The default value of n_estimators will change from 10 in version 0.20 to 100 in 0.22.\n",
      "  \"10 in version 0.20 to 100 in 0.22.\", FutureWarning)\n"
     ]
    },
    {
     "ename": "ValueError",
     "evalue": "Unknown label type: 'continuous'",
     "output_type": "error",
     "traceback": [
      "\u001b[1;31m---------------------------------------------------------------------------\u001b[0m",
      "\u001b[1;31mValueError\u001b[0m                                Traceback (most recent call last)",
      "\u001b[1;32m<ipython-input-95-766ff326721a>\u001b[0m in \u001b[0;36m<module>\u001b[1;34m\u001b[0m\n\u001b[0;32m      1\u001b[0m \u001b[0mrf\u001b[0m \u001b[1;33m=\u001b[0m \u001b[0mRandomForestClassifier\u001b[0m\u001b[1;33m(\u001b[0m\u001b[1;33m)\u001b[0m\u001b[1;33m\u001b[0m\u001b[0m\n\u001b[0;32m      2\u001b[0m \u001b[0mdt\u001b[0m \u001b[1;33m=\u001b[0m \u001b[0mDecisionTreeClassifier\u001b[0m\u001b[1;33m(\u001b[0m\u001b[1;33m)\u001b[0m\u001b[1;33m\u001b[0m\u001b[0m\n\u001b[1;32m----> 3\u001b[1;33m \u001b[0mrf\u001b[0m\u001b[1;33m.\u001b[0m\u001b[0mfit\u001b[0m\u001b[1;33m(\u001b[0m\u001b[0mx_train\u001b[0m\u001b[1;33m,\u001b[0m\u001b[0my_train\u001b[0m\u001b[1;33m)\u001b[0m\u001b[1;33m\u001b[0m\u001b[0m\n\u001b[0m\u001b[0;32m      4\u001b[0m \u001b[0mdt\u001b[0m\u001b[1;33m.\u001b[0m\u001b[0mfit\u001b[0m\u001b[1;33m(\u001b[0m\u001b[0mx_train\u001b[0m\u001b[1;33m,\u001b[0m\u001b[0my_train\u001b[0m\u001b[1;33m)\u001b[0m\u001b[1;33m\u001b[0m\u001b[0m\n",
      "\u001b[1;32mc:\\users\\user\\appdata\\local\\programs\\python\\python37\\lib\\site-packages\\sklearn\\ensemble\\forest.py\u001b[0m in \u001b[0;36mfit\u001b[1;34m(self, X, y, sample_weight)\u001b[0m\n\u001b[0;32m    276\u001b[0m         \u001b[0mself\u001b[0m\u001b[1;33m.\u001b[0m\u001b[0mn_outputs_\u001b[0m \u001b[1;33m=\u001b[0m \u001b[0my\u001b[0m\u001b[1;33m.\u001b[0m\u001b[0mshape\u001b[0m\u001b[1;33m[\u001b[0m\u001b[1;36m1\u001b[0m\u001b[1;33m]\u001b[0m\u001b[1;33m\u001b[0m\u001b[0m\n\u001b[0;32m    277\u001b[0m \u001b[1;33m\u001b[0m\u001b[0m\n\u001b[1;32m--> 278\u001b[1;33m         \u001b[0my\u001b[0m\u001b[1;33m,\u001b[0m \u001b[0mexpanded_class_weight\u001b[0m \u001b[1;33m=\u001b[0m \u001b[0mself\u001b[0m\u001b[1;33m.\u001b[0m\u001b[0m_validate_y_class_weight\u001b[0m\u001b[1;33m(\u001b[0m\u001b[0my\u001b[0m\u001b[1;33m)\u001b[0m\u001b[1;33m\u001b[0m\u001b[0m\n\u001b[0m\u001b[0;32m    279\u001b[0m \u001b[1;33m\u001b[0m\u001b[0m\n\u001b[0;32m    280\u001b[0m         \u001b[1;32mif\u001b[0m \u001b[0mgetattr\u001b[0m\u001b[1;33m(\u001b[0m\u001b[0my\u001b[0m\u001b[1;33m,\u001b[0m \u001b[1;34m\"dtype\"\u001b[0m\u001b[1;33m,\u001b[0m \u001b[1;32mNone\u001b[0m\u001b[1;33m)\u001b[0m \u001b[1;33m!=\u001b[0m \u001b[0mDOUBLE\u001b[0m \u001b[1;32mor\u001b[0m \u001b[1;32mnot\u001b[0m \u001b[0my\u001b[0m\u001b[1;33m.\u001b[0m\u001b[0mflags\u001b[0m\u001b[1;33m.\u001b[0m\u001b[0mcontiguous\u001b[0m\u001b[1;33m:\u001b[0m\u001b[1;33m\u001b[0m\u001b[0m\n",
      "\u001b[1;32mc:\\users\\user\\appdata\\local\\programs\\python\\python37\\lib\\site-packages\\sklearn\\ensemble\\forest.py\u001b[0m in \u001b[0;36m_validate_y_class_weight\u001b[1;34m(self, y)\u001b[0m\n\u001b[0;32m    476\u001b[0m \u001b[1;33m\u001b[0m\u001b[0m\n\u001b[0;32m    477\u001b[0m     \u001b[1;32mdef\u001b[0m \u001b[0m_validate_y_class_weight\u001b[0m\u001b[1;33m(\u001b[0m\u001b[0mself\u001b[0m\u001b[1;33m,\u001b[0m \u001b[0my\u001b[0m\u001b[1;33m)\u001b[0m\u001b[1;33m:\u001b[0m\u001b[1;33m\u001b[0m\u001b[0m\n\u001b[1;32m--> 478\u001b[1;33m         \u001b[0mcheck_classification_targets\u001b[0m\u001b[1;33m(\u001b[0m\u001b[0my\u001b[0m\u001b[1;33m)\u001b[0m\u001b[1;33m\u001b[0m\u001b[0m\n\u001b[0m\u001b[0;32m    479\u001b[0m \u001b[1;33m\u001b[0m\u001b[0m\n\u001b[0;32m    480\u001b[0m         \u001b[0my\u001b[0m \u001b[1;33m=\u001b[0m \u001b[0mnp\u001b[0m\u001b[1;33m.\u001b[0m\u001b[0mcopy\u001b[0m\u001b[1;33m(\u001b[0m\u001b[0my\u001b[0m\u001b[1;33m)\u001b[0m\u001b[1;33m\u001b[0m\u001b[0m\n",
      "\u001b[1;32mc:\\users\\user\\appdata\\local\\programs\\python\\python37\\lib\\site-packages\\sklearn\\utils\\multiclass.py\u001b[0m in \u001b[0;36mcheck_classification_targets\u001b[1;34m(y)\u001b[0m\n\u001b[0;32m    169\u001b[0m     if y_type not in ['binary', 'multiclass', 'multiclass-multioutput',\n\u001b[0;32m    170\u001b[0m                       'multilabel-indicator', 'multilabel-sequences']:\n\u001b[1;32m--> 171\u001b[1;33m         \u001b[1;32mraise\u001b[0m \u001b[0mValueError\u001b[0m\u001b[1;33m(\u001b[0m\u001b[1;34m\"Unknown label type: %r\"\u001b[0m \u001b[1;33m%\u001b[0m \u001b[0my_type\u001b[0m\u001b[1;33m)\u001b[0m\u001b[1;33m\u001b[0m\u001b[0m\n\u001b[0m\u001b[0;32m    172\u001b[0m \u001b[1;33m\u001b[0m\u001b[0m\n\u001b[0;32m    173\u001b[0m \u001b[1;33m\u001b[0m\u001b[0m\n",
      "\u001b[1;31mValueError\u001b[0m: Unknown label type: 'continuous'"
     ]
    }
   ],
   "source": [
    "rf = RandomForestClassifier()\n",
    "dt = DecisionTreeClassifier()\n",
    "# rf.fit(x_train,y_train)\n",
    "dt.fit(x_train,y_train)"
   ]
  },
  {
   "cell_type": "code",
   "execution_count": null,
   "metadata": {},
   "outputs": [],
   "source": [
    "##making predictions using the RnadomForest regression model\n",
    "y_pred=logreg.predict(x_test)"
   ]
  },
  {
   "cell_type": "code",
   "execution_count": null,
   "metadata": {},
   "outputs": [],
   "source": [
    "##making predictions using the decision tree classifier\n",
    "y_pred=logreg.predict(x_test)"
   ]
  },
  {
   "cell_type": "markdown",
   "metadata": {},
   "source": [
    "### Evaluating the model"
   ]
  },
  {
   "cell_type": "code",
   "execution_count": null,
   "metadata": {},
   "outputs": [],
   "source": [
    "##Evaluating the Accuracy RandomForest Model\n",
    "metrics.accuracy_score(y_test,y_pred)\n",
    "\n",
    "##Evaluating the DecisionTreeClassifier Model\n",
    "metrics.accuracy_score(y_test,y_pred)"
   ]
  },
  {
   "cell_type": "code",
   "execution_count": null,
   "metadata": {},
   "outputs": [],
   "source": [
    "##Plot the confusion matrix for the RandomForest Model\n",
    "cm=confusion_matrix(y_test,y_pred)\n",
    "conf_matrix=pd.DataFrame(data=df,columns=['c1', 'c2'])\n",
    "\n",
    "plt.figure(figsize = (8,5))\n",
    "s.heatmap(conf_matrix, annot=True,fmt='d',cmap=\"YlGnBu\")"
   ]
  },
  {
   "cell_type": "code",
   "execution_count": null,
   "metadata": {},
   "outputs": [],
   "source": [
    "##Plot the confusion matrix for the DecisionTreeClassifier\n",
    "cm=confusion_matrix(y_test,y_pred)\n",
    "conf_matrix=pd.DataFrame(data=df,columns=['c1', 'c2'])\n",
    "plt.figure(figsize = (8,5))\n",
    "s.heatmap(conf_matrix, annot=True,fmt='d',cmap=\"YlGnBu\")"
   ]
  },
  {
   "cell_type": "code",
   "execution_count": null,
   "metadata": {},
   "outputs": [],
   "source": [
    "##Print the faeture importances of the RandomForest Model\n",
    "print(rf.feature_importance)"
   ]
  }
 ],
 "metadata": {
  "kernelspec": {
   "display_name": "Python 3",
   "language": "python",
   "name": "python3"
  },
  "language_info": {
   "codemirror_mode": {
    "name": "ipython",
    "version": 3
   },
   "file_extension": ".py",
   "mimetype": "text/x-python",
   "name": "python",
   "nbconvert_exporter": "python",
   "pygments_lexer": "ipython3",
   "version": "3.7.0"
  }
 },
 "nbformat": 4,
 "nbformat_minor": 2
}
