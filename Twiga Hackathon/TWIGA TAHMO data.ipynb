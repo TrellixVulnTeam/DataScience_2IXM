{
 "cells": [
  {
   "cell_type": "markdown",
   "metadata": {},
   "source": [
    "# TAHMO station data\n",
    "The following notebook elaborates on how to use the TWIGA API to retrieve and work with data from TAHMO stations."
   ]
  },
  {
   "cell_type": "code",
   "execution_count": null,
   "metadata": {},
   "outputs": [],
   "source": [
    "#############################\n",
    "# Load some libraries       #\n",
    "#############################\n",
    "import requests\n",
    "import json\n",
    "import datetime\n",
    "import pandas as pd\n",
    "import matplotlib\n",
    "import numpy as np\n",
    "\n",
    "# plot figures directly into the notebook\n",
    "%matplotlib inline"
   ]
  },
  {
   "cell_type": "code",
   "execution_count": null,
   "metadata": {},
   "outputs": [],
   "source": [
    "#############################\n",
    "# TWIGA API settings        #\n",
    "#############################\n",
    "\n",
    "# The HydroNET/TWIGA API endpoint\n",
    "api = 'https://hnapi.hydronet.com/api/'\n",
    "\n",
    "# The bearer token for the TWIGA user\n",
    "# this token is used to identify as a valid TWIGA user to the API\n",
    "api_token = 'eyJhbGciOiJSUzI1NiIsImtpZCI6ImIyY2I4NjU2NjNlY2RiYzEyMGZkOGViYzFkM2ExOGIwIiwidHlwIjoiSldUIn0.eyJuYmYiOjE1NzE4MzEzOTksImV4cCI6MTcyMzA2MjYyOSwiaXNzIjoiaHR0cHM6Ly9vaWRjLmh5ZHJvbmV0LmNvbSIsImF1ZCI6Imh0dHBzOi8vb2lkYy5oeWRyb25ldC5jb20vcmVzb3VyY2VzIiwiY2xpZW50X2lkIjoiaG40cy1wcm9kdWN0aW9uIiwiY2xpZW50X3Byb2ZpbGUiOiJwcm9maWxlIiwiY2xpZW50X2VtYWlsIjoiZW1haWwiLCJjbGllbnRfbmFtZSI6Im5hbWUiLCJjbGllbnRfc3RyaW5nIjoiaWRfdG9rZW4gdG9rZW4iLCJjbGllbnRfb2ZmbGluZV9hY2Nlc3MiOiJvZmZsaW5lX2FjY2VzcyIsInN1YiI6IjQzYmEwNjhjLTI3NzYtNDg1My1hYjc5LTIyMzIxMTE3NzZhMCIsImF1dGhfdGltZSI6MTU3MTgzMTM5OSwiaWRwIjoibG9jYWwiLCJqdGkiOiIyNTg1M2UwNjRjMGFhYjg2N2RmZTgyNjdjNzBmZTcyMCIsInNjb3BlIjpbIm9wZW5pZCIsInByb2ZpbGUiLCJvZmZsaW5lX2FjY2VzcyJdLCJhbXIiOlsicHdkIl19.PhkJ3SVi2ZjBEan9OlV9qpFAV3fqjsPQqQv-gk_ZtWlIuwTvoPMt5whwAa07opUNV5tO_-Jk4B8R-W9x2znMmzA_d9Bjyiwrwto3GgaUBBryXR-GIs21Dy1Hj62qUvUDpI07EQhGeq7SpxYeO0WdK_t-5U-3w3y9WNihvmcyfMsJukw9AOsSObEPUY6YUiTv71vbqKPQc55pbuPHpaDRHZITH0Nps3E_jrnwn9Aepz7B7MDVXyM_vU1Vb-MzAVZq03XvCf_YdWWxQUqPhbBVHcJjfzSQGrFl-8pGMLkHvcx1PgEnrxN9y7JS6tP_D7rZMBwA4vaiHXX5Z1XdBsvwYg'\n",
    "\n",
    "# Using the token, generate a valid header for requests to the API\n",
    "api_header = {'content-type': 'application/json', 'Authorization': 'bearer ' + api_token}\n"
   ]
  },
  {
   "cell_type": "markdown",
   "metadata": {},
   "source": [
    "# Accessing the available data sources\n",
    "The TWIGA api holds a lot of data. There are different data sources available, each containing relevant data for TWIGA. Using the API one can request data of any of the TWIGA data sources. If you know which datasource you are intersted in, you can direct request data from iw. However, often one of the first steps is to look into what data sources are available.\n",
    "\n",
    "Getting an overview of the different data sources can be done by sending a request to the 'datasources' endpoint of the TWIGA API."
   ]
  },
  {
   "cell_type": "code",
   "execution_count": null,
   "metadata": {},
   "outputs": [],
   "source": [
    "# an empty request which can be send to the TWIGA API\n",
    "datasource_metadata = {}\n",
    "\n",
    "# Send the request to the datasources endpoint of the API\n",
    "datasource_response = requests.post(api + 'entity/datasources/get', headers=api_header, data=json.dumps(datasource_metadata))\n",
    "\n",
    "# The response of the API is in JSON. Parse this with Python\n",
    "datasource_metadata = datasource_response.json()\n",
    "\n",
    "# print the result, as indented json\n",
    "print(json.dumps(datasource_metadata, indent=2))\n"
   ]
  },
  {
   "cell_type": "markdown",
   "metadata": {},
   "source": [
    "# Questions\n",
    "Question 1, How many datasources are available in the TWIGA platform?\n",
    "hint, use the len() function of python"
   ]
  },
  {
   "cell_type": "code",
   "execution_count": null,
   "metadata": {},
   "outputs": [],
   "source": [
    "# Answer space\n",
    "\n"
   ]
  },
  {
   "cell_type": "code",
   "execution_count": null,
   "metadata": {},
   "outputs": [],
   "source": [
    "# From the response of the TWIGA API we can see that \n",
    "# there are two TAHMO data sources\n",
    "# Tahmo.Stations.Data.Distribution.Hourly and Tahmo.Stations.Data.Distribution.Measurements\n",
    "\n",
    "# the first provides hourly values, the second provides higher resolution data (i.e. 5 minute intervals)\n",
    "\n",
    "# store the selected data source code\n",
    "selected_datasource_code = \"Tahmo.Stations.Data.Distribution.Hourly\""
   ]
  },
  {
   "cell_type": "code",
   "execution_count": null,
   "metadata": {},
   "outputs": [],
   "source": [
    "# json request to ask metadata of a single datasource\n",
    "request_metadata_tahmo = {\n",
    "     \"DataSourceCodes\": [selected_datasource_code]\n",
    "}\n",
    "\n",
    "# Send the request to the datasources endpoint of the API\n",
    "datasource_tahmo_response = requests.post(api + 'entity/datasources/get', headers=api_header, data=json.dumps(request_metadata_tahmo))\n",
    "\n",
    "# The response of the API is in JSON. Parse this with Python\n",
    "datasource_tahmo_metadata = datasource_tahmo_response.json()\n",
    "\n",
    "# print the result, as indented json\n",
    "print(json.dumps(datasource_tahmo_metadata, indent=2))"
   ]
  },
  {
   "cell_type": "code",
   "execution_count": null,
   "metadata": {},
   "outputs": [],
   "source": [
    "# TAHMO stations are spread over continental Africa\n",
    "# we can ask the available locations through the TWIGA API\n",
    "\n",
    "# again we define a JSON request which we can send the the TWIGA API\n",
    "request_locations_tahmo = {\n",
    "     \"DataSourceCodes\": [selected_datasource_code]\n",
    "}\n",
    "\n",
    "# This time we send the request to the variables endpoint of the API\n",
    "locations_tahmo_response = requests.post(api + 'entity/locations/get', headers=api_header, data=json.dumps(request_locations_tahmo))\n",
    "\n",
    "# The response of the API is in JSON. Parse this with Python\n",
    "locations_tahmo = locations_tahmo_response.json()\n",
    "\n",
    "# print the result, as indented json\n",
    "print(json.dumps(locations_tahmo, indent=2))\n"
   ]
  },
  {
   "cell_type": "markdown",
   "metadata": {},
   "source": [
    "# Question\n",
    "Question, How many TAHMO locations are available?\n",
    "\n",
    "Bonus, try and plot them on a map"
   ]
  },
  {
   "cell_type": "code",
   "execution_count": null,
   "metadata": {},
   "outputs": [],
   "source": [
    "# Answer space\n",
    "\n",
    "\n"
   ]
  },
  {
   "cell_type": "code",
   "execution_count": null,
   "metadata": {},
   "outputs": [],
   "source": [
    "# TAHMO stations can measure multiple variables\n",
    "# We can ask the API what variables are available\n",
    "\n",
    "# again we define a JSON request which we can send the the TWIGA API\n",
    "request_variables_tahmo = {\n",
    "     \"DataSourceCodes\": [selected_datasource_code]\n",
    "}\n",
    "\n",
    "# This time we send the request to the variables endpoint of the API\n",
    "variables_tahmo_response = requests.post(api + 'entity/variables/get', headers=api_header, data=json.dumps(request_variables_tahmo))\n",
    "\n",
    "# The response of the API is in JSON. Parse this with Python\n",
    "variables_tahmo = variables_tahmo_response.json()\n",
    "\n",
    "# print the result, as indented json\n",
    "print(json.dumps(variables_tahmo, indent=2))\n",
    "\n"
   ]
  },
  {
   "cell_type": "markdown",
   "metadata": {},
   "source": [
    "# Question\n",
    "How many variables are available?"
   ]
  },
  {
   "cell_type": "code",
   "execution_count": null,
   "metadata": {},
   "outputs": [],
   "source": [
    "# Lets try and retrieve precipitation data of a TAHMO station in Nairobi\n",
    "\n",
    "# Can you find the location code of the TAHMO station situated at the Kenya Meteorological Department in Nairobi\n",
    "tahmo_kmd_code = ?"
   ]
  },
  {
   "cell_type": "code",
   "execution_count": null,
   "metadata": {},
   "outputs": [],
   "source": [
    "# Try to retrieve data of this TAHMO stations\n",
    "request_tahmo_data = {\n",
    "    \"Readers\": [{\n",
    "        \"DataSourceCode\": selected_datasource_code,\n",
    "        \"Settings\": {\n",
    "            \"LocationCodes\": [tahmo_kmd_code],\n",
    "            \"VariableCodes\": [\"P\"],\n",
    "            \"StartDate\": \"20191101000000\",\n",
    "            \"EndDate\": \"20191109000000\",\n",
    "            \"StructureType\": \"TimeSeries\"\n",
    "        }\n",
    "    }]\n",
    "}\n",
    "\n",
    "# send the request to the TWIGA API, this time the modelTimeseries endpoint\n",
    "data_response = requests.post(api + 'data/get', headers=api_header, data=json.dumps(request_tahmo_data))\n",
    "\n",
    "# parse response into JSON object\n",
    "tahmo_data = data_response.json()\n",
    "\n",
    "# print the result, as indented json\n",
    "print(json.dumps(tahmo_data, indent=2))"
   ]
  },
  {
   "cell_type": "code",
   "execution_count": null,
   "metadata": {},
   "outputs": [],
   "source": [
    "# the result is a nested JSON object, it contains both the meta data and the actual data of interest\n",
    "# the actual data can be found in the 'Data' part of the JSON\n",
    "# it can be ingested into a pandas dataframe\n",
    "\n",
    "tahmo_data_df = pd.DataFrame(tahmo_data['Data'][0]['Data'])\n",
    "\n",
    "# convert the DateTime from string into datetime objects\n",
    "tahmo_data_df['DateTime'] = pd.to_datetime(tahmo_data_df['DateTime'])\n",
    "\n",
    "print(tahmo_data_df)"
   ]
  },
  {
   "cell_type": "code",
   "execution_count": null,
   "metadata": {},
   "outputs": [],
   "source": [
    "# rename the Value column to the name of the variable\n",
    "tahmo_data_df = tahmo_data_df.rename(columns={\"Value\": \"P\"})\n",
    "\n",
    "# we can use this data frame to create a plot of the data\n",
    "tahmo_data_df.plot(kind='line', x='DateTime', y=\"P\", color='red')"
   ]
  },
  {
   "cell_type": "code",
   "execution_count": null,
   "metadata": {},
   "outputs": [],
   "source": [
    "# We can also store this data to your local computer in a csv file\n",
    "# please adjust the path in the command below to a valid location, to a valid location on your computer\n",
    "\n",
    "# we can now save the data to a csv file on your local computer\n",
    "tahmo_data_df.to_csv(\"C:/Temp/tahmo_precipitation_kmd.csv\",index=False)\n"
   ]
  },
  {
   "cell_type": "markdown",
   "metadata": {},
   "source": [
    "# Questions\n",
    "Can you retrieve data from different variables, say Soil Moisture and Temperature?\n",
    "\n",
    "What is the mean wind speed measured at this station?"
   ]
  },
  {
   "cell_type": "code",
   "execution_count": null,
   "metadata": {},
   "outputs": [],
   "source": [
    "# answer space\n",
    "\n",
    "\n"
   ]
  },
  {
   "cell_type": "markdown",
   "metadata": {},
   "source": [
    "# Questions\n",
    "\n",
    "Can you get data from a TAHMO station but now the high resolution (5 minute) data\n",
    "\n",
    "If you have already worked on the notebook on the Unified Model data:\n",
    "Try and compare the measured precipitation on a TAHMO station with data from the Saws Satellite product."
   ]
  },
  {
   "cell_type": "code",
   "execution_count": null,
   "metadata": {},
   "outputs": [],
   "source": []
  }
 ],
 "metadata": {
  "kernelspec": {
   "display_name": "Python 3",
   "language": "python",
   "name": "python3"
  },
  "language_info": {
   "codemirror_mode": {
    "name": "ipython",
    "version": 3
   },
   "file_extension": ".py",
   "mimetype": "text/x-python",
   "name": "python",
   "nbconvert_exporter": "python",
   "pygments_lexer": "ipython3",
   "version": "3.7.0"
  }
 },
 "nbformat": 4,
 "nbformat_minor": 2
}
