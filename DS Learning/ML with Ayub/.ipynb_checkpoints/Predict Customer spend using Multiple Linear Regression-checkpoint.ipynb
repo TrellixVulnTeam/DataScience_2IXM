{
 "cells": [
  {
   "cell_type": "markdown",
   "metadata": {},
   "source": [
    "# Workbench\n",
    "\n",
    "**Importing the required libraries**"
   ]
  },
  {
   "cell_type": "code",
   "execution_count": null,
   "metadata": {},
   "outputs": [],
   "source": [
    "# Import the numpy and pandas package\n",
    "import numpy as np\n",
    "import pandas as pd\n",
    "\n",
    "# Data Visualisation\n",
    "import matplotlib.pyplot as plt\n",
    "import seaborn as sns\n",
    "\n",
    "# Import the warnings\n",
    "import warnings\n",
    "\n",
    "# Import statsmodels\n",
    "import statsmodels.formula.api as smf\n",
    "\n",
    "# Import RMSE\n",
    "from statsmodels.tools.eval_measures import rmse\n",
    "\n",
    "# Import Linear Regression from scikit-learn\n",
    "from sklearn.linear_model import LinearRegression\n",
    "\n",
    "# Import Polynomial Features\n",
    "from sklearn.preprocessing import PolynomialFeatures\n",
    "\n",
    "# Import Metrics\n",
    "from sklearn.metrics import mean_squared_error, r2_score\n",
    "\n",
    "# configuration settings\n",
    "%matplotlib inline\n",
    "sns.set(color_codes=True)\n",
    "warnings.filterwarnings('ignore') ## Surpress the warnings"
   ]
  },
  {
   "cell_type": "markdown",
   "metadata": {},
   "source": [
    "**Load the data into a dataframe**"
   ]
  },
  {
   "cell_type": "code",
   "execution_count": null,
   "metadata": {},
   "outputs": [],
   "source": [
    "# load the data into a dataframe called supermarket_till_transactions_df\n",
    "supermarket_till_transactions_df = pd.read_csv(\"\")"
   ]
  },
  {
   "cell_type": "code",
   "execution_count": null,
   "metadata": {},
   "outputs": [],
   "source": [
    "# view the top five records\n",
    "supermarket_till_transactions_df.head(5)"
   ]
  },
  {
   "cell_type": "markdown",
   "metadata": {},
   "source": [
    "In order to illustrate Multiple Linear Regression we just need two variables which are:\n",
    "1. SHOP_WEEKDAY\n",
    "2. SHOP_HOUR\n",
    "3. QUANTITY\n",
    "4. SPEND"
   ]
  },
  {
   "cell_type": "code",
   "execution_count": null,
   "metadata": {},
   "outputs": [],
   "source": [
    "supermarket_till_transactions_df = supermarket_till_transactions_df[[\"SHOP_WEEKDAY\",\"SHOP_H\n",
    "supermarket_till_transactions_df.head(5)"
   ]
  },
  {
   "cell_type": "markdown",
   "metadata": {},
   "source": [
    "**Using statsmodel**\n",
    "\n",
    "Simple linear regression can easily be extended to include multiple features. This is called multiple linear\n",
    "regression:\n",
    "    \n",
    "$y = β_0 + β_1 x_1 +. . . +β_n x_n $\n",
    "\n",
    "Each $x$ represents a different feature, and each feature has its own coefficient. In this case:\n",
    "\n",
    "$y = β_0  + β_1  × SHOPWEEKDAY + β_2  × SHOPHOUR + β_3  × QUANTITY$\n",
    "\n",
    "Let's use Statsmodels to estimate these coefficients:"
   ]
  },
  {
   "cell_type": "code",
   "execution_count": null,
   "metadata": {},
   "outputs": [],
   "source": [
    "# Initialise and fit linear regression model using `statsmodels`\n",
    "stats_model = smf.ols('SPEND ~ SHOP_WEEKDAY + SHOP_HOUR + QUANTITY', data=supermarket_till_\n",
    "stats_model = stats_model.fit()"
   ]
  },
  {
   "cell_type": "markdown",
   "metadata": {},
   "source": [
    "We no longer have to calculate alpha and beta ourselves as this method does it automatically for us! Calling\n",
    "model.params will show us the model’s parameters:"
   ]
  },
  {
   "cell_type": "code",
   "execution_count": null,
   "metadata": {},
   "outputs": [],
   "source": [
    "stats_model.params"
   ]
  },
  {
   "cell_type": "markdown",
   "metadata": {},
   "source": [
    "From the results above:\n",
    "1. $β_0 = 366.8018$ - This is the y intercept when $x$ is zero\n",
    "2. $β_1 = -18.779187$ - This is the regression coefficient that measures a unit change in SPEND when\n",
    "SHOP_WEEKDAY changes\n",
    "3. $β_2 = -12.306012$ - This is the regression coefficient that measures a unit change in SPEND when\n",
    "SHOP_HOUR changes\n",
    "4. $β_3 = 53.434573$ - This is the regression coefficient that measures a unit change in SPEND when\n",
    "QUANTITY changes"
   ]
  },
  {
   "cell_type": "code",
   "execution_count": null,
   "metadata": {},
   "outputs": [],
   "source": [
    "# print a summary of the fitted model\n",
    "stats_model.summary()"
   ]
  },
  {
   "cell_type": "markdown",
   "metadata": {},
   "source": [
    "**R Squared**\n",
    "\n",
    "**The Coefficient of determination, R-Squared** – This is used to measure how much of the variation in the\n",
    "outcome can be explained by the variation in the independent variables. R-Squared always increases as more\n",
    "predictors are added to the MLR model even though the predictors may not be related to the outcome variable.\n",
    "\n",
    "R2 by itself can't thus be used to identify which predictors should be included in a model and which should be\n",
    "excluded. R2 can only be between 0 and 1, where 0 indicates that the outcome cannot be predicted by any of\n",
    "the independent variables and 1 indicates that the outcome can be predicted without error from the independent\n",
    "variables."
   ]
  },
  {
   "cell_type": "code",
   "execution_count": null,
   "metadata": {},
   "outputs": [],
   "source": [
    "# print the R-squared value for the model\n",
    "stats_model.rsquared"
   ]
  },
  {
   "cell_type": "markdown",
   "metadata": {},
   "source": [
    "**This means that <font color=red>12.025%</font> of the SPEND can be explained by SHOP_WEEKDAY, SHOP_HOUR and\n",
    "QUANTITY**\n",
    "\n",
    "**Adjusted R-Squared**\n",
    "\n",
    "When we add more predictor variables into the equation, R-Squared will always increase making R-Squared\n",
    "not accurate as the number of predictor variables increases.\n",
    "\n",
    "Adjusted R-Squared, accounts for the increase of the predictor variables.\n",
    "\n",
    "Because of the nature of the equation, the adjusted R-Squared should always be lower or equal to the RSquared"
   ]
  },
  {
   "cell_type": "code",
   "execution_count": null,
   "metadata": {},
   "outputs": [],
   "source": [
    "# print the Adjusted R-squared value for the model\n",
    "stats_model.rsquared_adj"
   ]
  },
  {
   "cell_type": "markdown",
   "metadata": {},
   "source": [
    "**Perform the prediction**"
   ]
  },
  {
   "cell_type": "code",
   "execution_count": null,
   "metadata": {},
   "outputs": [],
   "source": [
    "new_shop_weekday = 1\n",
    "new_shop_hour = 18\n",
    "new_quantity = 2\n",
    "stats_model_ypred = stats_model.predict({\"SHOP_WEEKDAY\": new_shop_weekday,\"SHOP_HOUR\": new_"
   ]
  },
  {
   "cell_type": "markdown",
   "metadata": {},
   "source": [
    "**RMSE**\n",
    "\n",
    "The root-mean-square error (RMSE) is a frequently used measure of the differences between values (sample\n",
    "and population values) predicted by a model and the values actually observed\n",
    "\n",
    "The smaller the value the better"
   ]
  },
  {
   "cell_type": "code",
   "execution_count": null,
   "metadata": {},
   "outputs": [],
   "source": [
    "# calc rmse\n",
    "stats_model_rmse = rmse(y, stats_model_ypred)\n",
    "stats_model_rmse"
   ]
  },
  {
   "cell_type": "markdown",
   "metadata": {},
   "source": [
    "**_Confidence in the model_**\n",
    "\n",
    "A confidence interval gives an estimated range of values which is likely to include an unknown population\n",
    "parameter, the estimated range being calculated from a given set of sample data.\n",
    "\n",
    "A confidence interval is how much uncertainty there is with any particular statistic. Confidence intervals are\n",
    "often used with a margin of error. It tells you how confident you can be that the results reflect what you would\n",
    "expect to find if it were possible to study the entire population."
   ]
  },
  {
   "cell_type": "code",
   "execution_count": null,
   "metadata": {},
   "outputs": [],
   "source": [
    "# print the confidence intervals for the model coefficients\n",
    "stats_model.conf_int()"
   ]
  },
  {
   "cell_type": "markdown",
   "metadata": {},
   "source": [
    "**_Hypothesis Testing and P-Values_**\n",
    "\n",
    "**p-values** tell you how statistically significant the variable is. Removing variables with high p-values can cause\n",
    "your accuracy/R squared to increase, and even the p-values of the other variables to increase as well — and\n",
    "that’s a good sign."
   ]
  },
  {
   "cell_type": "code",
   "execution_count": null,
   "metadata": {},
   "outputs": [],
   "source": [
    "# print the p-values for the model coefficients\n",
    "stats_model.pvalues"
   ]
  },
  {
   "cell_type": "markdown",
   "metadata": {},
   "source": [
    "**Using scikit-learn**"
   ]
  },
  {
   "cell_type": "code",
   "execution_count": null,
   "metadata": {},
   "outputs": [],
   "source": [
    "# Build linear regression model using SHOP_WEEKDAY,SHOP_HOUR and QUANTITY as predictors\n",
    "# Split data into predictors X and output Y\n",
    "predictors = ['SHOP_WEEKDAY', 'SHOP_HOUR', 'QUANTITY']\n",
    "X = supermarket_till_transactions_df[predictors]\n",
    "y = supermarket_till_transactions_df['SPEND']\n",
    "\n",
    "# Initialise and fit model\n",
    "lm = LinearRegression()\n",
    "scikit_model = lm.fit(X, y)"
   ]
  },
  {
   "cell_type": "code",
   "execution_count": null,
   "metadata": {},
   "outputs": [],
   "source": [
    "print(f'alpha = {scikit_model.intercept_}')\n",
    "print(f'betas = {scikit_model.coef_}')"
   ]
  },
  {
   "cell_type": "markdown",
   "metadata": {},
   "source": [
    "Therefore, our model can be written as:\n",
    "\n",
    "SPEND = 366.802 + (-18.779SHOP_WEEKDAY) + (-12.306SHOP_HOUR) + (53.435*QUANTITY)\n",
    "\n",
    "We can predict values by simply using .predict():"
   ]
  },
  {
   "cell_type": "code",
   "execution_count": null,
   "metadata": {},
   "outputs": [],
   "source": [
    "new_X = [[1, 18, 2]] # Sunday 6pm buying 2 items\n",
    "scikit_learn_ypred = scikit_model.predict(new_X)"
   ]
  },
  {
   "cell_type": "markdown",
   "metadata": {},
   "source": [
    "**Calculate the RMSE when scikit learn is used**"
   ]
  },
  {
   "cell_type": "code",
   "execution_count": null,
   "metadata": {},
   "outputs": [],
   "source": [
    "# calc rmse\n",
    "scikit_learn_rmse = rmse(y, scikit_learn_ypred)\n",
    "scikit_learn_rmse"
   ]
  },
  {
   "cell_type": "markdown",
   "metadata": {},
   "source": [
    "**This means that anyone buying 2 items at 6pm on sunday is most likely to spend 233.38 Shillings.**"
   ]
  },
  {
   "cell_type": "code",
   "execution_count": null,
   "metadata": {},
   "outputs": [],
   "source": []
  }
 ],
 "metadata": {
  "kernelspec": {
   "display_name": "Python 3",
   "language": "python",
   "name": "python3"
  },
  "language_info": {
   "codemirror_mode": {
    "name": "ipython",
    "version": 3
   },
   "file_extension": ".py",
   "mimetype": "text/x-python",
   "name": "python",
   "nbconvert_exporter": "python",
   "pygments_lexer": "ipython3",
   "version": "3.7.0"
  }
 },
 "nbformat": 4,
 "nbformat_minor": 2
}
