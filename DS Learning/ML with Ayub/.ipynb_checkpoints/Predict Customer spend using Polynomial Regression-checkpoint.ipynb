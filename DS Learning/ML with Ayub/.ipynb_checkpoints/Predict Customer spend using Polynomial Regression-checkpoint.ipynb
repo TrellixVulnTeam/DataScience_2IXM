{
 "cells": [
  {
   "cell_type": "markdown",
   "metadata": {},
   "source": [
    "# Workbench\n",
    "\n",
    "**Importing the required libraries**"
   ]
  },
  {
   "cell_type": "code",
   "execution_count": null,
   "metadata": {},
   "outputs": [],
   "source": [
    "# Import the numpy and pandas package\n",
    "import numpy as np\n",
    "import pandas as pd\n",
    "\n",
    "# Import Standard operations\n",
    "import operator\n",
    "\n",
    "# Data Visualisation\n",
    "import matplotlib.pyplot as plt\n",
    "import seaborn as sns\n",
    "\n",
    "# Import the warnings\n",
    "import warnings\n",
    "\n",
    "# Import statsmodels\n",
    "import statsmodels.formula.api as smf\n",
    "import statsmodels.api as sm\n",
    "from statsmodels.sandbox.regression.predstd import wls_prediction_std\n",
    "\n",
    "# Import RMSE\n",
    "from statsmodels.tools.eval_measures import rmse\n",
    "\n",
    "# Imort Linear Regression from scikit-learn\n",
    "from sklearn.linear_model import LinearRegression\n",
    "\n",
    "# Import Polynomial Features\n",
    "from sklearn.preprocessing import PolynomialFeatures\n",
    "\n",
    "# Import the Train Test Split capability from sk-learn\n",
    "from sklearn.model_selection import train_test_split\n",
    "\n",
    "# Import the metrics\n",
    "from sklearn.metrics import mean_squared_error, r2_score\n",
    "\n",
    "# configuration settings\n",
    "%matplotlib inline\n",
    "sns.set(color_codes=True)\n",
    "warnings.filterwarnings('ignore') ## Surpress the warnings"
   ]
  },
  {
   "cell_type": "markdown",
   "metadata": {},
   "source": [
    "**Load the data into a dataframe**"
   ]
  },
  {
   "cell_type": "code",
   "execution_count": null,
   "metadata": {},
   "outputs": [],
   "source": [
    "load the data into a dataframe called supermarket_till_transactions_df\n",
    "supermarket_till_transactions_df = pd.read_csv(\"\")"
   ]
  },
  {
   "cell_type": "code",
   "execution_count": null,
   "metadata": {},
   "outputs": [],
   "source": [
    "# view the top five records\n",
    "supermarket_till_transactions_df.head(5)"
   ]
  },
  {
   "cell_type": "markdown",
   "metadata": {},
   "source": [
    "In order to illustrate Polynomial Linear Regression we just need two variables which are:\n",
    "1. SHOP_HOUR\n",
    "2. SPEND"
   ]
  },
  {
   "cell_type": "code",
   "execution_count": null,
   "metadata": {},
   "outputs": [],
   "source": [
    "supermarket_till_transactions_df = supermarket_till_transactions_df[[\"SHOP_HOUR\",\"SPEND\"]]\n",
    "supermarket_till_transactions_df.head(5)"
   ]
  },
  {
   "cell_type": "markdown",
   "metadata": {},
   "source": [
    "**Visualize the linear regression and compare to polynomial regression line**"
   ]
  },
  {
   "cell_type": "code",
   "execution_count": null,
   "metadata": {},
   "outputs": [],
   "source": [
    "x = supermarket_till_transactions_df.iloc[:,:-1].values\n",
    "y = supermarket_till_transactions_df.iloc[:,-1].values"
   ]
  },
  {
   "cell_type": "markdown",
   "metadata": {},
   "source": [
    "**Display the Linear Regression Line**"
   ]
  },
  {
   "cell_type": "code",
   "execution_count": null,
   "metadata": {},
   "outputs": [],
   "source": [
    "linear_regression_model = LinearRegression()\n",
    "linear_regression_model.fit(x, y)\n",
    "y_pred = linear_regression_model.predict(x)\n",
    "\n",
    "linear_rmse = np.sqrt(mean_squared_error(y,y_pred))\n",
    "linear_r2 = r2_score(y,y_pred)\n",
    "\n",
    "# Visualizing the Linear Regression results\n",
    "def display_linear_regression():\n",
    "    plt.scatter(x, y, s=10)\n",
    "    plt.plot(x, y_pred, color='r')\n",
    "    plt.title('Linear Regression')\n",
    "    plt.xlabel('SHOP Hour')\n",
    "    plt.ylabel('SPEND')\n",
    "    plt.show()\n",
    "    return"
   ]
  },
  {
   "cell_type": "code",
   "execution_count": null,
   "metadata": {},
   "outputs": [],
   "source": [
    "# Plot the Line regression line\n",
    "display_linear_regression()"
   ]
  },
  {
   "cell_type": "markdown",
   "metadata": {},
   "source": [
    "**Calculate the RMSE**\n",
    "\n",
    "We can see that the straight line is unable to capture the patterns in the data. Which shows it is an example of\n",
    "under-fitting\n",
    "\n",
    "To overcome the under-fitting, we need to increase the complexity of the model"
   ]
  },
  {
   "cell_type": "code",
   "execution_count": null,
   "metadata": {},
   "outputs": [],
   "source": [
    "print(\"The RMSE is : {} \".format(linear_rmse))\n",
    "print(\"The R-Squared is : {} \".format(linear_r2))"
   ]
  },
  {
   "cell_type": "markdown",
   "metadata": {},
   "source": [
    "To generate a higher order equation we can add powers of the original features as new features and thus the\n",
    "linear model\n",
    "\n",
    "$             Y = \\theta_0 + \\theta_1x $\n",
    "\n",
    "can be transformed to\n",
    "\n",
    "$            Y = \\theta_0 + \\theta_1x +\\theta_2x^2 $\n",
    "\n",
    "To convert the original features into their higher order terms we will use the PolynomialFeatures class provided\n",
    "by scikit-learn and then train using Linear Regression\n",
    "\n",
    "**Display the Polynomial Regression Line**"
   ]
  },
  {
   "cell_type": "code",
   "execution_count": null,
   "metadata": {},
   "outputs": [],
   "source": [
    "polynomial_features= PolynomialFeatures(degree=5)\n",
    "x_poly = polynomial_features.fit_transform(x)\n",
    "\n",
    "polynomial_regression_model = LinearRegression()\n",
    "polynomial_regression_model.fit(x_poly, y)\n",
    "y_poly_pred = polynomial_regression_model.predict(x_poly)\n",
    "\n",
    "polynomial_regression_rmse = np.sqrt(mean_squared_error(y,y_poly_pred))\n",
    "polynomial_regression_r2 = r2_score(y,y_poly_pred)\n",
    "\n",
    "plt.scatter(x, y, s=10)\n",
    "\n",
    "# sort the values of x before line plot\n",
    "sort_axis = operator.itemgetter(0)\n",
    "sorted_zip = sorted(zip(x,y_poly_pred), key=sort_axis)\n",
    "x, y_poly_pred = zip(*sorted_zip)\n",
    "plt.plot(x, y_poly_pred, color='r')\n",
    "plt.title('Poplynomial Regression')\n",
    "plt.xlabel('SHOP HOUR')\n",
    "plt.ylabel('SPEND')\n",
    "plt.show()"
   ]
  },
  {
   "cell_type": "markdown",
   "metadata": {},
   "source": [
    "**Calculate the RMSE**\n",
    "\n",
    "We can see that the line is tries to capture as many data points as possible and when we check the R-Squared\n",
    "value it should increase.\n",
    "\n",
    "It is quite clear the new line tries to fit it better than the linear one."
   ]
  },
  {
   "cell_type": "code",
   "execution_count": null,
   "metadata": {},
   "outputs": [],
   "source": [
    "print(\"The RMSE is : {} \".format(polynomial_regression_rmse))\n",
    "print(\"The R-Squared is : {} \".format(polynomial_regression_r2))"
   ]
  },
  {
   "cell_type": "markdown",
   "metadata": {},
   "source": [
    "We can see that the RMSE has decreased and the R-Squared has increased as compared to the linear\n",
    "regression model\n",
    "\n",
    "Using statsmodel\n",
    "\n",
    "Simple linear regression can easily be extended to include multiple features. This is called multiple linear\n",
    "regression:\n",
    "\n",
    "$y = β_0 + β_1x_1+. . . +β_nx_n$\n",
    "\n",
    "Each $x$ represents a different feature, and each feature has its own coefficient. In this case:\n",
    "\n",
    "$y = β_0 + β_1 × SHOPHOUR$\n",
    "\n",
    "Let's use Statsmodels to estimate these coefficients:"
   ]
  },
  {
   "cell_type": "code",
   "execution_count": null,
   "metadata": {},
   "outputs": [],
   "source": [
    "# Initialise and fit linear regression model using `statsmodels`\n",
    "polynomial_features= PolynomialFeatures(degree=5)\n",
    "xp = polynomial_features.fit_transform(x)\n",
    "xp.shape"
   ]
  },
  {
   "cell_type": "code",
   "execution_count": null,
   "metadata": {},
   "outputs": [],
   "source": [
    "stats_model = sm.OLS(y, xp).fit()\n",
    "ypred = stats_model.predict(xp)\n",
    "ypred.shape"
   ]
  },
  {
   "cell_type": "code",
   "execution_count": null,
   "metadata": {},
   "outputs": [],
   "source": [
    "plt.scatter(x,y)\n",
    "plt.plot(x, ypred, color='r')\n",
    "plt.title('Polynomial Regression (Using statsmodel) ')\n",
    "plt.xlabel('SHOP HOUR')\n",
    "plt.ylabel('SPEND')"
   ]
  },
  {
   "cell_type": "markdown",
   "metadata": {},
   "source": [
    "**Plotting the upper and lower confidence intervals**"
   ]
  },
  {
   "cell_type": "code",
   "execution_count": null,
   "metadata": {},
   "outputs": [],
   "source": [
    "_, upper,lower = wls_prediction_std(stats_model)\n",
    "\n",
    "plt.scatter(x,y)\n",
    "plt.plot(x,ypred)\n",
    "plt.plot(x,upper,'--',label=\"Upper\") # confid. intrvl\n",
    "plt.plot(x,lower,':',label=\"lower\")\n",
    "plt.legend(loc='upper left')"
   ]
  },
  {
   "cell_type": "code",
   "execution_count": null,
   "metadata": {},
   "outputs": [],
   "source": [
    "stats_model.summary()"
   ]
  },
  {
   "cell_type": "markdown",
   "metadata": {},
   "source": [
    "Warnings:\n",
    "\n",
    "[1] Standard Errors assume that the covariance matrix of the errors is correctly specified.\n",
    "\n",
    "[2] The condition number is large, 1.57e+09. This might indicate that there are\n",
    "strong multicollinearity or other numerical problems."
   ]
  },
  {
   "cell_type": "markdown",
   "metadata": {},
   "source": [
    "We no longer have to calculate alpha and beta ourselves as this method does it automatically for us! Calling\n",
    "model.params will show us the model’s parameters:\n",
    "\n",
    "From the results above:\n",
    "\n",
    "1. $β_0 = 366.8018$ - This is the y intercept when $x$ is zero\n",
    "2. $β_2 = -12.306012$ - This is the regression coefficient that measures a unit change in SPEND when SHOP_HOUR changes\n",
    "\n",
    "**R Squared**\n",
    "\n",
    "**The Coefficient of determination, R-Squared** – This is used to measure how much of the variation in the\n",
    "outcome can be explained by the variation in the independent variables. R-Squared always increases as more\n",
    "predictors are added to the **MLR** model even though the predictors may not be related to the outcome variable.\n",
    "\n",
    "R2 by itself can't thus be used to identify which predictors should be included in a model and which should be\n",
    "excluded. R2 can only be between 0 and 1, where 0 indicates that the outcome cannot be predicted by any of\n",
    "the independent variables and 1 indicates that the outcome can be predicted without error from the independent\n",
    "variables."
   ]
  },
  {
   "cell_type": "code",
   "execution_count": null,
   "metadata": {},
   "outputs": [],
   "source": [
    "# print the R-squared value for the model\n",
    "stats_model.rsquared"
   ]
  },
  {
   "cell_type": "markdown",
   "metadata": {},
   "source": [
    "**This means that <font color=red>8.62%</font> of the SPEND can be explained by SHOP_HOUR**\n",
    "\n",
    "**Adjusted R-Squared**\n",
    "\n",
    "When we add more predictor variables into the equation, R-Squared will always increase making R-Squared\n",
    "not accurate as the number of predictor variables increases.\n",
    "\n",
    "Adjusted R-Squared, accounts for the increase of the predictor variables.\n",
    "\n",
    "Because of the nature of the equation, the adjusted R-Squared should always be lower or equal to the RSquared"
   ]
  },
  {
   "cell_type": "code",
   "execution_count": null,
   "metadata": {},
   "outputs": [],
   "source": [
    "# print the Adjusted R-squared value for the model\n",
    "stats_model.rsquared_adj"
   ]
  },
  {
   "cell_type": "markdown",
   "metadata": {},
   "source": [
    "**RMSE**\n",
    "\n",
    "The root-mean-square error (RMSE) is a frequently used measure of the differences between values (sample\n",
    "and population values) predicted by a model and the values actually observed\n",
    "\n",
    "The smaller the value the better"
   ]
  },
  {
   "cell_type": "code",
   "execution_count": null,
   "metadata": {},
   "outputs": [],
   "source": [
    "# calc rmse\n",
    "stats_model_rmse = rmse(y, ypred)\n",
    "stats_model_rmse"
   ]
  },
  {
   "cell_type": "markdown",
   "metadata": {},
   "source": [
    "**Confidence in the model**\n",
    "\n",
    "A confidence interval gives an estimated range of values which is likely to include an unknown population\n",
    "parameter, the estimated range being calculated from a given set of sample data.\n",
    "\n",
    "A confidence interval is how much uncertainty there is with any particular statistic. Confidence intervals are\n",
    "often used with a margin of error. It tells you how confident you can be that the results reflect what you would\n",
    "expect to find if it were possible to study the entire population."
   ]
  },
  {
   "cell_type": "code",
   "execution_count": null,
   "metadata": {},
   "outputs": [],
   "source": [
    "# print the confidence intervals for the model coefficients\n",
    "stats_model.conf_int()"
   ]
  },
  {
   "cell_type": "markdown",
   "metadata": {},
   "source": [
    "**Hypothesis Testing and P-Values**\n",
    "\n",
    "**p-values** tell you how statistically significant the variable is. Removing variables with high p-values can cause\n",
    "your accuracy/R squared to increase, and even the p-values of the other variables to increase as well — and\n",
    "that’s a good sign."
   ]
  },
  {
   "cell_type": "code",
   "execution_count": null,
   "metadata": {},
   "outputs": [],
   "source": [
    "# print the p-values for the model coefficients\n",
    "stats_model.pvalues"
   ]
  },
  {
   "cell_type": "markdown",
   "metadata": {},
   "source": [
    "**Notes**\n",
    "\n",
    "To be prevent over-fitting, we can add more training samples so that the algorithm doesn't learn the noise in the\n",
    "system and can become more generalized.\n",
    "\n",
    "To strike a blance between under-fitting and over-fitting you need to understand a statistical term called **Bias-\n",
    "Variance Trade-Off**"
   ]
  },
  {
   "cell_type": "code",
   "execution_count": null,
   "metadata": {},
   "outputs": [],
   "source": []
  }
 ],
 "metadata": {
  "kernelspec": {
   "display_name": "Python 3",
   "language": "python",
   "name": "python3"
  },
  "language_info": {
   "codemirror_mode": {
    "name": "ipython",
    "version": 3
   },
   "file_extension": ".py",
   "mimetype": "text/x-python",
   "name": "python",
   "nbconvert_exporter": "python",
   "pygments_lexer": "ipython3",
   "version": "3.7.0"
  }
 },
 "nbformat": 4,
 "nbformat_minor": 2
}
