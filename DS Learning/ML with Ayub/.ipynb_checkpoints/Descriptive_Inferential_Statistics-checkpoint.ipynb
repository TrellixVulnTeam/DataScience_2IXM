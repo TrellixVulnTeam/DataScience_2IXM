{
 "cells": [
  {
   "cell_type": "markdown",
   "metadata": {},
   "source": [
    "# Workstation"
   ]
  },
  {
   "cell_type": "markdown",
   "metadata": {},
   "source": [
    "**Import required packages**"
   ]
  },
  {
   "cell_type": "code",
   "execution_count": 1,
   "metadata": {},
   "outputs": [],
   "source": [
    "import numpy as np\n",
    "import pandas as pd\n",
    "import seaborn as sns\n",
    "import matplotlib.pyplot as plt\n",
    "\n",
    "from scipy import stats\n",
    "\n",
    "%matplotlib inline\n",
    "sns.set(color_codes=True)"
   ]
  },
  {
   "cell_type": "markdown",
   "metadata": {},
   "source": [
    "**Read the data from CSV to a  Pandas DataFrame**"
   ]
  },
  {
   "cell_type": "code",
   "execution_count": 2,
   "metadata": {},
   "outputs": [
    {
     "data": {
      "text/html": [
       "<div>\n",
       "<style scoped>\n",
       "    .dataframe tbody tr th:only-of-type {\n",
       "        vertical-align: middle;\n",
       "    }\n",
       "\n",
       "    .dataframe tbody tr th {\n",
       "        vertical-align: top;\n",
       "    }\n",
       "\n",
       "    .dataframe thead th {\n",
       "        text-align: right;\n",
       "    }\n",
       "</style>\n",
       "<table border=\"1\" class=\"dataframe\">\n",
       "  <thead>\n",
       "    <tr style=\"text-align: right;\">\n",
       "      <th></th>\n",
       "      <th>SHOP_WEEK</th>\n",
       "      <th>SHOP_DATE</th>\n",
       "      <th>SHOP_WEEKDAY</th>\n",
       "      <th>SHOP_HOUR</th>\n",
       "      <th>QUANTITY</th>\n",
       "      <th>SPEND</th>\n",
       "      <th>PROD_CODE</th>\n",
       "      <th>PROD_CODE_10</th>\n",
       "      <th>PROD_CODE_20</th>\n",
       "      <th>PROD_CODE_30</th>\n",
       "      <th>...</th>\n",
       "      <th>CUST_PRICE_SENSITIVITY</th>\n",
       "      <th>CUST_LIFESTAGE</th>\n",
       "      <th>BASKET_ID</th>\n",
       "      <th>BASKET_SIZE</th>\n",
       "      <th>BASKET_PRICE_SENSITIVITY</th>\n",
       "      <th>BASKET_TYPE</th>\n",
       "      <th>BASKET_DOMINANT_MISSION</th>\n",
       "      <th>STORE_CODE</th>\n",
       "      <th>STORE_FORMAT</th>\n",
       "      <th>STORE_REGION</th>\n",
       "    </tr>\n",
       "  </thead>\n",
       "  <tbody>\n",
       "    <tr>\n",
       "      <th>83</th>\n",
       "      <td>200607</td>\n",
       "      <td>20060412</td>\n",
       "      <td>4</td>\n",
       "      <td>13</td>\n",
       "      <td>1</td>\n",
       "      <td>32</td>\n",
       "      <td>PRD0902540</td>\n",
       "      <td>CL00044</td>\n",
       "      <td>DEP00011</td>\n",
       "      <td>G00004</td>\n",
       "      <td>...</td>\n",
       "      <td>NaN</td>\n",
       "      <td>NaN</td>\n",
       "      <td>994100100058515</td>\n",
       "      <td>L</td>\n",
       "      <td>UM</td>\n",
       "      <td>Top Up</td>\n",
       "      <td>Fresh</td>\n",
       "      <td>STORE00078</td>\n",
       "      <td>LS</td>\n",
       "      <td>S01</td>\n",
       "    </tr>\n",
       "    <tr>\n",
       "      <th>104</th>\n",
       "      <td>200607</td>\n",
       "      <td>20060412</td>\n",
       "      <td>4</td>\n",
       "      <td>12</td>\n",
       "      <td>3</td>\n",
       "      <td>432</td>\n",
       "      <td>PRD0903335</td>\n",
       "      <td>CL00198</td>\n",
       "      <td>DEP00067</td>\n",
       "      <td>G00021</td>\n",
       "      <td>...</td>\n",
       "      <td>MM</td>\n",
       "      <td>OF</td>\n",
       "      <td>994100100470269</td>\n",
       "      <td>L</td>\n",
       "      <td>UM</td>\n",
       "      <td>Top Up</td>\n",
       "      <td>Nonfood</td>\n",
       "      <td>STORE00288</td>\n",
       "      <td>LS</td>\n",
       "      <td>S03</td>\n",
       "    </tr>\n",
       "    <tr>\n",
       "      <th>84</th>\n",
       "      <td>200607</td>\n",
       "      <td>20060412</td>\n",
       "      <td>4</td>\n",
       "      <td>13</td>\n",
       "      <td>1</td>\n",
       "      <td>113</td>\n",
       "      <td>PRD0902957</td>\n",
       "      <td>CL00198</td>\n",
       "      <td>DEP00067</td>\n",
       "      <td>G00021</td>\n",
       "      <td>...</td>\n",
       "      <td>NaN</td>\n",
       "      <td>NaN</td>\n",
       "      <td>994100100058515</td>\n",
       "      <td>L</td>\n",
       "      <td>UM</td>\n",
       "      <td>Top Up</td>\n",
       "      <td>Fresh</td>\n",
       "      <td>STORE00078</td>\n",
       "      <td>LS</td>\n",
       "      <td>S01</td>\n",
       "    </tr>\n",
       "    <tr>\n",
       "      <th>54</th>\n",
       "      <td>200607</td>\n",
       "      <td>20060410</td>\n",
       "      <td>2</td>\n",
       "      <td>9</td>\n",
       "      <td>1</td>\n",
       "      <td>146</td>\n",
       "      <td>PRD0901882</td>\n",
       "      <td>CL00048</td>\n",
       "      <td>DEP00012</td>\n",
       "      <td>G00004</td>\n",
       "      <td>...</td>\n",
       "      <td>NaN</td>\n",
       "      <td>NaN</td>\n",
       "      <td>994100100014637</td>\n",
       "      <td>L</td>\n",
       "      <td>UM</td>\n",
       "      <td>Full Shop</td>\n",
       "      <td>Mixed</td>\n",
       "      <td>STORE00013</td>\n",
       "      <td>LS</td>\n",
       "      <td>N02</td>\n",
       "    </tr>\n",
       "    <tr>\n",
       "      <th>24</th>\n",
       "      <td>200607</td>\n",
       "      <td>20060411</td>\n",
       "      <td>3</td>\n",
       "      <td>15</td>\n",
       "      <td>1</td>\n",
       "      <td>35</td>\n",
       "      <td>PRD0902897</td>\n",
       "      <td>CL00103</td>\n",
       "      <td>DEP00035</td>\n",
       "      <td>G00010</td>\n",
       "      <td>...</td>\n",
       "      <td>LA</td>\n",
       "      <td>OT</td>\n",
       "      <td>994100100206798</td>\n",
       "      <td>M</td>\n",
       "      <td>UM</td>\n",
       "      <td>Small Shop</td>\n",
       "      <td>Mixed</td>\n",
       "      <td>STORE00002</td>\n",
       "      <td>LS</td>\n",
       "      <td>W01</td>\n",
       "    </tr>\n",
       "    <tr>\n",
       "      <th>18</th>\n",
       "      <td>200607</td>\n",
       "      <td>20060414</td>\n",
       "      <td>6</td>\n",
       "      <td>15</td>\n",
       "      <td>1</td>\n",
       "      <td>32</td>\n",
       "      <td>PRD0901192</td>\n",
       "      <td>CL00105</td>\n",
       "      <td>DEP00036</td>\n",
       "      <td>G00010</td>\n",
       "      <td>...</td>\n",
       "      <td>LA</td>\n",
       "      <td>OT</td>\n",
       "      <td>994100100206797</td>\n",
       "      <td>L</td>\n",
       "      <td>LA</td>\n",
       "      <td>Top Up</td>\n",
       "      <td>Fresh</td>\n",
       "      <td>STORE00002</td>\n",
       "      <td>LS</td>\n",
       "      <td>W01</td>\n",
       "    </tr>\n",
       "    <tr>\n",
       "      <th>0</th>\n",
       "      <td>200607</td>\n",
       "      <td>20060413</td>\n",
       "      <td>5</td>\n",
       "      <td>20</td>\n",
       "      <td>1</td>\n",
       "      <td>103</td>\n",
       "      <td>PRD0900097</td>\n",
       "      <td>CL00001</td>\n",
       "      <td>DEP00001</td>\n",
       "      <td>G00001</td>\n",
       "      <td>...</td>\n",
       "      <td>LA</td>\n",
       "      <td>YF</td>\n",
       "      <td>994100100532898</td>\n",
       "      <td>L</td>\n",
       "      <td>LA</td>\n",
       "      <td>Top Up</td>\n",
       "      <td>Fresh</td>\n",
       "      <td>STORE00001</td>\n",
       "      <td>LS</td>\n",
       "      <td>E02</td>\n",
       "    </tr>\n",
       "    <tr>\n",
       "      <th>118</th>\n",
       "      <td>200607</td>\n",
       "      <td>20060414</td>\n",
       "      <td>6</td>\n",
       "      <td>19</td>\n",
       "      <td>1</td>\n",
       "      <td>499</td>\n",
       "      <td>PRD0903833</td>\n",
       "      <td>CL00234</td>\n",
       "      <td>DEP00083</td>\n",
       "      <td>G00028</td>\n",
       "      <td>...</td>\n",
       "      <td>LA</td>\n",
       "      <td>OA</td>\n",
       "      <td>994100100540327</td>\n",
       "      <td>M</td>\n",
       "      <td>MM</td>\n",
       "      <td>Small Shop</td>\n",
       "      <td>Grocery</td>\n",
       "      <td>STORE02847</td>\n",
       "      <td>LS</td>\n",
       "      <td>N01</td>\n",
       "    </tr>\n",
       "    <tr>\n",
       "      <th>7</th>\n",
       "      <td>200607</td>\n",
       "      <td>20060412</td>\n",
       "      <td>4</td>\n",
       "      <td>19</td>\n",
       "      <td>3</td>\n",
       "      <td>192</td>\n",
       "      <td>PRD0903409</td>\n",
       "      <td>CL00070</td>\n",
       "      <td>DEP00020</td>\n",
       "      <td>G00007</td>\n",
       "      <td>...</td>\n",
       "      <td>LA</td>\n",
       "      <td>YF</td>\n",
       "      <td>994100100532897</td>\n",
       "      <td>M</td>\n",
       "      <td>MM</td>\n",
       "      <td>Small Shop</td>\n",
       "      <td>Fresh</td>\n",
       "      <td>STORE00001</td>\n",
       "      <td>LS</td>\n",
       "      <td>E02</td>\n",
       "    </tr>\n",
       "    <tr>\n",
       "      <th>40</th>\n",
       "      <td>200607</td>\n",
       "      <td>20060413</td>\n",
       "      <td>5</td>\n",
       "      <td>8</td>\n",
       "      <td>1</td>\n",
       "      <td>80</td>\n",
       "      <td>PRD0903959</td>\n",
       "      <td>CL00159</td>\n",
       "      <td>DEP00054</td>\n",
       "      <td>G00016</td>\n",
       "      <td>...</td>\n",
       "      <td>MM</td>\n",
       "      <td>OT</td>\n",
       "      <td>994100100398404</td>\n",
       "      <td>L</td>\n",
       "      <td>MM</td>\n",
       "      <td>Full Shop</td>\n",
       "      <td>Mixed</td>\n",
       "      <td>STORE00008</td>\n",
       "      <td>MS</td>\n",
       "      <td>N01</td>\n",
       "    </tr>\n",
       "  </tbody>\n",
       "</table>\n",
       "<p>10 rows × 22 columns</p>\n",
       "</div>"
      ],
      "text/plain": [
       "     SHOP_WEEK  SHOP_DATE  SHOP_WEEKDAY  SHOP_HOUR  QUANTITY  SPEND  \\\n",
       "83      200607   20060412             4         13         1     32   \n",
       "104     200607   20060412             4         12         3    432   \n",
       "84      200607   20060412             4         13         1    113   \n",
       "54      200607   20060410             2          9         1    146   \n",
       "24      200607   20060411             3         15         1     35   \n",
       "18      200607   20060414             6         15         1     32   \n",
       "0       200607   20060413             5         20         1    103   \n",
       "118     200607   20060414             6         19         1    499   \n",
       "7       200607   20060412             4         19         3    192   \n",
       "40      200607   20060413             5          8         1     80   \n",
       "\n",
       "      PROD_CODE PROD_CODE_10 PROD_CODE_20 PROD_CODE_30     ...       \\\n",
       "83   PRD0902540      CL00044     DEP00011       G00004     ...        \n",
       "104  PRD0903335      CL00198     DEP00067       G00021     ...        \n",
       "84   PRD0902957      CL00198     DEP00067       G00021     ...        \n",
       "54   PRD0901882      CL00048     DEP00012       G00004     ...        \n",
       "24   PRD0902897      CL00103     DEP00035       G00010     ...        \n",
       "18   PRD0901192      CL00105     DEP00036       G00010     ...        \n",
       "0    PRD0900097      CL00001     DEP00001       G00001     ...        \n",
       "118  PRD0903833      CL00234     DEP00083       G00028     ...        \n",
       "7    PRD0903409      CL00070     DEP00020       G00007     ...        \n",
       "40   PRD0903959      CL00159     DEP00054       G00016     ...        \n",
       "\n",
       "    CUST_PRICE_SENSITIVITY CUST_LIFESTAGE        BASKET_ID BASKET_SIZE  \\\n",
       "83                     NaN            NaN  994100100058515           L   \n",
       "104                     MM             OF  994100100470269           L   \n",
       "84                     NaN            NaN  994100100058515           L   \n",
       "54                     NaN            NaN  994100100014637           L   \n",
       "24                      LA             OT  994100100206798           M   \n",
       "18                      LA             OT  994100100206797           L   \n",
       "0                       LA             YF  994100100532898           L   \n",
       "118                     LA             OA  994100100540327           M   \n",
       "7                       LA             YF  994100100532897           M   \n",
       "40                      MM             OT  994100100398404           L   \n",
       "\n",
       "     BASKET_PRICE_SENSITIVITY BASKET_TYPE BASKET_DOMINANT_MISSION  STORE_CODE  \\\n",
       "83                         UM      Top Up                   Fresh  STORE00078   \n",
       "104                        UM      Top Up                 Nonfood  STORE00288   \n",
       "84                         UM      Top Up                   Fresh  STORE00078   \n",
       "54                         UM   Full Shop                   Mixed  STORE00013   \n",
       "24                         UM  Small Shop                   Mixed  STORE00002   \n",
       "18                         LA      Top Up                   Fresh  STORE00002   \n",
       "0                          LA      Top Up                   Fresh  STORE00001   \n",
       "118                        MM  Small Shop                 Grocery  STORE02847   \n",
       "7                          MM  Small Shop                   Fresh  STORE00001   \n",
       "40                         MM   Full Shop                   Mixed  STORE00008   \n",
       "\n",
       "    STORE_FORMAT STORE_REGION  \n",
       "83            LS          S01  \n",
       "104           LS          S03  \n",
       "84            LS          S01  \n",
       "54            LS          N02  \n",
       "24            LS          W01  \n",
       "18            LS          W01  \n",
       "0             LS          E02  \n",
       "118           LS          N01  \n",
       "7             LS          E02  \n",
       "40            MS          N01  \n",
       "\n",
       "[10 rows x 22 columns]"
      ]
     },
     "execution_count": 2,
     "metadata": {},
     "output_type": "execute_result"
    }
   ],
   "source": [
    "supermarket_df = pd.read_csv(\"supermarket_till_transactions.csv\")\n",
    "supermarket_df.sample(10)"
   ]
  },
  {
   "cell_type": "markdown",
   "metadata": {},
   "source": [
    "# Descriptive Statistics"
   ]
  },
  {
   "cell_type": "markdown",
   "metadata": {},
   "source": [
    "****Measures of central Tendency****"
   ]
  },
  {
   "cell_type": "code",
   "execution_count": 3,
   "metadata": {},
   "outputs": [
    {
     "data": {
      "text/plain": [
       "count     119.000000\n",
       "mean      203.100840\n",
       "std       248.774637\n",
       "min        13.000000\n",
       "25%        74.500000\n",
       "50%       132.000000\n",
       "75%       241.000000\n",
       "max      1820.000000\n",
       "Name: SPEND, dtype: float64"
      ]
     },
     "execution_count": 3,
     "metadata": {},
     "output_type": "execute_result"
    }
   ],
   "source": [
    "Spend_df = supermarket_df.SPEND\n",
    "Spend_df.describe()"
   ]
  },
  {
   "cell_type": "code",
   "execution_count": 4,
   "metadata": {},
   "outputs": [
    {
     "data": {
      "text/plain": [
       "203.10084033613447"
      ]
     },
     "execution_count": 4,
     "metadata": {},
     "output_type": "execute_result"
    }
   ],
   "source": [
    "Spend_df.mean()"
   ]
  },
  {
   "cell_type": "code",
   "execution_count": 5,
   "metadata": {},
   "outputs": [
    {
     "data": {
      "text/plain": [
       "0    101\n",
       "dtype: int64"
      ]
     },
     "execution_count": 5,
     "metadata": {},
     "output_type": "execute_result"
    }
   ],
   "source": [
    "Spend_df.mode()"
   ]
  },
  {
   "cell_type": "code",
   "execution_count": 6,
   "metadata": {},
   "outputs": [
    {
     "data": {
      "text/plain": [
       "132.0"
      ]
     },
     "execution_count": 6,
     "metadata": {},
     "output_type": "execute_result"
    }
   ],
   "source": [
    "Spend_df.median()"
   ]
  },
  {
   "cell_type": "markdown",
   "metadata": {},
   "source": [
    "**Further Analysis of the dataframe**"
   ]
  },
  {
   "cell_type": "code",
   "execution_count": 7,
   "metadata": {},
   "outputs": [
    {
     "data": {
      "text/plain": [
       "array([ 103,   28,   84,  221,  334,  156,  101,  192,   27,  465,  129,\n",
       "        340,   17,   65,  108,   75,  158,  200,   32,   22,  228,  306,\n",
       "        118,  246,   35,   92,   63,  219,  132,  211,  239,   85,  326,\n",
       "        135,  303,  180,  243,   80,  386,  122,  226,   66,   97,   52,\n",
       "        277,  456,  391,  125,  357,  188,  146,  217,   64, 1406,  294,\n",
       "       1820,   39, 1219,   72,   41,   26,  274,   38,   46,  154,   69,\n",
       "        279,   24,  145,  182,  368,   71,   74,  150,  113,   67,  212,\n",
       "         76,  163,   42,  147,  245,  151,   99,   61,  164,  138,  273,\n",
       "        513,  432,  223,  247,  498,   13,  117,   87,  102,  729,  485,\n",
       "        450,  499], dtype=int64)"
      ]
     },
     "execution_count": 7,
     "metadata": {},
     "output_type": "execute_result"
    }
   ],
   "source": [
    "Spend_df.unique()"
   ]
  },
  {
   "cell_type": "code",
   "execution_count": 8,
   "metadata": {},
   "outputs": [
    {
     "data": {
      "text/plain": [
       "4.031386884361723"
      ]
     },
     "execution_count": 8,
     "metadata": {},
     "output_type": "execute_result"
    }
   ],
   "source": [
    "Spend_df.skew()"
   ]
  },
  {
   "cell_type": "code",
   "execution_count": 9,
   "metadata": {},
   "outputs": [
    {
     "data": {
      "text/plain": [
       "20.5398015308991"
      ]
     },
     "execution_count": 9,
     "metadata": {},
     "output_type": "execute_result"
    }
   ],
   "source": [
    "Spend_df.kurtosis()"
   ]
  },
  {
   "cell_type": "markdown",
   "metadata": {},
   "source": [
    "**Plot for Visualization**"
   ]
  },
  {
   "cell_type": "code",
   "execution_count": 10,
   "metadata": {},
   "outputs": [
    {
     "data": {
      "text/plain": [
       "<matplotlib.axes._subplots.AxesSubplot at 0x2d0ea8a2320>"
      ]
     },
     "execution_count": 10,
     "metadata": {},
     "output_type": "execute_result"
    },
    {
     "data": {
      "image/png": "[encoded data removed]",
      "text/plain": [
       "<Figure size 432x288 with 1 Axes>"
      ]
     },
     "metadata": {
      "needs_background": "light"
     },
     "output_type": "display_data"
    }
   ],
   "source": [
    "Spend_df.hist()"
   ]
  },
  {
   "cell_type": "code",
   "execution_count": 11,
   "metadata": {},
   "outputs": [
    {
     "data": {
      "text/plain": [
       "<matplotlib.axes._subplots.AxesSubplot at 0x2d0ec946d68>"
      ]
     },
     "execution_count": 11,
     "metadata": {},
     "output_type": "execute_result"
    },
    {
     "data": {
      "image/png": "[encoded data removed]",
      "text/plain": [
       "<Figure size 432x288 with 1 Axes>"
      ]
     },
     "metadata": {
      "needs_background": "light"
     },
     "output_type": "display_data"
    }
   ],
   "source": [
    "Spend_df.plot()"
   ]
  },
  {
   "cell_type": "code",
   "execution_count": 12,
   "metadata": {},
   "outputs": [
    {
     "data": {
      "text/plain": [
       "101     4\n",
       "154     3\n",
       "92      3\n",
       "103     3\n",
       "129     2\n",
       "192     2\n",
       "63      2\n",
       "28      2\n",
       "118     2\n",
       "32      2\n",
       "52      2\n",
       "17      2\n",
       "132     2\n",
       "69      1\n",
       "326     1\n",
       "71      1\n",
       "72      1\n",
       "74      1\n",
       "75      1\n",
       "76      1\n",
       "274     1\n",
       "334     1\n",
       "80      1\n",
       "84      1\n",
       "85      1\n",
       "87      1\n",
       "13      1\n",
       "97      1\n",
       "99      1\n",
       "357     1\n",
       "       ..\n",
       "485     1\n",
       "499     1\n",
       "239     1\n",
       "498     1\n",
       "243     1\n",
       "245     1\n",
       "182     1\n",
       "180     1\n",
       "108     1\n",
       "432     1\n",
       "246     1\n",
       "113     1\n",
       "117     1\n",
       "122     1\n",
       "125     1\n",
       "1406    1\n",
       "386     1\n",
       "135     1\n",
       "138     1\n",
       "391     1\n",
       "145     1\n",
       "146     1\n",
       "147     1\n",
       "150     1\n",
       "151     1\n",
       "156     1\n",
       "158     1\n",
       "163     1\n",
       "164     1\n",
       "513     1\n",
       "Name: SPEND, Length: 101, dtype: int64"
      ]
     },
     "execution_count": 12,
     "metadata": {},
     "output_type": "execute_result"
    }
   ],
   "source": [
    "Spend_df.value_counts()"
   ]
  },
  {
   "cell_type": "code",
   "execution_count": 13,
   "metadata": {},
   "outputs": [
    {
     "data": {
      "text/plain": [
       "<matplotlib.axes._subplots.AxesSubplot at 0x2d0ec9e4550>"
      ]
     },
     "execution_count": 13,
     "metadata": {},
     "output_type": "execute_result"
    },
    {
     "data": {
      "image/png": "[encoded data removed]",
      "text/plain": [
       "<Figure size 432x288 with 1 Axes>"
      ]
     },
     "metadata": {
      "needs_background": "light"
     },
     "output_type": "display_data"
    }
   ],
   "source": [
    "sns.boxplot(data=Spend_df)"
   ]
  },
  {
   "cell_type": "code",
   "execution_count": 14,
   "metadata": {},
   "outputs": [
    {
     "name": "stderr",
     "output_type": "stream",
     "text": [
      "c:\\users\\user\\appdata\\local\\programs\\python\\python37\\lib\\site-packages\\scipy\\stats\\stats.py:1713: FutureWarning: Using a non-tuple sequence for multidimensional indexing is deprecated; use `arr[tuple(seq)]` instead of `arr[seq]`. In the future this will be interpreted as an array index, `arr[np.array(seq)]`, which will result either in an error or a different result.\n",
      "  return np.add.reduce(sorted[indexer] * weights, axis=axis) / sumval\n"
     ]
    },
    {
     "data": {
      "text/plain": [
       "<matplotlib.axes._subplots.AxesSubplot at 0x2d0eda2fcf8>"
      ]
     },
     "execution_count": 14,
     "metadata": {},
     "output_type": "execute_result"
    },
    {
     "data": {
      "image/png": "[encoded data removed]",
      "text/plain": [
       "<Figure size 432x288 with 1 Axes>"
      ]
     },
     "metadata": {
      "needs_background": "light"
     },
     "output_type": "display_data"
    }
   ],
   "source": [
    "sns.distplot(Spend_df, bins=70)"
   ]
  },
  {
   "cell_type": "code",
   "execution_count": 15,
   "metadata": {},
   "outputs": [
    {
     "data": {
      "image/png": "[encoded data removed]",
      "text/plain": [
       "<Figure size 432x288 with 1 Axes>"
      ]
     },
     "metadata": {},
     "output_type": "display_data"
    }
   ],
   "source": [
    "plt.Figure(figsize=[10,8])\n",
    "plt.style.use('ggplot')\n",
    "plt.hist(Spend_df, bins=70)\n",
    "plt.show()"
   ]
  },
  {
   "cell_type": "code",
   "execution_count": 16,
   "metadata": {},
   "outputs": [],
   "source": [
    "# def leveler(x, bin_no, lower_lmt = 0,upper_lmt = 0,lst=0):\n",
    "#     large = x.max()\n",
    "#     bin_size = large/bin_no\n",
    "#     upper_lmt += bin_size\n",
    "#     count = 0\n",
    "#     if lst == bin_no:\n",
    "#         for spd in x:\n",
    "#             if spd > lower_lmt or spd <= upper_lmt:\n",
    "#                 count += 1\n",
    "#         return count\n",
    "#     else:\n",
    "#         lower_lmt=+bin_size\n",
    "#         lst =+ 1\n",
    "#         return [].append(leveler(x,bin_no,lower_lmt,upper_lmt,lst))\n",
    "    \n",
    "# # plt.pie(Spend_df.value_counts())\n",
    "\n",
    "# leveler(Spend_df,5)"
   ]
  },
  {
   "cell_type": "code",
   "execution_count": 17,
   "metadata": {},
   "outputs": [
    {
     "data": {
      "image/png": "[encoded data removed]",
      "text/plain": [
       "<Figure size 720x576 with 1 Axes>"
      ]
     },
     "metadata": {},
     "output_type": "display_data"
    }
   ],
   "source": [
    "basket_mission = supermarket_df.BASKET_DOMINANT_MISSION\n",
    "plt.figure(figsize=[10,8])\n",
    "plt.pie(basket_mission.value_counts(),labels=['Fresh', 'Mixed', 'Grocery', 'Nonfood'])\n",
    "plt.show()"
   ]
  },
  {
   "cell_type": "code",
   "execution_count": 18,
   "metadata": {},
   "outputs": [
    {
     "data": {
      "text/plain": [
       "Fresh      64\n",
       "Mixed      37\n",
       "Nonfood     9\n",
       "Grocery     9\n",
       "Name: BASKET_DOMINANT_MISSION, dtype: int64"
      ]
     },
     "execution_count": 18,
     "metadata": {},
     "output_type": "execute_result"
    }
   ],
   "source": [
    "basket_mission.value_counts()"
   ]
  },
  {
   "cell_type": "code",
   "execution_count": 19,
   "metadata": {},
   "outputs": [
    {
     "data": {
      "text/plain": [
       "119"
      ]
     },
     "execution_count": 19,
     "metadata": {},
     "output_type": "execute_result"
    }
   ],
   "source": [
    "Spend_df.count()"
   ]
  },
  {
   "cell_type": "code",
   "execution_count": 20,
   "metadata": {},
   "outputs": [
    {
     "data": {
      "text/plain": [
       "119"
      ]
     },
     "execution_count": 20,
     "metadata": {},
     "output_type": "execute_result"
    }
   ],
   "source": [
    "len(Spend_df)"
   ]
  },
  {
   "cell_type": "code",
   "execution_count": 21,
   "metadata": {},
   "outputs": [
    {
     "data": {
      "text/plain": [
       "1820"
      ]
     },
     "execution_count": 21,
     "metadata": {},
     "output_type": "execute_result"
    }
   ],
   "source": [
    "Spend_df.max()"
   ]
  },
  {
   "cell_type": "markdown",
   "metadata": {},
   "source": [
    "# **Inferential Analysis**"
   ]
  },
  {
   "cell_type": "markdown",
   "metadata": {},
   "source": [
    "**Null Hypothesis**"
   ]
  },
  {
   "cell_type": "markdown",
   "metadata": {},
   "source": [
    "$H$<sub>$0$</sub> : $\\mu = 100$"
   ]
  },
  {
   "cell_type": "markdown",
   "metadata": {},
   "source": [
    "**Alternative Hypothesis**"
   ]
  },
  {
   "cell_type": "markdown",
   "metadata": {},
   "source": [
    "$H$<sub>$1$</sub> : $\\mu \\neq 100$"
   ]
  },
  {
   "cell_type": "markdown",
   "metadata": {},
   "source": [
    "**T-Test with one sample**"
   ]
  },
  {
   "cell_type": "code",
   "execution_count": 22,
   "metadata": {},
   "outputs": [],
   "source": [
    "ttest,p_value = stats.ttest_1samp(a=Spend_df,popmean= 100)"
   ]
  },
  {
   "cell_type": "markdown",
   "metadata": {},
   "source": [
    "**T-Test with two samples**"
   ]
  },
  {
   "cell_type": "code",
   "execution_count": 23,
   "metadata": {},
   "outputs": [
    {
     "data": {
      "text/plain": [
       "Ttest_indResult(statistic=0.0, pvalue=1.0)"
      ]
     },
     "execution_count": 23,
     "metadata": {},
     "output_type": "execute_result"
    }
   ],
   "source": [
    "stats.ttest_ind(a=Spend_df, b=Spend_df)"
   ]
  },
  {
   "cell_type": "markdown",
   "metadata": {},
   "source": [
    "**ZScore**"
   ]
  },
  {
   "cell_type": "code",
   "execution_count": 24,
   "metadata": {},
   "outputs": [
    {
     "data": {
      "text/plain": [
       "array([-0.40407697, -0.7068294 , -0.48077425,  0.07225352,  0.52840052,\n",
       "       -0.19013192, -0.41215037, -0.04481075, -0.7108661 ,  1.0572081 ,\n",
       "       -0.29912279,  0.55262071, -0.75123309, -0.55747153, -0.38389347,\n",
       "       -0.51710454, -0.18205852, -0.01251716, -0.6906826 , -0.73104959,\n",
       "        0.10051041,  0.41537294, -0.34352648,  0.173171  , -0.67857251,\n",
       "       -0.44848066, -0.56554493, -0.41215037,  0.06418012, -0.44848066,\n",
       "       -0.2870127 , -0.34352648,  0.03188653,  0.1449141 , -0.47673755,\n",
       "        0.49610692, -0.2749026 ,  0.40326285, -0.09325114,  0.1610609 ,\n",
       "       -0.49692105,  0.73830887, -0.32737969,  0.09243702, -0.55343484,\n",
       "       -0.42829716, -0.60994862,  0.29830867,  1.0208778 ,  0.75849236,\n",
       "       -0.31526959, -0.04481075,  0.6212446 , -0.06095755, -0.23049891,\n",
       "        0.05610672, -0.40407697, -0.56150823,  4.85574192,  0.36693255,\n",
       "        6.52693534, -0.66242571,  4.1008792 , -0.2870127 , -0.52921464,\n",
       "       -0.65435231, -0.7149028 ,  0.28619857, -0.29912279, -0.66646241,\n",
       "       -0.63416882, -0.56554493, -0.19820532, -0.54132474,  0.30638207,\n",
       "       -0.7229762 , -0.23453561, -0.08517774, -0.60994862,  0.66564829,\n",
       "       -0.53325134, -0.52114124, -0.21435211, -0.6906826 , -0.36370998,\n",
       "       -0.54939814,  0.03592323, -0.19820532, -0.7068294 , -0.40407697,\n",
       "       -0.51306784, -0.16187503, -0.65031561, -0.22646221,  0.1691343 ,\n",
       "       -0.21031541, -0.41215037, -0.42022377, -0.57361833, -0.15783833,\n",
       "       -0.2627925 , -0.75123309,  0.28216187,  1.25096965,  0.92399703,\n",
       "        0.08032692,  0.1772077 ,  1.19041916, -0.76737989, -0.41215037,\n",
       "       -0.44848066, -0.34756318, -0.46866415, -0.40811367,  2.12289665,\n",
       "        1.13794208,  0.99665761, -0.19820532,  1.19445586])"
      ]
     },
     "execution_count": 24,
     "metadata": {},
     "output_type": "execute_result"
    }
   ],
   "source": [
    "stats.zscore(Spend_df)"
   ]
  },
  {
   "cell_type": "markdown",
   "metadata": {},
   "source": [
    "**T-Test Outcome**"
   ]
  },
  {
   "cell_type": "code",
   "execution_count": 25,
   "metadata": {},
   "outputs": [
    {
     "data": {
      "text/plain": [
       "4.520948748613231"
      ]
     },
     "execution_count": 25,
     "metadata": {},
     "output_type": "execute_result"
    }
   ],
   "source": [
    "ttest"
   ]
  },
  {
   "cell_type": "markdown",
   "metadata": {},
   "source": [
    "**P-Value**"
   ]
  },
  {
   "cell_type": "code",
   "execution_count": 26,
   "metadata": {},
   "outputs": [
    {
     "data": {
      "text/plain": [
       "1.4737038853695829e-05"
      ]
     },
     "execution_count": 26,
     "metadata": {},
     "output_type": "execute_result"
    }
   ],
   "source": [
    "p_value"
   ]
  },
  {
   "cell_type": "code",
   "execution_count": 27,
   "metadata": {},
   "outputs": [
    {
     "data": {
      "text/plain": [
       "array([ 0.70710678, -0.70710678])"
      ]
     },
     "execution_count": 27,
     "metadata": {},
     "output_type": "execute_result"
    }
   ],
   "source": [
    "stats.zscore(stats.ttest_1samp(a=Spend_df,popmean= 100), ddof=1)"
   ]
  },
  {
   "cell_type": "markdown",
   "metadata": {},
   "source": [
    "- Reject the Null Hypothesis"
   ]
  },
  {
   "cell_type": "markdown",
   "metadata": {},
   "source": [
    "****Questions to understand****"
   ]
  },
  {
   "cell_type": "markdown",
   "metadata": {},
   "source": [
    "- Understanding more on Zscore mainly on how the the calculation is done and why i'm getting more zscores rather than one.\n",
    "- Understand what Degree of freedom is.\n",
    "- Is there any other way of finding out about the  p_value?"
   ]
  },
  {
   "cell_type": "code",
   "execution_count": null,
   "metadata": {},
   "outputs": [],
   "source": []
  }
 ],
 "metadata": {
  "kernelspec": {
   "display_name": "Python 3",
   "language": "python",
   "name": "python3"
  },
  "language_info": {
   "codemirror_mode": {
    "name": "ipython",
    "version": 3
   },
   "file_extension": ".py",
   "mimetype": "text/x-python",
   "name": "python",
   "nbconvert_exporter": "python",
   "pygments_lexer": "ipython3",
   "version": "3.7.0"
  }
 },
 "nbformat": 4,
 "nbformat_minor": 2
}
