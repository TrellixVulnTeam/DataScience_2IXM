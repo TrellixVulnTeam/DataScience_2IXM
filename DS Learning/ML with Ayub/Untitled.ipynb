{
 "cells": [
  {
   "cell_type": "code",
   "execution_count": 32,
   "metadata": {},
   "outputs": [],
   "source": [
    "import numpy as np\n",
    "import pandas as pd\n",
    "import matplotlib.pyplot as plt\n",
    "import sklearn.model_selection as skl\n",
    "from sklearn.linear_model import LinearRegression\n",
    "import seaborn as sns\n",
    "import statsmodels.formula.api as smf\n",
    "from statsmodels.tools.eval_measures import rmse\n",
    "\n",
    "from statsmodels.imputation import mice \n",
    "\n",
    "%matplotlib inline\n",
    "sns.set(color_codes=True)#Set seaborn color coding"
   ]
  },
  {
   "cell_type": "code",
   "execution_count": 2,
   "metadata": {},
   "outputs": [
    {
     "data": {
      "text/html": [
       "<div>\n",
       "<style scoped>\n",
       "    .dataframe tbody tr th:only-of-type {\n",
       "        vertical-align: middle;\n",
       "    }\n",
       "\n",
       "    .dataframe tbody tr th {\n",
       "        vertical-align: top;\n",
       "    }\n",
       "\n",
       "    .dataframe thead th {\n",
       "        text-align: right;\n",
       "    }\n",
       "</style>\n",
       "<table border=\"1\" class=\"dataframe\">\n",
       "  <thead>\n",
       "    <tr style=\"text-align: right;\">\n",
       "      <th></th>\n",
       "      <th>SHOP_WEEK</th>\n",
       "      <th>SHOP_DATE</th>\n",
       "      <th>SHOP_WEEKDAY</th>\n",
       "      <th>SHOP_HOUR</th>\n",
       "      <th>QUANTITY</th>\n",
       "      <th>SPEND</th>\n",
       "      <th>PROD_CODE</th>\n",
       "      <th>PROD_CODE_10</th>\n",
       "      <th>PROD_CODE_20</th>\n",
       "      <th>PROD_CODE_30</th>\n",
       "      <th>...</th>\n",
       "      <th>CUST_PRICE_SENSITIVITY</th>\n",
       "      <th>CUST_LIFESTAGE</th>\n",
       "      <th>BASKET_ID</th>\n",
       "      <th>BASKET_SIZE</th>\n",
       "      <th>BASKET_PRICE_SENSITIVITY</th>\n",
       "      <th>BASKET_TYPE</th>\n",
       "      <th>BASKET_DOMINANT_MISSION</th>\n",
       "      <th>STORE_CODE</th>\n",
       "      <th>STORE_FORMAT</th>\n",
       "      <th>STORE_REGION</th>\n",
       "    </tr>\n",
       "  </thead>\n",
       "  <tbody>\n",
       "    <tr>\n",
       "      <th>101</th>\n",
       "      <td>200607</td>\n",
       "      <td>20060412</td>\n",
       "      <td>4</td>\n",
       "      <td>13</td>\n",
       "      <td>1</td>\n",
       "      <td>17</td>\n",
       "      <td>PRD0903991</td>\n",
       "      <td>CL00049</td>\n",
       "      <td>DEP00012</td>\n",
       "      <td>G00004</td>\n",
       "      <td>...</td>\n",
       "      <td>LA</td>\n",
       "      <td>OA</td>\n",
       "      <td>994100100540326</td>\n",
       "      <td>S</td>\n",
       "      <td>LA</td>\n",
       "      <td>Small Shop</td>\n",
       "      <td>Fresh</td>\n",
       "      <td>STORE00159</td>\n",
       "      <td>SS</td>\n",
       "      <td>S03</td>\n",
       "    </tr>\n",
       "    <tr>\n",
       "      <th>3</th>\n",
       "      <td>200607</td>\n",
       "      <td>20060412</td>\n",
       "      <td>4</td>\n",
       "      <td>19</td>\n",
       "      <td>1</td>\n",
       "      <td>221</td>\n",
       "      <td>PRD0901647</td>\n",
       "      <td>CL00010</td>\n",
       "      <td>DEP00003</td>\n",
       "      <td>G00002</td>\n",
       "      <td>...</td>\n",
       "      <td>LA</td>\n",
       "      <td>YF</td>\n",
       "      <td>994100100532897</td>\n",
       "      <td>M</td>\n",
       "      <td>MM</td>\n",
       "      <td>Small Shop</td>\n",
       "      <td>Fresh</td>\n",
       "      <td>STORE00001</td>\n",
       "      <td>LS</td>\n",
       "      <td>E02</td>\n",
       "    </tr>\n",
       "    <tr>\n",
       "      <th>83</th>\n",
       "      <td>200607</td>\n",
       "      <td>20060412</td>\n",
       "      <td>4</td>\n",
       "      <td>13</td>\n",
       "      <td>1</td>\n",
       "      <td>32</td>\n",
       "      <td>PRD0902540</td>\n",
       "      <td>CL00044</td>\n",
       "      <td>DEP00011</td>\n",
       "      <td>G00004</td>\n",
       "      <td>...</td>\n",
       "      <td>NaN</td>\n",
       "      <td>NaN</td>\n",
       "      <td>994100100058515</td>\n",
       "      <td>L</td>\n",
       "      <td>UM</td>\n",
       "      <td>Top Up</td>\n",
       "      <td>Fresh</td>\n",
       "      <td>STORE00078</td>\n",
       "      <td>LS</td>\n",
       "      <td>S01</td>\n",
       "    </tr>\n",
       "    <tr>\n",
       "      <th>90</th>\n",
       "      <td>200607</td>\n",
       "      <td>20060412</td>\n",
       "      <td>4</td>\n",
       "      <td>15</td>\n",
       "      <td>1</td>\n",
       "      <td>76</td>\n",
       "      <td>PRD0900348</td>\n",
       "      <td>CL00065</td>\n",
       "      <td>DEP00019</td>\n",
       "      <td>G00007</td>\n",
       "      <td>...</td>\n",
       "      <td>NaN</td>\n",
       "      <td>NaN</td>\n",
       "      <td>994100100088144</td>\n",
       "      <td>L</td>\n",
       "      <td>LA</td>\n",
       "      <td>Top Up</td>\n",
       "      <td>Fresh</td>\n",
       "      <td>STORE00103</td>\n",
       "      <td>MS</td>\n",
       "      <td>N03</td>\n",
       "    </tr>\n",
       "    <tr>\n",
       "      <th>79</th>\n",
       "      <td>200607</td>\n",
       "      <td>20060412</td>\n",
       "      <td>4</td>\n",
       "      <td>13</td>\n",
       "      <td>1</td>\n",
       "      <td>368</td>\n",
       "      <td>PRD0901068</td>\n",
       "      <td>CL00058</td>\n",
       "      <td>DEP00016</td>\n",
       "      <td>G00006</td>\n",
       "      <td>...</td>\n",
       "      <td>NaN</td>\n",
       "      <td>NaN</td>\n",
       "      <td>994100100058515</td>\n",
       "      <td>L</td>\n",
       "      <td>UM</td>\n",
       "      <td>Top Up</td>\n",
       "      <td>Fresh</td>\n",
       "      <td>STORE00078</td>\n",
       "      <td>LS</td>\n",
       "      <td>S01</td>\n",
       "    </tr>\n",
       "    <tr>\n",
       "      <th>89</th>\n",
       "      <td>200607</td>\n",
       "      <td>20060412</td>\n",
       "      <td>4</td>\n",
       "      <td>15</td>\n",
       "      <td>1</td>\n",
       "      <td>103</td>\n",
       "      <td>PRD0900292</td>\n",
       "      <td>CL00108</td>\n",
       "      <td>DEP00037</td>\n",
       "      <td>G00010</td>\n",
       "      <td>...</td>\n",
       "      <td>NaN</td>\n",
       "      <td>NaN</td>\n",
       "      <td>994100100088144</td>\n",
       "      <td>L</td>\n",
       "      <td>LA</td>\n",
       "      <td>Top Up</td>\n",
       "      <td>Fresh</td>\n",
       "      <td>STORE00103</td>\n",
       "      <td>MS</td>\n",
       "      <td>N03</td>\n",
       "    </tr>\n",
       "    <tr>\n",
       "      <th>75</th>\n",
       "      <td>200607</td>\n",
       "      <td>20060411</td>\n",
       "      <td>3</td>\n",
       "      <td>13</td>\n",
       "      <td>1</td>\n",
       "      <td>24</td>\n",
       "      <td>PRD0901687</td>\n",
       "      <td>CL00204</td>\n",
       "      <td>DEP00068</td>\n",
       "      <td>G00022</td>\n",
       "      <td>...</td>\n",
       "      <td>MM</td>\n",
       "      <td>OT</td>\n",
       "      <td>994100100689262</td>\n",
       "      <td>M</td>\n",
       "      <td>UM</td>\n",
       "      <td>Top Up</td>\n",
       "      <td>Grocery</td>\n",
       "      <td>STORE00059</td>\n",
       "      <td>MS</td>\n",
       "      <td>W02</td>\n",
       "    </tr>\n",
       "    <tr>\n",
       "      <th>65</th>\n",
       "      <td>200607</td>\n",
       "      <td>20060412</td>\n",
       "      <td>4</td>\n",
       "      <td>20</td>\n",
       "      <td>1</td>\n",
       "      <td>41</td>\n",
       "      <td>PRD0901382</td>\n",
       "      <td>CL00128</td>\n",
       "      <td>DEP00046</td>\n",
       "      <td>G00013</td>\n",
       "      <td>...</td>\n",
       "      <td>NaN</td>\n",
       "      <td>NaN</td>\n",
       "      <td>994100100091691</td>\n",
       "      <td>M</td>\n",
       "      <td>MM</td>\n",
       "      <td>Small Shop</td>\n",
       "      <td>Fresh</td>\n",
       "      <td>STORE00025</td>\n",
       "      <td>XLS</td>\n",
       "      <td>S02</td>\n",
       "    </tr>\n",
       "    <tr>\n",
       "      <th>108</th>\n",
       "      <td>200607</td>\n",
       "      <td>20060411</td>\n",
       "      <td>3</td>\n",
       "      <td>10</td>\n",
       "      <td>1</td>\n",
       "      <td>13</td>\n",
       "      <td>PRD0900546</td>\n",
       "      <td>CL00197</td>\n",
       "      <td>DEP00067</td>\n",
       "      <td>G00021</td>\n",
       "      <td>...</td>\n",
       "      <td>UM</td>\n",
       "      <td>YA</td>\n",
       "      <td>994100100573192</td>\n",
       "      <td>M</td>\n",
       "      <td>LA</td>\n",
       "      <td>Small Shop</td>\n",
       "      <td>Nonfood</td>\n",
       "      <td>STORE00470</td>\n",
       "      <td>LS</td>\n",
       "      <td>S01</td>\n",
       "    </tr>\n",
       "    <tr>\n",
       "      <th>1</th>\n",
       "      <td>200607</td>\n",
       "      <td>20060412</td>\n",
       "      <td>4</td>\n",
       "      <td>19</td>\n",
       "      <td>1</td>\n",
       "      <td>28</td>\n",
       "      <td>PRD0900353</td>\n",
       "      <td>CL00070</td>\n",
       "      <td>DEP00020</td>\n",
       "      <td>G00007</td>\n",
       "      <td>...</td>\n",
       "      <td>LA</td>\n",
       "      <td>YF</td>\n",
       "      <td>994100100532897</td>\n",
       "      <td>M</td>\n",
       "      <td>MM</td>\n",
       "      <td>Small Shop</td>\n",
       "      <td>Fresh</td>\n",
       "      <td>STORE00001</td>\n",
       "      <td>LS</td>\n",
       "      <td>E02</td>\n",
       "    </tr>\n",
       "  </tbody>\n",
       "</table>\n",
       "<p>10 rows × 22 columns</p>\n",
       "</div>"
      ],
      "text/plain": [
       "     SHOP_WEEK  SHOP_DATE  SHOP_WEEKDAY  SHOP_HOUR  QUANTITY  SPEND  \\\n",
       "101     200607   20060412             4         13         1     17   \n",
       "3       200607   20060412             4         19         1    221   \n",
       "83      200607   20060412             4         13         1     32   \n",
       "90      200607   20060412             4         15         1     76   \n",
       "79      200607   20060412             4         13         1    368   \n",
       "89      200607   20060412             4         15         1    103   \n",
       "75      200607   20060411             3         13         1     24   \n",
       "65      200607   20060412             4         20         1     41   \n",
       "108     200607   20060411             3         10         1     13   \n",
       "1       200607   20060412             4         19         1     28   \n",
       "\n",
       "      PROD_CODE PROD_CODE_10 PROD_CODE_20 PROD_CODE_30     ...       \\\n",
       "101  PRD0903991      CL00049     DEP00012       G00004     ...        \n",
       "3    PRD0901647      CL00010     DEP00003       G00002     ...        \n",
       "83   PRD0902540      CL00044     DEP00011       G00004     ...        \n",
       "90   PRD0900348      CL00065     DEP00019       G00007     ...        \n",
       "79   PRD0901068      CL00058     DEP00016       G00006     ...        \n",
       "89   PRD0900292      CL00108     DEP00037       G00010     ...        \n",
       "75   PRD0901687      CL00204     DEP00068       G00022     ...        \n",
       "65   PRD0901382      CL00128     DEP00046       G00013     ...        \n",
       "108  PRD0900546      CL00197     DEP00067       G00021     ...        \n",
       "1    PRD0900353      CL00070     DEP00020       G00007     ...        \n",
       "\n",
       "    CUST_PRICE_SENSITIVITY CUST_LIFESTAGE        BASKET_ID BASKET_SIZE  \\\n",
       "101                     LA             OA  994100100540326           S   \n",
       "3                       LA             YF  994100100532897           M   \n",
       "83                     NaN            NaN  994100100058515           L   \n",
       "90                     NaN            NaN  994100100088144           L   \n",
       "79                     NaN            NaN  994100100058515           L   \n",
       "89                     NaN            NaN  994100100088144           L   \n",
       "75                      MM             OT  994100100689262           M   \n",
       "65                     NaN            NaN  994100100091691           M   \n",
       "108                     UM             YA  994100100573192           M   \n",
       "1                       LA             YF  994100100532897           M   \n",
       "\n",
       "     BASKET_PRICE_SENSITIVITY BASKET_TYPE BASKET_DOMINANT_MISSION  STORE_CODE  \\\n",
       "101                        LA  Small Shop                   Fresh  STORE00159   \n",
       "3                          MM  Small Shop                   Fresh  STORE00001   \n",
       "83                         UM      Top Up                   Fresh  STORE00078   \n",
       "90                         LA      Top Up                   Fresh  STORE00103   \n",
       "79                         UM      Top Up                   Fresh  STORE00078   \n",
       "89                         LA      Top Up                   Fresh  STORE00103   \n",
       "75                         UM      Top Up                 Grocery  STORE00059   \n",
       "65                         MM  Small Shop                   Fresh  STORE00025   \n",
       "108                        LA  Small Shop                 Nonfood  STORE00470   \n",
       "1                          MM  Small Shop                   Fresh  STORE00001   \n",
       "\n",
       "    STORE_FORMAT STORE_REGION  \n",
       "101           SS          S03  \n",
       "3             LS          E02  \n",
       "83            LS          S01  \n",
       "90            MS          N03  \n",
       "79            LS          S01  \n",
       "89            MS          N03  \n",
       "75            MS          W02  \n",
       "65           XLS          S02  \n",
       "108           LS          S01  \n",
       "1             LS          E02  \n",
       "\n",
       "[10 rows x 22 columns]"
      ]
     },
     "execution_count": 2,
     "metadata": {},
     "output_type": "execute_result"
    }
   ],
   "source": [
    "supermarket_till_df = pd.read_csv(\"supermarket_till_transactions.csv\")\n",
    "supermarket_till_df.sample(10)"
   ]
  },
  {
   "cell_type": "markdown",
   "metadata": {},
   "source": [
    "Observe if basket size will determine the amount to be spend"
   ]
  },
  {
   "cell_type": "code",
   "execution_count": 67,
   "metadata": {},
   "outputs": [
    {
     "data": {
      "text/html": [
       "<div>\n",
       "<style scoped>\n",
       "    .dataframe tbody tr th:only-of-type {\n",
       "        vertical-align: middle;\n",
       "    }\n",
       "\n",
       "    .dataframe tbody tr th {\n",
       "        vertical-align: top;\n",
       "    }\n",
       "\n",
       "    .dataframe thead th {\n",
       "        text-align: right;\n",
       "    }\n",
       "</style>\n",
       "<table border=\"1\" class=\"dataframe\">\n",
       "  <thead>\n",
       "    <tr style=\"text-align: right;\">\n",
       "      <th></th>\n",
       "      <th>BASKET_SIZE</th>\n",
       "      <th>SPEND</th>\n",
       "      <th>CUST_LIFESTAGE</th>\n",
       "      <th>BASKET_DOMINANT_MISSION</th>\n",
       "    </tr>\n",
       "  </thead>\n",
       "  <tbody>\n",
       "    <tr>\n",
       "      <th>89</th>\n",
       "      <td>L</td>\n",
       "      <td>103</td>\n",
       "      <td>NaN</td>\n",
       "      <td>Fresh</td>\n",
       "    </tr>\n",
       "    <tr>\n",
       "      <th>40</th>\n",
       "      <td>L</td>\n",
       "      <td>80</td>\n",
       "      <td>OT</td>\n",
       "      <td>Mixed</td>\n",
       "    </tr>\n",
       "    <tr>\n",
       "      <th>18</th>\n",
       "      <td>L</td>\n",
       "      <td>32</td>\n",
       "      <td>OT</td>\n",
       "      <td>Fresh</td>\n",
       "    </tr>\n",
       "    <tr>\n",
       "      <th>67</th>\n",
       "      <td>M</td>\n",
       "      <td>274</td>\n",
       "      <td>NaN</td>\n",
       "      <td>Fresh</td>\n",
       "    </tr>\n",
       "    <tr>\n",
       "      <th>50</th>\n",
       "      <td>L</td>\n",
       "      <td>125</td>\n",
       "      <td>NaN</td>\n",
       "      <td>Mixed</td>\n",
       "    </tr>\n",
       "    <tr>\n",
       "      <th>90</th>\n",
       "      <td>L</td>\n",
       "      <td>76</td>\n",
       "      <td>NaN</td>\n",
       "      <td>Fresh</td>\n",
       "    </tr>\n",
       "    <tr>\n",
       "      <th>35</th>\n",
       "      <td>L</td>\n",
       "      <td>326</td>\n",
       "      <td>OT</td>\n",
       "      <td>Mixed</td>\n",
       "    </tr>\n",
       "    <tr>\n",
       "      <th>64</th>\n",
       "      <td>M</td>\n",
       "      <td>72</td>\n",
       "      <td>NaN</td>\n",
       "      <td>Fresh</td>\n",
       "    </tr>\n",
       "    <tr>\n",
       "      <th>66</th>\n",
       "      <td>M</td>\n",
       "      <td>26</td>\n",
       "      <td>NaN</td>\n",
       "      <td>Fresh</td>\n",
       "    </tr>\n",
       "    <tr>\n",
       "      <th>59</th>\n",
       "      <td>L</td>\n",
       "      <td>294</td>\n",
       "      <td>NaN</td>\n",
       "      <td>Mixed</td>\n",
       "    </tr>\n",
       "  </tbody>\n",
       "</table>\n",
       "</div>"
      ],
      "text/plain": [
       "   BASKET_SIZE  SPEND CUST_LIFESTAGE BASKET_DOMINANT_MISSION\n",
       "89           L    103            NaN                   Fresh\n",
       "40           L     80             OT                   Mixed\n",
       "18           L     32             OT                   Fresh\n",
       "67           M    274            NaN                   Fresh\n",
       "50           L    125            NaN                   Mixed\n",
       "90           L     76            NaN                   Fresh\n",
       "35           L    326             OT                   Mixed\n",
       "64           M     72            NaN                   Fresh\n",
       "66           M     26            NaN                   Fresh\n",
       "59           L    294            NaN                   Mixed"
      ]
     },
     "execution_count": 67,
     "metadata": {},
     "output_type": "execute_result"
    }
   ],
   "source": [
    "basketSize_Spend_df = supermarket_till_df[[\"BASKET_SIZE\",\"SPEND\",\"CUST_LIFESTAGE\",\"BASKET_DOMINANT_MISSION\"]]\n",
    "basketSize_Spend_df.sample(10)"
   ]
  },
  {
   "cell_type": "code",
   "execution_count": 68,
   "metadata": {},
   "outputs": [
    {
     "data": {
      "text/plain": [
       "BASKET_SIZE                  3\n",
       "SPEND                      101\n",
       "CUST_LIFESTAGE               5\n",
       "BASKET_DOMINANT_MISSION      4\n",
       "dtype: int64"
      ]
     },
     "execution_count": 68,
     "metadata": {},
     "output_type": "execute_result"
    }
   ],
   "source": [
    "basketSize_Spend_df.nunique()"
   ]
  },
  {
   "cell_type": "code",
   "execution_count": 69,
   "metadata": {},
   "outputs": [
    {
     "data": {
      "text/plain": [
       "array(['Fresh', 'Mixed', 'Grocery', 'Nonfood'], dtype=object)"
      ]
     },
     "execution_count": 69,
     "metadata": {},
     "output_type": "execute_result"
    }
   ],
   "source": [
    "basketSize_Spend_df.BASKET_DOMINANT_MISSION.unique()"
   ]
  },
  {
   "cell_type": "code",
   "execution_count": 70,
   "metadata": {},
   "outputs": [
    {
     "data": {
      "text/plain": [
       "<matplotlib.axes._subplots.AxesSubplot at 0x225ea2123c8>"
      ]
     },
     "execution_count": 70,
     "metadata": {},
     "output_type": "execute_result"
    },
    {
     "data": {
      "image/png": "[encoded data removed]",
      "text/plain": [
       "<Figure size 432x288 with 1 Axes>"
      ]
     },
     "metadata": {},
     "output_type": "display_data"
    }
   ],
   "source": [
    "sns.scatterplot(x = \"CUST_LIFESTAGE\", y = \"SPEND\", data = basketSize_Spend_df)"
   ]
  },
  {
   "cell_type": "code",
   "execution_count": 71,
   "metadata": {},
   "outputs": [
    {
     "data": {
      "text/plain": [
       "<matplotlib.axes._subplots.AxesSubplot at 0x225ea24dba8>"
      ]
     },
     "execution_count": 71,
     "metadata": {},
     "output_type": "execute_result"
    },
    {
     "data": {
      "image/png": "[encoded data removed]",
      "text/plain": [
       "<Figure size 432x288 with 1 Axes>"
      ]
     },
     "metadata": {},
     "output_type": "display_data"
    }
   ],
   "source": [
    "sns.scatterplot(x = \"BASKET_DOMINANT_MISSION\", y = \"SPEND\", data = basketSize_Spend_df)"
   ]
  },
  {
   "cell_type": "code",
   "execution_count": 72,
   "metadata": {},
   "outputs": [
    {
     "name": "stderr",
     "output_type": "stream",
     "text": [
      "c:\\users\\user\\appdata\\local\\programs\\python\\python37\\lib\\site-packages\\pandas\\core\\generic.py:4405: SettingWithCopyWarning: \n",
      "A value is trying to be set on a copy of a slice from a DataFrame.\n",
      "Try using .loc[row_indexer,col_indexer] = value instead\n",
      "\n",
      "See the caveats in the documentation: http://pandas.pydata.org/pandas-docs/stable/indexing.html#indexing-view-versus-copy\n",
      "  self[name] = value\n"
     ]
    },
    {
     "data": {
      "text/plain": [
       "BASKET_SIZE                  3\n",
       "SPEND                      101\n",
       "CUST_LIFESTAGE               5\n",
       "BASKET_DOMINANT_MISSION      4\n",
       "dtype: int64"
      ]
     },
     "execution_count": 72,
     "metadata": {},
     "output_type": "execute_result"
    }
   ],
   "source": [
    "basketSize_Spend_df.CUST_LIFESTAGE = basketSize_Spend_df.CUST_LIFESTAGE.fillna(\"OT\")\n",
    "basketSize_Spend_df.nunique()"
   ]
  },
  {
   "cell_type": "code",
   "execution_count": 73,
   "metadata": {},
   "outputs": [
    {
     "data": {
      "text/html": [
       "<div>\n",
       "<style scoped>\n",
       "    .dataframe tbody tr th:only-of-type {\n",
       "        vertical-align: middle;\n",
       "    }\n",
       "\n",
       "    .dataframe tbody tr th {\n",
       "        vertical-align: top;\n",
       "    }\n",
       "\n",
       "    .dataframe thead th {\n",
       "        text-align: right;\n",
       "    }\n",
       "</style>\n",
       "<table border=\"1\" class=\"dataframe\">\n",
       "  <thead>\n",
       "    <tr style=\"text-align: right;\">\n",
       "      <th></th>\n",
       "      <th>BASKET_SIZE</th>\n",
       "      <th>SPEND</th>\n",
       "      <th>CUST_LIFESTAGE</th>\n",
       "      <th>BASKET_DOMINANT_MISSION</th>\n",
       "    </tr>\n",
       "  </thead>\n",
       "  <tbody>\n",
       "    <tr>\n",
       "      <th>82</th>\n",
       "      <td>L</td>\n",
       "      <td>150</td>\n",
       "      <td>OT</td>\n",
       "      <td>Fresh</td>\n",
       "    </tr>\n",
       "    <tr>\n",
       "      <th>14</th>\n",
       "      <td>L</td>\n",
       "      <td>108</td>\n",
       "      <td>OT</td>\n",
       "      <td>Fresh</td>\n",
       "    </tr>\n",
       "    <tr>\n",
       "      <th>20</th>\n",
       "      <td>L</td>\n",
       "      <td>228</td>\n",
       "      <td>OT</td>\n",
       "      <td>Fresh</td>\n",
       "    </tr>\n",
       "    <tr>\n",
       "      <th>71</th>\n",
       "      <td>M</td>\n",
       "      <td>63</td>\n",
       "      <td>OA</td>\n",
       "      <td>Fresh</td>\n",
       "    </tr>\n",
       "    <tr>\n",
       "      <th>94</th>\n",
       "      <td>L</td>\n",
       "      <td>245</td>\n",
       "      <td>OT</td>\n",
       "      <td>Fresh</td>\n",
       "    </tr>\n",
       "    <tr>\n",
       "      <th>102</th>\n",
       "      <td>L</td>\n",
       "      <td>273</td>\n",
       "      <td>OF</td>\n",
       "      <td>Nonfood</td>\n",
       "    </tr>\n",
       "    <tr>\n",
       "      <th>96</th>\n",
       "      <td>L</td>\n",
       "      <td>101</td>\n",
       "      <td>OT</td>\n",
       "      <td>Fresh</td>\n",
       "    </tr>\n",
       "    <tr>\n",
       "      <th>70</th>\n",
       "      <td>M</td>\n",
       "      <td>46</td>\n",
       "      <td>OT</td>\n",
       "      <td>Fresh</td>\n",
       "    </tr>\n",
       "    <tr>\n",
       "      <th>76</th>\n",
       "      <td>M</td>\n",
       "      <td>145</td>\n",
       "      <td>OT</td>\n",
       "      <td>Grocery</td>\n",
       "    </tr>\n",
       "    <tr>\n",
       "      <th>67</th>\n",
       "      <td>M</td>\n",
       "      <td>274</td>\n",
       "      <td>OT</td>\n",
       "      <td>Fresh</td>\n",
       "    </tr>\n",
       "  </tbody>\n",
       "</table>\n",
       "</div>"
      ],
      "text/plain": [
       "    BASKET_SIZE  SPEND CUST_LIFESTAGE BASKET_DOMINANT_MISSION\n",
       "82            L    150             OT                   Fresh\n",
       "14            L    108             OT                   Fresh\n",
       "20            L    228             OT                   Fresh\n",
       "71            M     63             OA                   Fresh\n",
       "94            L    245             OT                   Fresh\n",
       "102           L    273             OF                 Nonfood\n",
       "96            L    101             OT                   Fresh\n",
       "70            M     46             OT                   Fresh\n",
       "76            M    145             OT                 Grocery\n",
       "67            M    274             OT                   Fresh"
      ]
     },
     "execution_count": 73,
     "metadata": {},
     "output_type": "execute_result"
    }
   ],
   "source": [
    "basketSize_Spend_df.sample(10)"
   ]
  },
  {
   "cell_type": "code",
   "execution_count": 74,
   "metadata": {},
   "outputs": [
    {
     "data": {
      "text/plain": [
       "array(['YF', 'OT', 'OA', 'OF', 'YA'], dtype=object)"
      ]
     },
     "execution_count": 74,
     "metadata": {},
     "output_type": "execute_result"
    }
   ],
   "source": [
    "basketSize_Spend_df.CUST_LIFESTAGE.unique()"
   ]
  },
  {
   "cell_type": "code",
   "execution_count": 75,
   "metadata": {},
   "outputs": [
    {
     "data": {
      "text/plain": [
       "<matplotlib.axes._subplots.AxesSubplot at 0x225ea12b438>"
      ]
     },
     "execution_count": 75,
     "metadata": {},
     "output_type": "execute_result"
    },
    {
     "data": {
      "image/png": "[encoded data removed]",
      "text/plain": [
       "<Figure size 432x288 with 1 Axes>"
      ]
     },
     "metadata": {},
     "output_type": "display_data"
    }
   ],
   "source": [
    "sns.scatterplot(x = \"CUST_LIFESTAGE\", y = \"SPEND\", data = basketSize_Spend_df)"
   ]
  },
  {
   "cell_type": "code",
   "execution_count": 76,
   "metadata": {},
   "outputs": [
    {
     "data": {
      "text/plain": [
       "<matplotlib.axes._subplots.AxesSubplot at 0x225ea2bceb8>"
      ]
     },
     "execution_count": 76,
     "metadata": {},
     "output_type": "execute_result"
    },
    {
     "data": {
      "image/png": "[encoded data removed]",
      "text/plain": [
       "<Figure size 432x288 with 1 Axes>"
      ]
     },
     "metadata": {},
     "output_type": "display_data"
    }
   ],
   "source": [
    "sns.scatterplot(x = \"BASKET_SIZE\", y = \"SPEND\", data = basketSize_Spend_df)"
   ]
  },
  {
   "cell_type": "code",
   "execution_count": 77,
   "metadata": {},
   "outputs": [
    {
     "data": {
      "text/html": [
       "<div>\n",
       "<style scoped>\n",
       "    .dataframe tbody tr th:only-of-type {\n",
       "        vertical-align: middle;\n",
       "    }\n",
       "\n",
       "    .dataframe tbody tr th {\n",
       "        vertical-align: top;\n",
       "    }\n",
       "\n",
       "    .dataframe thead th {\n",
       "        text-align: right;\n",
       "    }\n",
       "</style>\n",
       "<table border=\"1\" class=\"dataframe\">\n",
       "  <thead>\n",
       "    <tr style=\"text-align: right;\">\n",
       "      <th></th>\n",
       "      <th>SPEND</th>\n",
       "      <th>BASKET_SIZE_L</th>\n",
       "      <th>BASKET_SIZE_M</th>\n",
       "      <th>BASKET_SIZE_S</th>\n",
       "      <th>CUST_LIFESTAGE_OA</th>\n",
       "      <th>CUST_LIFESTAGE_OF</th>\n",
       "      <th>CUST_LIFESTAGE_OT</th>\n",
       "      <th>CUST_LIFESTAGE_YA</th>\n",
       "      <th>CUST_LIFESTAGE_YF</th>\n",
       "      <th>BASKET_DOMINANT_MISSION_Fresh</th>\n",
       "      <th>BASKET_DOMINANT_MISSION_Grocery</th>\n",
       "      <th>BASKET_DOMINANT_MISSION_Mixed</th>\n",
       "      <th>BASKET_DOMINANT_MISSION_Nonfood</th>\n",
       "    </tr>\n",
       "  </thead>\n",
       "  <tbody>\n",
       "    <tr>\n",
       "      <th>11</th>\n",
       "      <td>340</td>\n",
       "      <td>1</td>\n",
       "      <td>0</td>\n",
       "      <td>0</td>\n",
       "      <td>0</td>\n",
       "      <td>0</td>\n",
       "      <td>0</td>\n",
       "      <td>0</td>\n",
       "      <td>1</td>\n",
       "      <td>1</td>\n",
       "      <td>0</td>\n",
       "      <td>0</td>\n",
       "      <td>0</td>\n",
       "    </tr>\n",
       "    <tr>\n",
       "      <th>10</th>\n",
       "      <td>129</td>\n",
       "      <td>1</td>\n",
       "      <td>0</td>\n",
       "      <td>0</td>\n",
       "      <td>0</td>\n",
       "      <td>0</td>\n",
       "      <td>0</td>\n",
       "      <td>0</td>\n",
       "      <td>1</td>\n",
       "      <td>1</td>\n",
       "      <td>0</td>\n",
       "      <td>0</td>\n",
       "      <td>0</td>\n",
       "    </tr>\n",
       "    <tr>\n",
       "      <th>62</th>\n",
       "      <td>1219</td>\n",
       "      <td>0</td>\n",
       "      <td>0</td>\n",
       "      <td>1</td>\n",
       "      <td>1</td>\n",
       "      <td>0</td>\n",
       "      <td>0</td>\n",
       "      <td>0</td>\n",
       "      <td>0</td>\n",
       "      <td>1</td>\n",
       "      <td>0</td>\n",
       "      <td>0</td>\n",
       "      <td>0</td>\n",
       "    </tr>\n",
       "    <tr>\n",
       "      <th>9</th>\n",
       "      <td>465</td>\n",
       "      <td>0</td>\n",
       "      <td>1</td>\n",
       "      <td>0</td>\n",
       "      <td>0</td>\n",
       "      <td>0</td>\n",
       "      <td>0</td>\n",
       "      <td>0</td>\n",
       "      <td>1</td>\n",
       "      <td>1</td>\n",
       "      <td>0</td>\n",
       "      <td>0</td>\n",
       "      <td>0</td>\n",
       "    </tr>\n",
       "    <tr>\n",
       "      <th>105</th>\n",
       "      <td>223</td>\n",
       "      <td>1</td>\n",
       "      <td>0</td>\n",
       "      <td>0</td>\n",
       "      <td>0</td>\n",
       "      <td>1</td>\n",
       "      <td>0</td>\n",
       "      <td>0</td>\n",
       "      <td>0</td>\n",
       "      <td>0</td>\n",
       "      <td>0</td>\n",
       "      <td>0</td>\n",
       "      <td>1</td>\n",
       "    </tr>\n",
       "    <tr>\n",
       "      <th>36</th>\n",
       "      <td>135</td>\n",
       "      <td>1</td>\n",
       "      <td>0</td>\n",
       "      <td>0</td>\n",
       "      <td>0</td>\n",
       "      <td>0</td>\n",
       "      <td>1</td>\n",
       "      <td>0</td>\n",
       "      <td>0</td>\n",
       "      <td>0</td>\n",
       "      <td>0</td>\n",
       "      <td>1</td>\n",
       "      <td>0</td>\n",
       "    </tr>\n",
       "    <tr>\n",
       "      <th>106</th>\n",
       "      <td>247</td>\n",
       "      <td>1</td>\n",
       "      <td>0</td>\n",
       "      <td>0</td>\n",
       "      <td>0</td>\n",
       "      <td>1</td>\n",
       "      <td>0</td>\n",
       "      <td>0</td>\n",
       "      <td>0</td>\n",
       "      <td>0</td>\n",
       "      <td>0</td>\n",
       "      <td>0</td>\n",
       "      <td>1</td>\n",
       "    </tr>\n",
       "    <tr>\n",
       "      <th>98</th>\n",
       "      <td>61</td>\n",
       "      <td>1</td>\n",
       "      <td>0</td>\n",
       "      <td>0</td>\n",
       "      <td>0</td>\n",
       "      <td>0</td>\n",
       "      <td>1</td>\n",
       "      <td>0</td>\n",
       "      <td>0</td>\n",
       "      <td>1</td>\n",
       "      <td>0</td>\n",
       "      <td>0</td>\n",
       "      <td>0</td>\n",
       "    </tr>\n",
       "    <tr>\n",
       "      <th>74</th>\n",
       "      <td>279</td>\n",
       "      <td>0</td>\n",
       "      <td>1</td>\n",
       "      <td>0</td>\n",
       "      <td>0</td>\n",
       "      <td>0</td>\n",
       "      <td>1</td>\n",
       "      <td>0</td>\n",
       "      <td>0</td>\n",
       "      <td>0</td>\n",
       "      <td>1</td>\n",
       "      <td>0</td>\n",
       "      <td>0</td>\n",
       "    </tr>\n",
       "    <tr>\n",
       "      <th>82</th>\n",
       "      <td>150</td>\n",
       "      <td>1</td>\n",
       "      <td>0</td>\n",
       "      <td>0</td>\n",
       "      <td>0</td>\n",
       "      <td>0</td>\n",
       "      <td>1</td>\n",
       "      <td>0</td>\n",
       "      <td>0</td>\n",
       "      <td>1</td>\n",
       "      <td>0</td>\n",
       "      <td>0</td>\n",
       "      <td>0</td>\n",
       "    </tr>\n",
       "  </tbody>\n",
       "</table>\n",
       "</div>"
      ],
      "text/plain": [
       "     SPEND  BASKET_SIZE_L  BASKET_SIZE_M  BASKET_SIZE_S  CUST_LIFESTAGE_OA  \\\n",
       "11     340              1              0              0                  0   \n",
       "10     129              1              0              0                  0   \n",
       "62    1219              0              0              1                  1   \n",
       "9      465              0              1              0                  0   \n",
       "105    223              1              0              0                  0   \n",
       "36     135              1              0              0                  0   \n",
       "106    247              1              0              0                  0   \n",
       "98      61              1              0              0                  0   \n",
       "74     279              0              1              0                  0   \n",
       "82     150              1              0              0                  0   \n",
       "\n",
       "     CUST_LIFESTAGE_OF  CUST_LIFESTAGE_OT  CUST_LIFESTAGE_YA  \\\n",
       "11                   0                  0                  0   \n",
       "10                   0                  0                  0   \n",
       "62                   0                  0                  0   \n",
       "9                    0                  0                  0   \n",
       "105                  1                  0                  0   \n",
       "36                   0                  1                  0   \n",
       "106                  1                  0                  0   \n",
       "98                   0                  1                  0   \n",
       "74                   0                  1                  0   \n",
       "82                   0                  1                  0   \n",
       "\n",
       "     CUST_LIFESTAGE_YF  BASKET_DOMINANT_MISSION_Fresh  \\\n",
       "11                   1                              1   \n",
       "10                   1                              1   \n",
       "62                   0                              1   \n",
       "9                    1                              1   \n",
       "105                  0                              0   \n",
       "36                   0                              0   \n",
       "106                  0                              0   \n",
       "98                   0                              1   \n",
       "74                   0                              0   \n",
       "82                   0                              1   \n",
       "\n",
       "     BASKET_DOMINANT_MISSION_Grocery  BASKET_DOMINANT_MISSION_Mixed  \\\n",
       "11                                 0                              0   \n",
       "10                                 0                              0   \n",
       "62                                 0                              0   \n",
       "9                                  0                              0   \n",
       "105                                0                              0   \n",
       "36                                 0                              1   \n",
       "106                                0                              0   \n",
       "98                                 0                              0   \n",
       "74                                 1                              0   \n",
       "82                                 0                              0   \n",
       "\n",
       "     BASKET_DOMINANT_MISSION_Nonfood  \n",
       "11                                 0  \n",
       "10                                 0  \n",
       "62                                 0  \n",
       "9                                  0  \n",
       "105                                1  \n",
       "36                                 0  \n",
       "106                                1  \n",
       "98                                 0  \n",
       "74                                 0  \n",
       "82                                 0  "
      ]
     },
     "execution_count": 77,
     "metadata": {},
     "output_type": "execute_result"
    }
   ],
   "source": [
    "basketSize_Spend_df = pd.get_dummies(data=basketSize_Spend_df, columns=[\"BASKET_SIZE\", \"CUST_LIFESTAGE\",\"BASKET_DOMINANT_MISSION\"])\n",
    "basketSize_Spend_df.sample(10)"
   ]
  },
  {
   "cell_type": "code",
   "execution_count": 78,
   "metadata": {},
   "outputs": [
    {
     "data": {
      "text/plain": [
       "Index(['SPEND', 'BASKET_SIZE_L', 'BASKET_SIZE_M', 'BASKET_SIZE_S',\n",
       "       'CUST_LIFESTAGE_OA', 'CUST_LIFESTAGE_OF', 'CUST_LIFESTAGE_OT',\n",
       "       'CUST_LIFESTAGE_YA', 'CUST_LIFESTAGE_YF',\n",
       "       'BASKET_DOMINANT_MISSION_Fresh', 'BASKET_DOMINANT_MISSION_Grocery',\n",
       "       'BASKET_DOMINANT_MISSION_Mixed', 'BASKET_DOMINANT_MISSION_Nonfood'],\n",
       "      dtype='object')"
      ]
     },
     "execution_count": 78,
     "metadata": {},
     "output_type": "execute_result"
    }
   ],
   "source": [
    "basketSize_Spend_df.columns"
   ]
  },
  {
   "cell_type": "code",
   "execution_count": 79,
   "metadata": {},
   "outputs": [
    {
     "name": "stdout",
     "output_type": "stream",
     "text": [
      "(83, 12) (36, 12) (83,) (36,)\n"
     ]
    },
    {
     "name": "stderr",
     "output_type": "stream",
     "text": [
      "c:\\users\\user\\appdata\\local\\programs\\python\\python37\\lib\\site-packages\\sklearn\\model_selection\\_split.py:2069: FutureWarning: From version 0.21, test_size will always complement train_size unless both are specified.\n",
      "  FutureWarning)\n"
     ]
    }
   ],
   "source": [
    "x = basketSize_Spend_df[['BASKET_SIZE_L', 'BASKET_SIZE_M', 'BASKET_SIZE_S',\n",
    "       'CUST_LIFESTAGE_OA', 'CUST_LIFESTAGE_OF', 'CUST_LIFESTAGE_OT',\n",
    "       'CUST_LIFESTAGE_YA', 'CUST_LIFESTAGE_YF','BASKET_DOMINANT_MISSION_Fresh', 'BASKET_DOMINANT_MISSION_Grocery',\n",
    "       'BASKET_DOMINANT_MISSION_Mixed', 'BASKET_DOMINANT_MISSION_Nonfood']]\n",
    "y = basketSize_Spend_df.SPEND\n",
    "\n",
    "x_train, x_test, y_train, y_test = skl.train_test_split(x, y, train_size = 0.70, random_state = 10)\n",
    "print(x_train.shape,x_test.shape, y_train.shape,y_test.shape)"
   ]
  },
  {
   "cell_type": "markdown",
   "metadata": {},
   "source": [
    "Using stats_model to do a linear regression"
   ]
  },
  {
   "cell_type": "code",
   "execution_count": 80,
   "metadata": {},
   "outputs": [],
   "source": [
    "stats_model = smf.ols('SPEND ~ BASKET_SIZE_L + BASKET_SIZE_M + BASKET_SIZE_S + CUST_LIFESTAGE_OA + CUST_LIFESTAGE_OF + CUST_LIFESTAGE_OT + CUST_LIFESTAGE_YA + CUST_LIFESTAGE_YF + BASKET_DOMINANT_MISSION_Fresh + BASKET_DOMINANT_MISSION_Grocery + BASKET_DOMINANT_MISSION_Mixed + BASKET_DOMINANT_MISSION_Nonfood', data=basketSize_Spend_df)\n",
    "stats_model = stats_model.fit()"
   ]
  },
  {
   "cell_type": "code",
   "execution_count": 81,
   "metadata": {},
   "outputs": [
    {
     "data": {
      "text/plain": [
       "Intercept                          156.394013\n",
       "BASKET_SIZE_L                       73.924823\n",
       "BASKET_SIZE_M                      -19.990442\n",
       "BASKET_SIZE_S                      102.459632\n",
       "CUST_LIFESTAGE_OA                  177.115358\n",
       "CUST_LIFESTAGE_OF                   90.537178\n",
       "CUST_LIFESTAGE_OT                  -34.002370\n",
       "CUST_LIFESTAGE_YA                 -102.880890\n",
       "CUST_LIFESTAGE_YF                   25.624736\n",
       "BASKET_DOMINANT_MISSION_Fresh      -63.972755\n",
       "BASKET_DOMINANT_MISSION_Grocery    107.755616\n",
       "BASKET_DOMINANT_MISSION_Mixed       69.133833\n",
       "BASKET_DOMINANT_MISSION_Nonfood     43.477319\n",
       "dtype: float64"
      ]
     },
     "execution_count": 81,
     "metadata": {},
     "output_type": "execute_result"
    }
   ],
   "source": [
    "stats_model.params"
   ]
  },
  {
   "cell_type": "code",
   "execution_count": 82,
   "metadata": {},
   "outputs": [
    {
     "data": {
      "text/html": [
       "<table class=\"simpletable\">\n",
       "<caption>OLS Regression Results</caption>\n",
       "<tr>\n",
       "  <th>Dep. Variable:</th>          <td>SPEND</td>      <th>  R-squared:         </th> <td>   0.150</td>\n",
       "</tr>\n",
       "<tr>\n",
       "  <th>Model:</th>                   <td>OLS</td>       <th>  Adj. R-squared:    </th> <td>   0.080</td>\n",
       "</tr>\n",
       "<tr>\n",
       "  <th>Method:</th>             <td>Least Squares</td>  <th>  F-statistic:       </th> <td>   2.135</td>\n",
       "</tr>\n",
       "<tr>\n",
       "  <th>Date:</th>             <td>Sat, 25 Jan 2020</td> <th>  Prob (F-statistic):</th>  <td>0.0324</td> \n",
       "</tr>\n",
       "<tr>\n",
       "  <th>Time:</th>                 <td>15:49:03</td>     <th>  Log-Likelihood:    </th> <td> -815.16</td>\n",
       "</tr>\n",
       "<tr>\n",
       "  <th>No. Observations:</th>      <td>   119</td>      <th>  AIC:               </th> <td>   1650.</td>\n",
       "</tr>\n",
       "<tr>\n",
       "  <th>Df Residuals:</th>          <td>   109</td>      <th>  BIC:               </th> <td>   1678.</td>\n",
       "</tr>\n",
       "<tr>\n",
       "  <th>Df Model:</th>              <td>     9</td>      <th>                     </th>     <td> </td>   \n",
       "</tr>\n",
       "<tr>\n",
       "  <th>Covariance Type:</th>      <td>nonrobust</td>    <th>                     </th>     <td> </td>   \n",
       "</tr>\n",
       "</table>\n",
       "<table class=\"simpletable\">\n",
       "<tr>\n",
       "                 <td></td>                    <th>coef</th>     <th>std err</th>      <th>t</th>      <th>P>|t|</th>  <th>[0.025</th>    <th>0.975]</th>  \n",
       "</tr>\n",
       "<tr>\n",
       "  <th>Intercept</th>                       <td>  156.3940</td> <td>   29.169</td> <td>    5.362</td> <td> 0.000</td> <td>   98.582</td> <td>  214.207</td>\n",
       "</tr>\n",
       "<tr>\n",
       "  <th>BASKET_SIZE_L</th>                   <td>   73.9248</td> <td>   51.582</td> <td>    1.433</td> <td> 0.155</td> <td>  -28.310</td> <td>  176.159</td>\n",
       "</tr>\n",
       "<tr>\n",
       "  <th>BASKET_SIZE_M</th>                   <td>  -19.9904</td> <td>   51.854</td> <td>   -0.386</td> <td> 0.701</td> <td> -122.763</td> <td>   82.782</td>\n",
       "</tr>\n",
       "<tr>\n",
       "  <th>BASKET_SIZE_S</th>                   <td>  102.4596</td> <td>   87.458</td> <td>    1.172</td> <td> 0.244</td> <td>  -70.879</td> <td>  275.798</td>\n",
       "</tr>\n",
       "<tr>\n",
       "  <th>CUST_LIFESTAGE_OA</th>               <td>  177.1154</td> <td>  122.718</td> <td>    1.443</td> <td> 0.152</td> <td>  -66.107</td> <td>  420.338</td>\n",
       "</tr>\n",
       "<tr>\n",
       "  <th>CUST_LIFESTAGE_OF</th>               <td>   90.5372</td> <td>  215.639</td> <td>    0.420</td> <td> 0.675</td> <td> -336.852</td> <td>  517.926</td>\n",
       "</tr>\n",
       "<tr>\n",
       "  <th>CUST_LIFESTAGE_OT</th>               <td>  -34.0024</td> <td>  120.611</td> <td>   -0.282</td> <td> 0.779</td> <td> -273.049</td> <td>  205.044</td>\n",
       "</tr>\n",
       "<tr>\n",
       "  <th>CUST_LIFESTAGE_YA</th>               <td> -102.8809</td> <td>  164.924</td> <td>   -0.624</td> <td> 0.534</td> <td> -429.755</td> <td>  223.993</td>\n",
       "</tr>\n",
       "<tr>\n",
       "  <th>CUST_LIFESTAGE_YF</th>               <td>   25.6247</td> <td>  122.098</td> <td>    0.210</td> <td> 0.834</td> <td> -216.369</td> <td>  267.618</td>\n",
       "</tr>\n",
       "<tr>\n",
       "  <th>BASKET_DOMINANT_MISSION_Fresh</th>   <td>  -63.9728</td> <td>   87.268</td> <td>   -0.733</td> <td> 0.465</td> <td> -236.935</td> <td>  108.989</td>\n",
       "</tr>\n",
       "<tr>\n",
       "  <th>BASKET_DOMINANT_MISSION_Grocery</th> <td>  107.7556</td> <td>  105.210</td> <td>    1.024</td> <td> 0.308</td> <td> -100.768</td> <td>  316.279</td>\n",
       "</tr>\n",
       "<tr>\n",
       "  <th>BASKET_DOMINANT_MISSION_Mixed</th>   <td>   69.1338</td> <td>   94.008</td> <td>    0.735</td> <td> 0.464</td> <td> -117.186</td> <td>  255.454</td>\n",
       "</tr>\n",
       "<tr>\n",
       "  <th>BASKET_DOMINANT_MISSION_Nonfood</th> <td>   43.4773</td> <td>  223.836</td> <td>    0.194</td> <td> 0.846</td> <td> -400.159</td> <td>  487.113</td>\n",
       "</tr>\n",
       "</table>\n",
       "<table class=\"simpletable\">\n",
       "<tr>\n",
       "  <th>Omnibus:</th>       <td>136.043</td> <th>  Durbin-Watson:     </th> <td>   2.289</td>\n",
       "</tr>\n",
       "<tr>\n",
       "  <th>Prob(Omnibus):</th> <td> 0.000</td>  <th>  Jarque-Bera (JB):  </th> <td>2752.644</td>\n",
       "</tr>\n",
       "<tr>\n",
       "  <th>Skew:</th>          <td> 4.076</td>  <th>  Prob(JB):          </th> <td>    0.00</td>\n",
       "</tr>\n",
       "<tr>\n",
       "  <th>Kurtosis:</th>      <td>25.106</td>  <th>  Cond. No.          </th> <td>3.15e+16</td>\n",
       "</tr>\n",
       "</table><br/><br/>Warnings:<br/>[1] Standard Errors assume that the covariance matrix of the errors is correctly specified.<br/>[2] The smallest eigenvalue is 3.1e-31. This might indicate that there are<br/>strong multicollinearity problems or that the design matrix is singular."
      ],
      "text/plain": [
       "<class 'statsmodels.iolib.summary.Summary'>\n",
       "\"\"\"\n",
       "                            OLS Regression Results                            \n",
       "==============================================================================\n",
       "Dep. Variable:                  SPEND   R-squared:                       0.150\n",
       "Model:                            OLS   Adj. R-squared:                  0.080\n",
       "Method:                 Least Squares   F-statistic:                     2.135\n",
       "Date:                Sat, 25 Jan 2020   Prob (F-statistic):             0.0324\n",
       "Time:                        15:49:03   Log-Likelihood:                -815.16\n",
       "No. Observations:                 119   AIC:                             1650.\n",
       "Df Residuals:                     109   BIC:                             1678.\n",
       "Df Model:                           9                                         \n",
       "Covariance Type:            nonrobust                                         \n",
       "===================================================================================================\n",
       "                                      coef    std err          t      P>|t|      [0.025      0.975]\n",
       "---------------------------------------------------------------------------------------------------\n",
       "Intercept                         156.3940     29.169      5.362      0.000      98.582     214.207\n",
       "BASKET_SIZE_L                      73.9248     51.582      1.433      0.155     -28.310     176.159\n",
       "BASKET_SIZE_M                     -19.9904     51.854     -0.386      0.701    -122.763      82.782\n",
       "BASKET_SIZE_S                     102.4596     87.458      1.172      0.244     -70.879     275.798\n",
       "CUST_LIFESTAGE_OA                 177.1154    122.718      1.443      0.152     -66.107     420.338\n",
       "CUST_LIFESTAGE_OF                  90.5372    215.639      0.420      0.675    -336.852     517.926\n",
       "CUST_LIFESTAGE_OT                 -34.0024    120.611     -0.282      0.779    -273.049     205.044\n",
       "CUST_LIFESTAGE_YA                -102.8809    164.924     -0.624      0.534    -429.755     223.993\n",
       "CUST_LIFESTAGE_YF                  25.6247    122.098      0.210      0.834    -216.369     267.618\n",
       "BASKET_DOMINANT_MISSION_Fresh     -63.9728     87.268     -0.733      0.465    -236.935     108.989\n",
       "BASKET_DOMINANT_MISSION_Grocery   107.7556    105.210      1.024      0.308    -100.768     316.279\n",
       "BASKET_DOMINANT_MISSION_Mixed      69.1338     94.008      0.735      0.464    -117.186     255.454\n",
       "BASKET_DOMINANT_MISSION_Nonfood    43.4773    223.836      0.194      0.846    -400.159     487.113\n",
       "==============================================================================\n",
       "Omnibus:                      136.043   Durbin-Watson:                   2.289\n",
       "Prob(Omnibus):                  0.000   Jarque-Bera (JB):             2752.644\n",
       "Skew:                           4.076   Prob(JB):                         0.00\n",
       "Kurtosis:                      25.106   Cond. No.                     3.15e+16\n",
       "==============================================================================\n",
       "\n",
       "Warnings:\n",
       "[1] Standard Errors assume that the covariance matrix of the errors is correctly specified.\n",
       "[2] The smallest eigenvalue is 3.1e-31. This might indicate that there are\n",
       "strong multicollinearity problems or that the design matrix is singular.\n",
       "\"\"\""
      ]
     },
     "execution_count": 82,
     "metadata": {},
     "output_type": "execute_result"
    }
   ],
   "source": [
    "stats_model.summary()"
   ]
  },
  {
   "cell_type": "code",
   "execution_count": 83,
   "metadata": {},
   "outputs": [
    {
     "data": {
      "text/plain": [
       "107.76688807020778"
      ]
     },
     "execution_count": 83,
     "metadata": {},
     "output_type": "execute_result"
    }
   ],
   "source": [
    "ypred = stats_model.predict(x_test)\n",
    "stats_rmse = rmse(y_test, ypred)\n",
    "stats_rmse"
   ]
  },
  {
   "cell_type": "markdown",
   "metadata": {},
   "source": [
    "Using SKlearn Linear regression"
   ]
  },
  {
   "cell_type": "code",
   "execution_count": 84,
   "metadata": {},
   "outputs": [
    {
     "data": {
      "text/plain": [
       "array([  -2.67475066,  -87.22256945,   89.89732012,  139.84103365,\n",
       "         66.74119192,  -67.79671068, -129.46098929,   -9.32452559,\n",
       "        -91.30893026,   98.21733381,   55.81139382,  -62.71979737])"
      ]
     },
     "execution_count": 84,
     "metadata": {},
     "output_type": "execute_result"
    }
   ],
   "source": [
    "lm = LinearRegression()\n",
    "scikit_model = lm.fit(x_train,y_train)\n",
    "scikit_model.coef_"
   ]
  },
  {
   "cell_type": "code",
   "execution_count": 85,
   "metadata": {},
   "outputs": [
    {
     "data": {
      "text/plain": [
       "292.40335611606247"
      ]
     },
     "execution_count": 85,
     "metadata": {},
     "output_type": "execute_result"
    }
   ],
   "source": [
    "scikit_model.intercept_"
   ]
  },
  {
   "cell_type": "code",
   "execution_count": 86,
   "metadata": {},
   "outputs": [
    {
     "data": {
      "text/plain": [
       "122.82511915248315"
      ]
     },
     "execution_count": 86,
     "metadata": {},
     "output_type": "execute_result"
    }
   ],
   "source": [
    "scikit_ypred = scikit_model.predict(x_test)\n",
    "sci_rmse = rmse(y_test, scikit_ypred)\n",
    "sci_rmse"
   ]
  },
  {
   "cell_type": "code",
   "execution_count": null,
   "metadata": {},
   "outputs": [],
   "source": []
  }
 ],
 "metadata": {
  "kernelspec": {
   "display_name": "Python 3",
   "language": "python",
   "name": "python3"
  },
  "language_info": {
   "codemirror_mode": {
    "name": "ipython",
    "version": 3
   },
   "file_extension": ".py",
   "mimetype": "text/x-python",
   "name": "python",
   "nbconvert_exporter": "python",
   "pygments_lexer": "ipython3",
   "version": "3.7.0"
  }
 },
 "nbformat": 4,
 "nbformat_minor": 2
}
