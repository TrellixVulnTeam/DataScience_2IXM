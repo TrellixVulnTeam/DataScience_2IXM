{
 "cells": [
  {
   "cell_type": "code",
   "execution_count": 1,
   "metadata": {},
   "outputs": [],
   "source": [
    "import numpy as np\n",
    "import pandas as pd\n",
    "import seaborn as sns\n",
    "import matplotlib.pyplot as plt\n",
    "from matplotlib import gridspec\n",
    "%matplotlib inline\n",
    "\n",
    "sns.set(style=\"darkgrid\")"
   ]
  },
  {
   "cell_type": "code",
   "execution_count": 2,
   "metadata": {},
   "outputs": [],
   "source": [
    "supermarket_df = pd.read_csv(\"supermarket_till_transactions.csv\")"
   ]
  },
  {
   "cell_type": "code",
   "execution_count": 3,
   "metadata": {},
   "outputs": [
    {
     "data": {
      "text/plain": [
       "Index(['SHOP_WEEK', 'SHOP_DATE', 'SHOP_WEEKDAY', 'SHOP_HOUR', 'QUANTITY',\n",
       "       'SPEND', 'PROD_CODE', 'PROD_CODE_10', 'PROD_CODE_20', 'PROD_CODE_30',\n",
       "       'PROD_CODE_40', 'CUST_CODE', 'CUST_PRICE_SENSITIVITY', 'CUST_LIFESTAGE',\n",
       "       'BASKET_ID', 'BASKET_SIZE', 'BASKET_PRICE_SENSITIVITY', 'BASKET_TYPE',\n",
       "       'BASKET_DOMINANT_MISSION', 'STORE_CODE', 'STORE_FORMAT',\n",
       "       'STORE_REGION'],\n",
       "      dtype='object')"
      ]
     },
     "execution_count": 3,
     "metadata": {},
     "output_type": "execute_result"
    }
   ],
   "source": [
    "supermarket_df.columns"
   ]
  },
  {
   "cell_type": "code",
   "execution_count": 4,
   "metadata": {},
   "outputs": [
    {
     "data": {
      "text/html": [
       "<div>\n",
       "<style scoped>\n",
       "    .dataframe tbody tr th:only-of-type {\n",
       "        vertical-align: middle;\n",
       "    }\n",
       "\n",
       "    .dataframe tbody tr th {\n",
       "        vertical-align: top;\n",
       "    }\n",
       "\n",
       "    .dataframe thead th {\n",
       "        text-align: right;\n",
       "    }\n",
       "</style>\n",
       "<table border=\"1\" class=\"dataframe\">\n",
       "  <thead>\n",
       "    <tr style=\"text-align: right;\">\n",
       "      <th></th>\n",
       "      <th>SHOP_HOUR</th>\n",
       "      <th>QUANTITY</th>\n",
       "      <th>BASKET_TYPE</th>\n",
       "      <th>BASKET_DOMINANT_MISSION</th>\n",
       "      <th>BASKET_SIZE</th>\n",
       "      <th>SPEND</th>\n",
       "    </tr>\n",
       "  </thead>\n",
       "  <tbody>\n",
       "    <tr>\n",
       "      <th>52</th>\n",
       "      <td>9</td>\n",
       "      <td>3</td>\n",
       "      <td>Full Shop</td>\n",
       "      <td>Mixed</td>\n",
       "      <td>L</td>\n",
       "      <td>357</td>\n",
       "    </tr>\n",
       "    <tr>\n",
       "      <th>19</th>\n",
       "      <td>15</td>\n",
       "      <td>1</td>\n",
       "      <td>Small Shop</td>\n",
       "      <td>Mixed</td>\n",
       "      <td>M</td>\n",
       "      <td>22</td>\n",
       "    </tr>\n",
       "    <tr>\n",
       "      <th>116</th>\n",
       "      <td>19</td>\n",
       "      <td>1</td>\n",
       "      <td>Small Shop</td>\n",
       "      <td>Grocery</td>\n",
       "      <td>M</td>\n",
       "      <td>450</td>\n",
       "    </tr>\n",
       "    <tr>\n",
       "      <th>68</th>\n",
       "      <td>20</td>\n",
       "      <td>1</td>\n",
       "      <td>Small Shop</td>\n",
       "      <td>Fresh</td>\n",
       "      <td>M</td>\n",
       "      <td>129</td>\n",
       "    </tr>\n",
       "    <tr>\n",
       "      <th>78</th>\n",
       "      <td>13</td>\n",
       "      <td>1</td>\n",
       "      <td>Top Up</td>\n",
       "      <td>Fresh</td>\n",
       "      <td>L</td>\n",
       "      <td>52</td>\n",
       "    </tr>\n",
       "    <tr>\n",
       "      <th>99</th>\n",
       "      <td>15</td>\n",
       "      <td>1</td>\n",
       "      <td>Top Up</td>\n",
       "      <td>Fresh</td>\n",
       "      <td>L</td>\n",
       "      <td>164</td>\n",
       "    </tr>\n",
       "    <tr>\n",
       "      <th>58</th>\n",
       "      <td>9</td>\n",
       "      <td>1</td>\n",
       "      <td>Full Shop</td>\n",
       "      <td>Mixed</td>\n",
       "      <td>L</td>\n",
       "      <td>1406</td>\n",
       "    </tr>\n",
       "    <tr>\n",
       "      <th>49</th>\n",
       "      <td>9</td>\n",
       "      <td>1</td>\n",
       "      <td>Full Shop</td>\n",
       "      <td>Mixed</td>\n",
       "      <td>L</td>\n",
       "      <td>391</td>\n",
       "    </tr>\n",
       "    <tr>\n",
       "      <th>57</th>\n",
       "      <td>9</td>\n",
       "      <td>1</td>\n",
       "      <td>Full Shop</td>\n",
       "      <td>Mixed</td>\n",
       "      <td>L</td>\n",
       "      <td>64</td>\n",
       "    </tr>\n",
       "    <tr>\n",
       "      <th>10</th>\n",
       "      <td>20</td>\n",
       "      <td>1</td>\n",
       "      <td>Top Up</td>\n",
       "      <td>Fresh</td>\n",
       "      <td>L</td>\n",
       "      <td>129</td>\n",
       "    </tr>\n",
       "  </tbody>\n",
       "</table>\n",
       "</div>"
      ],
      "text/plain": [
       "     SHOP_HOUR  QUANTITY BASKET_TYPE BASKET_DOMINANT_MISSION BASKET_SIZE  \\\n",
       "52           9         3   Full Shop                   Mixed           L   \n",
       "19          15         1  Small Shop                   Mixed           M   \n",
       "116         19         1  Small Shop                 Grocery           M   \n",
       "68          20         1  Small Shop                   Fresh           M   \n",
       "78          13         1      Top Up                   Fresh           L   \n",
       "99          15         1      Top Up                   Fresh           L   \n",
       "58           9         1   Full Shop                   Mixed           L   \n",
       "49           9         1   Full Shop                   Mixed           L   \n",
       "57           9         1   Full Shop                   Mixed           L   \n",
       "10          20         1      Top Up                   Fresh           L   \n",
       "\n",
       "     SPEND  \n",
       "52     357  \n",
       "19      22  \n",
       "116    450  \n",
       "68     129  \n",
       "78      52  \n",
       "99     164  \n",
       "58    1406  \n",
       "49     391  \n",
       "57      64  \n",
       "10     129  "
      ]
     },
     "execution_count": 4,
     "metadata": {},
     "output_type": "execute_result"
    }
   ],
   "source": [
    "basket_size_analysis_main_df = supermarket_df[['SHOP_HOUR','QUANTITY','BASKET_TYPE','BASKET_DOMINANT_MISSION','BASKET_SIZE','SPEND']]\n",
    "basket_size_analysis_main_df.sample(10)"
   ]
  },
  {
   "cell_type": "markdown",
   "metadata": {},
   "source": [
    "1. Pie Chart - This is to show the proportions of each of the basket sizes by spend\n",
    "2. Bar graph - to show SPEND side by side for each basket size\n",
    "3. Pair plot - "
   ]
  },
  {
   "cell_type": "code",
   "execution_count": 5,
   "metadata": {},
   "outputs": [
    {
     "data": {
      "text/html": [
       "<div>\n",
       "<style scoped>\n",
       "    .dataframe tbody tr th:only-of-type {\n",
       "        vertical-align: middle;\n",
       "    }\n",
       "\n",
       "    .dataframe tbody tr th {\n",
       "        vertical-align: top;\n",
       "    }\n",
       "\n",
       "    .dataframe thead th {\n",
       "        text-align: right;\n",
       "    }\n",
       "</style>\n",
       "<table border=\"1\" class=\"dataframe\">\n",
       "  <thead>\n",
       "    <tr style=\"text-align: right;\">\n",
       "      <th></th>\n",
       "      <th>BASKET_SIZE</th>\n",
       "      <th>SHOP_HOUR</th>\n",
       "      <th>QUANTITY</th>\n",
       "      <th>SPEND</th>\n",
       "    </tr>\n",
       "  </thead>\n",
       "  <tbody>\n",
       "    <tr>\n",
       "      <th>0</th>\n",
       "      <td>L</td>\n",
       "      <td>1030</td>\n",
       "      <td>134</td>\n",
       "      <td>17246</td>\n",
       "    </tr>\n",
       "    <tr>\n",
       "      <th>1</th>\n",
       "      <td>M</td>\n",
       "      <td>492</td>\n",
       "      <td>40</td>\n",
       "      <td>5274</td>\n",
       "    </tr>\n",
       "    <tr>\n",
       "      <th>2</th>\n",
       "      <td>S</td>\n",
       "      <td>75</td>\n",
       "      <td>6</td>\n",
       "      <td>1649</td>\n",
       "    </tr>\n",
       "  </tbody>\n",
       "</table>\n",
       "</div>"
      ],
      "text/plain": [
       "  BASKET_SIZE  SHOP_HOUR  QUANTITY  SPEND\n",
       "0           L       1030       134  17246\n",
       "1           M        492        40   5274\n",
       "2           S         75         6   1649"
      ]
     },
     "execution_count": 5,
     "metadata": {},
     "output_type": "execute_result"
    }
   ],
   "source": [
    "basket_size_analysis_pie_df = basket_size_analysis_main_df.groupby([\"BASKET_SIZE\"]).sum()\n",
    "# basket_size_analysis_pie_df.reset_index()\n",
    "basket_size_analysis_pie_df.reset_index()"
   ]
  },
  {
   "cell_type": "code",
   "execution_count": 6,
   "metadata": {},
   "outputs": [
    {
     "data": {
      "image/png": "[encoded data removed]",
      "text/plain": [
       "<Figure size 432x288 with 1 Axes>"
      ]
     },
     "metadata": {},
     "output_type": "display_data"
    }
   ],
   "source": [
    "basket_size_analysis_pie2_df = basket_size_analysis_main_df.groupby([\"BASKET_SIZE\"]).sum().reset_index()\n",
    "plt.pie(x=basket_size_analysis_pie2_df.SPEND,labels=basket_size_analysis_pie2_df.BASKET_SIZE)\n",
    "plt.show()"
   ]
  },
  {
   "cell_type": "code",
   "execution_count": 7,
   "metadata": {},
   "outputs": [
    {
     "data": {
      "image/png": "[encoded data removed]",
      "text/plain": [
       "<Figure size 432x288 with 3 Axes>"
      ]
     },
     "metadata": {},
     "output_type": "display_data"
    }
   ],
   "source": [
    "basket_size_analysis_pie_df.plot.pie(subplots=True);"
   ]
  },
  {
   "cell_type": "code",
   "execution_count": 8,
   "metadata": {},
   "outputs": [
    {
     "data": {
      "image/png": "[encoded data removed]",
      "text/plain": [
       "<Figure size 432x288 with 1 Axes>"
      ]
     },
     "metadata": {},
     "output_type": "display_data"
    }
   ],
   "source": [
    "basket_size_analysis_main_df.BASKET_SIZE.value_counts().plot(kind=\"pie\")\n",
    "# basket_size_analysis_main_df.BASKET_SIZE.value_counts().plot(kind=\"bar\")\n",
    "plt.title(\"spend pie\")\n",
    "plt.show;"
   ]
  },
  {
   "cell_type": "code",
   "execution_count": 9,
   "metadata": {},
   "outputs": [
    {
     "data": {
      "image/png": "[encoded data removed]",
      "text/plain": [
       "<Figure size 432x288 with 3 Axes>"
      ]
     },
     "metadata": {
      "needs_background": "light"
     },
     "output_type": "display_data"
    }
   ],
   "source": [
    "basket_size_analysis_pie_df.plot.bar(subplots=True);"
   ]
  },
  {
   "cell_type": "code",
   "execution_count": 10,
   "metadata": {},
   "outputs": [
    {
     "data": {
      "image/png": "[encoded data removed]",
      "text/plain": [
       "<Figure size 432x288 with 1 Axes>"
      ]
     },
     "metadata": {
      "needs_background": "light"
     },
     "output_type": "display_data"
    }
   ],
   "source": [
    "pd.crosstab(basket_size_analysis_main_df.SHOP_HOUR, basket_size_analysis_main_df.BASKET_SIZE).plot(kind=\"bar\");"
   ]
  },
  {
   "cell_type": "code",
   "execution_count": 11,
   "metadata": {},
   "outputs": [
    {
     "data": {
      "image/png": "[encoded data removed]",
      "text/plain": [
       "<Figure size 432x288 with 1 Axes>"
      ]
     },
     "metadata": {
      "needs_background": "light"
     },
     "output_type": "display_data"
    }
   ],
   "source": [
    "pd.crosstab(basket_size_analysis_main_df.SHOP_HOUR, basket_size_analysis_main_df.BASKET_SIZE).plot(kind=\"bar\",stacked=True);"
   ]
  },
  {
   "cell_type": "code",
   "execution_count": 12,
   "metadata": {},
   "outputs": [
    {
     "data": {
      "text/html": [
       "<div>\n",
       "<style scoped>\n",
       "    .dataframe tbody tr th:only-of-type {\n",
       "        vertical-align: middle;\n",
       "    }\n",
       "\n",
       "    .dataframe tbody tr th {\n",
       "        vertical-align: top;\n",
       "    }\n",
       "\n",
       "    .dataframe thead th {\n",
       "        text-align: right;\n",
       "    }\n",
       "</style>\n",
       "<table border=\"1\" class=\"dataframe\">\n",
       "  <thead>\n",
       "    <tr style=\"text-align: right;\">\n",
       "      <th></th>\n",
       "      <th>SHOP_HOUR</th>\n",
       "      <th>QUANTITY</th>\n",
       "      <th>BASKET_TYPE</th>\n",
       "      <th>BASKET_DOMINANT_MISSION</th>\n",
       "      <th>BASKET_SIZE</th>\n",
       "      <th>SPEND</th>\n",
       "    </tr>\n",
       "  </thead>\n",
       "  <tbody>\n",
       "    <tr>\n",
       "      <th>71</th>\n",
       "      <td>16</td>\n",
       "      <td>1</td>\n",
       "      <td>Small Shop</td>\n",
       "      <td>Fresh</td>\n",
       "      <td>M</td>\n",
       "      <td>63</td>\n",
       "    </tr>\n",
       "    <tr>\n",
       "      <th>106</th>\n",
       "      <td>12</td>\n",
       "      <td>1</td>\n",
       "      <td>Top Up</td>\n",
       "      <td>Nonfood</td>\n",
       "      <td>L</td>\n",
       "      <td>247</td>\n",
       "    </tr>\n",
       "    <tr>\n",
       "      <th>74</th>\n",
       "      <td>13</td>\n",
       "      <td>3</td>\n",
       "      <td>Top Up</td>\n",
       "      <td>Grocery</td>\n",
       "      <td>M</td>\n",
       "      <td>279</td>\n",
       "    </tr>\n",
       "    <tr>\n",
       "      <th>25</th>\n",
       "      <td>15</td>\n",
       "      <td>1</td>\n",
       "      <td>Top Up</td>\n",
       "      <td>Fresh</td>\n",
       "      <td>L</td>\n",
       "      <td>92</td>\n",
       "    </tr>\n",
       "    <tr>\n",
       "      <th>60</th>\n",
       "      <td>9</td>\n",
       "      <td>4</td>\n",
       "      <td>Full Shop</td>\n",
       "      <td>Mixed</td>\n",
       "      <td>L</td>\n",
       "      <td>1820</td>\n",
       "    </tr>\n",
       "    <tr>\n",
       "      <th>43</th>\n",
       "      <td>8</td>\n",
       "      <td>1</td>\n",
       "      <td>Full Shop</td>\n",
       "      <td>Mixed</td>\n",
       "      <td>L</td>\n",
       "      <td>226</td>\n",
       "    </tr>\n",
       "    <tr>\n",
       "      <th>46</th>\n",
       "      <td>9</td>\n",
       "      <td>1</td>\n",
       "      <td>Full Shop</td>\n",
       "      <td>Mixed</td>\n",
       "      <td>L</td>\n",
       "      <td>52</td>\n",
       "    </tr>\n",
       "    <tr>\n",
       "      <th>103</th>\n",
       "      <td>12</td>\n",
       "      <td>3</td>\n",
       "      <td>Top Up</td>\n",
       "      <td>Nonfood</td>\n",
       "      <td>L</td>\n",
       "      <td>513</td>\n",
       "    </tr>\n",
       "    <tr>\n",
       "      <th>111</th>\n",
       "      <td>10</td>\n",
       "      <td>1</td>\n",
       "      <td>Small Shop</td>\n",
       "      <td>Nonfood</td>\n",
       "      <td>M</td>\n",
       "      <td>117</td>\n",
       "    </tr>\n",
       "    <tr>\n",
       "      <th>45</th>\n",
       "      <td>8</td>\n",
       "      <td>1</td>\n",
       "      <td>Full Shop</td>\n",
       "      <td>Mixed</td>\n",
       "      <td>L</td>\n",
       "      <td>97</td>\n",
       "    </tr>\n",
       "  </tbody>\n",
       "</table>\n",
       "</div>"
      ],
      "text/plain": [
       "     SHOP_HOUR  QUANTITY BASKET_TYPE BASKET_DOMINANT_MISSION BASKET_SIZE  \\\n",
       "71          16         1  Small Shop                   Fresh           M   \n",
       "106         12         1      Top Up                 Nonfood           L   \n",
       "74          13         3      Top Up                 Grocery           M   \n",
       "25          15         1      Top Up                   Fresh           L   \n",
       "60           9         4   Full Shop                   Mixed           L   \n",
       "43           8         1   Full Shop                   Mixed           L   \n",
       "46           9         1   Full Shop                   Mixed           L   \n",
       "103         12         3      Top Up                 Nonfood           L   \n",
       "111         10         1  Small Shop                 Nonfood           M   \n",
       "45           8         1   Full Shop                   Mixed           L   \n",
       "\n",
       "     SPEND  \n",
       "71      63  \n",
       "106    247  \n",
       "74     279  \n",
       "25      92  \n",
       "60    1820  \n",
       "43     226  \n",
       "46      52  \n",
       "103    513  \n",
       "111    117  \n",
       "45      97  "
      ]
     },
     "execution_count": 12,
     "metadata": {},
     "output_type": "execute_result"
    }
   ],
   "source": [
    "basket_size_analysis_main_df.sample(10)"
   ]
  },
  {
   "cell_type": "code",
   "execution_count": 13,
   "metadata": {},
   "outputs": [
    {
     "data": {
      "image/png": "[encoded data removed]",
      "text/plain": [
       "<Figure size 560.6x360 with 1 Axes>"
      ]
     },
     "metadata": {
      "needs_background": "light"
     },
     "output_type": "display_data"
    }
   ],
   "source": [
    "sns.relplot(x=\"SHOP_HOUR\",y=\"QUANTITY\", hue=\"BASKET_DOMINANT_MISSION\", data=basket_size_analysis_main_df);"
   ]
  },
  {
   "cell_type": "code",
   "execution_count": 14,
   "metadata": {},
   "outputs": [
    {
     "data": {
      "image/png": "[encoded data removed]",
      "text/plain": [
       "<Figure size 560.6x360 with 1 Axes>"
      ]
     },
     "metadata": {
      "needs_background": "light"
     },
     "output_type": "display_data"
    }
   ],
   "source": [
    "sns.relplot(x=\"QUANTITY\",y=\"SPEND\", hue=\"SHOP_HOUR\",style=\"BASKET_DOMINANT_MISSION\", palette=\"ch:r=-.5,l=.75\", data=basket_size_analysis_main_df);"
   ]
  },
  {
   "cell_type": "code",
   "execution_count": 15,
   "metadata": {},
   "outputs": [
    {
     "data": {
      "image/png": "[encoded data removed]",
      "text/plain": [
       "<Figure size 456.1x360 with 1 Axes>"
      ]
     },
     "metadata": {
      "needs_background": "light"
     },
     "output_type": "display_data"
    }
   ],
   "source": [
    "sns.catplot(data=basket_size_analysis_main_df, x = \"BASKET_DOMINANT_MISSION\", y=\"SPEND\", hue=\"BASKET_TYPE\" ,kind=\"swarm\");"
   ]
  },
  {
   "cell_type": "code",
   "execution_count": 16,
   "metadata": {},
   "outputs": [
    {
     "data": {
      "image/png": "[encoded data removed]",
      "text/plain": [
       "<Figure size 432x288 with 1 Axes>"
      ]
     },
     "metadata": {
      "needs_background": "light"
     },
     "output_type": "display_data"
    }
   ],
   "source": [
    "sns.countplot(data=basket_size_analysis_main_df, y=\"BASKET_TYPE\", color=\"c\");"
   ]
  },
  {
   "cell_type": "code",
   "execution_count": 17,
   "metadata": {},
   "outputs": [
    {
     "data": {
      "image/png": "[encoded data removed]",
      "text/plain": [
       "<Figure size 636.1x540 with 12 Axes>"
      ]
     },
     "metadata": {
      "needs_background": "light"
     },
     "output_type": "display_data"
    }
   ],
   "source": [
    "sns.pairplot(data=basket_size_analysis_main_df, hue=\"BASKET_TYPE\");"
   ]
  },
  {
   "cell_type": "code",
   "execution_count": 18,
   "metadata": {},
   "outputs": [
    {
     "data": {
      "image/png": "[encoded data removed]",
      "text/plain": [
       "<Figure size 636.1x540 with 12 Axes>"
      ]
     },
     "metadata": {
      "needs_background": "light"
     },
     "output_type": "display_data"
    }
   ],
   "source": [
    "g=sns.PairGrid(data=basket_size_analysis_main_df, hue=\"BASKET_TYPE\");\n",
    "g.map_diag(plt.hist)\n",
    "g.map_offdiag(plt.scatter)\n",
    "g.add_legend();"
   ]
  },
  {
   "cell_type": "code",
   "execution_count": 19,
   "metadata": {},
   "outputs": [
    {
     "data": {
      "image/png": "[encoded data removed]",
      "text/plain": [
       "<Figure size 360x360 with 1 Axes>"
      ]
     },
     "metadata": {
      "needs_background": "light"
     },
     "output_type": "display_data"
    }
   ],
   "source": [
    "tips = sns.load_dataset(\"tips\")\n",
    "sns.relplot(x=\"total_bill\", y=\"tip\", data=tips);"
   ]
  },
  {
   "cell_type": "code",
   "execution_count": 20,
   "metadata": {},
   "outputs": [
    {
     "data": {
      "text/html": [
       "<div>\n",
       "<style scoped>\n",
       "    .dataframe tbody tr th:only-of-type {\n",
       "        vertical-align: middle;\n",
       "    }\n",
       "\n",
       "    .dataframe tbody tr th {\n",
       "        vertical-align: top;\n",
       "    }\n",
       "\n",
       "    .dataframe thead th {\n",
       "        text-align: right;\n",
       "    }\n",
       "</style>\n",
       "<table border=\"1\" class=\"dataframe\">\n",
       "  <thead>\n",
       "    <tr style=\"text-align: right;\">\n",
       "      <th></th>\n",
       "      <th>total_bill</th>\n",
       "      <th>tip</th>\n",
       "      <th>sex</th>\n",
       "      <th>smoker</th>\n",
       "      <th>day</th>\n",
       "      <th>time</th>\n",
       "      <th>size</th>\n",
       "    </tr>\n",
       "  </thead>\n",
       "  <tbody>\n",
       "    <tr>\n",
       "      <th>0</th>\n",
       "      <td>16.99</td>\n",
       "      <td>1.01</td>\n",
       "      <td>Female</td>\n",
       "      <td>No</td>\n",
       "      <td>Sun</td>\n",
       "      <td>Dinner</td>\n",
       "      <td>2</td>\n",
       "    </tr>\n",
       "    <tr>\n",
       "      <th>1</th>\n",
       "      <td>10.34</td>\n",
       "      <td>1.66</td>\n",
       "      <td>Male</td>\n",
       "      <td>No</td>\n",
       "      <td>Sun</td>\n",
       "      <td>Dinner</td>\n",
       "      <td>3</td>\n",
       "    </tr>\n",
       "    <tr>\n",
       "      <th>2</th>\n",
       "      <td>21.01</td>\n",
       "      <td>3.50</td>\n",
       "      <td>Male</td>\n",
       "      <td>No</td>\n",
       "      <td>Sun</td>\n",
       "      <td>Dinner</td>\n",
       "      <td>3</td>\n",
       "    </tr>\n",
       "    <tr>\n",
       "      <th>3</th>\n",
       "      <td>23.68</td>\n",
       "      <td>3.31</td>\n",
       "      <td>Male</td>\n",
       "      <td>No</td>\n",
       "      <td>Sun</td>\n",
       "      <td>Dinner</td>\n",
       "      <td>2</td>\n",
       "    </tr>\n",
       "    <tr>\n",
       "      <th>4</th>\n",
       "      <td>24.59</td>\n",
       "      <td>3.61</td>\n",
       "      <td>Female</td>\n",
       "      <td>No</td>\n",
       "      <td>Sun</td>\n",
       "      <td>Dinner</td>\n",
       "      <td>4</td>\n",
       "    </tr>\n",
       "    <tr>\n",
       "      <th>...</th>\n",
       "      <td>...</td>\n",
       "      <td>...</td>\n",
       "      <td>...</td>\n",
       "      <td>...</td>\n",
       "      <td>...</td>\n",
       "      <td>...</td>\n",
       "      <td>...</td>\n",
       "    </tr>\n",
       "    <tr>\n",
       "      <th>239</th>\n",
       "      <td>29.03</td>\n",
       "      <td>5.92</td>\n",
       "      <td>Male</td>\n",
       "      <td>No</td>\n",
       "      <td>Sat</td>\n",
       "      <td>Dinner</td>\n",
       "      <td>3</td>\n",
       "    </tr>\n",
       "    <tr>\n",
       "      <th>240</th>\n",
       "      <td>27.18</td>\n",
       "      <td>2.00</td>\n",
       "      <td>Female</td>\n",
       "      <td>Yes</td>\n",
       "      <td>Sat</td>\n",
       "      <td>Dinner</td>\n",
       "      <td>2</td>\n",
       "    </tr>\n",
       "    <tr>\n",
       "      <th>241</th>\n",
       "      <td>22.67</td>\n",
       "      <td>2.00</td>\n",
       "      <td>Male</td>\n",
       "      <td>Yes</td>\n",
       "      <td>Sat</td>\n",
       "      <td>Dinner</td>\n",
       "      <td>2</td>\n",
       "    </tr>\n",
       "    <tr>\n",
       "      <th>242</th>\n",
       "      <td>17.82</td>\n",
       "      <td>1.75</td>\n",
       "      <td>Male</td>\n",
       "      <td>No</td>\n",
       "      <td>Sat</td>\n",
       "      <td>Dinner</td>\n",
       "      <td>2</td>\n",
       "    </tr>\n",
       "    <tr>\n",
       "      <th>243</th>\n",
       "      <td>18.78</td>\n",
       "      <td>3.00</td>\n",
       "      <td>Female</td>\n",
       "      <td>No</td>\n",
       "      <td>Thur</td>\n",
       "      <td>Dinner</td>\n",
       "      <td>2</td>\n",
       "    </tr>\n",
       "  </tbody>\n",
       "</table>\n",
       "<p>244 rows × 7 columns</p>\n",
       "</div>"
      ],
      "text/plain": [
       "     total_bill   tip     sex smoker   day    time  size\n",
       "0         16.99  1.01  Female     No   Sun  Dinner     2\n",
       "1         10.34  1.66    Male     No   Sun  Dinner     3\n",
       "2         21.01  3.50    Male     No   Sun  Dinner     3\n",
       "3         23.68  3.31    Male     No   Sun  Dinner     2\n",
       "4         24.59  3.61  Female     No   Sun  Dinner     4\n",
       "..          ...   ...     ...    ...   ...     ...   ...\n",
       "239       29.03  5.92    Male     No   Sat  Dinner     3\n",
       "240       27.18  2.00  Female    Yes   Sat  Dinner     2\n",
       "241       22.67  2.00    Male    Yes   Sat  Dinner     2\n",
       "242       17.82  1.75    Male     No   Sat  Dinner     2\n",
       "243       18.78  3.00  Female     No  Thur  Dinner     2\n",
       "\n",
       "[244 rows x 7 columns]"
      ]
     },
     "execution_count": 20,
     "metadata": {},
     "output_type": "execute_result"
    }
   ],
   "source": [
    "tips"
   ]
  },
  {
   "cell_type": "code",
   "execution_count": 21,
   "metadata": {},
   "outputs": [],
   "source": [
    "# Import RMSE\n",
    "from statsmodels.tools.eval_measures import rmse\n",
    "\n",
    "# Import Linear Regression from scikit-learn\n",
    "from sklearn.linear_model import LinearRegression\n",
    "\n",
    "# Import Metrics\n",
    "from sklearn.metrics import mean_squared_error, r2_score\n",
    "\n",
    "#Import data split\n",
    "from sklearn.model_selection import train_test_split"
   ]
  },
  {
   "cell_type": "code",
   "execution_count": 22,
   "metadata": {},
   "outputs": [
    {
     "name": "stderr",
     "output_type": "stream",
     "text": [
      "c:\\users\\user\\appdata\\local\\programs\\python\\python37\\lib\\site-packages\\pandas\\core\\generic.py:6786: SettingWithCopyWarning: \n",
      "A value is trying to be set on a copy of a slice from a DataFrame\n",
      "\n",
      "See the caveats in the documentation: http://pandas.pydata.org/pandas-docs/stable/user_guide/indexing.html#returning-a-view-versus-a-copy\n",
      "  self._update_inplace(new_data)\n"
     ]
    },
    {
     "data": {
      "text/html": [
       "<div>\n",
       "<style scoped>\n",
       "    .dataframe tbody tr th:only-of-type {\n",
       "        vertical-align: middle;\n",
       "    }\n",
       "\n",
       "    .dataframe tbody tr th {\n",
       "        vertical-align: top;\n",
       "    }\n",
       "\n",
       "    .dataframe thead th {\n",
       "        text-align: right;\n",
       "    }\n",
       "</style>\n",
       "<table border=\"1\" class=\"dataframe\">\n",
       "  <thead>\n",
       "    <tr style=\"text-align: right;\">\n",
       "      <th></th>\n",
       "      <th>SHOP_HOUR</th>\n",
       "      <th>QUANTITY</th>\n",
       "      <th>BASKET_TYPE</th>\n",
       "      <th>BASKET_DOMINANT_MISSION</th>\n",
       "      <th>BASKET_SIZE</th>\n",
       "      <th>SPEND</th>\n",
       "    </tr>\n",
       "  </thead>\n",
       "  <tbody>\n",
       "    <tr>\n",
       "      <th>79</th>\n",
       "      <td>Afternoon</td>\n",
       "      <td>1</td>\n",
       "      <td>Top Up</td>\n",
       "      <td>Fresh</td>\n",
       "      <td>L</td>\n",
       "      <td>368</td>\n",
       "    </tr>\n",
       "    <tr>\n",
       "      <th>116</th>\n",
       "      <td>Evening</td>\n",
       "      <td>1</td>\n",
       "      <td>Small Shop</td>\n",
       "      <td>Grocery</td>\n",
       "      <td>M</td>\n",
       "      <td>450</td>\n",
       "    </tr>\n",
       "    <tr>\n",
       "      <th>118</th>\n",
       "      <td>Evening</td>\n",
       "      <td>1</td>\n",
       "      <td>Small Shop</td>\n",
       "      <td>Grocery</td>\n",
       "      <td>M</td>\n",
       "      <td>499</td>\n",
       "    </tr>\n",
       "    <tr>\n",
       "      <th>30</th>\n",
       "      <td>Morning</td>\n",
       "      <td>1</td>\n",
       "      <td>Full Shop</td>\n",
       "      <td>Mixed</td>\n",
       "      <td>L</td>\n",
       "      <td>132</td>\n",
       "    </tr>\n",
       "    <tr>\n",
       "      <th>57</th>\n",
       "      <td>Morning</td>\n",
       "      <td>1</td>\n",
       "      <td>Full Shop</td>\n",
       "      <td>Mixed</td>\n",
       "      <td>L</td>\n",
       "      <td>64</td>\n",
       "    </tr>\n",
       "    <tr>\n",
       "      <th>28</th>\n",
       "      <td>Afternoon</td>\n",
       "      <td>1</td>\n",
       "      <td>Top Up</td>\n",
       "      <td>Fresh</td>\n",
       "      <td>L</td>\n",
       "      <td>219</td>\n",
       "    </tr>\n",
       "    <tr>\n",
       "      <th>19</th>\n",
       "      <td>Afternoon</td>\n",
       "      <td>1</td>\n",
       "      <td>Small Shop</td>\n",
       "      <td>Mixed</td>\n",
       "      <td>M</td>\n",
       "      <td>22</td>\n",
       "    </tr>\n",
       "    <tr>\n",
       "      <th>36</th>\n",
       "      <td>Morning</td>\n",
       "      <td>1</td>\n",
       "      <td>Full Shop</td>\n",
       "      <td>Mixed</td>\n",
       "      <td>L</td>\n",
       "      <td>135</td>\n",
       "    </tr>\n",
       "    <tr>\n",
       "      <th>111</th>\n",
       "      <td>Morning</td>\n",
       "      <td>1</td>\n",
       "      <td>Small Shop</td>\n",
       "      <td>Nonfood</td>\n",
       "      <td>M</td>\n",
       "      <td>117</td>\n",
       "    </tr>\n",
       "    <tr>\n",
       "      <th>117</th>\n",
       "      <td>Evening</td>\n",
       "      <td>1</td>\n",
       "      <td>Small Shop</td>\n",
       "      <td>Grocery</td>\n",
       "      <td>M</td>\n",
       "      <td>154</td>\n",
       "    </tr>\n",
       "  </tbody>\n",
       "</table>\n",
       "</div>"
      ],
      "text/plain": [
       "     SHOP_HOUR  QUANTITY BASKET_TYPE BASKET_DOMINANT_MISSION BASKET_SIZE  \\\n",
       "79   Afternoon         1      Top Up                   Fresh           L   \n",
       "116    Evening         1  Small Shop                 Grocery           M   \n",
       "118    Evening         1  Small Shop                 Grocery           M   \n",
       "30     Morning         1   Full Shop                   Mixed           L   \n",
       "57     Morning         1   Full Shop                   Mixed           L   \n",
       "28   Afternoon         1      Top Up                   Fresh           L   \n",
       "19   Afternoon         1  Small Shop                   Mixed           M   \n",
       "36     Morning         1   Full Shop                   Mixed           L   \n",
       "111    Morning         1  Small Shop                 Nonfood           M   \n",
       "117    Evening         1  Small Shop                 Grocery           M   \n",
       "\n",
       "     SPEND  \n",
       "79     368  \n",
       "116    450  \n",
       "118    499  \n",
       "30     132  \n",
       "57      64  \n",
       "28     219  \n",
       "19      22  \n",
       "36     135  \n",
       "111    117  \n",
       "117    154  "
      ]
     },
     "execution_count": 22,
     "metadata": {},
     "output_type": "execute_result"
    }
   ],
   "source": [
    "for x in range(25):\n",
    "    if x>=4 and x<12:\n",
    "        basket_size_analysis_main_df.SHOP_HOUR.replace(to_replace=x,value=\"Morning\",inplace=True)\n",
    "    elif x>=12 and x <16:\n",
    "        basket_size_analysis_main_df.SHOP_HOUR.replace(to_replace=x,value=\"Afternoon\",inplace=True)\n",
    "    elif x >= 16 and x < 23:\n",
    "        basket_size_analysis_main_df.SHOP_HOUR.replace(to_replace=x,value=\"Evening\",inplace=True)\n",
    "    else:\n",
    "        basket_size_analysis_main_df.SHOP_HOUR.replace(to_replace=x,value=\"Night\",inplace=True)\n",
    "        \n",
    "    x+=1\n",
    "\n",
    "basket_size_analysis_main_df.BASKET_SIZE.replace(to_replace=\"S\",value=\"M\",inplace=True)\n",
    "\n",
    "basket_size_analysis_main_df.sample(10)    "
   ]
  },
  {
   "cell_type": "code",
   "execution_count": 23,
   "metadata": {},
   "outputs": [],
   "source": [
    "basket_y = basket_size_analysis_main_df.SPEND\n",
    "basket_x = basket_size_analysis_main_df[[\"SHOP_HOUR\", \"QUANTITY\", \"BASKET_TYPE\", \"BASKET_DOMINANT_MISSION\", \"BASKET_SIZE\"]]"
   ]
  },
  {
   "cell_type": "code",
   "execution_count": 24,
   "metadata": {},
   "outputs": [
    {
     "data": {
      "text/html": [
       "<div>\n",
       "<style scoped>\n",
       "    .dataframe tbody tr th:only-of-type {\n",
       "        vertical-align: middle;\n",
       "    }\n",
       "\n",
       "    .dataframe tbody tr th {\n",
       "        vertical-align: top;\n",
       "    }\n",
       "\n",
       "    .dataframe thead th {\n",
       "        text-align: right;\n",
       "    }\n",
       "</style>\n",
       "<table border=\"1\" class=\"dataframe\">\n",
       "  <thead>\n",
       "    <tr style=\"text-align: right;\">\n",
       "      <th></th>\n",
       "      <th>QUANTITY</th>\n",
       "      <th>SHOP_HOUR_Afternoon</th>\n",
       "      <th>SHOP_HOUR_Evening</th>\n",
       "      <th>SHOP_HOUR_Morning</th>\n",
       "      <th>BASKET_TYPE_Full Shop</th>\n",
       "      <th>BASKET_TYPE_Small Shop</th>\n",
       "      <th>BASKET_TYPE_Top Up</th>\n",
       "      <th>BASKET_DOMINANT_MISSION_Fresh</th>\n",
       "      <th>BASKET_DOMINANT_MISSION_Grocery</th>\n",
       "      <th>BASKET_DOMINANT_MISSION_Mixed</th>\n",
       "      <th>BASKET_DOMINANT_MISSION_Nonfood</th>\n",
       "      <th>BASKET_SIZE_L</th>\n",
       "      <th>BASKET_SIZE_M</th>\n",
       "    </tr>\n",
       "  </thead>\n",
       "  <tbody>\n",
       "    <tr>\n",
       "      <th>113</th>\n",
       "      <td>1</td>\n",
       "      <td>1</td>\n",
       "      <td>0</td>\n",
       "      <td>0</td>\n",
       "      <td>0</td>\n",
       "      <td>1</td>\n",
       "      <td>0</td>\n",
       "      <td>1</td>\n",
       "      <td>0</td>\n",
       "      <td>0</td>\n",
       "      <td>0</td>\n",
       "      <td>0</td>\n",
       "      <td>1</td>\n",
       "    </tr>\n",
       "    <tr>\n",
       "      <th>89</th>\n",
       "      <td>1</td>\n",
       "      <td>1</td>\n",
       "      <td>0</td>\n",
       "      <td>0</td>\n",
       "      <td>0</td>\n",
       "      <td>0</td>\n",
       "      <td>1</td>\n",
       "      <td>1</td>\n",
       "      <td>0</td>\n",
       "      <td>0</td>\n",
       "      <td>0</td>\n",
       "      <td>1</td>\n",
       "      <td>0</td>\n",
       "    </tr>\n",
       "    <tr>\n",
       "      <th>61</th>\n",
       "      <td>1</td>\n",
       "      <td>0</td>\n",
       "      <td>0</td>\n",
       "      <td>1</td>\n",
       "      <td>1</td>\n",
       "      <td>0</td>\n",
       "      <td>0</td>\n",
       "      <td>0</td>\n",
       "      <td>0</td>\n",
       "      <td>1</td>\n",
       "      <td>0</td>\n",
       "      <td>1</td>\n",
       "      <td>0</td>\n",
       "    </tr>\n",
       "    <tr>\n",
       "      <th>91</th>\n",
       "      <td>1</td>\n",
       "      <td>1</td>\n",
       "      <td>0</td>\n",
       "      <td>0</td>\n",
       "      <td>0</td>\n",
       "      <td>0</td>\n",
       "      <td>1</td>\n",
       "      <td>1</td>\n",
       "      <td>0</td>\n",
       "      <td>0</td>\n",
       "      <td>0</td>\n",
       "      <td>1</td>\n",
       "      <td>0</td>\n",
       "    </tr>\n",
       "    <tr>\n",
       "      <th>88</th>\n",
       "      <td>1</td>\n",
       "      <td>1</td>\n",
       "      <td>0</td>\n",
       "      <td>0</td>\n",
       "      <td>0</td>\n",
       "      <td>0</td>\n",
       "      <td>1</td>\n",
       "      <td>1</td>\n",
       "      <td>0</td>\n",
       "      <td>0</td>\n",
       "      <td>0</td>\n",
       "      <td>1</td>\n",
       "      <td>0</td>\n",
       "    </tr>\n",
       "    <tr>\n",
       "      <th>26</th>\n",
       "      <td>1</td>\n",
       "      <td>1</td>\n",
       "      <td>0</td>\n",
       "      <td>0</td>\n",
       "      <td>0</td>\n",
       "      <td>1</td>\n",
       "      <td>0</td>\n",
       "      <td>0</td>\n",
       "      <td>0</td>\n",
       "      <td>1</td>\n",
       "      <td>0</td>\n",
       "      <td>0</td>\n",
       "      <td>1</td>\n",
       "    </tr>\n",
       "    <tr>\n",
       "      <th>93</th>\n",
       "      <td>1</td>\n",
       "      <td>1</td>\n",
       "      <td>0</td>\n",
       "      <td>0</td>\n",
       "      <td>0</td>\n",
       "      <td>0</td>\n",
       "      <td>1</td>\n",
       "      <td>1</td>\n",
       "      <td>0</td>\n",
       "      <td>0</td>\n",
       "      <td>0</td>\n",
       "      <td>1</td>\n",
       "      <td>0</td>\n",
       "    </tr>\n",
       "    <tr>\n",
       "      <th>109</th>\n",
       "      <td>1</td>\n",
       "      <td>0</td>\n",
       "      <td>0</td>\n",
       "      <td>1</td>\n",
       "      <td>0</td>\n",
       "      <td>1</td>\n",
       "      <td>0</td>\n",
       "      <td>0</td>\n",
       "      <td>0</td>\n",
       "      <td>0</td>\n",
       "      <td>1</td>\n",
       "      <td>0</td>\n",
       "      <td>1</td>\n",
       "    </tr>\n",
       "    <tr>\n",
       "      <th>36</th>\n",
       "      <td>1</td>\n",
       "      <td>0</td>\n",
       "      <td>0</td>\n",
       "      <td>1</td>\n",
       "      <td>1</td>\n",
       "      <td>0</td>\n",
       "      <td>0</td>\n",
       "      <td>0</td>\n",
       "      <td>0</td>\n",
       "      <td>1</td>\n",
       "      <td>0</td>\n",
       "      <td>1</td>\n",
       "      <td>0</td>\n",
       "    </tr>\n",
       "    <tr>\n",
       "      <th>74</th>\n",
       "      <td>3</td>\n",
       "      <td>1</td>\n",
       "      <td>0</td>\n",
       "      <td>0</td>\n",
       "      <td>0</td>\n",
       "      <td>0</td>\n",
       "      <td>1</td>\n",
       "      <td>0</td>\n",
       "      <td>1</td>\n",
       "      <td>0</td>\n",
       "      <td>0</td>\n",
       "      <td>0</td>\n",
       "      <td>1</td>\n",
       "    </tr>\n",
       "  </tbody>\n",
       "</table>\n",
       "</div>"
      ],
      "text/plain": [
       "     QUANTITY  SHOP_HOUR_Afternoon  SHOP_HOUR_Evening  SHOP_HOUR_Morning  \\\n",
       "113         1                    1                  0                  0   \n",
       "89          1                    1                  0                  0   \n",
       "61          1                    0                  0                  1   \n",
       "91          1                    1                  0                  0   \n",
       "88          1                    1                  0                  0   \n",
       "26          1                    1                  0                  0   \n",
       "93          1                    1                  0                  0   \n",
       "109         1                    0                  0                  1   \n",
       "36          1                    0                  0                  1   \n",
       "74          3                    1                  0                  0   \n",
       "\n",
       "     BASKET_TYPE_Full Shop  BASKET_TYPE_Small Shop  BASKET_TYPE_Top Up  \\\n",
       "113                      0                       1                   0   \n",
       "89                       0                       0                   1   \n",
       "61                       1                       0                   0   \n",
       "91                       0                       0                   1   \n",
       "88                       0                       0                   1   \n",
       "26                       0                       1                   0   \n",
       "93                       0                       0                   1   \n",
       "109                      0                       1                   0   \n",
       "36                       1                       0                   0   \n",
       "74                       0                       0                   1   \n",
       "\n",
       "     BASKET_DOMINANT_MISSION_Fresh  BASKET_DOMINANT_MISSION_Grocery  \\\n",
       "113                              1                                0   \n",
       "89                               1                                0   \n",
       "61                               0                                0   \n",
       "91                               1                                0   \n",
       "88                               1                                0   \n",
       "26                               0                                0   \n",
       "93                               1                                0   \n",
       "109                              0                                0   \n",
       "36                               0                                0   \n",
       "74                               0                                1   \n",
       "\n",
       "     BASKET_DOMINANT_MISSION_Mixed  BASKET_DOMINANT_MISSION_Nonfood  \\\n",
       "113                              0                                0   \n",
       "89                               0                                0   \n",
       "61                               1                                0   \n",
       "91                               0                                0   \n",
       "88                               0                                0   \n",
       "26                               1                                0   \n",
       "93                               0                                0   \n",
       "109                              0                                1   \n",
       "36                               1                                0   \n",
       "74                               0                                0   \n",
       "\n",
       "     BASKET_SIZE_L  BASKET_SIZE_M  \n",
       "113              0              1  \n",
       "89               1              0  \n",
       "61               1              0  \n",
       "91               1              0  \n",
       "88               1              0  \n",
       "26               0              1  \n",
       "93               1              0  \n",
       "109              0              1  \n",
       "36               1              0  \n",
       "74               0              1  "
      ]
     },
     "execution_count": 24,
     "metadata": {},
     "output_type": "execute_result"
    }
   ],
   "source": [
    "basket_x = pd.get_dummies(data=basket_x, columns=[\"SHOP_HOUR\", \"BASKET_TYPE\", \"BASKET_DOMINANT_MISSION\", \"BASKET_SIZE\"])\n",
    "basket_x.sample(10)"
   ]
  },
  {
   "cell_type": "code",
   "execution_count": null,
   "metadata": {},
   "outputs": [],
   "source": [
    "from statsmodels.stats.outliers_influence import variance_inflation_factor\n",
    "\n",
    "supm\n",
    "\n",
    "vif = pd.DataFrame()\n",
    "vif[\"features\"] = supm.columns\n",
    "vif[\"VIF Factor\"] = [variance_inflation_factor(supm.values, i) for i in range(supm.shape[1])]\n",
    "vif "
   ]
  },
  {
   "cell_type": "code",
   "execution_count": 25,
   "metadata": {},
   "outputs": [],
   "source": [
    "X_train, X_test, y_train, y_test = train_test_split(basket_x, basket_y, test_size=0.25)"
   ]
  },
  {
   "cell_type": "code",
   "execution_count": 26,
   "metadata": {},
   "outputs": [
    {
     "name": "stdout",
     "output_type": "stream",
     "text": [
      "(89, 13) (30, 13) (89,) (30,)\n"
     ]
    },
    {
     "data": {
      "text/plain": [
       "Index(['QUANTITY', 'SHOP_HOUR_Afternoon', 'SHOP_HOUR_Evening',\n",
       "       'SHOP_HOUR_Morning', 'BASKET_TYPE_Full Shop', 'BASKET_TYPE_Small Shop',\n",
       "       'BASKET_TYPE_Top Up', 'BASKET_DOMINANT_MISSION_Fresh',\n",
       "       'BASKET_DOMINANT_MISSION_Grocery', 'BASKET_DOMINANT_MISSION_Mixed',\n",
       "       'BASKET_DOMINANT_MISSION_Nonfood', 'BASKET_SIZE_L', 'BASKET_SIZE_M'],\n",
       "      dtype='object')"
      ]
     },
     "execution_count": 26,
     "metadata": {},
     "output_type": "execute_result"
    }
   ],
   "source": [
    "print(X_train.shape, X_test.shape, y_train.shape, y_test.shape)\n",
    "X_train.columns"
   ]
  },
  {
   "cell_type": "code",
   "execution_count": 27,
   "metadata": {},
   "outputs": [],
   "source": [
    "lm = LinearRegression()\n",
    "scikit_model = lm.fit(X_train,y_train)"
   ]
  },
  {
   "cell_type": "code",
   "execution_count": 28,
   "metadata": {},
   "outputs": [
    {
     "name": "stdout",
     "output_type": "stream",
     "text": [
      "[  51.26870227  -83.1192458   -91.20756901  174.32681481 -101.493094\n",
      "  160.03497797  -58.54188397  -66.86185973  182.36064132  -92.03708578\n",
      "  -23.46169582  117.26855785 -117.26855785] 152.78787585291417\n"
     ]
    }
   ],
   "source": [
    "print(scikit_model.coef_,scikit_model.intercept_)"
   ]
  },
  {
   "cell_type": "code",
   "execution_count": 29,
   "metadata": {},
   "outputs": [
    {
     "data": {
      "text/plain": [
       "143.93160750703063"
      ]
     },
     "execution_count": 29,
     "metadata": {},
     "output_type": "execute_result"
    }
   ],
   "source": [
    "ypred = scikit_model.predict(X_test)\n",
    "rmse(y_test, ypred)"
   ]
  },
  {
   "cell_type": "code",
   "execution_count": 34,
   "metadata": {},
   "outputs": [
    {
     "data": {
      "text/html": [
       "<div>\n",
       "<style scoped>\n",
       "    .dataframe tbody tr th:only-of-type {\n",
       "        vertical-align: middle;\n",
       "    }\n",
       "\n",
       "    .dataframe tbody tr th {\n",
       "        vertical-align: top;\n",
       "    }\n",
       "\n",
       "    .dataframe thead th {\n",
       "        text-align: right;\n",
       "    }\n",
       "</style>\n",
       "<table border=\"1\" class=\"dataframe\">\n",
       "  <thead>\n",
       "    <tr style=\"text-align: right;\">\n",
       "      <th></th>\n",
       "      <th>QUANTITY</th>\n",
       "      <th>SHOP_HOUR_Afternoon</th>\n",
       "      <th>SHOP_HOUR_Evening</th>\n",
       "      <th>SHOP_HOUR_Morning</th>\n",
       "      <th>BASKET_TYPE_Full Shop</th>\n",
       "      <th>BASKET_TYPE_Small Shop</th>\n",
       "      <th>BASKET_TYPE_Top Up</th>\n",
       "      <th>BASKET_DOMINANT_MISSION_Fresh</th>\n",
       "      <th>BASKET_DOMINANT_MISSION_Grocery</th>\n",
       "      <th>BASKET_DOMINANT_MISSION_Mixed</th>\n",
       "      <th>BASKET_DOMINANT_MISSION_Nonfood</th>\n",
       "      <th>BASKET_SIZE_L</th>\n",
       "      <th>BASKET_SIZE_M</th>\n",
       "    </tr>\n",
       "  </thead>\n",
       "  <tbody>\n",
       "    <tr>\n",
       "      <th>count</th>\n",
       "      <td>119.000000</td>\n",
       "      <td>119.000000</td>\n",
       "      <td>119.000000</td>\n",
       "      <td>119.000000</td>\n",
       "      <td>119.000000</td>\n",
       "      <td>119.000000</td>\n",
       "      <td>119.000000</td>\n",
       "      <td>119.000000</td>\n",
       "      <td>119.000000</td>\n",
       "      <td>119.000000</td>\n",
       "      <td>119.000000</td>\n",
       "      <td>119.000000</td>\n",
       "      <td>119.000000</td>\n",
       "    </tr>\n",
       "    <tr>\n",
       "      <th>mean</th>\n",
       "      <td>1.512605</td>\n",
       "      <td>0.445378</td>\n",
       "      <td>0.226891</td>\n",
       "      <td>0.327731</td>\n",
       "      <td>0.277311</td>\n",
       "      <td>0.268908</td>\n",
       "      <td>0.453782</td>\n",
       "      <td>0.537815</td>\n",
       "      <td>0.075630</td>\n",
       "      <td>0.310924</td>\n",
       "      <td>0.075630</td>\n",
       "      <td>0.697479</td>\n",
       "      <td>0.302521</td>\n",
       "    </tr>\n",
       "    <tr>\n",
       "      <th>std</th>\n",
       "      <td>1.227272</td>\n",
       "      <td>0.499109</td>\n",
       "      <td>0.420592</td>\n",
       "      <td>0.471371</td>\n",
       "      <td>0.449564</td>\n",
       "      <td>0.445267</td>\n",
       "      <td>0.499964</td>\n",
       "      <td>0.500676</td>\n",
       "      <td>0.265524</td>\n",
       "      <td>0.464829</td>\n",
       "      <td>0.265524</td>\n",
       "      <td>0.461292</td>\n",
       "      <td>0.461292</td>\n",
       "    </tr>\n",
       "    <tr>\n",
       "      <th>min</th>\n",
       "      <td>1.000000</td>\n",
       "      <td>0.000000</td>\n",
       "      <td>0.000000</td>\n",
       "      <td>0.000000</td>\n",
       "      <td>0.000000</td>\n",
       "      <td>0.000000</td>\n",
       "      <td>0.000000</td>\n",
       "      <td>0.000000</td>\n",
       "      <td>0.000000</td>\n",
       "      <td>0.000000</td>\n",
       "      <td>0.000000</td>\n",
       "      <td>0.000000</td>\n",
       "      <td>0.000000</td>\n",
       "    </tr>\n",
       "    <tr>\n",
       "      <th>25%</th>\n",
       "      <td>1.000000</td>\n",
       "      <td>0.000000</td>\n",
       "      <td>0.000000</td>\n",
       "      <td>0.000000</td>\n",
       "      <td>0.000000</td>\n",
       "      <td>0.000000</td>\n",
       "      <td>0.000000</td>\n",
       "      <td>0.000000</td>\n",
       "      <td>0.000000</td>\n",
       "      <td>0.000000</td>\n",
       "      <td>0.000000</td>\n",
       "      <td>0.000000</td>\n",
       "      <td>0.000000</td>\n",
       "    </tr>\n",
       "    <tr>\n",
       "      <th>50%</th>\n",
       "      <td>1.000000</td>\n",
       "      <td>0.000000</td>\n",
       "      <td>0.000000</td>\n",
       "      <td>0.000000</td>\n",
       "      <td>0.000000</td>\n",
       "      <td>0.000000</td>\n",
       "      <td>0.000000</td>\n",
       "      <td>1.000000</td>\n",
       "      <td>0.000000</td>\n",
       "      <td>0.000000</td>\n",
       "      <td>0.000000</td>\n",
       "      <td>1.000000</td>\n",
       "      <td>0.000000</td>\n",
       "    </tr>\n",
       "    <tr>\n",
       "      <th>75%</th>\n",
       "      <td>1.000000</td>\n",
       "      <td>1.000000</td>\n",
       "      <td>0.000000</td>\n",
       "      <td>1.000000</td>\n",
       "      <td>1.000000</td>\n",
       "      <td>1.000000</td>\n",
       "      <td>1.000000</td>\n",
       "      <td>1.000000</td>\n",
       "      <td>0.000000</td>\n",
       "      <td>1.000000</td>\n",
       "      <td>0.000000</td>\n",
       "      <td>1.000000</td>\n",
       "      <td>1.000000</td>\n",
       "    </tr>\n",
       "    <tr>\n",
       "      <th>max</th>\n",
       "      <td>9.000000</td>\n",
       "      <td>1.000000</td>\n",
       "      <td>1.000000</td>\n",
       "      <td>1.000000</td>\n",
       "      <td>1.000000</td>\n",
       "      <td>1.000000</td>\n",
       "      <td>1.000000</td>\n",
       "      <td>1.000000</td>\n",
       "      <td>1.000000</td>\n",
       "      <td>1.000000</td>\n",
       "      <td>1.000000</td>\n",
       "      <td>1.000000</td>\n",
       "      <td>1.000000</td>\n",
       "    </tr>\n",
       "  </tbody>\n",
       "</table>\n",
       "</div>"
      ],
      "text/plain": [
       "         QUANTITY  SHOP_HOUR_Afternoon  SHOP_HOUR_Evening  SHOP_HOUR_Morning  \\\n",
       "count  119.000000           119.000000         119.000000         119.000000   \n",
       "mean     1.512605             0.445378           0.226891           0.327731   \n",
       "std      1.227272             0.499109           0.420592           0.471371   \n",
       "min      1.000000             0.000000           0.000000           0.000000   \n",
       "25%      1.000000             0.000000           0.000000           0.000000   \n",
       "50%      1.000000             0.000000           0.000000           0.000000   \n",
       "75%      1.000000             1.000000           0.000000           1.000000   \n",
       "max      9.000000             1.000000           1.000000           1.000000   \n",
       "\n",
       "       BASKET_TYPE_Full Shop  BASKET_TYPE_Small Shop  BASKET_TYPE_Top Up  \\\n",
       "count             119.000000              119.000000          119.000000   \n",
       "mean                0.277311                0.268908            0.453782   \n",
       "std                 0.449564                0.445267            0.499964   \n",
       "min                 0.000000                0.000000            0.000000   \n",
       "25%                 0.000000                0.000000            0.000000   \n",
       "50%                 0.000000                0.000000            0.000000   \n",
       "75%                 1.000000                1.000000            1.000000   \n",
       "max                 1.000000                1.000000            1.000000   \n",
       "\n",
       "       BASKET_DOMINANT_MISSION_Fresh  BASKET_DOMINANT_MISSION_Grocery  \\\n",
       "count                     119.000000                       119.000000   \n",
       "mean                        0.537815                         0.075630   \n",
       "std                         0.500676                         0.265524   \n",
       "min                         0.000000                         0.000000   \n",
       "25%                         0.000000                         0.000000   \n",
       "50%                         1.000000                         0.000000   \n",
       "75%                         1.000000                         0.000000   \n",
       "max                         1.000000                         1.000000   \n",
       "\n",
       "       BASKET_DOMINANT_MISSION_Mixed  BASKET_DOMINANT_MISSION_Nonfood  \\\n",
       "count                     119.000000                       119.000000   \n",
       "mean                        0.310924                         0.075630   \n",
       "std                         0.464829                         0.265524   \n",
       "min                         0.000000                         0.000000   \n",
       "25%                         0.000000                         0.000000   \n",
       "50%                         0.000000                         0.000000   \n",
       "75%                         1.000000                         0.000000   \n",
       "max                         1.000000                         1.000000   \n",
       "\n",
       "       BASKET_SIZE_L  BASKET_SIZE_M  \n",
       "count     119.000000     119.000000  \n",
       "mean        0.697479       0.302521  \n",
       "std         0.461292       0.461292  \n",
       "min         0.000000       0.000000  \n",
       "25%         0.000000       0.000000  \n",
       "50%         1.000000       0.000000  \n",
       "75%         1.000000       1.000000  \n",
       "max         1.000000       1.000000  "
      ]
     },
     "execution_count": 34,
     "metadata": {},
     "output_type": "execute_result"
    }
   ],
   "source": [
    "basket_x.describe()"
   ]
  },
  {
   "cell_type": "code",
   "execution_count": null,
   "metadata": {},
   "outputs": [],
   "source": []
  }
 ],
 "metadata": {
  "kernelspec": {
   "display_name": "Python 3",
   "language": "python",
   "name": "python3"
  },
  "language_info": {
   "codemirror_mode": {
    "name": "ipython",
    "version": 3
   },
   "file_extension": ".py",
   "mimetype": "text/x-python",
   "name": "python",
   "nbconvert_exporter": "python",
   "pygments_lexer": "ipython3",
   "version": "3.7.0"
  }
 },
 "nbformat": 4,
 "nbformat_minor": 2
}
