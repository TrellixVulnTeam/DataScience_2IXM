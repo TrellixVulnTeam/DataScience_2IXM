{
 "cells": [
  {
   "cell_type": "markdown",
   "metadata": {},
   "source": [
    "# Workbench"
   ]
  },
  {
   "cell_type": "markdown",
   "metadata": {},
   "source": [
    "**Importing the required libraries**"
   ]
  },
  {
   "cell_type": "code",
   "execution_count": null,
   "metadata": {},
   "outputs": [],
   "source": [
    "# Import the numpy and pandas package\n",
    "import numpy as np\n",
    "import pandas as pd\n",
    "\n",
    "#Data Visualisation\n",
    "import matplotlib.pyplot as plt\n",
    "import seaborn as sns\n",
    "\n",
    "#Import the warnings\n",
    "import warnings\n",
    "\n",
    "#Import statsmodels\n",
    "import statsmodels.formula.api as smf\n",
    "\n",
    "#Import RMSE\n",
    "from statsmodels.tools.eval_measures import rmse\n",
    "\n",
    "#Import Linear Regression from scikit-learn\n",
    "from sklearn.linear_model import LinearRegression\n",
    "\n",
    "#configuration settings\n",
    "%matplotlib inline\n",
    "sns.set(color_codes=True)\n",
    "warnings.filterwarnings('ignore')##Surpress the warnings"
   ]
  },
  {
   "cell_type": "markdown",
   "metadata": {},
   "source": [
    "**Load the data into a dataframe**"
   ]
  },
  {
   "cell_type": "code",
   "execution_count": null,
   "metadata": {},
   "outputs": [],
   "source": [
    "#Load the data into a dataframe called supermarket_till_transactions_df\n",
    "supermarket_till_transactions_df =pd.read_csv(\"\")"
   ]
  },
  {
   "cell_type": "code",
   "execution_count": 1,
   "metadata": {},
   "outputs": [],
   "source": [
    "#View the top five records\n",
    "supermarket_till_transactions_df.head()"
   ]
  },
  {
   "cell_type": "markdown",
   "metadata": {},
   "source": [
    "In order to illustrate Simple Linear Regression we just need two variables which are:\n",
    "1. SHOP_WEEKDAY\n",
    "2. SPEND"
   ]
  },
  {
   "cell_type": "code",
   "execution_count": null,
   "metadata": {},
   "outputs": [],
   "source": [
    "supermarket_till_transactions_df = supermarket_till_transactions_df[[\"SHOP_WEEKDAY\",\"SPEND\"]]\n",
    "supermarket_till_transactions_df.head(5)"
   ]
  },
  {
   "cell_type": "markdown",
   "metadata": {},
   "source": [
    "Using Ordinary Least Squares Method (OLS)\n",
    "There are two kinds of variables in a alinear regression model:\n",
    "1. The input or predictor variable commonly refered to as X\n",
    "2. The output is the variable that we want to predict commonly refered to as Y\n",
    "\n",
    "\n",
    "where Yₑ is the estimated or predicted value of Y based on our linear equation.\n",
    "The objective of the Ordinary Least Square Method is to find the values of and in the y = x + linear\n",
    "regression equation that minimise the sum of the squared difference between Y and Yₑ.\n",
    "\n",
    "where X̄ is the mean of X values and Ȳ is the mean of Y values.\n",
    "β as simply Cov(X, Y) / Var(X)\n",
    "\n",
    "If we are able to determine the optimum values of these two parameters, then we will have the line of best fit\n",
    "that we can use to predict the values of Y, given the value of X."
   ]
  },
  {
   "cell_type": "code",
   "execution_count": null,
   "metadata": {},
   "outputs": [],
   "source": [
    "x = supermarket_till_transactions_df[\"SHOP_WEEKDAY\"]\n",
    "y = supermarket_till_transactions_df[\"SPEND\"]\n",
    "\n",
    "#calculate the mean of x and y\n",
    "xmean = np.mean(x)\n",
    "ymean = np.mean(y)\n",
    "\n",
    "#Calculate the tems needed for the numerator and denominator of beta\n",
    "supermarket_till_transactions_df['xycov'] = (supermarket_till_transactions_df[\"SHOP_WEEKDAY\"])\n",
    "supermarket_till_transactions_df['xvar'] = (supermarket_till_transactions_df[\"SHOP_WEEKDAY\"])\n",
    "\n",
    "#Calculate beta and alpha\n",
    "beta = supermarket_till_transactions_df['xycov'].sum()/supermarket_till_transactions_df[\"\"]\n",
    "alpha = ymean - (beta*xmean)"
   ]
  },
  {
   "cell_type": "code",
   "execution_count": null,
   "metadata": {},
   "outputs": [],
   "source": [
    "# View the alpha and beta values\n",
    "print(f'alpha = {alpha}')\n",
    "print(f'beta = {beta}')"
   ]
  },
  {
   "cell_type": "markdown",
   "metadata": {},
   "source": [
    "Great, we now have an estimate for alpha and beta! Our model can be written as Yₑ = 330.098 + -30.045 X,\n",
    "and we can start making predictions:"
   ]
  },
  {
   "cell_type": "code",
   "execution_count": null,
   "metadata": {},
   "outputs": [],
   "source": [
    "ypred = alpha + beta * X"
   ]
  },
  {
   "cell_type": "code",
   "execution_count": null,
   "metadata": {},
   "outputs": [],
   "source": [
    "# View the predictions\n",
    "ypred"
   ]
  },
  {
   "cell_type": "markdown",
   "metadata": {},
   "source": [
    "Let’s plot our prediction ypred against the actual values of y, to get a better visual understanding of our model."
   ]
  },
  {
   "cell_type": "code",
   "execution_count": null,
   "metadata": {},
   "outputs": [],
   "source": [
    "# Plot regression against actual data\n",
    "plt.figure(figsize=(12, 6))\n",
    "plt.plot(X, ypred) # regression line\n",
    "plt.plot(X, y, 'ro') # scatter plot showing actual data\n",
    "plt.title('Actual vs Predicted')\n",
    "plt.xlabel('X')\n",
    "plt.ylabel('y')\n",
    "plt.show()"
   ]
  },
  {
   "cell_type": "markdown",
   "metadata": {},
   "source": [
    "The blue line is our line of best fit i.e. Yₑ = 330.098 + -30.045 X\n",
    "\n",
    "We can see from this graph that there is a negative linear relationship between X and y. Using our model, we\n",
    "can predict y from any values of X!\n",
    "\n",
    "For example, if we had a value X = 7, we can predict that: (According to the data description 7 represents\n",
    "Saturday)\n",
    "\n",
    "Yₑ = 330.098 + -30.045 (7) = 119.783\n",
    "\n",
    "According to this it means that customer spend reduces from Monday to Saturday"
   ]
  },
  {
   "cell_type": "markdown",
   "metadata": {},
   "source": [
    "**Using statsmodels**"
   ]
  },
  {
   "cell_type": "code",
   "execution_count": null,
   "metadata": {},
   "outputs": [],
   "source": [
    "# Initialise and fit linear regression model using `statsmodels`\n",
    "stats_model = smf.ols('SPEND ~ SHOP_WEEKDAY', data=supermarket_till_transactions_df)\n",
    "stats_model = stats_model.fit()"
   ]
  },
  {
   "cell_type": "markdown",
   "metadata": {},
   "source": [
    "We no longer have to calculate alpha and beta ourselves as this method does it automatically for us! Calling\n",
    "model.params will show us the model’s parameters:"
   ]
  },
  {
   "cell_type": "code",
   "execution_count": null,
   "metadata": {},
   "outputs": [],
   "source": [
    "stats_model.params"
   ]
  },
  {
   "cell_type": "markdown",
   "metadata": {},
   "source": [
    "From the results above:\n",
    "1. β0 = 330.097882 - This is the y intercept when x is zero\n",
    "2. β1 = -30.045026 - This is the regression coefficient that measures a unit change in SPEND when SHOP_WEEKDAY changes\n",
    "\n",
    "The negative value on the regression co-efficient for SHOP_WEEKDAY means that SHOP_WEEKDAY has a\n",
    "negative impact to the SPEND."
   ]
  },
  {
   "cell_type": "code",
   "execution_count": null,
   "metadata": {},
   "outputs": [],
   "source": [
    "stats_model.summary()"
   ]
  },
  {
   "cell_type": "markdown",
   "metadata": {},
   "source": [
    "**R-Squared**\n",
    "\n",
    "**The Coefficient of determination, R-Squared** – This is used to measure how much of the variation in the\n",
    "outcome can be explained by the variation in the independent variables. R-Squared always increases as more\n",
    "predictors are added to the MLR model even though the predictors may not be related to the outcome variable.\n",
    "\n",
    "R2 by itself can't thus be used to identify which predictors should be included in a model and which should be\n",
    "excluded. R2 can only be between 0 and 1, where 0 indicates that the outcome cannot be predicted by any of\n",
    "the independent variables and 1 indicates that the outcome can be predicted without error from the independent\n",
    "variables."
   ]
  },
  {
   "cell_type": "code",
   "execution_count": null,
   "metadata": {},
   "outputs": [],
   "source": [
    "# print the R-squared value for the model\n",
    "stats_model.rsquared"
   ]
  },
  {
   "cell_type": "markdown",
   "metadata": {},
   "source": [
    "**This means that <font color= red>2.335%</font> of the SPEND can be explained by SHOP_WEEKDAY**\n",
    "\n",
    "**Adjusted R-Squared**\n",
    "\n",
    "When we add more predictor variables into the equation, R-Squared will always increase making R-Squared\n",
    "not accurate as the number of predictor variables increases.\n",
    "\n",
    "Adjusted R-Squared, accounts for the increase of the predictor variables.\n",
    "\n",
    "Because of the nature of the equation, the adjusted R-Squared should always be lower or equal to the RSquared"
   ]
  },
  {
   "cell_type": "code",
   "execution_count": null,
   "metadata": {},
   "outputs": [],
   "source": [
    "# print the Adjusted R-squared value for the model\n",
    "stats_model.rsquared_adj"
   ]
  },
  {
   "cell_type": "markdown",
   "metadata": {},
   "source": [
    "**Confidence in the model**\n",
    "\n",
    "A confidence interval gives an estimated range of values which is likely to include an unknown population\n",
    "parameter, the estimated range being calculated from a given set of sample data.\n",
    "\n",
    "A confidence interval is how much uncertainty there is with any particular statistic. Confidence intervals are\n",
    "often used with a margin of error. It tells you how confident you can be that the results reflect what you would\n",
    "expect to find if it were possible to study the entire population."
   ]
  },
  {
   "cell_type": "code",
   "execution_count": null,
   "metadata": {},
   "outputs": [],
   "source": [
    "# print the confidence intervals for the model coefficients\n",
    "stats_model.conf_int()"
   ]
  },
  {
   "cell_type": "markdown",
   "metadata": {},
   "source": [
    "**Hypothesis Testing and P-Values**"
   ]
  },
  {
   "cell_type": "code",
   "execution_count": null,
   "metadata": {},
   "outputs": [],
   "source": [
    "# print the p-values for the model coefficients\n",
    "stats_model.pvalues"
   ]
  },
  {
   "cell_type": "markdown",
   "metadata": {},
   "source": [
    "Now that we’ve fit a simple regression model, we can try to predict the values of spend based on the equation\n",
    "we just derived using the .predict method."
   ]
  },
  {
   "cell_type": "code",
   "execution_count": null,
   "metadata": {},
   "outputs": [],
   "source": [
    "# Predict values\n",
    "spend_pred = stats_model.predict()\n",
    "# Plot regression against actual data\n",
    "plt.figure(figsize=(12, 6))\n",
    "plt.plot(supermarket_till_transactions_df['SHOP_WEEKDAY'], supermarket_till_transactions_df\n",
    "plt.plot(supermarket_till_transactions_df['SHOP_WEEKDAY'], spend_pred, 'r', linewidth=2)\n",
    "plt.xlabel('SHOP_WEEKDAY')\n",
    "plt.ylabel('SPEND')\n",
    "plt.title('SHOP_WEEKDAY vs SPEND')\n",
    "plt.show()"
   ]
  },
  {
   "cell_type": "markdown",
   "metadata": {},
   "source": [
    "With this model, we can predict spend from given day of the week. For example, if we want to predict the spend\n",
    "for sunday, we can predict that spend will increase to 300.05 shillings:"
   ]
  },
  {
   "cell_type": "code",
   "execution_count": null,
   "metadata": {},
   "outputs": [],
   "source": [
    "new_X = 1\n",
    "ypred = stats_model.predict({\"SHOP_WEEKDAY\": new_X})"
   ]
  },
  {
   "cell_type": "markdown",
   "metadata": {},
   "source": [
    "**RMSE**\n",
    "\n",
    "The root-mean-square error (RMSE) is a frequently used measure of the differences between values (sample\n",
    "and population values) predicted by a model and the values actually observed\n",
    "\n",
    "The smaller the value the better"
   ]
  },
  {
   "cell_type": "code",
   "execution_count": null,
   "metadata": {},
   "outputs": [],
   "source": [
    "# calc rmse\n",
    "rmse = rmse(y, ypred)\n",
    "rmse"
   ]
  },
  {
   "cell_type": "code",
   "execution_count": null,
   "metadata": {},
   "outputs": [],
   "source": []
  }
 ],
 "metadata": {
  "kernelspec": {
   "display_name": "Python 3",
   "language": "python",
   "name": "python3"
  },
  "language_info": {
   "codemirror_mode": {
    "name": "ipython",
    "version": 3
   },
   "file_extension": ".py",
   "mimetype": "text/x-python",
   "name": "python",
   "nbconvert_exporter": "python",
   "pygments_lexer": "ipython3",
   "version": "3.7.0"
  }
 },
 "nbformat": 4,
 "nbformat_minor": 2
}
