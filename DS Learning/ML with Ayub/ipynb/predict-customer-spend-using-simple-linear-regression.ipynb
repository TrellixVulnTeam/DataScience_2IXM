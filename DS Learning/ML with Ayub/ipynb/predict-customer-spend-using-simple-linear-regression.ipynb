{
 "cells": [
  {
   "cell_type": "markdown",
   "metadata": {},
   "source": [
    "# Customer Spend Prediction - Using Simple Linear Regression\n",
    "by A4Ayub Data Science Labs (http://www.a4ayub.me/)"
   ]
  },
  {
   "cell_type": "markdown",
   "metadata": {},
   "source": [
    "### Class Problem Statement"
   ]
  },
  {
   "cell_type": "markdown",
   "metadata": {},
   "source": [
    "Build a model to predict customer spend based on day of week\n",
    "\n",
    "<font color=\"red\">**Please take note that the illustrations in this notebook is NOT for results/accuracy but for explaining the various concepts**</font>"
   ]
  },
  {
   "cell_type": "markdown",
   "metadata": {},
   "source": [
    "### Data Description"
   ]
  },
  {
   "cell_type": "markdown",
   "metadata": {},
   "source": [
    "<font color=\"red\">**This data is proprietory and cannot be shared to anyone who is NOT attending A4Ayub Data Science Labs.!**</font>\n",
    "\n",
    "Each row in the dataset corresponds to one unique product in a basket (e.g. if there are three occurences of the same product in that basket, it will have one row for the product in that basket, with quantity equal to three)\n",
    "\n",
    "The file has the below structure:\n",
    "\n",
    "| Column Name | Description | Type | Sample Values |\n",
    "| --- | --- | --- | --- |\n",
    "| shop_week | Identifies the week of the basket | Char | Format is YYYYWW where the first 4 characters identify the fiscal year and the other two characters identify the specific week within the year (e.g. 200735). Being the fiscal year, the first week doesn’t start in January.  (See time.csv file for start/end dates of each week) |\n",
    "| shop_date | Date when shopping has been made. Date is specified in the yyyymmdd format | Char | 20060413, 20060412 |\n",
    "| shop_weekday | Identifies the day of the week | Num | 1=Sunday, 2=Monday, …, 7=Saturday |\n",
    "| shop_hour | Hour slot of the shopping | Num | 0=00:00-00:59, 1=01:00-01:59, …23=23:00-23:59 |\n",
    "| Quantity | Number of items of the same product bought in this basket | Num | Integer number |\n",
    "| spend | Spend associated to the items bought | Num | Number with two decimal digits |\n",
    "| prod_code | Product Code | Char | PRD0900001, PRD0900003 |\n",
    "| prod_code_10 | Product Hierarchy Level 10 Code | Char | CL00072, CL00144 |\n",
    "| prod_code_20 | Product Hierarchy Level 20 Code | Char | DEP00021, DEP00051 |\n",
    "| prod_code_30 | Product Hierarchy Level 30 Code | Char | G00007, G00015 |\n",
    "| prod_code_40 | Product Hierarchy Level 40 Code | Char | D00002, D00003 |\n",
    "| cust_code | Customer Code | Char | CUST0000001624, CUST0000001912 |\n",
    "| cust_price_sensitivity | Customer’s Price Sensitivity | Char | LA=Less Affluent, MM=Mid Market, UM=Up Market, XX=unclassified |\n",
    "| cust_lifestage | Customer’s Lifestage | Char | YA=Young Adults, OA=Older Adults, YF=Young Families, OF=Older Families, PE=Pensioners, OT=Other, XX=unclassified |\n",
    "| basket_id | Basket ID. All items in a basket share the same basket_id value. | Num | 994100100000020, 994100100000344 |\n",
    "| basket_size | Basket size | Char | L=Large, M=Medium, S=Small |\n",
    "| basket_price_sensitivity | Basket price sensitivity  | Char | LA=Less Affluent, MM=Mid Market, UM=Up Market, XX=unclassified |\n",
    "| basket_type | Basket type | Char | Small Shop, Top Up, Full Shop, XX |\n",
    "| basket_dominant_mission | Shopping dominant mission | Char | Fresh, Grocery, Mixed, Non Food, XX |\n",
    "| store_code | Store Code | Char | STORE00001, STORE00002 |\n",
    "| store_format | Format of the Store | Char | LS, MS, SS, XLS |\n",
    "| store_region | Region the store belongs to | Char | E02, W01, E01, N03 |\n"
   ]
  },
  {
   "cell_type": "markdown",
   "metadata": {},
   "source": [
    "### Workbench"
   ]
  },
  {
   "cell_type": "markdown",
   "metadata": {},
   "source": [
    "#### Importing the required libraries"
   ]
  },
  {
   "cell_type": "code",
   "execution_count": 1,
   "metadata": {},
   "outputs": [],
   "source": [
    "# Import the numpy and pandas package\n",
    "import numpy as np\n",
    "import pandas as pd\n",
    "\n",
    "# Data Visualisation\n",
    "import matplotlib.pyplot as plt \n",
    "import seaborn as sns\n",
    "\n",
    "# Import the warnings\n",
    "import warnings\n",
    "\n",
    "# Import statsmodels\n",
    "import statsmodels.formula.api as smf\n",
    "\n",
    "# Import RMSE\n",
    "from statsmodels.tools.eval_measures import rmse\n",
    "\n",
    "# Imort Linear Regression from scikit-learn\n",
    "from sklearn.linear_model import LinearRegression\n",
    "\n",
    "# configuration settings\n",
    "%matplotlib inline \n",
    "sns.set(color_codes=True)\n",
    "warnings.filterwarnings('ignore') ## Surpress the warnings"
   ]
  },
  {
   "cell_type": "markdown",
   "metadata": {},
   "source": [
    "#### Load the data into a dataframe"
   ]
  },
  {
   "cell_type": "code",
   "execution_count": 2,
   "metadata": {},
   "outputs": [],
   "source": [
    "# load the data into a dataframe called supermarket_till_transactions_df\n",
    "supermarket_till_transactions_df = pd.read_csv(\"../supermarket_till_transactions.csv\")"
   ]
  },
  {
   "cell_type": "code",
   "execution_count": 3,
   "metadata": {},
   "outputs": [
    {
     "data": {
      "text/html": [
       "<div>\n",
       "<style scoped>\n",
       "    .dataframe tbody tr th:only-of-type {\n",
       "        vertical-align: middle;\n",
       "    }\n",
       "\n",
       "    .dataframe tbody tr th {\n",
       "        vertical-align: top;\n",
       "    }\n",
       "\n",
       "    .dataframe thead th {\n",
       "        text-align: right;\n",
       "    }\n",
       "</style>\n",
       "<table border=\"1\" class=\"dataframe\">\n",
       "  <thead>\n",
       "    <tr style=\"text-align: right;\">\n",
       "      <th></th>\n",
       "      <th>SHOP_WEEK</th>\n",
       "      <th>SHOP_DATE</th>\n",
       "      <th>SHOP_WEEKDAY</th>\n",
       "      <th>SHOP_HOUR</th>\n",
       "      <th>QUANTITY</th>\n",
       "      <th>SPEND</th>\n",
       "      <th>PROD_CODE</th>\n",
       "      <th>PROD_CODE_10</th>\n",
       "      <th>PROD_CODE_20</th>\n",
       "      <th>PROD_CODE_30</th>\n",
       "      <th>...</th>\n",
       "      <th>CUST_PRICE_SENSITIVITY</th>\n",
       "      <th>CUST_LIFESTAGE</th>\n",
       "      <th>BASKET_ID</th>\n",
       "      <th>BASKET_SIZE</th>\n",
       "      <th>BASKET_PRICE_SENSITIVITY</th>\n",
       "      <th>BASKET_TYPE</th>\n",
       "      <th>BASKET_DOMINANT_MISSION</th>\n",
       "      <th>STORE_CODE</th>\n",
       "      <th>STORE_FORMAT</th>\n",
       "      <th>STORE_REGION</th>\n",
       "    </tr>\n",
       "  </thead>\n",
       "  <tbody>\n",
       "    <tr>\n",
       "      <th>0</th>\n",
       "      <td>200607</td>\n",
       "      <td>20060413</td>\n",
       "      <td>5</td>\n",
       "      <td>20</td>\n",
       "      <td>1</td>\n",
       "      <td>103</td>\n",
       "      <td>PRD0900097</td>\n",
       "      <td>CL00001</td>\n",
       "      <td>DEP00001</td>\n",
       "      <td>G00001</td>\n",
       "      <td>...</td>\n",
       "      <td>LA</td>\n",
       "      <td>YF</td>\n",
       "      <td>994100100532898</td>\n",
       "      <td>L</td>\n",
       "      <td>LA</td>\n",
       "      <td>Top Up</td>\n",
       "      <td>Fresh</td>\n",
       "      <td>STORE00001</td>\n",
       "      <td>LS</td>\n",
       "      <td>E02</td>\n",
       "    </tr>\n",
       "    <tr>\n",
       "      <th>1</th>\n",
       "      <td>200607</td>\n",
       "      <td>20060412</td>\n",
       "      <td>4</td>\n",
       "      <td>19</td>\n",
       "      <td>1</td>\n",
       "      <td>28</td>\n",
       "      <td>PRD0900353</td>\n",
       "      <td>CL00070</td>\n",
       "      <td>DEP00020</td>\n",
       "      <td>G00007</td>\n",
       "      <td>...</td>\n",
       "      <td>LA</td>\n",
       "      <td>YF</td>\n",
       "      <td>994100100532897</td>\n",
       "      <td>M</td>\n",
       "      <td>MM</td>\n",
       "      <td>Small Shop</td>\n",
       "      <td>Fresh</td>\n",
       "      <td>STORE00001</td>\n",
       "      <td>LS</td>\n",
       "      <td>E02</td>\n",
       "    </tr>\n",
       "    <tr>\n",
       "      <th>2</th>\n",
       "      <td>200607</td>\n",
       "      <td>20060413</td>\n",
       "      <td>5</td>\n",
       "      <td>20</td>\n",
       "      <td>3</td>\n",
       "      <td>84</td>\n",
       "      <td>PRD0900550</td>\n",
       "      <td>CL00167</td>\n",
       "      <td>DEP00055</td>\n",
       "      <td>G00016</td>\n",
       "      <td>...</td>\n",
       "      <td>LA</td>\n",
       "      <td>YF</td>\n",
       "      <td>994100100532898</td>\n",
       "      <td>L</td>\n",
       "      <td>LA</td>\n",
       "      <td>Top Up</td>\n",
       "      <td>Fresh</td>\n",
       "      <td>STORE00001</td>\n",
       "      <td>LS</td>\n",
       "      <td>E02</td>\n",
       "    </tr>\n",
       "    <tr>\n",
       "      <th>3</th>\n",
       "      <td>200607</td>\n",
       "      <td>20060412</td>\n",
       "      <td>4</td>\n",
       "      <td>19</td>\n",
       "      <td>1</td>\n",
       "      <td>221</td>\n",
       "      <td>PRD0901647</td>\n",
       "      <td>CL00010</td>\n",
       "      <td>DEP00003</td>\n",
       "      <td>G00002</td>\n",
       "      <td>...</td>\n",
       "      <td>LA</td>\n",
       "      <td>YF</td>\n",
       "      <td>994100100532897</td>\n",
       "      <td>M</td>\n",
       "      <td>MM</td>\n",
       "      <td>Small Shop</td>\n",
       "      <td>Fresh</td>\n",
       "      <td>STORE00001</td>\n",
       "      <td>LS</td>\n",
       "      <td>E02</td>\n",
       "    </tr>\n",
       "    <tr>\n",
       "      <th>4</th>\n",
       "      <td>200607</td>\n",
       "      <td>20060413</td>\n",
       "      <td>5</td>\n",
       "      <td>20</td>\n",
       "      <td>1</td>\n",
       "      <td>334</td>\n",
       "      <td>PRD0902064</td>\n",
       "      <td>CL00073</td>\n",
       "      <td>DEP00021</td>\n",
       "      <td>G00007</td>\n",
       "      <td>...</td>\n",
       "      <td>LA</td>\n",
       "      <td>YF</td>\n",
       "      <td>994100100532898</td>\n",
       "      <td>L</td>\n",
       "      <td>LA</td>\n",
       "      <td>Top Up</td>\n",
       "      <td>Fresh</td>\n",
       "      <td>STORE00001</td>\n",
       "      <td>LS</td>\n",
       "      <td>E02</td>\n",
       "    </tr>\n",
       "  </tbody>\n",
       "</table>\n",
       "<p>5 rows × 22 columns</p>\n",
       "</div>"
      ],
      "text/plain": [
       "   SHOP_WEEK  SHOP_DATE  SHOP_WEEKDAY  SHOP_HOUR  QUANTITY  SPEND   PROD_CODE  \\\n",
       "0     200607   20060413             5         20         1    103  PRD0900097   \n",
       "1     200607   20060412             4         19         1     28  PRD0900353   \n",
       "2     200607   20060413             5         20         3     84  PRD0900550   \n",
       "3     200607   20060412             4         19         1    221  PRD0901647   \n",
       "4     200607   20060413             5         20         1    334  PRD0902064   \n",
       "\n",
       "  PROD_CODE_10 PROD_CODE_20 PROD_CODE_30     ...      CUST_PRICE_SENSITIVITY  \\\n",
       "0      CL00001     DEP00001       G00001     ...                          LA   \n",
       "1      CL00070     DEP00020       G00007     ...                          LA   \n",
       "2      CL00167     DEP00055       G00016     ...                          LA   \n",
       "3      CL00010     DEP00003       G00002     ...                          LA   \n",
       "4      CL00073     DEP00021       G00007     ...                          LA   \n",
       "\n",
       "  CUST_LIFESTAGE        BASKET_ID BASKET_SIZE  BASKET_PRICE_SENSITIVITY  \\\n",
       "0             YF  994100100532898           L                        LA   \n",
       "1             YF  994100100532897           M                        MM   \n",
       "2             YF  994100100532898           L                        LA   \n",
       "3             YF  994100100532897           M                        MM   \n",
       "4             YF  994100100532898           L                        LA   \n",
       "\n",
       "  BASKET_TYPE BASKET_DOMINANT_MISSION  STORE_CODE STORE_FORMAT STORE_REGION  \n",
       "0      Top Up                   Fresh  STORE00001           LS          E02  \n",
       "1  Small Shop                   Fresh  STORE00001           LS          E02  \n",
       "2      Top Up                   Fresh  STORE00001           LS          E02  \n",
       "3  Small Shop                   Fresh  STORE00001           LS          E02  \n",
       "4      Top Up                   Fresh  STORE00001           LS          E02  \n",
       "\n",
       "[5 rows x 22 columns]"
      ]
     },
     "execution_count": 3,
     "metadata": {},
     "output_type": "execute_result"
    }
   ],
   "source": [
    "# view the top five records\n",
    "supermarket_till_transactions_df.head(5)"
   ]
  },
  {
   "cell_type": "markdown",
   "metadata": {},
   "source": [
    "In order to illustrate Simple Linear Regression we just need two variables which are:\n",
    "1. SHOP_WEEKDAY\n",
    "2. SPEND"
   ]
  },
  {
   "cell_type": "code",
   "execution_count": 4,
   "metadata": {},
   "outputs": [
    {
     "data": {
      "text/html": [
       "<div>\n",
       "<style scoped>\n",
       "    .dataframe tbody tr th:only-of-type {\n",
       "        vertical-align: middle;\n",
       "    }\n",
       "\n",
       "    .dataframe tbody tr th {\n",
       "        vertical-align: top;\n",
       "    }\n",
       "\n",
       "    .dataframe thead th {\n",
       "        text-align: right;\n",
       "    }\n",
       "</style>\n",
       "<table border=\"1\" class=\"dataframe\">\n",
       "  <thead>\n",
       "    <tr style=\"text-align: right;\">\n",
       "      <th></th>\n",
       "      <th>SHOP_WEEKDAY</th>\n",
       "      <th>SPEND</th>\n",
       "    </tr>\n",
       "  </thead>\n",
       "  <tbody>\n",
       "    <tr>\n",
       "      <th>0</th>\n",
       "      <td>5</td>\n",
       "      <td>103</td>\n",
       "    </tr>\n",
       "    <tr>\n",
       "      <th>1</th>\n",
       "      <td>4</td>\n",
       "      <td>28</td>\n",
       "    </tr>\n",
       "    <tr>\n",
       "      <th>2</th>\n",
       "      <td>5</td>\n",
       "      <td>84</td>\n",
       "    </tr>\n",
       "    <tr>\n",
       "      <th>3</th>\n",
       "      <td>4</td>\n",
       "      <td>221</td>\n",
       "    </tr>\n",
       "    <tr>\n",
       "      <th>4</th>\n",
       "      <td>5</td>\n",
       "      <td>334</td>\n",
       "    </tr>\n",
       "  </tbody>\n",
       "</table>\n",
       "</div>"
      ],
      "text/plain": [
       "   SHOP_WEEKDAY  SPEND\n",
       "0             5    103\n",
       "1             4     28\n",
       "2             5     84\n",
       "3             4    221\n",
       "4             5    334"
      ]
     },
     "execution_count": 4,
     "metadata": {},
     "output_type": "execute_result"
    }
   ],
   "source": [
    "supermarket_till_transactions_df = supermarket_till_transactions_df[[\"SHOP_WEEKDAY\",\"SPEND\"]]\n",
    "supermarket_till_transactions_df.head(5)"
   ]
  },
  {
   "cell_type": "markdown",
   "metadata": {},
   "source": [
    "#### Using Ordinary Least Squares Method (OLS)"
   ]
  },
  {
   "cell_type": "markdown",
   "metadata": {},
   "source": [
    "There are two kinds of variables in a alinear regression model:\n",
    "1. The input or predictor variable commonly refered to as **X**\n",
    "2. The output is the variable that we want to predict commonly refered to as **Y**\n",
    "\n",
    "![Linear Regression Formula Image](../images/simple-linear-regression-standard-formula.PNG)\n",
    "\n",
    "where Yₑ is the estimated or predicted value of Y based on our linear equation.\n",
    "\n",
    "The objective of the Ordinary Least Square Method is to find the values of $\\alpha$ and $\\beta$ in the **y = $\\beta$x + $\\alpha$** linear regression equation that minimise the sum of the squared difference between Y and Yₑ.\n",
    "\n",
    "![Alpha-Beta Formula Image](../images/alpha-beta-formula.PNG) \n",
    "\n",
    "where X̄ is the mean of X values and Ȳ is the mean of Y values.\n",
    "\n",
    "**β as simply Cov(X, Y) / Var(X)**\n",
    "\n",
    "If we are able to determine the optimum values of these two parameters, then we will have the line of best fit that we can use to predict the values of Y, given the value of X."
   ]
  },
  {
   "cell_type": "code",
   "execution_count": 5,
   "metadata": {},
   "outputs": [],
   "source": [
    "X = supermarket_till_transactions_df[\"SHOP_WEEKDAY\"]\n",
    "y = supermarket_till_transactions_df[\"SPEND\"]\n",
    "\n",
    "# calculate the mean of X and y\n",
    "xmean = np.mean(X)\n",
    "ymean = np.mean(y)\n",
    "\n",
    "# Calculate the terms needed for the numator and denominator of beta\n",
    "supermarket_till_transactions_df['xycov'] = (supermarket_till_transactions_df['SHOP_WEEKDAY'] - xmean) * (supermarket_till_transactions_df['SPEND'] - ymean)\n",
    "supermarket_till_transactions_df['xvar'] = (supermarket_till_transactions_df['SHOP_WEEKDAY'] - xmean)**2\n",
    "\n",
    "# Calculate beta and alpha\n",
    "beta = supermarket_till_transactions_df['xycov'].sum() / supermarket_till_transactions_df['xvar'].sum()\n",
    "alpha = ymean - (beta * xmean)"
   ]
  },
  {
   "cell_type": "code",
   "execution_count": 6,
   "metadata": {},
   "outputs": [
    {
     "name": "stdout",
     "output_type": "stream",
     "text": [
      "alpha = 330.09788218544224\n",
      "beta = -30.045025805303435\n"
     ]
    }
   ],
   "source": [
    "# View the alpha and beta values\n",
    "print(f'alpha = {alpha}')\n",
    "print(f'beta = {beta}')"
   ]
  },
  {
   "cell_type": "markdown",
   "metadata": {},
   "source": [
    "Great, we now have an estimate for alpha and beta! Our model can be written as Yₑ = 330.098 + -30.045 X, and we can start making predictions:"
   ]
  },
  {
   "cell_type": "code",
   "execution_count": 7,
   "metadata": {},
   "outputs": [],
   "source": [
    "ypred = alpha + beta * X"
   ]
  },
  {
   "cell_type": "code",
   "execution_count": 8,
   "metadata": {},
   "outputs": [
    {
     "data": {
      "text/plain": [
       "0      179.872753\n",
       "1      209.917779\n",
       "2      179.872753\n",
       "3      209.917779\n",
       "4      179.872753\n",
       "5      179.872753\n",
       "6      179.872753\n",
       "7      209.917779\n",
       "8      179.872753\n",
       "9      209.917779\n",
       "10     179.872753\n",
       "11     179.872753\n",
       "12     149.827727\n",
       "13     149.827727\n",
       "14     149.827727\n",
       "15     149.827727\n",
       "16     239.962805\n",
       "17     149.827727\n",
       "18     149.827727\n",
       "19     239.962805\n",
       "20     149.827727\n",
       "21     149.827727\n",
       "22     149.827727\n",
       "23     149.827727\n",
       "24     239.962805\n",
       "25     149.827727\n",
       "26     239.962805\n",
       "27     149.827727\n",
       "28     149.827727\n",
       "29     179.872753\n",
       "          ...    \n",
       "89     209.917779\n",
       "90     209.917779\n",
       "91     209.917779\n",
       "92     209.917779\n",
       "93     209.917779\n",
       "94     209.917779\n",
       "95     209.917779\n",
       "96     209.917779\n",
       "97     209.917779\n",
       "98     209.917779\n",
       "99     209.917779\n",
       "100    209.917779\n",
       "101    209.917779\n",
       "102    209.917779\n",
       "103    209.917779\n",
       "104    209.917779\n",
       "105    209.917779\n",
       "106    209.917779\n",
       "107    209.917779\n",
       "108    239.962805\n",
       "109    239.962805\n",
       "110    179.872753\n",
       "111    239.962805\n",
       "112    179.872753\n",
       "113    179.872753\n",
       "114    270.007831\n",
       "115    149.827727\n",
       "116    149.827727\n",
       "117    149.827727\n",
       "118    149.827727\n",
       "Name: SHOP_WEEKDAY, Length: 119, dtype: float64"
      ]
     },
     "execution_count": 8,
     "metadata": {},
     "output_type": "execute_result"
    }
   ],
   "source": [
    "# View the predictions\n",
    "ypred"
   ]
  },
  {
   "cell_type": "markdown",
   "metadata": {},
   "source": [
    "Let’s plot our prediction ypred against the actual values of y, to get a better visual understanding of our model."
   ]
  },
  {
   "cell_type": "code",
   "execution_count": 9,
   "metadata": {},
   "outputs": [
    {
     "data": {
      "image/png": "[encoded data removed]",
      "text/plain": [
       "<Figure size 864x432 with 1 Axes>"
      ]
     },
     "metadata": {
      "needs_background": "light"
     },
     "output_type": "display_data"
    }
   ],
   "source": [
    "# Plot regression against actual data\n",
    "plt.figure(figsize=(12, 6))\n",
    "plt.plot(X, ypred)     # regression line\n",
    "plt.plot(X, y, 'ro')   # scatter plot showing actual data\n",
    "plt.title('Actual vs Predicted')\n",
    "plt.xlabel('X')\n",
    "plt.ylabel('y')\n",
    "\n",
    "plt.show()"
   ]
  },
  {
   "cell_type": "markdown",
   "metadata": {},
   "source": [
    "The blue line is our line of best fit i.e. Yₑ = 330.098 + -30.045 X\n",
    "\n",
    "We can see from this graph that there is a negative linear relationship between X and y. Using our model, we can predict y from any values of X!\n",
    "\n",
    "For example, if we had a value X = 7, we can predict that: (According to the data description 7 represents Saturday)\n",
    "\n",
    "Yₑ = 330.098 + -30.045 (7) = **119.783**\n",
    "\n",
    "According to this it means that customer spend reduces from Monday to Saturday"
   ]
  },
  {
   "cell_type": "markdown",
   "metadata": {},
   "source": [
    "#### Using statsmodels"
   ]
  },
  {
   "cell_type": "code",
   "execution_count": 10,
   "metadata": {},
   "outputs": [],
   "source": [
    "# Initialise and fit linear regression model using `statsmodels`\n",
    "stats_model = smf.ols('SPEND ~ SHOP_WEEKDAY', data=supermarket_till_transactions_df)\n",
    "stats_model = stats_model.fit()"
   ]
  },
  {
   "cell_type": "markdown",
   "metadata": {},
   "source": [
    "We no longer have to calculate alpha and beta ourselves as this method does it automatically for us! Calling model.params will show us the model’s parameters:"
   ]
  },
  {
   "cell_type": "code",
   "execution_count": 11,
   "metadata": {},
   "outputs": [
    {
     "data": {
      "text/plain": [
       "Intercept       330.097882\n",
       "SHOP_WEEKDAY    -30.045026\n",
       "dtype: float64"
      ]
     },
     "execution_count": 11,
     "metadata": {},
     "output_type": "execute_result"
    }
   ],
   "source": [
    "stats_model.params"
   ]
  },
  {
   "cell_type": "markdown",
   "metadata": {},
   "source": [
    "From the results above:\n",
    "\n",
    "1. β0 = 330.097882 - This is the y intercept when x is zero\n",
    "2. β1 = -30.045026 - This is the regression coefficient that measures a unit change in SPEND when SHOP_WEEKDAY changes\n",
    "\n",
    "The negative value on the regression co-efficient for SHOP_WEEKDAY means that SHOP_WEEKDAY has a negative impact to the SPEND. \n"
   ]
  },
  {
   "cell_type": "code",
   "execution_count": 12,
   "metadata": {},
   "outputs": [
    {
     "data": {
      "text/html": [
       "<table class=\"simpletable\">\n",
       "<caption>OLS Regression Results</caption>\n",
       "<tr>\n",
       "  <th>Dep. Variable:</th>          <td>SPEND</td>      <th>  R-squared:         </th> <td>   0.023</td>\n",
       "</tr>\n",
       "<tr>\n",
       "  <th>Model:</th>                   <td>OLS</td>       <th>  Adj. R-squared:    </th> <td>   0.015</td>\n",
       "</tr>\n",
       "<tr>\n",
       "  <th>Method:</th>             <td>Least Squares</td>  <th>  F-statistic:       </th> <td>   2.797</td>\n",
       "</tr>\n",
       "<tr>\n",
       "  <th>Date:</th>             <td>Fri, 17 Jan 2020</td> <th>  Prob (F-statistic):</th>  <td>0.0971</td> \n",
       "</tr>\n",
       "<tr>\n",
       "  <th>Time:</th>                 <td>22:02:41</td>     <th>  Log-Likelihood:    </th> <td> -823.42</td>\n",
       "</tr>\n",
       "<tr>\n",
       "  <th>No. Observations:</th>      <td>   119</td>      <th>  AIC:               </th> <td>   1651.</td>\n",
       "</tr>\n",
       "<tr>\n",
       "  <th>Df Residuals:</th>          <td>   117</td>      <th>  BIC:               </th> <td>   1656.</td>\n",
       "</tr>\n",
       "<tr>\n",
       "  <th>Df Model:</th>              <td>     1</td>      <th>                     </th>     <td> </td>   \n",
       "</tr>\n",
       "<tr>\n",
       "  <th>Covariance Type:</th>      <td>nonrobust</td>    <th>                     </th>     <td> </td>   \n",
       "</tr>\n",
       "</table>\n",
       "<table class=\"simpletable\">\n",
       "<tr>\n",
       "        <td></td>          <th>coef</th>     <th>std err</th>      <th>t</th>      <th>P>|t|</th>  <th>[0.025</th>    <th>0.975]</th>  \n",
       "</tr>\n",
       "<tr>\n",
       "  <th>Intercept</th>    <td>  330.0979</td> <td>   79.239</td> <td>    4.166</td> <td> 0.000</td> <td>  173.169</td> <td>  487.027</td>\n",
       "</tr>\n",
       "<tr>\n",
       "  <th>SHOP_WEEKDAY</th> <td>  -30.0450</td> <td>   17.965</td> <td>   -1.672</td> <td> 0.097</td> <td>  -65.625</td> <td>    5.535</td>\n",
       "</tr>\n",
       "</table>\n",
       "<table class=\"simpletable\">\n",
       "<tr>\n",
       "  <th>Omnibus:</th>       <td>125.423</td> <th>  Durbin-Watson:     </th> <td>   2.042</td>\n",
       "</tr>\n",
       "<tr>\n",
       "  <th>Prob(Omnibus):</th> <td> 0.000</td>  <th>  Jarque-Bera (JB):  </th> <td>1847.385</td>\n",
       "</tr>\n",
       "<tr>\n",
       "  <th>Skew:</th>          <td> 3.748</td>  <th>  Prob(JB):          </th> <td>    0.00</td>\n",
       "</tr>\n",
       "<tr>\n",
       "  <th>Kurtosis:</th>      <td>20.787</td>  <th>  Cond. No.          </th> <td>    16.2</td>\n",
       "</tr>\n",
       "</table><br/><br/>Warnings:<br/>[1] Standard Errors assume that the covariance matrix of the errors is correctly specified."
      ],
      "text/plain": [
       "<class 'statsmodels.iolib.summary.Summary'>\n",
       "\"\"\"\n",
       "                            OLS Regression Results                            \n",
       "==============================================================================\n",
       "Dep. Variable:                  SPEND   R-squared:                       0.023\n",
       "Model:                            OLS   Adj. R-squared:                  0.015\n",
       "Method:                 Least Squares   F-statistic:                     2.797\n",
       "Date:                Fri, 17 Jan 2020   Prob (F-statistic):             0.0971\n",
       "Time:                        22:02:41   Log-Likelihood:                -823.42\n",
       "No. Observations:                 119   AIC:                             1651.\n",
       "Df Residuals:                     117   BIC:                             1656.\n",
       "Df Model:                           1                                         \n",
       "Covariance Type:            nonrobust                                         \n",
       "================================================================================\n",
       "                   coef    std err          t      P>|t|      [0.025      0.975]\n",
       "--------------------------------------------------------------------------------\n",
       "Intercept      330.0979     79.239      4.166      0.000     173.169     487.027\n",
       "SHOP_WEEKDAY   -30.0450     17.965     -1.672      0.097     -65.625       5.535\n",
       "==============================================================================\n",
       "Omnibus:                      125.423   Durbin-Watson:                   2.042\n",
       "Prob(Omnibus):                  0.000   Jarque-Bera (JB):             1847.385\n",
       "Skew:                           3.748   Prob(JB):                         0.00\n",
       "Kurtosis:                      20.787   Cond. No.                         16.2\n",
       "==============================================================================\n",
       "\n",
       "Warnings:\n",
       "[1] Standard Errors assume that the covariance matrix of the errors is correctly specified.\n",
       "\"\"\""
      ]
     },
     "execution_count": 12,
     "metadata": {},
     "output_type": "execute_result"
    }
   ],
   "source": [
    "stats_model.summary()"
   ]
  },
  {
   "cell_type": "markdown",
   "metadata": {},
   "source": [
    "##### R-Squared"
   ]
  },
  {
   "cell_type": "markdown",
   "metadata": {},
   "source": [
    "***The Coefficient of determination, R-Squared*** – This is used to measure how much of the variation in the outcome can be explained by the variation in the independent variables. R-Squared always increases as more predictors are added to the MLR model even though the predictors may not be related to the outcome variable.\n",
    "\n",
    "R2 by itself can't thus be used to identify which predictors should be included in a model and which should be excluded. R2 can only be between 0 and 1, where 0 indicates that the outcome cannot be predicted by any of the independent variables and 1 indicates that the outcome can be predicted without error from the independent variables."
   ]
  },
  {
   "cell_type": "code",
   "execution_count": 13,
   "metadata": {},
   "outputs": [
    {
     "data": {
      "text/plain": [
       "0.02334656617517894"
      ]
     },
     "execution_count": 13,
     "metadata": {},
     "output_type": "execute_result"
    }
   ],
   "source": [
    "# print the R-squared value for the model\n",
    "stats_model.rsquared"
   ]
  },
  {
   "cell_type": "markdown",
   "metadata": {},
   "source": [
    "**This means that <font color=\"red\">2.335%</font> of the SPEND can be explained by SHOP_WEEKDAY**"
   ]
  },
  {
   "cell_type": "markdown",
   "metadata": {},
   "source": [
    "##### Adjusted R-Squared"
   ]
  },
  {
   "cell_type": "markdown",
   "metadata": {},
   "source": [
    "When we add more predictor variables into the equation, R-Squared will always increase making R-Squared not accurate as the number of predictor variables increases.\n",
    "\n",
    "Adjusted R-Squared, accounts for the increase of the predictor variables.\n",
    "\n",
    "Because of the nature of the equation, the adjusted R-Squared should always be lower or equal to the R-Squared"
   ]
  },
  {
   "cell_type": "code",
   "execution_count": 14,
   "metadata": {},
   "outputs": [
    {
     "data": {
      "text/plain": [
       "0.014999100928812958"
      ]
     },
     "execution_count": 14,
     "metadata": {},
     "output_type": "execute_result"
    }
   ],
   "source": [
    "# print the Adjusted R-squared value for the model\n",
    "stats_model.rsquared_adj"
   ]
  },
  {
   "cell_type": "markdown",
   "metadata": {},
   "source": [
    "##### Confidence in the model"
   ]
  },
  {
   "cell_type": "markdown",
   "metadata": {},
   "source": [
    "A confidence interval gives an estimated range of values which is likely to include an unknown population parameter, the estimated range being calculated from a given set of sample data. \n",
    "\n",
    "A confidence interval is how much uncertainty there is with any particular statistic. Confidence intervals are often used with a margin of error. It tells you how confident you can be that the results reflect what you would expect to find if it were possible to study the entire population. "
   ]
  },
  {
   "cell_type": "code",
   "execution_count": 15,
   "metadata": {},
   "outputs": [
    {
     "data": {
      "text/html": [
       "<div>\n",
       "<style scoped>\n",
       "    .dataframe tbody tr th:only-of-type {\n",
       "        vertical-align: middle;\n",
       "    }\n",
       "\n",
       "    .dataframe tbody tr th {\n",
       "        vertical-align: top;\n",
       "    }\n",
       "\n",
       "    .dataframe thead th {\n",
       "        text-align: right;\n",
       "    }\n",
       "</style>\n",
       "<table border=\"1\" class=\"dataframe\">\n",
       "  <thead>\n",
       "    <tr style=\"text-align: right;\">\n",
       "      <th></th>\n",
       "      <th>0</th>\n",
       "      <th>1</th>\n",
       "    </tr>\n",
       "  </thead>\n",
       "  <tbody>\n",
       "    <tr>\n",
       "      <th>Intercept</th>\n",
       "      <td>173.168683</td>\n",
       "      <td>487.027081</td>\n",
       "    </tr>\n",
       "    <tr>\n",
       "      <th>SHOP_WEEKDAY</th>\n",
       "      <td>-65.624681</td>\n",
       "      <td>5.534630</td>\n",
       "    </tr>\n",
       "  </tbody>\n",
       "</table>\n",
       "</div>"
      ],
      "text/plain": [
       "                       0           1\n",
       "Intercept     173.168683  487.027081\n",
       "SHOP_WEEKDAY  -65.624681    5.534630"
      ]
     },
     "execution_count": 15,
     "metadata": {},
     "output_type": "execute_result"
    }
   ],
   "source": [
    "# print the confidence intervals for the model coefficients\n",
    "stats_model.conf_int()"
   ]
  },
  {
   "cell_type": "markdown",
   "metadata": {},
   "source": [
    "##### Hypothesis Testing and P-Values"
   ]
  },
  {
   "cell_type": "code",
   "execution_count": 16,
   "metadata": {},
   "outputs": [
    {
     "data": {
      "text/plain": [
       "Intercept       0.000060\n",
       "SHOP_WEEKDAY    0.097122\n",
       "dtype: float64"
      ]
     },
     "execution_count": 16,
     "metadata": {},
     "output_type": "execute_result"
    }
   ],
   "source": [
    "# print the p-values for the model coefficients\n",
    "stats_model.pvalues"
   ]
  },
  {
   "cell_type": "markdown",
   "metadata": {},
   "source": [
    "Now that we’ve fit a simple regression model, we can try to predict the values of spend based on the equation we just derived using the .predict method."
   ]
  },
  {
   "cell_type": "code",
   "execution_count": 17,
   "metadata": {},
   "outputs": [
    {
     "data": {
      "image/png": "[encoded data removed]",
      "text/plain": [
       "<Figure size 864x432 with 1 Axes>"
      ]
     },
     "metadata": {
      "needs_background": "light"
     },
     "output_type": "display_data"
    }
   ],
   "source": [
    "# Predict values\n",
    "spend_pred = stats_model.predict()\n",
    "\n",
    "# Plot regression against actual data\n",
    "plt.figure(figsize=(12, 6))\n",
    "plt.plot(supermarket_till_transactions_df['SHOP_WEEKDAY'], supermarket_till_transactions_df['SPEND'], 'o')           # scatter plot showing actual data\n",
    "plt.plot(supermarket_till_transactions_df['SHOP_WEEKDAY'], spend_pred, 'r', linewidth=2)   # regression line\n",
    "plt.xlabel('SHOP_WEEKDAY')\n",
    "plt.ylabel('SPEND')\n",
    "plt.title('SHOP_WEEKDAY vs SPEND')\n",
    "\n",
    "plt.show()"
   ]
  },
  {
   "cell_type": "markdown",
   "metadata": {},
   "source": [
    "With this model, we can predict spend from given day of the week. For example, if we want to predict the spend for sunday, we can predict that spend will increase to 300.05 shillings:"
   ]
  },
  {
   "cell_type": "code",
   "execution_count": 18,
   "metadata": {},
   "outputs": [],
   "source": [
    "new_X = 1\n",
    "ypred = stats_model.predict({\"SHOP_WEEKDAY\": new_X})"
   ]
  },
  {
   "cell_type": "markdown",
   "metadata": {},
   "source": [
    "##### RMSE"
   ]
  },
  {
   "cell_type": "markdown",
   "metadata": {},
   "source": [
    "The root-mean-square error (RMSE) is a frequently used measure of the differences between values (sample and population values) predicted by a model and the values actually observed\n",
    "\n",
    "The smaller the value the better"
   ]
  },
  {
   "cell_type": "code",
   "execution_count": 19,
   "metadata": {},
   "outputs": [
    {
     "data": {
      "text/plain": [
       "266.02338158279343"
      ]
     },
     "execution_count": 19,
     "metadata": {},
     "output_type": "execute_result"
    }
   ],
   "source": [
    "# calc rmse\n",
    "rmse = rmse(y, ypred)\n",
    "rmse"
   ]
  }
 ],
 "metadata": {
  "kernelspec": {
   "display_name": "Python 3",
   "language": "python",
   "name": "python3"
  },
  "language_info": {
   "codemirror_mode": {
    "name": "ipython",
    "version": 3
   },
   "file_extension": ".py",
   "mimetype": "text/x-python",
   "name": "python",
   "nbconvert_exporter": "python",
   "pygments_lexer": "ipython3",
   "version": "3.7.0"
  }
 },
 "nbformat": 4,
 "nbformat_minor": 2
}
